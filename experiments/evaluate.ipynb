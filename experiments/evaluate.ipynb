{
 "cells": [
  {
   "cell_type": "code",
   "id": "initial_id",
   "metadata": {
    "collapsed": true,
    "ExecuteTime": {
     "end_time": "2024-12-04T00:52:57.279832Z",
     "start_time": "2024-12-04T00:52:57.264574Z"
    }
   },
   "source": [
    "%load_ext autoreload\n",
    "%autoreload 2\n",
    "\n",
    "from mint.model.transformer import Transformer\n",
    "from mint.translator import Translator, BeamSearch, GreedySearch\n",
    "from mint.tokenizer import Tokenizer\n",
    "from mint.dataset import Dataset\n",
    "from mint.metrics import bleu, chrf2\n",
    "from tqdm import tqdm\n",
    "import torch"
   ],
   "outputs": [
    {
     "name": "stdout",
     "output_type": "stream",
     "text": [
      "The autoreload extension is already loaded. To reload it, use:\n",
      "  %reload_ext autoreload\n"
     ]
    }
   ],
   "execution_count": 34
  },
  {
   "metadata": {
    "ExecuteTime": {
     "end_time": "2024-12-04T00:52:59.433533Z",
     "start_time": "2024-12-04T00:52:57.711292Z"
    }
   },
   "cell_type": "code",
   "source": [
    "model = Transformer.load(\"../pretrained/model\")\n",
    "source_tokenizer = Tokenizer.load(\"../datasets/en_sk/source_tokenizer\")\n",
    "target_tokenizer = Tokenizer.load(\"../datasets/en_sk/target_tokenizer\")\n",
    "dataset = Dataset.load(\"../datasets/en_sk/\")[\"test\"]\n",
    "\n",
    "MAX_STEPS = 10\n",
    "USE_CUDA = False\n",
    "\n",
    "device = torch.device(\"cuda\" if torch.cuda.is_available() and USE_CUDA else \"cpu\")\n",
    "if USE_CUDA:\n",
    "    model.to(device)\n",
    "\n",
    "def evaluate(translator, max_length=None):\n",
    "    bleu_total, chrf2_total = 0, 0\n",
    "    for i, sample in tqdm(enumerate(dataset), \"Evaluating\", total=MAX_STEPS):\n",
    "        if i >= MAX_STEPS:\n",
    "            break\n",
    "        source = sample[\"source\"]\n",
    "        target = sample[\"target\"]\n",
    "        if max_length is not None:\n",
    "            source = source_tokenizer.clip([source], max_length)[0]\n",
    "            target = target_tokenizer.clip([target], max_length)[0]\n",
    "        \n",
    "        prediction = translator.translate(source, max_length)\n",
    "        bleu_total += bleu(prediction, target)\n",
    "        chrf2_total += chrf2(prediction, target)\n",
    "        \n",
    "    bleu_score = bleu_total / MAX_STEPS\n",
    "    chrf2_score = chrf2_total / MAX_STEPS\n",
    "    print(f\"BLEU: {bleu_score:.4f}, CHRF2: {chrf2_score:.4f}\")\n",
    "    \n",
    "    return bleu_score, chrf2_score"
   ],
   "id": "d57a427e29320442",
   "outputs": [
    {
     "name": "stdout",
     "output_type": "stream",
     "text": [
      "{'n_blocks': 10, 'vocab_size': 10001, 'transformer_block_config': {'d_model': 512, 'd_feedforward': 2048, 'p_dropout': 0.1, 'attention_config': {'n_heads': 8, 'd_model': 512, 'max_seq_len': 129, 'context_window': None}}, 'embedding_config': {'vocab_size': 10001, 'd_model': 512, 'max_seq_len': 129, 'learnable_positional_embeddings': True}}\n"
     ]
    }
   ],
   "execution_count": 35
  },
  {
   "metadata": {
    "ExecuteTime": {
     "end_time": "2024-12-04T00:53:52.177391Z",
     "start_time": "2024-12-04T00:52:59.468735Z"
    }
   },
   "cell_type": "code",
   "source": [
    "translator = Translator(model, source_tokenizer, target_tokenizer)\n",
    "evaluate(translator, max_length=128)"
   ],
   "id": "98a1ee29107c92ba",
   "outputs": [
    {
     "name": "stderr",
     "output_type": "stream",
     "text": [
      "Evaluating: 100%|██████████| 10/10 [00:52<00:00,  5.27s/it]"
     ]
    },
    {
     "name": "stdout",
     "output_type": "stream",
     "text": [
      "BLEU: 0.0000, CHRF2: 1.0366\n"
     ]
    },
    {
     "name": "stderr",
     "output_type": "stream",
     "text": [
      "\n"
     ]
    },
    {
     "data": {
      "text/plain": [
       "(tensor(1.0491e-08), 1.0366107796006776)"
      ]
     },
     "execution_count": 36,
     "metadata": {},
     "output_type": "execute_result"
    }
   ],
   "execution_count": 36
  },
  {
   "metadata": {
    "jupyter": {
     "is_executing": true
    },
    "ExecuteTime": {
     "start_time": "2024-12-04T00:54:23.417521Z"
    }
   },
   "cell_type": "code",
   "source": [
    "translator = Translator(model, source_tokenizer, target_tokenizer, search_strategy=BeamSearch(5))\n",
    "evaluate(translator, max_length=128)"
   ],
   "id": "24fa5776484ff604",
   "outputs": [
    {
     "name": "stderr",
     "output_type": "stream",
     "text": [
      "Evaluating:   0%|          | 0/10 [00:00<?, ?it/s]"
     ]
    }
   ],
   "execution_count": null
  },
  {
   "metadata": {},
   "cell_type": "code",
   "outputs": [],
   "execution_count": null,
   "source": "",
   "id": "ff78dc57f2754c01"
  }
 ],
 "metadata": {
  "kernelspec": {
   "display_name": "Python 3",
   "language": "python",
   "name": "python3"
  },
  "language_info": {
   "codemirror_mode": {
    "name": "ipython",
    "version": 2
   },
   "file_extension": ".py",
   "mimetype": "text/x-python",
   "name": "python",
   "nbconvert_exporter": "python",
   "pygments_lexer": "ipython2",
   "version": "2.7.6"
  }
 },
 "nbformat": 4,
 "nbformat_minor": 5
}
