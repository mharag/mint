{
 "cells": [
  {
   "cell_type": "code",
   "id": "initial_id",
   "metadata": {
    "collapsed": true,
    "ExecuteTime": {
     "end_time": "2024-12-09T10:32:38.208531Z",
     "start_time": "2024-12-09T10:32:38.188228Z"
    }
   },
   "source": [
    "%load_ext autoreload\n",
    "%autoreload 2\n",
    "\n",
    "from mint.model.transformer import Transformer\n",
    "from mint.translator import Translator, BeamSearch, GreedySearch\n",
    "from mint.tokenizer import Tokenizer\n",
    "from mint.dataset import Dataset\n",
    "from mint.metrics import bleu, chrf2\n",
    "from tqdm import tqdm\n",
    "import torch"
   ],
   "outputs": [
    {
     "name": "stdout",
     "output_type": "stream",
     "text": [
      "The autoreload extension is already loaded. To reload it, use:\n",
      "  %reload_ext autoreload\n"
     ]
    }
   ],
   "execution_count": 10
  },
  {
   "metadata": {
    "ExecuteTime": {
     "end_time": "2024-12-09T10:32:39.495384Z",
     "start_time": "2024-12-09T10:32:38.807263Z"
    }
   },
   "cell_type": "code",
   "source": [
    "model = Transformer.load(\"../pretrained/en_sk_small\")\n",
    "source_tokenizer = Tokenizer.load(\"../tokenizers/en/\")\n",
    "target_tokenizer = Tokenizer.load(\"../tokenizers/sk/\")\n",
    "dataset = Dataset.load(\"../datasets/en_sk/\")[\"test\"]\n",
    "\n",
    "MAX_STEPS = 10\n",
    "USE_CUDA = True\n",
    "\n",
    "device = torch.device(\"cuda\" if torch.cuda.is_available() and USE_CUDA else \"cpu\")\n",
    "if USE_CUDA:\n",
    "    model.to(device)\n",
    "\n",
    "def evaluate(translate, max_length=None):\n",
    "    bleu_total, chrf2_total = 0, 0\n",
    "    for i, sample in tqdm(enumerate(dataset), \"Evaluating\", total=MAX_STEPS):\n",
    "        if i >= MAX_STEPS:\n",
    "            break\n",
    "        source = sample[\"source\"]\n",
    "        target = sample[\"target\"]\n",
    "        if max_length is not None:\n",
    "            source = source_tokenizer.clip([source], max_length)[0]\n",
    "            target = target_tokenizer.clip([target], max_length)[0]\n",
    "        \n",
    "        prediction = translate(source) \n",
    "        print(f\"Source: {source}\")\n",
    "        print(f\"Target: {target}\")\n",
    "        print(f\"Prediction: {prediction}\")\n",
    "        bleu_total += bleu(prediction, target)\n",
    "        chrf2_total += chrf2(prediction, target)\n",
    "        \n",
    "    bleu_score = bleu_total / MAX_STEPS\n",
    "    chrf2_score = chrf2_total / MAX_STEPS\n",
    "    print(f\"BLEU: {bleu_score:.4f}, CHRF2: {chrf2_score:.4f}\")\n",
    "    \n",
    "    return bleu_score, chrf2_score"
   ],
   "id": "d57a427e29320442",
   "outputs": [
    {
     "name": "stdout",
     "output_type": "stream",
     "text": [
      "{'n_blocks': 6, 'vocab_size': 10001, 'transformer_block_config': {'d_model': 256, 'd_feedforward': 1024, 'p_dropout': 0.1, 'attention_config': {'n_heads': 16, 'd_model': 256, 'max_seq_len': 129, 'context_window': None}}, 'embedding_config': {'vocab_size': 10001, 'd_model': 256, 'max_seq_len': 129, 'learnable_positional_embeddings': True}}\n"
     ]
    }
   ],
   "execution_count": 11
  },
  {
   "metadata": {
    "ExecuteTime": {
     "end_time": "2024-12-09T10:32:40.281662Z",
     "start_time": "2024-12-09T10:32:39.568642Z"
    }
   },
   "cell_type": "code",
   "source": [
    "translator = Translator(model, source_tokenizer, target_tokenizer)\n",
    "evaluate(\n",
    "    lambda x: translator.translate(x, max_length=128),\n",
    "    max_length=128,\n",
    ")"
   ],
   "id": "98a1ee29107c92ba",
   "outputs": [
    {
     "name": "stderr",
     "output_type": "stream",
     "text": [
      "Evaluating:  20%|██        | 2/10 [00:00<00:00, 12.90it/s]"
     ]
    },
    {
     "name": "stdout",
     "output_type": "stream",
     "text": [
      "Source: I invite you to pray for them and for those who have lost their lives.”\n",
      "Target: Pozývam vás k modlitbe za nich, ako aj za tých, čo stratili život.“\n",
      "Prediction: Poznávam vás, aby ste sa zaviatili a za tých, ktorí stratili ich život.“\n",
      "Source: Thus God's Son came down from heaven.\n",
      "Target: A vtedy Boh Syn sám zostúpil z výšky nebeskej.\n",
      "Prediction: A tak aj od Boha, bol od neba v nebi.\n",
      "Source: When the apostle heard what she had said he said, \"Who will rid me of Marwan's daughter?\"\n",
      "Target: Keď apoštol počul, čo povedala, povedal, \"Kto ma zbaví Marwanovej dcéry?\"\n",
      "Prediction: Keď je,, keď sa,, keď sa nepočul, povedal: „Kto sa obrží z marca Marwanahodeho?”\n"
     ]
    },
    {
     "name": "stderr",
     "output_type": "stream",
     "text": [
      "Evaluating:  60%|██████    | 6/10 [00:00<00:00, 12.73it/s]"
     ]
    },
    {
     "name": "stdout",
     "output_type": "stream",
     "text": [
      "Source: It is the fruit of the Word delivered to God’s people through His chosen shepherds.\n",
      "Target: Je to ovocím Slova, ktoré je dané Božiemu ľudu prostredníctvom Jeho vyvolených pastierov.\n",
      "Prediction: Je to ovocie svätého Božieho slova, podľa jeho výdesti, ktoré sa poslúchalo.\n",
      "Source: The atmosphere is filled with God’s presence.\n",
      "Target: Atmosféra sa začala napĺňať Božou prítomnosťou.\n",
      "Prediction: Srdce je s Božou vôľou.\n",
      "Source: 'Is God willing to prevent evil, but not able?\n",
      "Target: Chce boh zabrániť zlu, ale nedokáže?\n",
      "Prediction: A Boh je ochotný zabrániť zlatu, ale nie?\n",
      "Source: With God's help, you can control the tongue.\n",
      "Target: S Božou pomocou dokážeš skrotiť jazyk!\n",
      "Prediction: S Božou pomocou dokážeš ovládať jazyk.\n",
      "Source: Ask them,\" he added.\n",
      "Target: Pýtajte sa ďalej,“ dodal.\n",
      "Prediction: Popúšťajte ich,“ dodal.\n"
     ]
    },
    {
     "name": "stderr",
     "output_type": "stream",
     "text": [
      "Evaluating: 100%|██████████| 10/10 [00:00<00:00, 14.51it/s]"
     ]
    },
    {
     "name": "stdout",
     "output_type": "stream",
     "text": [
      "Source: He says, “every careless word.”\n",
      "Target: On hovorí, \"Každý neopatrný slovo.\"\n",
      "Prediction: Hovorí: „Smrť sa, bez ohľadu na to,\n",
      "Source: Therefore, there is no need to suppose God's existence.\"\n",
      "Target: Preto niet dôvodu predpokladať existenciu Boha.“\n",
      "Prediction: Nie je potrebné, aby sa spoznala existencie Boha.\"\n",
      "BLEU: 0.0920, CHRF2: 0.2125\n"
     ]
    },
    {
     "name": "stderr",
     "output_type": "stream",
     "text": [
      "\n"
     ]
    },
    {
     "data": {
      "text/plain": [
       "(tensor(0.0920), 0.21247061429587927)"
      ]
     },
     "execution_count": 12,
     "metadata": {},
     "output_type": "execute_result"
    }
   ],
   "execution_count": 12
  },
  {
   "metadata": {
    "ExecuteTime": {
     "end_time": "2024-12-09T10:32:52.349296Z",
     "start_time": "2024-12-09T10:32:46.343223Z"
    }
   },
   "cell_type": "code",
   "source": [
    "translator = Translator(model, source_tokenizer, target_tokenizer, search_strategy=BeamSearch(20))\n",
    "\n",
    "evaluate(\n",
    "    lambda x: translator.translate(x, max_length=128),\n",
    "    max_length=128,\n",
    ")\n"
   ],
   "id": "24fa5776484ff604",
   "outputs": [
    {
     "name": "stderr",
     "output_type": "stream",
     "text": [
      "Evaluating:  10%|█         | 1/10 [00:00<00:01,  5.88it/s]"
     ]
    },
    {
     "name": "stdout",
     "output_type": "stream",
     "text": [
      "Source: I invite you to pray for them and for those who have lost their lives.”\n",
      "Target: Pozývam vás k modlitbe za nich, ako aj za tých, čo stratili život.“\n",
      "Prediction: Hľadám, aby som sa modlil za nich a za tých, ktorí stratili život.\"\n",
      "Source: Thus God's Son came down from heaven.\n",
      "Target: A vtedy Boh Syn sám zostúpil z výšky nebeskej.\n",
      "Prediction: Boží Syn prišiel z neba,\n"
     ]
    },
    {
     "name": "stderr",
     "output_type": "stream",
     "text": [
      "Evaluating:  30%|███       | 3/10 [00:00<00:01,  5.45it/s]"
     ]
    },
    {
     "name": "stdout",
     "output_type": "stream",
     "text": [
      "Source: When the apostle heard what she had said he said, \"Who will rid me of Marwan's daughter?\"\n",
      "Target: Keď apoštol počul, čo povedala, povedal, \"Kto ma zbaví Marwanovej dcéry?\"\n",
      "Prediction: Keď sú to, čo nepočul, povedal, že povedal: „Kto sa skryje o dcére Marwana?“\n"
     ]
    },
    {
     "name": "stderr",
     "output_type": "stream",
     "text": [
      "Evaluating:  40%|████      | 4/10 [00:02<00:05,  1.04it/s]"
     ]
    },
    {
     "name": "stdout",
     "output_type": "stream",
     "text": [
      "Source: It is the fruit of the Word delivered to God’s people through His chosen shepherds.\n",
      "Target: Je to ovocím Slova, ktoré je dané Božiemu ľudu prostredníctvom Jeho vyvolených pastierov.\n",
      "Prediction: Je to poslušnosť Slova s Božím ľudom, s ktorými sa poslúchieva.\n",
      "Source: The atmosphere is filled with God’s presence.\n",
      "Target: Atmosféra sa začala napĺňať Božou prítomnosťou.\n",
      "Prediction: Božie slovo je Božia prítomnosť.\n"
     ]
    },
    {
     "name": "stderr",
     "output_type": "stream",
     "text": [
      "Evaluating:  60%|██████    | 6/10 [00:03<00:02,  1.62it/s]"
     ]
    },
    {
     "name": "stdout",
     "output_type": "stream",
     "text": [
      "Source: 'Is God willing to prevent evil, but not able?\n",
      "Target: Chce boh zabrániť zlu, ale nedokáže?\n",
      "Prediction: Je Boh ochotný zabrániť zlo, ale nie?\n"
     ]
    },
    {
     "name": "stderr",
     "output_type": "stream",
     "text": [
      "Evaluating:  70%|███████   | 7/10 [00:05<00:02,  1.16it/s]"
     ]
    },
    {
     "name": "stdout",
     "output_type": "stream",
     "text": [
      "Source: With God's help, you can control the tongue.\n",
      "Target: S Božou pomocou dokážeš skrotiť jazyk!\n",
      "Prediction: S Božou pomocou môžete ovládať jazyk.\n",
      "Source: Ask them,\" he added.\n",
      "Target: Pýtajte sa ďalej,“ dodal.\n",
      "Prediction: Pýtaj sa ich,“ dodal.\n"
     ]
    },
    {
     "name": "stderr",
     "output_type": "stream",
     "text": [
      "Evaluating: 100%|██████████| 10/10 [00:05<00:00,  1.67it/s]"
     ]
    },
    {
     "name": "stdout",
     "output_type": "stream",
     "text": [
      "Source: He says, “every careless word.”\n",
      "Target: On hovorí, \"Každý neopatrný slovo.\"\n",
      "Prediction: Hovorí: „Hľa, bez ohľadu na to,\n",
      "Source: Therefore, there is no need to suppose God's existence.\"\n",
      "Target: Preto niet dôvodu predpokladať existenciu Boha.“\n",
      "Prediction: Preto nie je potrebné spoznať existenciu Boha.\"\n",
      "BLEU: 0.0685, CHRF2: 0.2339\n"
     ]
    },
    {
     "name": "stderr",
     "output_type": "stream",
     "text": [
      "\n"
     ]
    },
    {
     "data": {
      "text/plain": [
       "(tensor(0.0685), 0.2339177126671283)"
      ]
     },
     "execution_count": 13,
     "metadata": {},
     "output_type": "execute_result"
    }
   ],
   "execution_count": 13
  },
  {
   "metadata": {
    "ExecuteTime": {
     "end_time": "2024-12-08T11:18:30.842032Z",
     "start_time": "2024-12-08T11:18:29.024499Z"
    }
   },
   "cell_type": "code",
   "source": "!pip install easynmt",
   "id": "ff78dc57f2754c01",
   "outputs": [
    {
     "name": "stderr",
     "output_type": "stream",
     "text": [
      "huggingface/tokenizers: The current process just got forked, after parallelism has already been used. Disabling parallelism to avoid deadlocks...\n",
      "To disable this warning, you can either:\n",
      "\t- Avoid using `tokenizers` before the fork if possible\n",
      "\t- Explicitly set the environment variable TOKENIZERS_PARALLELISM=(true | false)\n"
     ]
    },
    {
     "name": "stdout",
     "output_type": "stream",
     "text": [
      "Requirement already satisfied: easynmt in /home/mharag/fit/zpja/.venv/lib/python3.12/site-packages (2.0.2)\r\n",
      "Requirement already satisfied: tqdm in /home/mharag/fit/zpja/.venv/lib/python3.12/site-packages (from easynmt) (4.66.6)\r\n",
      "Requirement already satisfied: transformers<5,>=4.4 in /home/mharag/fit/zpja/.venv/lib/python3.12/site-packages (from easynmt) (4.46.1)\r\n",
      "Requirement already satisfied: torch>=1.6.0 in /home/mharag/fit/zpja/.venv/lib/python3.12/site-packages (from easynmt) (2.5.1)\r\n",
      "Requirement already satisfied: numpy in /home/mharag/fit/zpja/.venv/lib/python3.12/site-packages (from easynmt) (1.26.0)\r\n",
      "Requirement already satisfied: nltk in /home/mharag/fit/zpja/.venv/lib/python3.12/site-packages (from easynmt) (3.9.1)\r\n",
      "Requirement already satisfied: sentencepiece in /home/mharag/fit/zpja/.venv/lib/python3.12/site-packages (from easynmt) (0.2.0)\r\n",
      "Requirement already satisfied: fasttext in /home/mharag/fit/zpja/.venv/lib/python3.12/site-packages (from easynmt) (0.9.3)\r\n",
      "Requirement already satisfied: protobuf in /home/mharag/fit/zpja/.venv/lib/python3.12/site-packages (from easynmt) (5.28.3)\r\n",
      "Requirement already satisfied: filelock in /home/mharag/fit/zpja/.venv/lib/python3.12/site-packages (from torch>=1.6.0->easynmt) (3.16.1)\r\n",
      "Requirement already satisfied: typing-extensions>=4.8.0 in /home/mharag/fit/zpja/.venv/lib/python3.12/site-packages (from torch>=1.6.0->easynmt) (4.12.2)\r\n",
      "Requirement already satisfied: networkx in /home/mharag/fit/zpja/.venv/lib/python3.12/site-packages (from torch>=1.6.0->easynmt) (3.4.2)\r\n",
      "Requirement already satisfied: jinja2 in /home/mharag/fit/zpja/.venv/lib/python3.12/site-packages (from torch>=1.6.0->easynmt) (3.1.4)\r\n",
      "Requirement already satisfied: fsspec in /home/mharag/fit/zpja/.venv/lib/python3.12/site-packages (from torch>=1.6.0->easynmt) (2024.9.0)\r\n",
      "Requirement already satisfied: nvidia-cuda-nvrtc-cu12==12.4.127 in /home/mharag/fit/zpja/.venv/lib/python3.12/site-packages (from torch>=1.6.0->easynmt) (12.4.127)\r\n",
      "Requirement already satisfied: nvidia-cuda-runtime-cu12==12.4.127 in /home/mharag/fit/zpja/.venv/lib/python3.12/site-packages (from torch>=1.6.0->easynmt) (12.4.127)\r\n",
      "Requirement already satisfied: nvidia-cuda-cupti-cu12==12.4.127 in /home/mharag/fit/zpja/.venv/lib/python3.12/site-packages (from torch>=1.6.0->easynmt) (12.4.127)\r\n",
      "Requirement already satisfied: nvidia-cudnn-cu12==9.1.0.70 in /home/mharag/fit/zpja/.venv/lib/python3.12/site-packages (from torch>=1.6.0->easynmt) (9.1.0.70)\r\n",
      "Requirement already satisfied: nvidia-cublas-cu12==12.4.5.8 in /home/mharag/fit/zpja/.venv/lib/python3.12/site-packages (from torch>=1.6.0->easynmt) (12.4.5.8)\r\n",
      "Requirement already satisfied: nvidia-cufft-cu12==11.2.1.3 in /home/mharag/fit/zpja/.venv/lib/python3.12/site-packages (from torch>=1.6.0->easynmt) (11.2.1.3)\r\n",
      "Requirement already satisfied: nvidia-curand-cu12==10.3.5.147 in /home/mharag/fit/zpja/.venv/lib/python3.12/site-packages (from torch>=1.6.0->easynmt) (10.3.5.147)\r\n",
      "Requirement already satisfied: nvidia-cusolver-cu12==11.6.1.9 in /home/mharag/fit/zpja/.venv/lib/python3.12/site-packages (from torch>=1.6.0->easynmt) (11.6.1.9)\r\n",
      "Requirement already satisfied: nvidia-cusparse-cu12==12.3.1.170 in /home/mharag/fit/zpja/.venv/lib/python3.12/site-packages (from torch>=1.6.0->easynmt) (12.3.1.170)\r\n",
      "Requirement already satisfied: nvidia-nccl-cu12==2.21.5 in /home/mharag/fit/zpja/.venv/lib/python3.12/site-packages (from torch>=1.6.0->easynmt) (2.21.5)\r\n",
      "Requirement already satisfied: nvidia-nvtx-cu12==12.4.127 in /home/mharag/fit/zpja/.venv/lib/python3.12/site-packages (from torch>=1.6.0->easynmt) (12.4.127)\r\n",
      "Requirement already satisfied: nvidia-nvjitlink-cu12==12.4.127 in /home/mharag/fit/zpja/.venv/lib/python3.12/site-packages (from torch>=1.6.0->easynmt) (12.4.127)\r\n",
      "Requirement already satisfied: triton==3.1.0 in /home/mharag/fit/zpja/.venv/lib/python3.12/site-packages (from torch>=1.6.0->easynmt) (3.1.0)\r\n",
      "Requirement already satisfied: setuptools in /home/mharag/fit/zpja/.venv/lib/python3.12/site-packages (from torch>=1.6.0->easynmt) (75.3.0)\r\n",
      "Requirement already satisfied: sympy==1.13.1 in /home/mharag/fit/zpja/.venv/lib/python3.12/site-packages (from torch>=1.6.0->easynmt) (1.13.1)\r\n",
      "Requirement already satisfied: mpmath<1.4,>=1.1.0 in /home/mharag/fit/zpja/.venv/lib/python3.12/site-packages (from sympy==1.13.1->torch>=1.6.0->easynmt) (1.3.0)\r\n",
      "Requirement already satisfied: huggingface-hub<1.0,>=0.23.2 in /home/mharag/fit/zpja/.venv/lib/python3.12/site-packages (from transformers<5,>=4.4->easynmt) (0.26.2)\r\n",
      "Requirement already satisfied: packaging>=20.0 in /home/mharag/fit/zpja/.venv/lib/python3.12/site-packages (from transformers<5,>=4.4->easynmt) (24.1)\r\n",
      "Requirement already satisfied: pyyaml>=5.1 in /home/mharag/fit/zpja/.venv/lib/python3.12/site-packages (from transformers<5,>=4.4->easynmt) (6.0.2)\r\n",
      "Requirement already satisfied: regex!=2019.12.17 in /home/mharag/fit/zpja/.venv/lib/python3.12/site-packages (from transformers<5,>=4.4->easynmt) (2024.9.11)\r\n",
      "Requirement already satisfied: requests in /home/mharag/fit/zpja/.venv/lib/python3.12/site-packages (from transformers<5,>=4.4->easynmt) (2.32.3)\r\n",
      "Requirement already satisfied: safetensors>=0.4.1 in /home/mharag/fit/zpja/.venv/lib/python3.12/site-packages (from transformers<5,>=4.4->easynmt) (0.4.5)\r\n",
      "Requirement already satisfied: tokenizers<0.21,>=0.20 in /home/mharag/fit/zpja/.venv/lib/python3.12/site-packages (from transformers<5,>=4.4->easynmt) (0.20.1)\r\n",
      "Requirement already satisfied: pybind11>=2.2 in /home/mharag/fit/zpja/.venv/lib/python3.12/site-packages (from fasttext->easynmt) (2.13.6)\r\n",
      "Requirement already satisfied: click in /home/mharag/fit/zpja/.venv/lib/python3.12/site-packages (from nltk->easynmt) (8.1.7)\r\n",
      "Requirement already satisfied: joblib in /home/mharag/fit/zpja/.venv/lib/python3.12/site-packages (from nltk->easynmt) (1.4.2)\r\n",
      "Requirement already satisfied: MarkupSafe>=2.0 in /home/mharag/fit/zpja/.venv/lib/python3.12/site-packages (from jinja2->torch>=1.6.0->easynmt) (3.0.2)\r\n",
      "Requirement already satisfied: charset-normalizer<4,>=2 in /home/mharag/fit/zpja/.venv/lib/python3.12/site-packages (from requests->transformers<5,>=4.4->easynmt) (3.4.0)\r\n",
      "Requirement already satisfied: idna<4,>=2.5 in /home/mharag/fit/zpja/.venv/lib/python3.12/site-packages (from requests->transformers<5,>=4.4->easynmt) (3.10)\r\n",
      "Requirement already satisfied: urllib3<3,>=1.21.1 in /home/mharag/fit/zpja/.venv/lib/python3.12/site-packages (from requests->transformers<5,>=4.4->easynmt) (2.2.3)\r\n",
      "Requirement already satisfied: certifi>=2017.4.17 in /home/mharag/fit/zpja/.venv/lib/python3.12/site-packages (from requests->transformers<5,>=4.4->easynmt) (2024.8.30)\r\n",
      "\r\n",
      "\u001B[1m[\u001B[0m\u001B[34;49mnotice\u001B[0m\u001B[1;39;49m]\u001B[0m\u001B[39;49m A new release of pip is available: \u001B[0m\u001B[31;49m23.2.1\u001B[0m\u001B[39;49m -> \u001B[0m\u001B[32;49m24.3.1\u001B[0m\r\n",
      "\u001B[1m[\u001B[0m\u001B[34;49mnotice\u001B[0m\u001B[1;39;49m]\u001B[0m\u001B[39;49m To update, run: \u001B[0m\u001B[32;49mpip install --upgrade pip\u001B[0m\r\n"
     ]
    }
   ],
   "execution_count": 7
  },
  {
   "metadata": {
    "ExecuteTime": {
     "end_time": "2024-12-09T10:33:14.035954Z",
     "start_time": "2024-12-09T10:33:11.446022Z"
    }
   },
   "cell_type": "code",
   "source": [
    "from easynmt import EasyNMT\n",
    "model = EasyNMT('opus-mt')\n",
    "\n",
    "evaluate(\n",
    "    lambda x: model.translate(x, source_lang='en', target_lang='sk'),\n",
    "    max_length=128,\n",
    ")"
   ],
   "id": "a5bd913b042bcc6a",
   "outputs": [
    {
     "name": "stderr",
     "output_type": "stream",
     "text": [
      "Evaluating:  30%|███       | 3/10 [00:02<00:04,  1.70it/s]"
     ]
    },
    {
     "name": "stdout",
     "output_type": "stream",
     "text": [
      "Source: I invite you to pray for them and for those who have lost their lives.”\n",
      "Target: Pozývam vás k modlitbe za nich, ako aj za tých, čo stratili život.“\n",
      "Prediction: Pozývam vás, aby ste sa modlili za nich a za tých, ktorí prišli o život.\n",
      "Source: Thus God's Son came down from heaven.\n",
      "Target: A vtedy Boh Syn sám zostúpil z výšky nebeskej.\n",
      "Prediction: Teda Boží Syn zostúpil z neba.\n",
      "Source: When the apostle heard what she had said he said, \"Who will rid me of Marwan's daughter?\"\n",
      "Target: Keď apoštol počul, čo povedala, povedal, \"Kto ma zbaví Marwanovej dcéry?\"\n",
      "Prediction: A keď počul apoštol, čo povedala, povedal: Kto ma zbaví dcéry Marwanovej?\n"
     ]
    },
    {
     "name": "stderr",
     "output_type": "stream",
     "text": [
      "Evaluating:  80%|████████  | 8/10 [00:02<00:00,  5.74it/s]"
     ]
    },
    {
     "name": "stdout",
     "output_type": "stream",
     "text": [
      "Source: It is the fruit of the Word delivered to God’s people through His chosen shepherds.\n",
      "Target: Je to ovocím Slova, ktoré je dané Božiemu ľudu prostredníctvom Jeho vyvolených pastierov.\n",
      "Prediction: Je to ovocie Slova dodané Bohu prostredníctvom Jeho vyvolených pastierov.\n",
      "Source: The atmosphere is filled with God’s presence.\n",
      "Target: Atmosféra sa začala napĺňať Božou prítomnosťou.\n",
      "Prediction: Atmosféra je plná prítomnosti Boha.\n",
      "Source: 'Is God willing to prevent evil, but not able?\n",
      "Target: Chce boh zabrániť zlu, ale nedokáže?\n",
      "Prediction: Je Boh ochotný zabrániť zlu, ale nie je schopný?\n",
      "Source: With God's help, you can control the tongue.\n",
      "Target: S Božou pomocou dokážeš skrotiť jazyk!\n",
      "Prediction: S Božou pomocou môžeš ovládať jazyk.\n",
      "Source: Ask them,\" he added.\n",
      "Target: Pýtajte sa ďalej,“ dodal.\n",
      "Prediction: Spýtaj sa ich,\" dodal.\n"
     ]
    },
    {
     "name": "stderr",
     "output_type": "stream",
     "text": [
      "Evaluating: 100%|██████████| 10/10 [00:02<00:00,  3.89it/s]"
     ]
    },
    {
     "name": "stdout",
     "output_type": "stream",
     "text": [
      "Source: He says, “every careless word.”\n",
      "Target: On hovorí, \"Každý neopatrný slovo.\"\n",
      "Prediction: Hovorí: \"Každé neopatrné slovo.\"\n",
      "Source: Therefore, there is no need to suppose God's existence.\"\n",
      "Target: Preto niet dôvodu predpokladať existenciu Boha.“\n",
      "Prediction: Preto nie je potrebné predpokladať, že Boh existuje.\"\n",
      "BLEU: 0.1696, CHRF2: 0.3911\n"
     ]
    },
    {
     "name": "stderr",
     "output_type": "stream",
     "text": [
      "\n"
     ]
    },
    {
     "data": {
      "text/plain": [
       "(tensor(0.1696), 0.3910530747627739)"
      ]
     },
     "execution_count": 14,
     "metadata": {},
     "output_type": "execute_result"
    }
   ],
   "execution_count": 14
  },
  {
   "metadata": {},
   "cell_type": "code",
   "outputs": [],
   "execution_count": null,
   "source": "",
   "id": "d5bfeb5b58569056"
  }
 ],
 "metadata": {
  "kernelspec": {
   "display_name": "Python 3",
   "language": "python",
   "name": "python3"
  },
  "language_info": {
   "codemirror_mode": {
    "name": "ipython",
    "version": 2
   },
   "file_extension": ".py",
   "mimetype": "text/x-python",
   "name": "python",
   "nbconvert_exporter": "python",
   "pygments_lexer": "ipython2",
   "version": "2.7.6"
  }
 },
 "nbformat": 4,
 "nbformat_minor": 5
}
