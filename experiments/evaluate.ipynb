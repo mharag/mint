{
 "cells": [
  {
   "cell_type": "code",
   "id": "initial_id",
   "metadata": {
    "collapsed": true,
    "ExecuteTime": {
     "end_time": "2024-12-09T11:02:02.504736Z",
     "start_time": "2024-12-09T11:02:02.483725Z"
    }
   },
   "source": [
    "%load_ext autoreload\n",
    "%autoreload 2\n",
    "\n",
    "from mint.model.transformer import Transformer\n",
    "from mint.translator import Translator, BeamSearch, GreedySearch\n",
    "from mint.tokenizer import Tokenizer\n",
    "from mint.dataset import Dataset\n",
    "from mint.metrics import bleu, chrf2\n",
    "from tqdm import tqdm\n",
    "import torch"
   ],
   "outputs": [
    {
     "name": "stdout",
     "output_type": "stream",
     "text": [
      "The autoreload extension is already loaded. To reload it, use:\n",
      "  %reload_ext autoreload\n"
     ]
    }
   ],
   "execution_count": 15
  },
  {
   "metadata": {
    "ExecuteTime": {
     "end_time": "2024-12-09T11:02:10.313443Z",
     "start_time": "2024-12-09T11:02:09.379830Z"
    }
   },
   "cell_type": "code",
   "source": [
    "model = Transformer.load(\"../pretrained/en_sk_small\")\n",
    "source_tokenizer = Tokenizer.load(\"../tokenizers/en/\")\n",
    "target_tokenizer = Tokenizer.load(\"../tokenizers/sk/\")\n",
    "dataset = Dataset.load(\"../datasets/en_sk/\")[\"test\"]\n",
    "\n",
    "MAX_STEPS = 500\n",
    "USE_CUDA = True\n",
    "\n",
    "device = torch.device(\"cuda\" if torch.cuda.is_available() and USE_CUDA else \"cpu\")\n",
    "if USE_CUDA:\n",
    "    model.to(device)\n",
    "\n",
    "def evaluate(translate, max_length=None):\n",
    "    bleu_total, chrf2_total = 0, 0\n",
    "    for i, sample in tqdm(enumerate(dataset), \"Evaluating\", total=MAX_STEPS):\n",
    "        if i >= MAX_STEPS:\n",
    "            break\n",
    "        source = sample[\"source\"]\n",
    "        target = sample[\"target\"]\n",
    "        if max_length is not None:\n",
    "            source = source_tokenizer.clip([source], max_length)[0]\n",
    "            target = target_tokenizer.clip([target], max_length)[0]\n",
    "        \n",
    "        prediction = translate(source) \n",
    "        print(f\"Source: {source}\")\n",
    "        print(f\"Target: {target}\")\n",
    "        print(f\"Prediction: {prediction}\")\n",
    "        bleu_total += bleu(prediction, target)\n",
    "        chrf2_total += chrf2(prediction, target)\n",
    "        \n",
    "    bleu_score = bleu_total / MAX_STEPS\n",
    "    chrf2_score = chrf2_total / MAX_STEPS\n",
    "    print(f\"BLEU: {bleu_score:.4f}, CHRF2: {chrf2_score:.4f}\")\n",
    "    \n",
    "    return bleu_score, chrf2_score"
   ],
   "id": "d57a427e29320442",
   "outputs": [
    {
     "name": "stdout",
     "output_type": "stream",
     "text": [
      "{'n_blocks': 6, 'vocab_size': 10001, 'transformer_block_config': {'d_model': 256, 'd_feedforward': 1024, 'p_dropout': 0.1, 'attention_config': {'n_heads': 16, 'd_model': 256, 'max_seq_len': 129, 'context_window': None}}, 'embedding_config': {'vocab_size': 10001, 'd_model': 256, 'max_seq_len': 129, 'learnable_positional_embeddings': True}}\n"
     ]
    }
   ],
   "execution_count": 16
  },
  {
   "metadata": {
    "ExecuteTime": {
     "end_time": "2024-12-09T11:02:52.212133Z",
     "start_time": "2024-12-09T11:02:12.276585Z"
    }
   },
   "cell_type": "code",
   "source": [
    "translator = Translator(model, source_tokenizer, target_tokenizer)\n",
    "evaluate(\n",
    "    lambda x: translator.translate(x, max_length=128),\n",
    "    max_length=128,\n",
    ")"
   ],
   "id": "98a1ee29107c92ba",
   "outputs": [
    {
     "name": "stderr",
     "output_type": "stream",
     "text": [
      "Evaluating:   0%|          | 2/500 [00:00<00:37, 13.32it/s]"
     ]
    },
    {
     "name": "stdout",
     "output_type": "stream",
     "text": [
      "Source: I invite you to pray for them and for those who have lost their lives.”\n",
      "Target: Pozývam vás k modlitbe za nich, ako aj za tých, čo stratili život.“\n",
      "Prediction: Melm, aby som sa za nich modlil a za tých, ktorí stratili ich život.\"\n",
      "Source: Thus God's Son came down from heaven.\n",
      "Target: A vtedy Boh Syn sám zostúpil z výšky nebeskej.\n",
      "Prediction: A tak aj od Boha, bol to z neba,\n",
      "Source: When the apostle heard what she had said he said, \"Who will rid me of Marwan's daughter?\"\n",
      "Target: Keď apoštol počul, čo povedala, povedal, \"Kto ma zbaví Marwanovej dcéry?\"\n",
      "Prediction: Keď sa,, keď je to, čo povedal,, povedal: Kto sa obviňa o marciovej dcére?\n"
     ]
    },
    {
     "name": "stderr",
     "output_type": "stream",
     "text": [
      "Evaluating:   1%|          | 6/500 [00:00<00:38, 12.97it/s]"
     ]
    },
    {
     "name": "stdout",
     "output_type": "stream",
     "text": [
      "Source: It is the fruit of the Word delivered to God’s people through His chosen shepherds.\n",
      "Target: Je to ovocím Slova, ktoré je dané Božiemu ľudu prostredníctvom Jeho vyvolených pastierov.\n",
      "Prediction: Je to Božia milosť, ktorú sa Božiemu vedzaniu, skrze jeho uctieč.\n",
      "Source: The atmosphere is filled with God’s presence.\n",
      "Target: Atmosféra sa začala napĺňať Božou prítomnosťou.\n",
      "Prediction: Srdcia je však zjavná Božia prítomnosť.\n",
      "Source: 'Is God willing to prevent evil, but not able?\n",
      "Target: Chce boh zabrániť zlu, ale nedokáže?\n",
      "Prediction: A Boh bol ochotný zabrániť zlatu, ale nie?\n",
      "Source: With God's help, you can control the tongue.\n",
      "Target: S Božou pomocou dokážeš skrotiť jazyk!\n",
      "Prediction: S Božou pomocou dokážeš ovládať jazyk.\n"
     ]
    },
    {
     "name": "stderr",
     "output_type": "stream",
     "text": [
      "Evaluating:   2%|▏         | 9/500 [00:00<00:32, 15.15it/s]"
     ]
    },
    {
     "name": "stdout",
     "output_type": "stream",
     "text": [
      "Source: Ask them,\" he added.\n",
      "Target: Pýtajte sa ďalej,“ dodal.\n",
      "Prediction: Popýta sa ich,“ dodal.\n",
      "Source: He says, “every careless word.”\n",
      "Target: On hovorí, \"Každý neopatrný slovo.\"\n",
      "Prediction: Je povedané, „de bez ohľadu na to, že je bezpodľa.“\n",
      "Source: Therefore, there is no need to suppose God's existence.\"\n",
      "Target: Preto niet dôvodu predpokladať existenciu Boha.“\n",
      "Prediction: Preto nie je potrebné spoznať existenciu Boha.\"\n"
     ]
    },
    {
     "name": "stderr",
     "output_type": "stream",
     "text": [
      "Evaluating:   2%|▏         | 11/500 [00:00<00:34, 13.98it/s]"
     ]
    },
    {
     "name": "stdout",
     "output_type": "stream",
     "text": [
      "Source: And let us ask him: ‘Lord, let me rediscover the joy of giving’”.\n",
      "Target: A prosme ho: „Pane, daj mi znovuobjaviť radosť z darovania“.\n",
      "Prediction: A nech si to žiadame: Pane, nech som mi ublížil radosť, ktorú sa týka, čo sa dáme.\n",
      "Source: 9The LORD will be king over the whole earth;f on that day the LORD will be the only one, and the LORD’s name the only one.\n",
      "Target: 9 A Hospodin bude kráľom nad celou zemou; toho dňa bude Hospodin jeden a jeho meno jedno.\n",
      "Prediction: „Achve, Hospodin bude kráľom nad celou zemou, na celom svete bude Pán jediný, a len jeden, ktorý bude meno, bude meno vášho Boha, ktorý bol pomenovaný.\n"
     ]
    },
    {
     "name": "stderr",
     "output_type": "stream",
     "text": [
      "Evaluating:   3%|▎         | 15/500 [00:01<00:44, 11.01it/s]"
     ]
    },
    {
     "name": "stdout",
     "output_type": "stream",
     "text": [
      "Source: 23.This is why his parents said, “He’s of age; ask him.”)\n",
      "Target: Preto povedali jeho rodičia: Má svoje roky; jeho sa spýtajte!\n",
      "Prediction: 23.,9 A preto, že jeho rodičia povedali: „Je to z veku, nech sa ho opýtajú.“\n",
      "Source: We should have deep repugnance to their acts and we must remind and warn them.”\n",
      "Target: Mali by sme mať hlboký odpor k ich činom a musíme im to pripomínať a varovať ich.“\n",
      "Prediction: Mali by sme mať hlboké reginenficie na ich činy a musíme ich pripomenúť a varovať ich.”\n",
      "Source: but whoever does God's will lives forever.\n",
      "Target: Kto však koná Božiu vôľu, zostáva naveky.\n",
      "Prediction: Kto však plní Božiu vôľu, bude žiť naveky.\n"
     ]
    },
    {
     "name": "stderr",
     "output_type": "stream",
     "text": [
      "Evaluating:   3%|▎         | 17/500 [00:01<00:49,  9.66it/s]"
     ]
    },
    {
     "name": "stdout",
     "output_type": "stream",
     "text": [
      "Source: It is a religion of Adam, Abraham, Musa, Jesus and Muhammad (SAW).\n",
      "Target: Počnúc Adamom, cez Abraháma, Mojžiša (Tóra) a Ježiša (Evanjelium) až po Muhammada (Korán).\n",
      "Prediction: Je to náboženstvo Adama, Adama, Abrahám, Allahovi, Pravda (Abralm) a Máhammad (Sr v Lájiiiba (Bn)\n",
      "Source: 'Almighty and merciful God,\n",
      "Target: Náš všemohúci Bože,\n",
      "Prediction: Vskutku, Všemohúci,\n",
      "Source: They are God’s sons and daughters.\n",
      "Target: A sú to synovia a dcéry Boha.\n",
      "Prediction: Je to bohovia a dcéry,\n",
      "Source: Such a thing cannot come from God's Spirit.\n",
      "Target: Takáto vec nemôže pochádzať od Božieho Ducha.\n",
      "Prediction: A tak nemôže odpúšťať Božiu vôľu.\n"
     ]
    },
    {
     "name": "stderr",
     "output_type": "stream",
     "text": [
      "Evaluating:   5%|▍         | 23/500 [00:01<00:35, 13.28it/s]"
     ]
    },
    {
     "name": "stdout",
     "output_type": "stream",
     "text": [
      "Source: The self-realized souls can impart knowledge unto you because he has seen the truth.”\n",
      "Target: Sebarealizované duše ti môžu odovzdať poznanie, pretože oni uvideli pravdu.\"\n",
      "Prediction: „Serizidlári môžu odolátiť poznanie, pretože videl pravdu.“\n",
      "Source: The Heavens on Earth are blessed for this time.\n",
      "Target: a na nebi sa objavili bohovia, objatí radosťou,\n",
      "Prediction: Bojky na zemi sú pre tentoraz tie,\n",
      "Source: Who Are God's Sons?\n",
      "Target: Kto sú synovia boží?\n",
      "Prediction: Kto sú boží?\n",
      "Source: Like your heart, the tree offers its fruit to all, no matter into whose hands they fall.\"\n",
      "Target: Podobne ako tvoje srdce, tak aj strom ponúka svoje plody každému bez ohľadu na to, do koho rúk padnú.“ Svámidží\n",
      "Prediction: Ako tvoje srdce, strom ponúka svoje ovocie všetkým, bez ohľadu na to, kde unidujú ruky.“\n"
     ]
    },
    {
     "name": "stderr",
     "output_type": "stream",
     "text": [
      "Evaluating:   5%|▌         | 25/500 [00:01<00:33, 14.29it/s]"
     ]
    },
    {
     "name": "stdout",
     "output_type": "stream",
     "text": [
      "Source: Then Moses reported the people's words to the Lord.\n",
      "Target: Potom Mojžiš tlmočil slová ľudu Pánovi.\n",
      "Prediction: A Mojžiš dal človeka a pre Pána človeka.\n",
      "Source: Many are saying of me, There is no help for him in God.\n",
      "Target: Mnohí o mne hovoria: Pre neho niet pomoci u Boha!\n",
      "Prediction: Veľa o mne hovorí, že nie je pre neho nič iné.\n",
      "Source: They fight in God’s way, and they kill and get killed.\n",
      "Target: A oni bojujú na ceste božej - zabíjajú a sú zabíjaní...\n",
      "Prediction: Povíťazia v Božom merade a zabíjajú sa.\n"
     ]
    },
    {
     "name": "stderr",
     "output_type": "stream",
     "text": [
      "Evaluating:   5%|▌         | 27/500 [00:02<00:37, 12.55it/s]"
     ]
    },
    {
     "name": "stdout",
     "output_type": "stream",
     "text": [
      "Source: And because of that, every knee in heaven and on earth and under the earth will call him Lord.\n",
      "Target: Každé stvorenie v nebi, na zemi a pod zemou pokľakne pred Pánom - všetci, bez výnimky.\n",
      "Prediction: A pretože z toho, že na zemi, budeš a na zemi, a v nebi bude žiť zem a On sa bude klaňať Pán.\n",
      "Source: I fully endorse the motion for a resolution (B7-0029/2010) on preventing trafficking in human beings, which was submitted by a broad coalition of the European Parliament’s political groups.\n",
      "Target: Plne podporujem návrh uznesenia (B7-0029/2010) o predchádzaní obchodovaniu s ľuďmi, ktorý predložila široká koalícia politických strán Európskeho parlamentu.\n",
      "Prediction: Vakontívu pre rok astining uznesenia (B7-00); na pred, že uprednostnenia obchodovania s ľuďmi, ktoré predložila predvídaný postojmi Rady v oblasti Európskeho parlamentu.\n"
     ]
    },
    {
     "name": "stderr",
     "output_type": "stream",
     "text": [
      "Evaluating:   6%|▌         | 31/500 [00:02<00:44, 10.66it/s]"
     ]
    },
    {
     "name": "stdout",
     "output_type": "stream",
     "text": [
      "Source: That's how Pharaoh came to own the land.\n",
      "Target: Takto sa krajina dostala do faraónovho vlastníctva.\n",
      "Prediction: To je to, ako faraón prišiel do svojho ľudu.\n",
      "Source: I will harden Pharaoh's heart and he will pursue them.\n",
      "Target: \"A ja opäť zatvrdím faraónovo srdce a bude sa hnať za vami.\n",
      "Prediction: Ja som prešiel, aby som sa hral faraónovo srdce a mal by som ich zaldeliť.\n",
      "Source: To meet the demands of the Law it had to be slain—“And Moses slew it.”\n",
      "Target: Aby sa vyhovelo požiadavkám Zákonu, vôl musel byť usmrtený — \"a Mojžíš ho zabil.\"\n",
      "Prediction: Aby sa stretli s cieľom zákonom zákona, bolo to vinné - a Mojžiš vzal ho.“\n"
     ]
    },
    {
     "name": "stderr",
     "output_type": "stream",
     "text": [
      "Evaluating:   7%|▋         | 35/500 [00:02<00:35, 12.93it/s]"
     ]
    },
    {
     "name": "stdout",
     "output_type": "stream",
     "text": [
      "Source: He played a leading role on that day”.\n",
      "Target: \"V ten deň hral hlavnú úlohu.\n",
      "Prediction: V ten deň hral, čo sa v ten deň mení.\"\n",
      "Source: the Snow Queen will retain her power over him.\"\n",
      "Target: Snehová kráľovná bude ho mať naďalej v moci!\"\n",
      "Prediction: Summit Saler si jej vezme nad ním.\"\n",
      "Source: As we listen to God’s son,\n",
      "Target: ak počúvali Božieho Syna\n",
      "Prediction: Ako počúvajme, ako počúvame Boží syn,\n",
      "Source: And the lowest in heaven’s kingdom is yet greater than he.”\n",
      "Target: Ale kto je v nebeskom kráľovstve najmenší, je väčší ako on. \"\n",
      "Prediction: „Ale v nebi je na zemi najvyšší, ako on.“\n"
     ]
    },
    {
     "name": "stderr",
     "output_type": "stream",
     "text": [
      "Evaluating:   8%|▊         | 39/500 [00:03<00:32, 14.17it/s]"
     ]
    },
    {
     "name": "stdout",
     "output_type": "stream",
     "text": [
      "Source: Truly, I am very grateful this morning.\"\n",
      "Target: Úprimne, dnes ráno som veľmi vďačná.”\n",
      "Prediction: Tune, ja som veľmi vďačný ráno.\"\n",
      "Source: That will happen, if it is God’s will.\n",
      "Target: Stane sa tak, ak to bude Božia vôľa.\n",
      "Prediction: Ak sa stane, ak je to Božia vôľa.\n",
      "Source: Have you asked for God’s forgiveness?\n",
      "Target: Prosíš ty Boha o odpustenie?\n",
      "Prediction: Popúšťali ste za Božiu milosť?\n",
      "Source: “If the wife of any of you seeks permission to go to the masjid, he may not prevent her.”\n",
      "Target: \"Ak žena kohokoľvek z vás požiada o dovolenie ísť do mešity, nemali by ste jej to zakazovať.\"\n",
      "Prediction: „Ak sa žena akéhokoľvek z vás hľadá povolenie na maskid, nemôže ho vza.\n"
     ]
    },
    {
     "name": "stderr",
     "output_type": "stream",
     "text": [
      "Evaluating:   9%|▊         | 43/500 [00:03<00:29, 15.42it/s]"
     ]
    },
    {
     "name": "stdout",
     "output_type": "stream",
     "text": [
      "Source: God uses them for God’s plan of life for the world.\n",
      "Target: Pretože ich Boh používa na uskutočnenie svojho plánu pokoja pre svet\n",
      "Prediction: Boh však v tomto svete používa na život, čo je v Božom pláne.\n",
      "Source: That’s how they persecuted the prophets who came before you.”\n",
      "Target: Takto totiž prenasledovali prorokov, ktorí boli pred vami. \"\n",
      "Prediction: Tak ako prenasledovali prorokov, ktorí boli pred tebou.“\n",
      "Source: The introduction spoke of God's creating the heavens and the earth.\n",
      "Target: Aj v tomto prípade vystupuje ako podávateľ božieho slova a premostenie Zeme a neba.\n",
      "Prediction: V tomto z Boha sa vzpočul na nebesiach a na zemi.\n",
      "Source: You and I are part of God’s plan.\n",
      "Target: Ja a ty sme súčasťou Božieho plánu.\n",
      "Prediction: Ty a ja si súčasťou Božieho plánu.\n"
     ]
    },
    {
     "name": "stderr",
     "output_type": "stream",
     "text": [
      "Evaluating:   9%|▉         | 45/500 [00:03<00:32, 14.08it/s]"
     ]
    },
    {
     "name": "stdout",
     "output_type": "stream",
     "text": [
      "Source: If you do not like it, ignore it or offer your own version in return.\"\n",
      "Target: Ak sa Ti nepáči, ignoruj ju, alebo na oplátku ponúkni svoju verziu.\"\n",
      "Prediction: Ak sa vám páči, ignoruje, že to ponúkajú alebo ponúkajú svoju vlastnú verziu v návrate.”\n",
      "Source: Satan's plan was to take the heaven and the earth.\n",
      "Target: Tento démon sa pokúšal bojovať s nebesami a so zemou.\n",
      "Prediction: Satanova vôľa je vzatiť nebeské a zem.\n",
      "Source: Fear no person, for judgment is God’s.\n",
      "Target: Ani sa nebojte nijakej osoby, lebo súd patrí Bohu. “\n",
      "Prediction: Nemenu, nie je Boží úrok, lebo je Boží súd.\n"
     ]
    },
    {
     "name": "stderr",
     "output_type": "stream",
     "text": [
      "Evaluating:   9%|▉         | 47/500 [00:03<00:39, 11.56it/s]"
     ]
    },
    {
     "name": "stdout",
     "output_type": "stream",
     "text": [
      "Source: They are unbelievers who say God is Messiah, Mary’s son.”\n",
      "Target: neveriaci*, tí čo tvrdili že Allah je Kristus, syn Márie…“ * – niektoré\n",
      "Prediction: Všemohúci sú veriaci, ktorí sú Mári o Pánovo slová, sú zvíťazi, že sa zvíťazia na Pánovo Otca.\n",
      "Source: The heavens are God’s throne, the earth is His footstool.\n",
      "Target: Nebo je trónom boha-panovníka; Zem je jeho podnožou.\n",
      "Prediction: Božích, volebne, je zem, je teda na svätý, je chváľ.\n"
     ]
    },
    {
     "name": "stderr",
     "output_type": "stream",
     "text": [
      "Evaluating:  10%|▉         | 49/500 [00:04<00:42, 10.72it/s]"
     ]
    },
    {
     "name": "stdout",
     "output_type": "stream",
     "text": [
      "Source: When they came out, they blessed the people, and the Lord’s glorious presence appeared to all the people.\n",
      "Target: Keď vyšli, požehnali ľud a sláva Hospodinova sa zjavila všetkému ľudu.\n",
      "Prediction: Keď prišli, objali ľudí, obslúchali sa na ľud a Pánovu zjavovala všetkým ľuďom.\n",
      "Source: “Peace alone, therefore, is holy and no act of violence can be perpetrated in the name of God, for it would profane his name.”\n",
      "Target: „Jedine mier je svätý, a nijaké násilie nemôže byť páchané v mene Boha, pretože by to znesväcovalo jeho Meno.“ Zdieľať\n",
      "Prediction: „Pulúpi, teda je svätý a žiadny čin násilia nemôže byť v mene Boha, lebo by to mohol byť brutovať jeho meno.“\n"
     ]
    },
    {
     "name": "stderr",
     "output_type": "stream",
     "text": [
      "Evaluating:  11%|█         | 53/500 [00:04<00:41, 10.85it/s]"
     ]
    },
    {
     "name": "stdout",
     "output_type": "stream",
     "text": [
      "Source: Their lawyers have been relentless, so we will deal with it in court”.\n",
      "Target: Ich právnici sú neúprosní, takže sa celou vecou budeme zaoberať na súde.\"\n",
      "Prediction: Ich sa spoliehali, že sa s ním končí, takže budeme s ním zaoberať súdmi.\"\n",
      "Source: They know how to live life according to God's will.\n",
      "Target: Teraz sa učia, ako žiť podľa božej vôle.\n",
      "Prediction: A tak sa vedia, ako žiť v živote podľa Božej vôle.\n",
      "Source: Tell Pharaoh king of Egypt all that I am telling you.”\n",
      "Target: Povedz faraónovi, egyptskému kráľovi, všetko, čo ti hovorím.\n",
      "Prediction: „Povedzra faraónovi, zpustil som všetko, čo som vám povedal.“\n",
      "Source: From heaven, or of men?”\n",
      "Target: Z neba; či od ľudí?\"\n",
      "Prediction: a na nebi alebo z mužov?\n"
     ]
    },
    {
     "name": "stderr",
     "output_type": "stream",
     "text": [
      "Evaluating:  11%|█▏        | 57/500 [00:04<00:38, 11.57it/s]"
     ]
    },
    {
     "name": "stdout",
     "output_type": "stream",
     "text": [
      "Source: The LORD has accomplished all that he foretold through his servant Elijah.\"\n",
      "Target: Pán splnil všetko, čo povedal prostredníctvom svojho sluhu Eliáša.“\n",
      "Prediction: A Pán vznal všetko, čo predpovedal jeho služobníka Eliáša.\"\n",
      "Source: 27 But the Lord hardened Pharaoh’s heart, and he would not let them go.\n",
      "Target: 27 Ale Hospodin zatvrdil srdce faraonovo, a nechcel ich prepustiť.\n",
      "Prediction: 27 Ale Pán zatvrdil faraónovo srdce a on ich nechcel prepustiť.\n",
      "Source: 2 Though they say, “As the Lord lives”, yet they swear falsely.\n",
      "Target: 2 A keď aj hovoria: Ako že žije Hospodin, i tak prisahajú falošne.\n",
      "Prediction: 2. „Ako sa hovorí, že Pán žije, ale nasahne, a oni im klaňajú.\n"
     ]
    },
    {
     "name": "stderr",
     "output_type": "stream",
     "text": [
      "Evaluating:  12%|█▏        | 60/500 [00:04<00:30, 14.45it/s]"
     ]
    },
    {
     "name": "stdout",
     "output_type": "stream",
     "text": [
      "Source: I have to believe that’s a sign.”\n",
      "Target: Musím veriť, že je to znamenie.\"\n",
      "Prediction: „Musím veriť, že to je znamenie.“\n",
      "Source: [Am] I not better to you than ten sons?\"\n",
      "Target: Či som ti ja nie lepší než desať synov?\" -\n",
      "Prediction: A ja, nie som lepšie ako desať synov?\n",
      "Source: This is the dignity of God’s forgiveness.\n",
      "Target: To je dôstojnosť Božieho odpustenia!\n",
      "Prediction: Je to Božie odpustenie.\n"
     ]
    },
    {
     "name": "stderr",
     "output_type": "stream",
     "text": [
      "Evaluating:  13%|█▎        | 64/500 [00:05<00:32, 13.29it/s]"
     ]
    },
    {
     "name": "stdout",
     "output_type": "stream",
     "text": [
      "Source: 41:25 Joseph said to Pharaoh, 'Pharaoh's dream has a single meaning.\n",
      "Target: 25 1Moj 41, 25 Jozef odpovedal faraónovi: Faraónove sny znamenajú jedno a to isté.\n",
      "Prediction: 25.5 A to, že sa faraónovo povedal: „Salaraónovi, v ten istý, čo zdal, je to možné.\n",
      "Source: \"And the Lord said to him, \"Who has made man’s mouth?\n",
      "Target: Citujem.......\"Jahve mu povedal: \"Ktože dal človeku ústa?\n",
      "Prediction: A Pán mu povedal: „Kto zvrhol, je úst?\n",
      "Source: but whoever does God's will lives forever.\n",
      "Target: Kto však plní Božiu vôľu, zostáva naveky.\n",
      "Prediction: Kto však plní Božiu vôľu, bude žiť navždy.\n",
      "Source: I am not afraid of a separation that will unite me for ever with God.”\n",
      "Target: A ja nemám strach z odlúčenia, ktoré ma navždy spojí s dobrým Bohom.\n",
      "Prediction: Nepristanem zrí, že ma nebude pred Bohom zlá.\n"
     ]
    },
    {
     "name": "stderr",
     "output_type": "stream",
     "text": [
      "Evaluating:  13%|█▎        | 66/500 [00:05<00:32, 13.41it/s]"
     ]
    },
    {
     "name": "stdout",
     "output_type": "stream",
     "text": [
      "Source: God’s anger remains on them.”\n",
      "Target: ale hnev Boží zostáva na ňom.“\n",
      "Prediction: Božie hnevy zostáva na nich.“\n",
      "Source: God's bread is that which comes down from heaven and gives life to the world.\n",
      "Target: Lebo Boží chlieb je ten, ktorý zostúpi z neba a dáva svetu život.\n",
      "Prediction: Božie slovo je ten, čo z neba a z Boha, a z Boha, je z Božieho slova.\n",
      "Source: Prayer is a search for God, but it’s also a revelation of God.\n",
      "Target: Modlitba je hľadaním Boha, ale je aj zjavením Boha.\n",
      "Prediction: Modlitba je teda, že Boh je zvíťazením, ale aj je to zjavenie Boha.\n"
     ]
    },
    {
     "name": "stderr",
     "output_type": "stream",
     "text": [
      "Evaluating:  14%|█▍        | 70/500 [00:05<00:37, 11.33it/s]"
     ]
    },
    {
     "name": "stdout",
     "output_type": "stream",
     "text": [
      "Source: Wherever respect for life and human dignity are lacking, there is need of God’s merciful love, in whose light we see the inexpressible value of every human being.\n",
      "Target: Tam, kde chýba úcta k životu a ľudskej dôstojnosti, tam je potrebná milosrdná Božia láska, lebo v jej svetle vidíme neobyčajnú hodnotu každej ľudskej bytosti.\n",
      "Prediction: V prípade, že sa v živote rešpektuje život a ľudská dôstojnosť, tam je potreba Boha, v ktorej svetlo chápeme, že svet je v jednotný motort moci.\n",
      "Source: Anyone who believes in him will not die but will have eternal life.\"\n",
      "Target: Kto v neho verí, nezahynie, ale bude mať večný život.“\n",
      "Prediction: Kto verí v neho, nebude zomrieť, ale bude mať večný život.“\n",
      "Source: If we fail, Earth and ten billion inhabitants will perish.\"\n",
      "Target: \"Ak sa zle integrujeme, desaťtisíce podnikateľov a poľnohospodárov stratí existenciu\".\n",
      "Prediction: Ak neuveristime, Zem a desať miliárd obyvateľov, budú zahynie.“\n"
     ]
    },
    {
     "name": "stderr",
     "output_type": "stream",
     "text": [
      "Evaluating:  14%|█▍        | 72/500 [00:05<00:34, 12.58it/s]"
     ]
    },
    {
     "name": "stdout",
     "output_type": "stream",
     "text": [
      "Source: Even we who live in Italy: under zero.\n",
      "Target: Aj my, ktorí žijeme v Taliansku: pod nulou.\n",
      "Prediction: Aj my, ktorí žijeme v Taliansku: pod nuly.\n",
      "Source: “He who taught it was crucified.”\n",
      "Target: „Ten, kto to učil, bol ukrižovaný.“\n",
      "Prediction: Kto si to naučil, bol kruciona.“\n",
      "Source: Heaven and hell shall pass away, but God’s word stands forever!\n",
      "Target: Nebesia a zem pominú, ale Božie Slovo zostáva na veky!\n",
      "Prediction: Je to v Božom a nanore, ale Božie Slovo sa spoznajú, že sa naveky večne večne!\n"
     ]
    },
    {
     "name": "stderr",
     "output_type": "stream",
     "text": [
      "Evaluating:  15%|█▌        | 76/500 [00:06<00:35, 11.98it/s]"
     ]
    },
    {
     "name": "stdout",
     "output_type": "stream",
     "text": [
      "Source: Zephaniah 3:17 says,”The Lord your God is in your midst.\n",
      "Target: 15 Sofoniáš 3:17 hovorí: „Jehova, tvoj Boh, je v tvojom strede.\n",
      "Prediction: Zereáš 3,17: „Sám, Pán, tvoj Boh, je vo vašom ohľade.\n",
      "Source: Then WHO WILL enter God's Kingdom?\n",
      "Target: Takže, kto môže vojsť do Božieho kráľovstva?\n",
      "Prediction: Monský ľud zahrne do Božieho kráľovstva?\n",
      "Source: It is in the brain, and the brain only, that the great sins of the world take place also.”\n",
      "Target: Takisto v hlave - a jedine v hlave - sa odohrávajú aj veľké hriechy sveta.\"\n",
      "Prediction: Je to v mozgu, a mozog, ale ten veľký hriech, že sa nachádza aj veľké hriechy sveta.“\n"
     ]
    },
    {
     "name": "stderr",
     "output_type": "stream",
     "text": [
      "Evaluating:  16%|█▌        | 78/500 [00:06<00:33, 12.48it/s]"
     ]
    },
    {
     "name": "stdout",
     "output_type": "stream",
     "text": [
      "Source: he was taken up between the heaven and the earth;\n",
      "Target: A niečo medzi nebom a zemou rozhodlo,\n",
      "Prediction: a vy vskutku sa vzývalo a na zemi,\n",
      "Source: Therefore God lacks either goodness, or power, or both.”3\n",
      "Target: Preto Boh buď nie je dobrý, alebo všemohúci, alebo oboje.“8\n",
      "Prediction: A tak aj ja, Boh, je nesklajnosť, alebo aj moc!”\n",
      "Source: God is touching the people’s hearts.\n",
      "Target: Boh sa prihovára srdciam ľudí.\n",
      "Prediction: Boh sa dotráva do srdca človeka.\n"
     ]
    },
    {
     "name": "stderr",
     "output_type": "stream",
     "text": [
      "Evaluating:  16%|█▋        | 82/500 [00:06<00:34, 12.19it/s]"
     ]
    },
    {
     "name": "stdout",
     "output_type": "stream",
     "text": [
      "Source: When Leo wakes up the three of them mess around for most of the day before they settle down to some food.’\n",
      "Target: 'Keď sa Leo prebudia tri z nich neporiadok okolo väčšinu dňa pred pustí do nejakej jedlo.'\n",
      "Prediction: Keď Leoo urobí tri z nich po väčšinu z tých dňa pred tým, ako sa vyhodili nejaké jedlo.\"\n",
      "Source: He sees them instead as a completely isolated group.16\n",
      "Target: Namiesto toho ich považuje za úplne izolovanú skupinu.16\n",
      "Prediction: Zvidí ich namiesto toho, ako úplne izolovaná skupina.16\n",
      "Source: He will always behold Me like a brother his brother and as I beheld him from eternity, before he was.\"\n",
      "Target: Bude Ma vždy vidieť ako brat svojho brata a ako som ho Ja videl už od večnosti, ešte skôr než bol.”\n",
      "Prediction: Vždy ma bude páčiť ako brat svojho brata a ako som ich ubeňoval od večníka, pred tým, ako bol.“\n"
     ]
    },
    {
     "name": "stderr",
     "output_type": "stream",
     "text": [
      "Evaluating:  17%|█▋        | 84/500 [00:06<00:37, 11.07it/s]"
     ]
    },
    {
     "name": "stdout",
     "output_type": "stream",
     "text": [
      "Source: Then Joseph said to them, “Do not the meanings of dreams belong to God?\n",
      "Target: Jozef im povedal: \"A nepatrí Bohu vykladanie snov?!\n",
      "Prediction: A Jozef im povedal: „Nie, že nie sú tí, čo chváli Bohu, patria?\n",
      "Source: “Whatever the Lord pleases, He does, in Heaven and on Earth, in the seas and all deeps.”\n",
      "Target: Všetko, čo sa páči Hospodinovi, činí na nebi aj na zemi, v moriach a všetkých hlbinách.\n",
      "Prediction: Čokoľvek, čo chce, v nebi, v nebi a na zemi, v morských a volebne a vo všetkých hlbokých.\"\n"
     ]
    },
    {
     "name": "stderr",
     "output_type": "stream",
     "text": [
      "Evaluating:  18%|█▊        | 88/500 [00:07<00:30, 13.34it/s]"
     ]
    },
    {
     "name": "stdout",
     "output_type": "stream",
     "text": [
      "Source: “Until we meet again, may God hold you in the palm of His hand.”\n",
      "Target: A kým sa stretneme znova, nech ťa Boh drží vo svojich dlaniach.“\n",
      "Prediction: A tak, čo sa nevrátime, tak nech sa Boh napravia v Pánovi.\"\n",
      "Source: He said, “The sick need a physician.”\n",
      "Target: Povedal totiž, že ‚chorí potrebujú lekára‘.\n",
      "Prediction: Povedal: „Masita potrebuje fyziku.\"\n",
      "Source: And tomorrow, he is tried and put to jail.\"\n",
      "Target: Zajtra bude zatknutý a uvrhnutý do väzenia!”\n",
      "Prediction: A zajtra sa pokúsi a udeň do utieň.\"\n",
      "Source: God’s Presence is near.\n",
      "Target: Božia prítomnosť je bližšie.\n",
      "Prediction: Božia prítomnosť je v úbohá.\n"
     ]
    },
    {
     "name": "stderr",
     "output_type": "stream",
     "text": [
      "Evaluating:  18%|█▊        | 90/500 [00:07<00:31, 12.87it/s]"
     ]
    },
    {
     "name": "stdout",
     "output_type": "stream",
     "text": [
      "Source: These are those who know how to have compassion, who know how to have mercy on others, because they experience it for themselves.”\n",
      "Target: Toto sú tí, ktorí dokážu mať súcit, ktorí vedia mať milosrdenstvo s druhými, pretože ho zakusujú sami na sebe.“\n",
      "Prediction: To sú tí, ktorí vedia, ako majú milosrdenstvo, ktorý vedieť, že má milosrdenstvo na ostatných, pretože ich zažívajú.“\n",
      "Source: Have confidence in God’s forgiveness.\n",
      "Target: Majte dôveru v Božie odpustenie.\n",
      "Prediction: V Pravej veršime, že Božie odpustenie.\n",
      "Source: So, \"… he said, Lord GOD, whereby shall I know that I shall inherit it?\n",
      "Target: On sa opýtal: „Pane, Bože, podľa čoho spoznám, že ju budem vlastniť?“\n",
      "Prediction: A tak povedal: „Pane, Pán,,, podľa toho viem, že sa to budem zdvihnúť?\n"
     ]
    },
    {
     "name": "stderr",
     "output_type": "stream",
     "text": [
      "Evaluating:  19%|█▉        | 94/500 [00:07<00:30, 13.16it/s]"
     ]
    },
    {
     "name": "stdout",
     "output_type": "stream",
     "text": [
      "Source: But they did not hearken to Moses, and some of them left part of it until the next morning.\n",
      "Target: Oni však nepočúvali Mojžiša a niektorí si z toho nechali (časť) až do druhého rána.\n",
      "Prediction: Ale tak nevedali Mojžišovi a niektorí z nich opustili z nich až do nasledujúcich ráno.\n",
      "Source: The most merciful and ever merciful\n",
      "Target: Milostivého a Milosrdného.\n",
      "Prediction: Najlahrdného a Milosrdného\n",
      "Source: As for the traitor in Room 14, we will eventually find him.\n",
      "Target: Pokiaľ ide o zradcu v izbe 14, nakoniec ho nájdeme.\n",
      "Prediction: Pokiaľ ide o trag teplo v Room 14, nakoniec ho nájdeme.\n",
      "Source: Even today, or perhaps today more than ever, Don Bosco asks questions.\n",
      "Target: Aj dnes, a možno častejšie ako kedysi, don Bosco kladie otázky.\n",
      "Prediction: Aj dnes, alebo možno dnes viac než kedykoľvek predtým, Don Bos sa pýta otázky.\n"
     ]
    },
    {
     "name": "stderr",
     "output_type": "stream",
     "text": [
      "Evaluating:  20%|█▉        | 99/500 [00:07<00:27, 14.70it/s]"
     ]
    },
    {
     "name": "stdout",
     "output_type": "stream",
     "text": [
      "Source: The men in the boat fell down before him and exclaimed, “You really are God’s son.\n",
      "Target: Tí, čo boli na loďke, klaňali sa mu a vraveli: „Naozaj si Boží Syn!“\n",
      "Prediction: Mložni ľudia v lodi vyzrel a vražali: „V skutočnosti si Boh.\n",
      "Source: You can become God’s friend.\n",
      "Target: Môžeš sa stať Božím priateľom!\n",
      "Prediction: Zdež sa môžete stať priateľom Božím.\n",
      "Source: Do you know how to listen to God’s voice?\n",
      "Target: Vieš počúvať Boží hlas?\n",
      "Prediction: Viete, ako počúvať Božie slovo?\n",
      "Source: God’s bread is the One who comes down from heaven and gives life to the world.”\n",
      "Target: Božím chlebom je Ten, kto zostupuje z neba a dáva život svetu.\n",
      "Prediction: „Boží chlieb je ten, ktorý zoprnie od neba a dáva svetu.\n"
     ]
    },
    {
     "name": "stderr",
     "output_type": "stream",
     "text": [
      "Evaluating:  21%|██        | 103/500 [00:08<00:26, 15.12it/s]"
     ]
    },
    {
     "name": "stdout",
     "output_type": "stream",
     "text": [
      "Source: Give thanks to God because everything is God's gift to you.\n",
      "Target: Ďakujte Bohu, lebo všetko je pre vás Boží dar.\n",
      "Prediction: Dovoľte, že s Bohom je, lebo je všetko, čo vám je Božia vôľa.\n",
      "Source: How does Satan REMOVE the Word of God from people's hearts?\n",
      "Target: Ako dokáže diabol zobrať Božie slovo zo srdca?\n",
      "Prediction: Ako sa zjavuje z Boha z Božieho slova?\n",
      "Source: The heavens declare God’s righteousness to judge.\n",
      "Target: Mesiáš prichádza s Božou mocou, aby súdil.\n",
      "Prediction: Varba je teda na Božie milosrdenstvo,\n",
      "Source: Blessed is the one who comes in God’s name – the King of Israel.\n",
      "Target: Požehnaný, ktorý prichádza v_mene Pánovom, Kráľ Izraela\n",
      "Prediction: Blahoslavený, ktorý prichádza v Božom mene, kráľovi Izraela.\n"
     ]
    },
    {
     "name": "stderr",
     "output_type": "stream",
     "text": [
      "Evaluating:  21%|██        | 105/500 [00:08<00:25, 15.32it/s]"
     ]
    },
    {
     "name": "stdout",
     "output_type": "stream",
     "text": [
      "Source: “But our God is in the heavens; He does whatever He pleases.”20\n",
      "Target: „Náš Boh je na nebesiach, všetko robí podľa svojej vôle.“16\n",
      "Prediction: Ale náš Boh je v nebi; čo robí, on sa robí, čo končí.“\n",
      "Source: Human beings are God’s sons and daughters.\n",
      "Target: cítiaci ľudia sú Božími synmi a dcérami.\n",
      "Prediction: Boží syn sú synmi a dcérami.\n",
      "Source: Mohammed said, “He who has passed that remark has told a lie; for Amir there is a double reward.”\n",
      "Target: Povedal: Ten, kto vyriekol tú poznámku, povedal lož, pre Amira je dvojnásobná odmena.\"\n",
      "Prediction: Mojmed povedal: „Kto pozorne povedal klamenie; pre Alah je tu zvrhnutý, že ho zjavná zvrhnutý.\n"
     ]
    },
    {
     "name": "stderr",
     "output_type": "stream",
     "text": [
      "Evaluating:  22%|██▏       | 109/500 [00:08<00:31, 12.31it/s]"
     ]
    },
    {
     "name": "stdout",
     "output_type": "stream",
     "text": [
      "Source: If then you are God’s handiwork, await the hand of the Artist who does all things in due season.\n",
      "Target: Ak ste teda vy dielom Boha, čakajte na ruku umelca, ktorý robí každú vec v pravom čase.~SV.\n",
      "Prediction: Akže ty, boží momentní, čakíte ruku z kapristici, ktorý robí všetko v tejto sezóne.\n",
      "Source: And he said, \"We should raise a fund and do some investing.\"\n",
      "Target: A on mi povedal: mali by sme založiť fond a investovať.\n",
      "Prediction: A on povedal, \"Mali by sme zvýšiť financovanie a my niektorí investujeme.\"\n",
      "Source: God’s bread is the One who comes down from heaven and gives life to the world.”\n",
      "Target: Lebo Boží chlieb je ten, ktorý zostúpil z neba a dáva svetu život.”\n",
      "Prediction: „Božie chlieb je ten, ktorý z neba vzal a dáva svet.”\n"
     ]
    },
    {
     "name": "stderr",
     "output_type": "stream",
     "text": [
      "Evaluating:  22%|██▏       | 111/500 [00:08<00:31, 12.52it/s]"
     ]
    },
    {
     "name": "stdout",
     "output_type": "stream",
     "text": [
      "Source: God’s bread is the One who comes down from heaven and gives life to the world.”\n",
      "Target: Lebo Boží chlieb je ten, ktorý zostúpil z neba a dáva svetu život.“\n",
      "Prediction: „Božie chlieb je ten, ktorý z neba vzal a dáva svet.”\n",
      "Source: God’s bread is the One who comes down from heaven and gives life to the world.”\n",
      "Target: Lebo Boží chlieb je ten, ktorý zostúpil z neba a dáva svetu život.\"\n",
      "Prediction: „Božie chlieb je ten, kto z neba vzal a dáva svet.”\n",
      "Source: They want to live in God’s presence.\n",
      "Target: a chcú žiť v Božej prítomnosti\n",
      "Prediction: Nech je v Božej prítomnosti.\n",
      "Source: The one who does God’s will remains forever.\n",
      "Target: Kto však koná Božiu vôľu, zostáva naveky.\n",
      "Prediction: Kto však plní Božiu vôľu, zostáva navždy.\n"
     ]
    },
    {
     "name": "stderr",
     "output_type": "stream",
     "text": [
      "Evaluating:  23%|██▎       | 116/500 [00:09<00:27, 14.03it/s]"
     ]
    },
    {
     "name": "stdout",
     "output_type": "stream",
     "text": [
      "Source: God’s had a chosen people the Israelites.\n",
      "Target: Boh si však predsa vyvolil Izraelcov.\n",
      "Prediction: Božia milosť, za toto zvíťazené k Bohu.\n",
      "Source: All of God's wonderful promises fulfilled.\n",
      "Target: Všetky nádherné zasľúbenia Božie sú vyplnené.\n",
      "Prediction: V tomto, čo sa naplnilo Božie slovo.\n",
      "Source: “Whatever the Lord pleases, He does, in Heaven and on Earth, in the seas and all deeps.”\n",
      "Target: - Všetko, čo sa páči Hospodinovi, činí na nebi aj na zemi, v moriach a všetkých hlbinách.\n",
      "Prediction: A nechkoľvek, čokoľvek, na zemi, v nebi a na zemi, v morských a vo všetkých, vslároch.\n"
     ]
    },
    {
     "name": "stderr",
     "output_type": "stream",
     "text": [
      "Evaluating:  24%|██▍       | 120/500 [00:09<00:26, 14.15it/s]"
     ]
    },
    {
     "name": "stdout",
     "output_type": "stream",
     "text": [
      "Source: “They have found each other; they are plugged into each other, and they have each other’s backs.\n",
      "Target: Tým, že sa (tam) stretávali s ním, súčasne sa (tam) stretávali navzájom !\n",
      "Prediction: „Pošli k sebe navzájom; sú to neťažovaní v sebe, a oni majú navzájom iné.\n",
      "Source: Our (wrong) answer: Beef is always dead.\n",
      "Target: Naša (nesprávna) odpoveď: Hovädzie je vždy mŕtve.\n",
      "Prediction: Naším (svojím) odpovedá: Bri je vždy mŕtvy.\n",
      "Source: ​​Pilate said to them ,\"Which of the two do you want me to release to you?\n",
      "Target: Pilát sa opýtal ľudí: “Ktorého z tých dvoch chcete, aby som vám prepustil?”\n",
      "Prediction: Pilné im povedal: „O tom zo dvoch vás chcete zapustiť?\n",
      "Source: And Jesus said to him, \"Go, your faith has healed you.\"\n",
      "Target: A Ježiš mu povedal: „Choď, tvoja viera ťa uzdravila!\"\n",
      "Prediction: A Ježiš povedal: „Choď, tvoja viera ťa uzdravila.\n"
     ]
    },
    {
     "name": "stderr",
     "output_type": "stream",
     "text": [
      "Evaluating:  24%|██▍       | 122/500 [00:09<00:34, 11.10it/s]"
     ]
    },
    {
     "name": "stdout",
     "output_type": "stream",
     "text": [
      "Source: Instead of speaking about yourself, speak about Allah and the Holy Prophet ( ).\n",
      "Target: Namiesto toho, aby si hovoril o sebe, hovor o Bohu a o Božom Prorokovi (mier s ním).\n",
      "Prediction: A potom, čo sa týka toho, že o tom, čo je v Allahove a o Bohu (Oslavovaný a Vyslavovaný a Vyvýš rôzne) (nie)\n",
      "Source: He comes as the True Parent to conclude God's providence in the Completed Testament Age.\n",
      "Target: Prichádza ako Pravý rodič, aby zavŕšil Božiu prozreteľnosť vo veku Splneného zákona.\n",
      "Prediction: Prichádza ako Tvoju Pravda, ktorú sa týka bohovia Božia, ktorá sa v tom čase podarí formuje.\n"
     ]
    },
    {
     "name": "stderr",
     "output_type": "stream",
     "text": [
      "Evaluating:  25%|██▍       | 124/500 [00:09<00:33, 11.20it/s]"
     ]
    },
    {
     "name": "stdout",
     "output_type": "stream",
     "text": [
      "Source: Even today men will choose to follow man-made traditions rather than God's Word.\n",
      "Target: Dnes, rovnako ako kedysi, sú ľudia naklonení prijímať ľudské názory a tradície namiesto Božieho slova.\n",
      "Prediction: Aj dnes sa ľudia budú môcť predložiť chlieb, pred tým, že sa budú žiť pred Bohom, pred Bohom.\n",
      "Source: However,Christ says,” When He the spirit of truth comes, He shall lead you into ALL truth.\n",
      "Target: Ježiš, ktorý povedal: „Keď príde Duch pravdy, uvedie vás do plnej pravdy.\"\n",
      "Prediction: A Ježiš hovorí: „Keď príde Duch pravdy, príde vás do celej pravdy.\n",
      "Source: Let us look above all at Jesus: how much patience He had to have during the three years of His public life!\n",
      "Target: Hľaďme predovšetkým na Ježiša: koľkú trpezlivosť musel mať počas troch rokov svojho verejného života!\n",
      "Prediction: Pozrime sa nad všetkých v Ježišovi: koľko veľa trpezlivo musí mať počas troch rokov svojho verejného života!\n"
     ]
    },
    {
     "name": "stderr",
     "output_type": "stream",
     "text": [
      "Evaluating:  26%|██▌       | 128/500 [00:10<00:33, 11.07it/s]"
     ]
    },
    {
     "name": "stdout",
     "output_type": "stream",
     "text": [
      "Source: Here I sit and there you are lying; we have so much to say, and we shall never say it.”\n",
      "Target: Ešte tu sedím, a ty ležíš, musíme si toho toľko povedať, nikdy však nebudeme môcť.\n",
      "Prediction: Tu som sedel a tam klame, a my máme toľko povedať, a nikdy to povieme.\"\n",
      "Source: “Yet when the Spirit of Truth comes, he’ll guide you into all truth.\n",
      "Target: A znova: Keď príde on, uvedie vás do plnej pravdy.\n",
      "Prediction: A keď sa príde Duch Pravdy, On ťa dá do celej pravdy.\n",
      "Source: 46 David found favor in God’s sight, and asked that he might find a dwelling place for the God of Jacob.\n",
      "Target: 46 Dávid našiel milosť u Boha a žiadal, aby našiel Jákobov­mu Bohu príbytok.\n",
      "Prediction: 46 Svebroci našiel milosť v Božích očiach a prorokch, aby mohol nájsť pre Boha Jakubhoblu.\n"
     ]
    },
    {
     "name": "stderr",
     "output_type": "stream",
     "text": [
      "Evaluating:  26%|██▌       | 130/500 [00:10<00:36, 10.05it/s]"
     ]
    },
    {
     "name": "stdout",
     "output_type": "stream",
     "text": [
      "Source: Wherever respect for life and human dignity are lacking, there is need of God’s merciful love, in whose light we see the inexpressible value of every human being.\n",
      "Target: Kde je nedostatok úcty k životu a ľudskej dôstojnosti, potrebná je milosrdná láska Boha, v svetle ktorej sa odhaľuje neopísateľná hodnota každej ľudskej bytosti.\n",
      "Prediction: Kde sa spolieha, že život a rasizmus chýba, tam je potreba Božiu milosť, v ktorej svetlo vidíme, že je v nemenuorná sila moci.\n",
      "Source: 8:18I am he who testifies about myself, and the Father who sent me testifies about me.\"\n",
      "Target: Jn 8:18 - Ja sám vydávam svedectvo o sebe a vydáva o mne svedectvo aj Otec, ktorý ma poslal.“\n",
      "Prediction: 8,18 Ja som ja, kto svedčí o sebe, a Otec, ktorý ma poslal.\"\n",
      "Source: “The other things on Earth are created to for man’s use, to help him reach the end for which he was created.\n",
      "Target: Ostatné veci na povrchu zeme sú stvorené pre človeka, aby mu pomáhali dosiahnuť cieľ, pre ktorý je stvorený.\n",
      "Prediction: „Ostatné veci na Zemi sú vytvorené pre človeka, pomôcť mu dosiahnuť koniec, pre ktorý bol vytvorený.\n"
     ]
    },
    {
     "name": "stderr",
     "output_type": "stream",
     "text": [
      "Evaluating:  27%|██▋       | 134/500 [00:10<00:31, 11.63it/s]"
     ]
    },
    {
     "name": "stdout",
     "output_type": "stream",
     "text": [
      "Source: The dream is certain, and the interpretation thereof sure.\"\n",
      "Target: Sen je pravdivý a jeho výklad spoľahlivý.“\n",
      "Prediction: Sen je pravdivý a jeho výklad spoľahlivý.“\n",
      "Source: This is indeed a birder’s paradise.\n",
      "Target: Je to skutočne raj vtákov.\n",
      "Prediction: Je to naozaj vtáka vtáka.\n",
      "Source: “Books are mirrors: you only see in them what you already have inside of you.”\n",
      "Target: “Knihy sú ako zrkadlo, vidíš v nich len to, čo už v sebe máš.”\n",
      "Prediction: „Obrávanie sú na nich zázraky: vidíte v nich len v tom, čo máte v tvojom volanie.“\n"
     ]
    },
    {
     "name": "stderr",
     "output_type": "stream",
     "text": [
      "Evaluating:  27%|██▋       | 136/500 [00:11<00:31, 11.66it/s]"
     ]
    },
    {
     "name": "stdout",
     "output_type": "stream",
     "text": [
      "Source: “Books are mirrors: you only see in them what you already have inside of you.”\n",
      "Target: \"Knihy sú ako zrkadlo, vidíš v nich len to, čo už v sebe máš.\"\n",
      "Prediction: „Akože sú, ako sa volať, vidiate v nich len v tom, čo už máte vo vás.“\n",
      "Source: The self-realized souls can impart knowledge unto you because he has seen the truth.”\n",
      "Target: Sebarealizované duše ti môžu dať poznanie, lebo ony uzreli pravdu.“\n",
      "Prediction: „Sateralizované duše ti môžu dať poznanie, pretože videl pravdu.“\n"
     ]
    },
    {
     "name": "stderr",
     "output_type": "stream",
     "text": [
      "Evaluating:  28%|██▊       | 138/500 [00:11<00:32, 11.28it/s]"
     ]
    },
    {
     "name": "stdout",
     "output_type": "stream",
     "text": [
      "Source: Where there is darkness, God's light shines forth.\n",
      "Target: Žijúcim v temnom kraji, svetlo Božie žiariť má.\n",
      "Prediction: A tak, keď je tu v sebe, v tom, čo je vskutku, tak sa Boh zjavuje, je to, čo sa telá.\n",
      "Source: “If you believe, you will see God’s glory!”\n",
      "Target: \"Ak budeš veriť, uzrieš slávu Božiu!\"\n",
      "Prediction: „Ak sa domnievate, budete vidieť Božiu slávu!\"\n",
      "Source: 'Because of what you have done the heavens have become a part of man's world.\n",
      "Target: Vďaka tomu, čo ste urobili, sa nebesá stali časťou ľudského sveta.\"\n",
      "Prediction: \"Pretože to, čo si urobil nebesia, sa stali súčasťou sveta človeka.\n"
     ]
    },
    {
     "name": "stderr",
     "output_type": "stream",
     "text": [
      "Evaluating:  29%|██▊       | 143/500 [00:11<00:26, 13.51it/s]"
     ]
    },
    {
     "name": "stdout",
     "output_type": "stream",
     "text": [
      "Source: Whatever is in the heavens and on earth, doth declare His Praises and Glory:\n",
      "Target: na nebi i na zemi: na zemi tým, že ťa rozmnoží v milosti a vo svojich čnostiach\n",
      "Prediction: Čo je v nebi a na zemi, je, že sa na zemi, vno sa prisľúbia a plní:\n",
      "Source: She heard God’s voice and sought God’s presence.\n",
      "Target: Počúvala Boží hlas a hľadala Božiu vôľu.\n",
      "Prediction: Hľa, že sa Boh počuje a vyznával Božie kráľovstvo.\n",
      "Source: But what about in God's eyes?\n",
      "Target: Ale čo v očiach Božích?\n",
      "Prediction: A čo je v očiach Boha?\n",
      "Source: (1) 17.64% for the European Research Council;\n",
      "Target: (1) 17,64 % na Európsku radu pre výskum;\n",
      "Prediction: (1.64 % pre európsku výskumnú radu;\n"
     ]
    },
    {
     "name": "stderr",
     "output_type": "stream",
     "text": [
      "Evaluating:  30%|██▉       | 148/500 [00:11<00:22, 15.92it/s]"
     ]
    },
    {
     "name": "stdout",
     "output_type": "stream",
     "text": [
      "Source: It is the state of God’s will being done on Earth as it is in Heaven.\n",
      "Target: Spôsobí, že sa na zemi bude diať Božia vôľa, tak ako sa deje v nebi.\n",
      "Prediction: Je to stav Božia, ktorá sa deje na zemi, ako je v nebi.\n",
      "Source: the earth's surface and the life which peoples it.\n",
      "Target: Pozemský život a žitie, ktoré ju vystihuje.\n",
      "Prediction: a na zemi a život, kde ho patrí k národu,\n",
      "Source: God’s judgment was swift upon him.\n",
      "Target: Preto bol Boží súd nad nimi veľmi rýchly.\n",
      "Prediction: Boží súd sa mu prikázal.\n",
      "Source: There is no greater obstacle to God than time.”\n",
      "Target: Na ceste k Bohu niet väčšej prekážky, ako je čas.“\n",
      "Prediction: Nie je pre Boha väčšia ako čas.“\n",
      "Source: Indeed, Jesus “has his priesthood without any successors.”\n",
      "Target: Áno, Ježiš „má svoje kňazstvo bez akýchkoľvek nástupcov“.\n",
      "Prediction: V skutočnosti, Ježiš „zlava jeho kňazstvo bez akéhokoľvek úspechu“.\n"
     ]
    },
    {
     "name": "stderr",
     "output_type": "stream",
     "text": [
      "Evaluating:  30%|███       | 150/500 [00:11<00:21, 16.21it/s]"
     ]
    },
    {
     "name": "stdout",
     "output_type": "stream",
     "text": [
      "Source: Who could escape from God’s hands?\n",
      "Target: Ale kto môže utiecť pred Božou rukou?\n",
      "Prediction: Kto by mohol vyklúchnúť z Božích rúk?\n",
      "Source: for all endurance and patience with joy.\"\n",
      "Target: ku všetkej trpezlivosti a zhovievavosti s radosťou“,\n",
      "Prediction: Je všetko všetky úvodné a trpezlivosť s radosťou.\"\n"
     ]
    },
    {
     "name": "stderr",
     "output_type": "stream",
     "text": [
      "Evaluating:  30%|███       | 152/500 [00:12<00:30, 11.51it/s]"
     ]
    },
    {
     "name": "stdout",
     "output_type": "stream",
     "text": [
      "Source: 2592 The prayer of Abraham and Jacob is presented as a battle of faith marked by trust in God's faithfulness and by certitude in the victory promised to perseverance.\n",
      "Target: 2592 Abrahámova a Jakubova modlitba sa javí ako zápas viery, ktorá dôveruje v Božiu vernosť a je si istá víťazstvom, ktoré je prisľúbené za vytrvalosť.\n",
      "Prediction: 2592 Abrahám Abrahámovi a Jakob je predložený ako boj vernosti, ktorá chýbaš vernosť v vernosť vernosť a poslušnosť k Bohu, ktorý sa modlí.\n",
      "Source: How many believers, even in our own day, are tested by God’s silence when they would rather hear his consoling voice!\n",
      "Target: Koľkí veriaci sú aj v našej dobe skúšaní Božím mlčaním, zatiaľ čo by chceli počuť jeho utešujúci hlas!\n",
      "Prediction: Koľko veriaci, dokonca aj v našom vlastnom dni, sú testované Božím ticho, keď by skôr počul jeho končovaný hlas.\n"
     ]
    },
    {
     "name": "stderr",
     "output_type": "stream",
     "text": [
      "Evaluating:  31%|███       | 154/500 [00:12<00:30, 11.21it/s]"
     ]
    },
    {
     "name": "stdout",
     "output_type": "stream",
     "text": [
      "Source: Be compassionate, understanding, forgiving and merciful.\n",
      "Target: Ohlasujte Boha dobrotivého, milosrdného, odpúšťajúceho, milujúceho.\n",
      "Prediction: Milosrdný, zpúšťajúci sa (zvážne) odpúšťajú, (Zrdný,\n",
      "Source: “Then we could help 120,000 people in southern Lebanon.\n",
      "Target: \"Potom by sme mohli pomôcť 120 000 ľuďom v južnom Libanone.\n",
      "Prediction: “Potom by sme mohli pomôcť 1 000,000 ľudí v južnom Libanone.\n",
      "Source: The earth was corrupt in God’s sight and filled with violence.\n",
      "Target: Zem sa pred Bohom skazila a naplnila sa násilím.\n",
      "Prediction: Svätému je v očiach Boha a naplnený násilím.\n"
     ]
    },
    {
     "name": "stderr",
     "output_type": "stream",
     "text": [
      "Evaluating:  32%|███▏      | 158/500 [00:12<00:27, 12.64it/s]"
     ]
    },
    {
     "name": "stdout",
     "output_type": "stream",
     "text": [
      "Source: At God’s will the Son is what and whatsoever He is.\n",
      "Target: Boh je Pán všetkého, čo je a bude.\n",
      "Prediction: V Božom slove je to, čo je a čo je, čo jemu, je.\n",
      "Source: The glory of the martyrs shines upon you.”\n",
      "Target: Sláva mučeníkov žiari nad tebou.»\n",
      "Prediction: Svätí chvála ťa za v ňom súde.\"\n",
      "Source: But there is only One Who can meet you there, and that's God.\n",
      "Target: Ale je len Jeden, ktorý vás tam môže stretnúť a to je Boh.\n",
      "Prediction: Ale je tu len jeden, kto sa tam pozerá na mňa, a to je Boh.\n"
     ]
    },
    {
     "name": "stderr",
     "output_type": "stream",
     "text": [
      "Evaluating:  32%|███▏      | 160/500 [00:12<00:30, 11.01it/s]"
     ]
    },
    {
     "name": "stdout",
     "output_type": "stream",
     "text": [
      "Source: Therefore, make the Sign of the Cross with respect, as though it were the last you make in your life.”\n",
      "Target: Rob preto znamenie kríža s úctou, akoby malo byť posledné v tvojom živote.\"\n",
      "Prediction: Preto, aby sa znalo o kríži s rešpektom, ako keby bolo to posledné, čo si napláňte vo vašom živote.“\n",
      "Source: 12:34When Jesus saw that he answered wisely, he said to him, \"You are not far from the kingdom of God.\"\n",
      "Target: 12.34 Keď Ježiš videl, že odpovedal rozumne, povedal mu: “Nie si ďaleko od Božieho kráľovstva.”\n",
      "Prediction: 12.34 A Ježiš videl, že múdbne odpovedal, povedal rozumne: „Nie si ďaleko od Božieho kráľovstva.\n",
      "Source: He who has conquered doubt and fear has conquered failure.”\n",
      "Target: Ten, kto premohol pochybnosti a strach, premohol neúspech.\n",
      "Prediction: Kto upadne o pokánie a zrakol sa.“\n"
     ]
    },
    {
     "name": "stderr",
     "output_type": "stream",
     "text": [
      "Evaluating:  33%|███▎      | 164/500 [00:13<00:28, 11.71it/s]"
     ]
    },
    {
     "name": "stdout",
     "output_type": "stream",
     "text": [
      "Source: Pharaoh had Joseph brought before him to interpret his dream.\n",
      "Target: A Pharaoh Joseph, jeho sen s ním hovoril a bol schopný zabrániť hladovanie).\n",
      "Prediction: Faraónove poslušnosť predal, aby ho vyprejal jeho sen.\n",
      "Source: (c) The \"One Rejected\" is the Sun of our system.\n",
      "Target: (c) Ten “Jeden Odmietnutý” je Slnkom nášho systému.\n",
      "Prediction: c) „Jedny Reated“ je slnka nášho systému.\n",
      "Source: \"So you don't accept God's moral code to do what is righteous?\"\n",
      "Target: „Takže vy neakceptujete Boží morálny zákonník, ktorý nám prikazuje robiť to, čo je spravodlivé?“\n",
      "Prediction: „Takže neodvodím, že Božia morálna kód je, čo je spravodlivý?“\n"
     ]
    },
    {
     "name": "stderr",
     "output_type": "stream",
     "text": [
      "Evaluating:  33%|███▎      | 166/500 [00:13<00:30, 11.05it/s]"
     ]
    },
    {
     "name": "stdout",
     "output_type": "stream",
     "text": [
      "Source: Now, if God makes a promise, God's got to keep His promise.\n",
      "Target: Ak Boh niečo sľubuje, určite dané slovo dodrží.\n",
      "Prediction: Ak Boh teda hovorí, že Boh má svoj prísľub, tak musí zaviesť jeho meno.\n",
      "Source: When some of those standing there heard this, they said, ‘He’s calling for Elijah.’\n",
      "Target: Keď to počuli niektorí z tých, čo tam stáli, vraveli: \"Volá Eliáša.\"\n",
      "Prediction: Keď sa to niektorí z tých, čo tam stáli, o to povedal, povedal: „Vedal Eliáša.“\n"
     ]
    },
    {
     "name": "stderr",
     "output_type": "stream",
     "text": [
      "Evaluating:  34%|███▎      | 168/500 [00:13<00:32, 10.36it/s]"
     ]
    },
    {
     "name": "stdout",
     "output_type": "stream",
     "text": [
      "Source: Was it by God’s rhema that the heavens existed or the earth was formed?\n",
      "Target: Či bol tam prorok, keď Boh stvoril nebo a zem?\n",
      "Prediction: Je to v tom, že sa na zemi, že sa chlieb, o to, čo sa týka, alebo na zemi bude stvorená?\n",
      "Source: The Lord of Heaven’s armies says so, and he means what he says.\n",
      "Target: Toto hovorí Kráľ Božieho kráľovstva – teda musí vedieť, čo hovorí.\n",
      "Prediction: Božie deti hovorí: „Oslašal, čo hovorí.\n"
     ]
    },
    {
     "name": "stderr",
     "output_type": "stream",
     "text": [
      "Evaluating:  34%|███▍      | 172/500 [00:14<00:28, 11.57it/s]"
     ]
    },
    {
     "name": "stdout",
     "output_type": "stream",
     "text": [
      "Source: Heaven and earth will pass away, but God’s word will stand.\n",
      "Target: Zaujali ste postoj na Božom Slove a nebesia a zem pominú, ale Božie Slovo ostáva na veky!\n",
      "Prediction: Je to na tom, že sa na zemi objavuje, ale sa bude to rozsrieši, ale sa bude konať na zemi, ale Boh.\n",
      "Source: “I hope that next time the TMO will really do his job.\n",
      "Target: „Dúfam, že nabudúce TMO bude skutočne robiť svoju prácu.\n",
      "Prediction: \"Dúfam, že v nasledujúcich rokoch TMO bude skutočne urobiť svoju prácu.\n",
      "Source: what will i have done if not for Mr tom jerry who i will always see as\n",
      "Target: čo budem musieť urobiť, ak nie je pre pána Tom Jerry, ktorý budem vždy vidieť, ako\n",
      "Prediction: Čo ja som urobil, ak nie pre pána parary, ktorý budem vždy vidieť\n",
      "Source: 'In him was life, and the life was the light of men.\"\n",
      "Target: „V ňom bol život a život bol svetlom ľudí“.\n",
      "Prediction: V ňom bol život a život bol svet mužovi.\n"
     ]
    },
    {
     "name": "stderr",
     "output_type": "stream",
     "text": [
      "Evaluating:  35%|███▍      | 174/500 [00:14<00:25, 13.02it/s]"
     ]
    },
    {
     "name": "stdout",
     "output_type": "stream",
     "text": [
      "Source: To take up your cross is to put God’s will above your own.\n",
      "Target: Vziať svoj kríž znamená povýšiť Božiu vôľu nad svoju.\n",
      "Prediction: Aby sa napláj svoju krízu, je prekonať Božiu vôľu.\n",
      "Source: What operation, I am only 38?\n",
      "Target: Aká operácia, som len 38?\n",
      "Prediction: Čo sa v, som len 38?\n",
      "Source: Moses told them “that’s the bread the Lord has given you to eat.”\n",
      "Target: “Vtedy im Mojžiš povedal: „To je chlieb, ktorý vám dáva Pán jesť.\n",
      "Prediction: Mojžiš im povedal: „To je chlieb, ktorý vám dal jesť Pán.\n"
     ]
    },
    {
     "name": "stderr",
     "output_type": "stream",
     "text": [
      "Evaluating:  36%|███▌      | 178/500 [00:14<00:27, 11.65it/s]"
     ]
    },
    {
     "name": "stdout",
     "output_type": "stream",
     "text": [
      "Source: And when Ibrahim built the foundations of the House with Isma'il: 'Our Lord, accept this from us!\n",
      "Target: V súrat al-Bakara sa Abrahám modlil: \"Pane náš, učiň nás Tebe oddanými.\"\n",
      "Prediction: A keď som Ibrahím postavené na príčin zdež svojho domu, “Amah jej, poblíži to od nás!”\n",
      "Source: Another 25 people, but only for you!” ... it is no longer used.\n",
      "Target: Ďalších 25 ľudí, ale len pre vás!“ ... už sa nepoužíva.\n",
      "Prediction: Ďalších 25 ľudí, ale len pre vás!“ nie je už dlhšie použitý.\n",
      "Source: The Corinthian believers were better able to communicate the Gospel and God’s Word as a result of the gift of tongues.\n",
      "Target: Korintskí veriaci boli schopní lepšie komunikovať evanjelium a Božie slovo vďaka daru jazykov.\n",
      "Prediction: Prírokerské veriaci boli lepšie v zámeresu a Božie Slovo ako výsledkom darných kapinov.\n"
     ]
    },
    {
     "name": "stderr",
     "output_type": "stream",
     "text": [
      "Evaluating:  36%|███▌      | 180/500 [00:14<00:27, 11.73it/s]"
     ]
    },
    {
     "name": "stdout",
     "output_type": "stream",
     "text": [
      "Source: And why not; we know that good jobs always bring new clients.\n",
      "Target: A prečo nie; vieme, že dobré pracovné miesta vždy priviesť nových klientov.\n",
      "Prediction: A prečo nie; vieme, že dobré pracovné miesta vždy prinášajú nových klientov.\n",
      "Source: [19:46] He said, \"Have you forsaken my gods, O Abraham?\n",
      "Target: Preto povedal, ‘Ó, Ibrahím, je v tvojej hrudi pomiešané niečo iné než to?’\n",
      "Prediction: Abrahám povedal: „Vy ste ťa prebývať moje bohov, Abrahám?\n",
      "Source: We should follow their example.\"\n",
      "Target: Myslím, že by sme mali nasledovať ich príklad.“\n",
      "Prediction: Mali by sme nasledovať ich príklad.\"\n"
     ]
    },
    {
     "name": "stderr",
     "output_type": "stream",
     "text": [
      "Evaluating:  37%|███▋      | 184/500 [00:14<00:23, 13.57it/s]"
     ]
    },
    {
     "name": "stdout",
     "output_type": "stream",
     "text": [
      "Source: What do you have to endure in Moscow all these meetings, speeches.\n",
      "Target: Čo musíte vydržať v Moskve všetky tieto stretnutia, prejavy.\n",
      "Prediction: Čo musíte ukončiť v Moskve všetkých týchto stretnutí, sstreďuje.\n",
      "Source: lead him wherever it wants.”\n",
      "Target: vedie ho, kamkoľvek chce.”\n",
      "Prediction: „Je to, kde sa to, kde je, ako to je.“\n",
      "Source: It’s time to check whether room 237 still scares you.\n",
      "Target: Najvyšší čas presvedčiť sa, či vás izba 237 stále desí.\n",
      "Prediction: Je čas skontrolovať, či vás izba 237 stále vystraši.\n",
      "Source: Keep all the roses, I'm not dead\n",
      "Target: Ponechaj si všetky ruže, ja nie som mŕtva\n",
      "Prediction: Mil všetko ruží, nie som mŕtvy\n"
     ]
    },
    {
     "name": "stderr",
     "output_type": "stream",
     "text": [
      "Evaluating:  37%|███▋      | 187/500 [00:15<00:22, 13.86it/s]"
     ]
    },
    {
     "name": "stdout",
     "output_type": "stream",
     "text": [
      "Source: But God’s Word is sufficient.\n",
      "Target: Božie slovo je dostačujúca.\n",
      "Prediction: Božie slovo je dosť.\n",
      "Source: “And your Allah is one Allah! there is no god but He; He is the Beneficent, the Merciful.”\n",
      "Target: {Váš Boh je Boh jediný a niet božstva okrem Neho, Milosrdného, Zľutovného.\n",
      "Prediction: A vy Boh, ktorý je Allahovo,, niet boha ako Boh, ale On je Milosrdný, ale Milosrdný.\n",
      "Source: can be witnesses to God’s faithful love.\n",
      "Target: vernosťou môžu byť svedkami vernej Božej lásky.\n",
      "Prediction: Je to, čo sa stane, je verný Božia láska.\n"
     ]
    },
    {
     "name": "stderr",
     "output_type": "stream",
     "text": [
      "Evaluating:  38%|███▊      | 191/500 [00:15<00:20, 15.38it/s]"
     ]
    },
    {
     "name": "stdout",
     "output_type": "stream",
     "text": [
      "Source: Sometimes, it even seems that only the United States need NATO.\n",
      "Target: Niekedy sa dokonca zdá, že iba Spojené štáty potrebujú NATO.\n",
      "Prediction: Niekedy sa zdá, že len Spojené štáty potrebujú NATO.\n",
      "Source: Whoever’s sins you forgive they are forgiven.\n",
      "Target: Ktorýmkoľvek odpustíte hriechy, odpúšťajú sa im.\n",
      "Prediction: Kto je odpúšťajúci, je odpusť, že odpustí.\n",
      "Source: 400 vehicles - always professionally maintained\n",
      "Target: 400 vozidiel – vždy profesionálne udržiavané\n",
      "Prediction: 400 vozidiel - vždy udržané profesionálne\n",
      "Source: They are hoping for God’s return.\n",
      "Target: Čakajú na návrat boha\n",
      "Prediction: Dúfa je, že sa vraciame na Boží úväzok.\n"
     ]
    },
    {
     "name": "stderr",
     "output_type": "stream",
     "text": [
      "Evaluating:  39%|███▉      | 195/500 [00:15<00:18, 16.10it/s]"
     ]
    },
    {
     "name": "stdout",
     "output_type": "stream",
     "text": [
      "Source: Jesus tells them, “whoever wishes to be great among you must be your servant.”\n",
      "Target: Ježiš nám v evanjeliu dáva návod: \"Kto sa bude chcieť stať medzi vami veľkým, bude vaším služobníkom.\n",
      "Prediction: Ježiš im povedal: „Kto ich chce byť veľký, bude vaším služobníkom.\n",
      "Source: Those to whom We gave the Scripture before it believe in it.\n",
      "Target: sme dali Knihu (predtým), v ňu (Knihu - Korán) veria.\n",
      "Prediction: a oni dali, komu dalime Písmo,\n",
      "Source: For, “he who loves the danger, shall perish in it.”\n",
      "Target: lebo kto miluje nebezpečenstvo, zahynie v ňom.\n",
      "Prediction: „A kto miluje nebezpečenstvo, zahynie v ňom.“\n"
     ]
    },
    {
     "name": "stderr",
     "output_type": "stream",
     "text": [
      "Evaluating:  39%|███▉      | 197/500 [00:15<00:25, 12.08it/s]"
     ]
    },
    {
     "name": "stdout",
     "output_type": "stream",
     "text": [
      "Source: * He said, ‘Oh no, father Abraham, but if someone from the dead goes to them, they will repent.’\n",
      "Target: A on povedal: 'Nie, otče Abraháme; ale keby k nim išiel niekto z mŕtvych, budú robiť pokánie. '\n",
      "Prediction: A on povedal: Áno, nie, otec Abrahám, ale ak niekto z mŕtvych, nech sa k nim vystratí, budú konať.\n",
      "Source: 20Seeing their faith, he said to him, “Man, your sins are forgiven you.”\n",
      "Target: 20Keď videl ich vieru, povedal: \"Človeče, odpúšťajú sa ti hriechy.\"\n",
      "Prediction: „Pozeraj si ich vieru, povedal: „Maj sa mu, odpusť sa ti, tvoji hriechy, zpustí sa ti.\n",
      "Source: This is God’s way, the way of humility.\n",
      "Target: Toto je Božia cesta, cesta pokory.\n",
      "Prediction: To je Božia cesta, spôsob pokorného Boha.\n"
     ]
    },
    {
     "name": "stderr",
     "output_type": "stream",
     "text": [
      "Evaluating:  40%|████      | 201/500 [00:16<00:25, 11.80it/s]"
     ]
    },
    {
     "name": "stdout",
     "output_type": "stream",
     "text": [
      "Source: And whoso disobeys me, - still You are indeed Oft-Forgiving, Most Merciful.\n",
      "Target: Ten, kto ma nasledoval, ten patrí ku mne a voči tomu, kto ma neposlúchol, Ty si Ten odpúšťajúci a milostivý“}\n",
      "Prediction: A kto ma nebupúne, je to, že si naozaj dnesúca, Najslážnejšie.\n",
      "Source: 2 “Do you think this is right, that you said, ‘My righteousness is more than El’s?\n",
      "Target: 2 Vari to považuješ za správne, keď hovoríš: Moja spravodlivosť je väčšia ako Božia?\n",
      "Prediction: 2 „Myslíš si, že je správne, že ste povedali, že moja spravodlivosť je viac ako Emóda?\n",
      "Source: She said, “No, they always played backgammon together.”\n",
      "Target: Povedala: “Nie, vždy hrávali spoločne backgammon.”\n",
      "Prediction: Povedala: „Nie, vždy hrali sa a hlammóm spolu.“\n"
     ]
    },
    {
     "name": "stderr",
     "output_type": "stream",
     "text": [
      "Evaluating:  41%|████      | 203/500 [00:16<00:26, 11.13it/s]"
     ]
    },
    {
     "name": "stdout",
     "output_type": "stream",
     "text": [
      "Source: The heavens are God’s throne, the earth is His footstool.\n",
      "Target: Celé nebesá sú len trónom pre Boha, celá zem podnožou jeho nôh.\n",
      "Prediction: Božích, to je obloha, v nebi, je zem Jeho, i na to, čo je v nebi.\n",
      "Source: Lastly, Fowler would ask: what can't fail in the next six months?\n",
      "Target: Nakoniec by sa Fowler opýtal: čo nemôže v nasledujúcich šiestich mesiacoch zlyhať?\n",
      "Prediction: A nakoniec, Fwlerler by sa spýtal: čo nemôže v nasledujúcich šiestich mesiacoch zlyhať?\n",
      "Source: You shall wait seven days until I come to you and show you that you should do.’\n",
      "Target: Sedem dní budeš čakať, kým prídem k tebe a oznámim ti, čo máš robiť.“\n",
      "Prediction: Budete čakať sedem dní, kým prídem k vám a ukázať, že by ste mali urobiť.\"\n"
     ]
    },
    {
     "name": "stderr",
     "output_type": "stream",
     "text": [
      "Evaluating:  41%|████▏     | 207/500 [00:16<00:22, 12.75it/s]"
     ]
    },
    {
     "name": "stdout",
     "output_type": "stream",
     "text": [
      "Source: Is this God's punishment for something we have done?\n",
      "Target: Je toto snáď boží trest za niečo čo som vykonala?\n",
      "Prediction: Čiže Božia trest pre niečo, čo sme robili?\n",
      "Source: Show that you are a real leader and not a false prophet.”\n",
      "Target: Ukážte im, že ste skutočný vodca a nie falošný prorok.\n",
      "Prediction: Uvedomte si, že ste skutočný vodca a nie si falošný prorok.\"\n",
      "Source: And what a difference between man's sin and God's forgiveness!\n",
      "Target: A aký rozdiel je medzi ľudským hriechom a Božím odpustením!\n",
      "Prediction: A aký rozdiel je medzi mužom a Božím odpustením!\n",
      "Source: They thus wish to alter GOD's words.\n",
      "Target: Chcú zmeniť slová Božie.\n",
      "Prediction: A tak sa prikázal zmeniť Božie slová.\n"
     ]
    },
    {
     "name": "stderr",
     "output_type": "stream",
     "text": [
      "Evaluating:  42%|████▏     | 212/500 [00:16<00:19, 14.74it/s]"
     ]
    },
    {
     "name": "stdout",
     "output_type": "stream",
     "text": [
      "Source: “Glory to God in the Highest, And on earth peace, God’s good will toward men!”\n",
      "Target: \"Sláva na výsostiach Bohu a na zemi pokoj ľuďom dobrej vôle!\"\n",
      "Prediction: Sväté Bohu v Allahovi, ktorý je najšťastná, na zemi, v pokojnom svete!\n",
      "Source: Please consult a doctor under such circumstances (31).\n",
      "Target: Prosím, poraďte sa s lekárom za týchto okolností (31).\n",
      "Prediction: Prosím, konzultovať lekár za takýchto okolností (31).\n",
      "Source: How can we know what God’s will is?\n",
      "Target: Ako môžeme zistiť, že čo je Božia vôľa?\n",
      "Prediction: Ako teda vieme, že Božia vôľa je?\n",
      "Source: Worship is a response to who God is and what he’s done.\n",
      "Target: Uctievanie môže byť jedine našou odozvou na to, kto Boh je a čo On urobil.\n",
      "Prediction: Svedec je odpoveďou na to, kto je Boh a čo urobil.\n"
     ]
    },
    {
     "name": "stderr",
     "output_type": "stream",
     "text": [
      "Evaluating:  43%|████▎     | 214/500 [00:17<00:20, 13.64it/s]"
     ]
    },
    {
     "name": "stdout",
     "output_type": "stream",
     "text": [
      "Source: Moses had been God’s spokesman before Pharaoh.\n",
      "Target: Mojžiš bol Boží reprezentant pred faraonom.\n",
      "Prediction: Mojžiš bol pred faraónom pred faraónom a odmenu pred faraónom.\n",
      "Source: And he said to me, “Arise, go out into the valley, and there I will speak with you.” ...\n",
      "Target: I riekol mi: Vstaň, vyjdi do údolia, a tam budem hovoriť s tebou.\n",
      "Prediction: A on mi povedal: „Drh, choď do úhy, a tam hovorím s tebou.“\n",
      "Source: But they said, “No!\n",
      "Target: Oni však odpovedali: \"Nie!\n",
      "Prediction: \"Vari sa hovorí: „Nie, nie je!\n"
     ]
    },
    {
     "name": "stderr",
     "output_type": "stream",
     "text": [
      "Evaluating:  44%|████▎     | 218/500 [00:17<00:23, 12.01it/s]"
     ]
    },
    {
     "name": "stdout",
     "output_type": "stream",
     "text": [
      "Source: The accomplishment of God’s Will means the realization of the kingdom of heaven on earth.\n",
      "Target: Boží účel stvorenia sa mal naplniť vytvorením Nebeského kráľovstva na zemi.\n",
      "Prediction: Sväté vskutku sa Božia vôľa znamená, že medzi ním na zemi na zemi na zemi nade bude kvídaná skutočnosťou.\n",
      "Source: She told them it was God’s punishment upon her but God was not to blame.\n",
      "Target: Oni hovorili, že trpí pre svoje hriechy, z Božieho trestu, ale Boh im nedal za pravdu.\n",
      "Prediction: Odpovedal, že to bolo na tom, že to bolo na ňom, že to bolo od Boha, ale Boh nie je na to, že sa nezasil.\n",
      "Source: Receive God’s salvation with thanks.\n",
      "Target: Prijmite túto Božiu lásku s vďačnosťou.\n",
      "Prediction: Poznávajme sa na Božiu milosť s vďaka nemu.\n"
     ]
    },
    {
     "name": "stderr",
     "output_type": "stream",
     "text": [
      "Evaluating:  44%|████▍     | 222/500 [00:17<00:22, 12.45it/s]"
     ]
    },
    {
     "name": "stdout",
     "output_type": "stream",
     "text": [
      "Source: Paul said, \"Oh, He's the God who made the Heaven and the earth and everything in them.\"\n",
      "Target: 10 A Áron mu povedal: Áno, on je oným Veľkým Duchom a on stvoril všetky veci ako na nebi, tak na zemi.\n",
      "Prediction: Padam povedal: „Hľa, Boh, je v nej nebi i na zemi, čo stvoril a všetko, čo je na nej.\n",
      "Source: When the terrible judge will judge his people’.\n",
      "Target: STRAŠNÝ Sudca bude súdiť ľud.“\n",
      "Prediction: A keď bude po to súdiť, bude súdiť ľud.\n",
      "Source: Moses tells them \"It is the bread which the Lord has given you to eat.\"\n",
      "Target: Vtedy im Mojžiš povedal: „To je chlieb, ktorý vám dáva Pán jesť.\n",
      "Prediction: Mojžiš im povedal: „To je chlieb, ktorý vám dal Pán, je odpúšťa.\n",
      "Source: 8 Better is a little with righteousness,\n",
      "Target: 8 Lepšie (mať) málo spravodlivým (spôsobom),\n",
      "Prediction: 8 Betck je trochu s spravodlivnosťou,\n"
     ]
    },
    {
     "name": "stderr",
     "output_type": "stream",
     "text": [
      "Evaluating:  45%|████▍     | 224/500 [00:17<00:21, 13.06it/s]"
     ]
    },
    {
     "name": "stdout",
     "output_type": "stream",
     "text": [
      "Source: It will be God's own son, and his kingdom will never end.\n",
      "Target: Syn, meno Ježiš, jeho kráľovstvu nebude konca.\n",
      "Prediction: A to je Božia milosť a jeho kráľovstvo sa nikdy nezostáva.\n",
      "Source: M. QUEEN - 14% believe that such films are not needed.\n",
      "Target: M. QUEEN - 14% verí, že takéto filmy nie sú potrebné.\n",
      "Prediction: M. Korna - 14% verí, že takéto filmy nie sú potrebné.\n",
      "Source: Have fun – In western culture we all seem to take dating very seriously.\n",
      "Target: Bavte sa - V západnej kultúre sme všetci Zdá sa, že datovania veľmi vážne.\n",
      "Prediction: Vyzerať sa - V západnej kultúry sme sa všetci zdajú, aby sme dalo datovania veľmi vážne.\n"
     ]
    },
    {
     "name": "stderr",
     "output_type": "stream",
     "text": [
      "Evaluating:  46%|████▌     | 228/500 [00:18<00:19, 13.72it/s]"
     ]
    },
    {
     "name": "stdout",
     "output_type": "stream",
     "text": [
      "Source: Uruguay is already well known for all the things that are legal there.\n",
      "Target: Uruguaj je už dobre známy pre všetky veci, ktoré sú tam legálne.\n",
      "Prediction: Uzaguay je už už veľa vecí, ktoré sú legálne.\n",
      "Source: He said to me, “Go in and see the evil abominations they are practicing here.”\n",
      "Target: Povedal mi: „Vojdi a pozri sa na strašné ohavnosti, ktoré tu páchajú.“\n",
      "Prediction: Povedal mi: „Choďte a vidia zlo, čo tu robia.“\n",
      "Source: God is great-be thankful.\n",
      "Target: Boha vždy náramne vďačného,\n",
      "Prediction: Božia milosť je však vďačnosť za milovanie.\n",
      "Source: How to become Allah’s Friend?\n",
      "Target: Ako sa teda stanem Božím priateľom?\n",
      "Prediction: Ako sa stať Božím priateľom?\n"
     ]
    },
    {
     "name": "stderr",
     "output_type": "stream",
     "text": [
      "Evaluating:  46%|████▋     | 232/500 [00:18<00:20, 13.18it/s]"
     ]
    },
    {
     "name": "stdout",
     "output_type": "stream",
     "text": [
      "Source: God’s purpose was that His name should be made known in all the earth.\n",
      "Target: Naším cieľom by malo byť, aby Božie meno bolo známe celému svetu.\n",
      "Prediction: Božie slovo je možné, že sa Boh vo všetkom, čo sa týka, čo na zemi.\n",
      "Source: “He has been raised: he is not here, Behold the place where they laid him,” (Mk 16:6).\n",
      "Target: Vstal, niet Ho tu; ajhľa, miesto, kam Ho boli položili“ (Mk 16, 6).\n",
      "Prediction: Je za?: Neprišiel sa, že nie je tu, čo ho založili,“ (Mk 16:6).\n",
      "Source: recompense of falsehood is always falsehood.\n",
      "Target: lež v príjmoch bezbožného je zmätok (nad zmätok).\n",
      "Prediction: av ako je, avrvý z Boha, je vždy falošný.\n"
     ]
    },
    {
     "name": "stderr",
     "output_type": "stream",
     "text": [
      "Evaluating:  47%|████▋     | 235/500 [00:18<00:17, 15.55it/s]"
     ]
    },
    {
     "name": "stdout",
     "output_type": "stream",
     "text": [
      "Source: You will need God’s help.\n",
      "Target: Budete však potrebovať Božiu pomoc.\n",
      "Prediction: Budete potrebovať Božiu pomoc.\n",
      "Source: God is in people’s hearts.\n",
      "Target: Boh sa prihovára srdciam ľudí.\n",
      "Prediction: Božej sa v srdciach človeka.\n",
      "Source: In some cultures, people only say “thank you” for significant events.\n",
      "Target: V niektorých kultúrach, people only say “ďakujem” for significant events.\n",
      "Prediction: V niektorých kultúrach vás ľudia hovoria iba „k) pre významné udalosti.\n",
      "Source: Such a journey begins by listening to God's Word.\n",
      "Target: Láska k Bohu začína počúvaním Božieho slova.\n",
      "Prediction: Takáto cesta, ktorú sa začína poslúhame na Božie slovo.\n"
     ]
    },
    {
     "name": "stderr",
     "output_type": "stream",
     "text": [
      "Evaluating:  48%|████▊     | 239/500 [00:19<00:17, 14.69it/s]"
     ]
    },
    {
     "name": "stdout",
     "output_type": "stream",
     "text": [
      "Source: If good things happen, that is God's will.\n",
      "Target: Keď je niečo dobré, tak to bola vôľa božia.\n",
      "Prediction: Ak je to dobré, tak je to Božia vôľa.\n",
      "Source: And if anyone’s name was not found written on the book of life, he was thrown into the lake of fire.”\n",
      "Target: A ak niekto nebol zapísaný v knihe života, zvrhli ho do ohnivého jazera.“\n",
      "Prediction: A ak niekto nebol nájdený zapísaný v knihe života, bol uvrhnutý do ohňa.”\n",
      "Source: “Since May this year all such products must have disappeared from the EU market.\n",
      "Target: \"Od mája tohto roka musia všetky takéto výrobky zmiznúť z trhu EÚ.\n",
      "Prediction: \"Od mája tohto roka musia všetky takéto výrobky z EÚ zvrátiť.\n"
     ]
    },
    {
     "name": "stderr",
     "output_type": "stream",
     "text": [
      "Evaluating:  48%|████▊     | 241/500 [00:19<00:21, 11.82it/s]"
     ]
    },
    {
     "name": "stdout",
     "output_type": "stream",
     "text": [
      "Source: What if I miss a call (or 10) from my mom?\n",
      "Target: Čo ak zmeškám hovor (alebo 10) od mamy?\n",
      "Prediction: Čo ak by som vyhral volanie (alebo 10) z mojej mamy?\n",
      "Source: Margrete Auken (Verts/ALE). – (DA) Mr President, our group is naturally voting in favour of the amendment proposal to allocate even more money to Palestine.\n",
      "Target: Margrete Auken (Verts/ALE). - (DA) Vážený pán predsedajúci, naša skupina bude prirodzene hlasovať za pozmeňujúci a doplňujúci návrh, aby bolo pridelených ešte viac peňazí Palestíne.\n",
      "Prediction: Marggter Avat (ALE)/ALE). – (DA) naša skupina, naša skupina je prirodzene hlasovaná na poznanie a pozváňovania, ktoré sa týka nad týmito úmentov.\n"
     ]
    },
    {
     "name": "stderr",
     "output_type": "stream",
     "text": [
      "Evaluating:  49%|████▉     | 245/500 [00:19<00:18, 13.56it/s]"
     ]
    },
    {
     "name": "stdout",
     "output_type": "stream",
     "text": [
      "Source: He would say, “Wherever you go, there you are.”\n",
      "Target: Hovorilo sa: “kamkoľvek idete, ste tam.”\n",
      "Prediction: \"Povedal by som, že \"kde, keď ideš, je tu.\"\n",
      "Source: Enough blogger and his team, if there is one.\n",
      "Target: Dosť blogger a jeho tím, ak existuje.\n",
      "Prediction: Docrockger a jeho tím, ak je tu jeden.\n",
      "Source: they shall be called God's children.\n",
      "Target: budú volať Božími synmi.\n",
      "Prediction: a budú sa volať, že sa bude klaňať Božia milosť.\n",
      "Source: So, yes, you're not crazy, the dogs smile.\n",
      "Target: Takže áno, nie ste blázon, psy sa usmievajú.\n",
      "Prediction: Takže áno, nie ste blázniví, psy úsmev.\n"
     ]
    },
    {
     "name": "stderr",
     "output_type": "stream",
     "text": [
      "Evaluating:  49%|████▉     | 247/500 [00:19<00:20, 12.07it/s]"
     ]
    },
    {
     "name": "stdout",
     "output_type": "stream",
     "text": [
      "Source: The higher is your being, the deeper is the love.”\n",
      "Target: \"Čím väčší muž, tým hlbšia je jeho láska.\"\n",
      "Prediction: Naj, čo je oveľa viac, hlbšia je láska.“\n",
      "Source: It has to do with the condition of God’s people, the condition they must attain to by grace, if they are going to be able to stand without a Mediator after the close of probation.\n",
      "Target: Má to čo do činenia so stavom Božieho ľudu, so stavom, ktorý musia dosiahnuť skrze milosť, ak majú byť schopní obstáť bez Prostredníka, po ukončení skúšobnej doby.\n",
      "Prediction: Musia to urobiť s podmienkou Božími, stavia musí dosiahnuť milu, ak budú môcť ísť s nádežom, aby mohli byť schopní bezdežiť na nezdravenie.\n"
     ]
    },
    {
     "name": "stderr",
     "output_type": "stream",
     "text": [
      "Evaluating:  50%|████▉     | 249/500 [00:19<00:19, 12.84it/s]"
     ]
    },
    {
     "name": "stdout",
     "output_type": "stream",
     "text": [
      "Source: (2) The ESA has its own industrial policy.\n",
      "Target: (2) ESA má vlastnú priemyselnú politiku.\n",
      "Prediction: (2) ASA má svoju vlastnú priemyselnú politiku.\n",
      "Source: The Africa you talk about every day is not yet our Africa.\n",
      "Target: Afrika, o ktorej hovoríte každý deň, ešte nie je našou Afrikou.\n",
      "Prediction: Európa, o ktorej hovoríte o každom dni, ešte nie je naša Afrika.\n"
     ]
    },
    {
     "name": "stderr",
     "output_type": "stream",
     "text": [
      "Evaluating:  50%|█████     | 251/500 [00:20<00:21, 11.45it/s]"
     ]
    },
    {
     "name": "stdout",
     "output_type": "stream",
     "text": [
      "Source: And were these saints Abraham, Moses, David, and the other righteous saints of Old Testament times?\n",
      "Target: Ako moc sa ludia modlili k (uz nezijucim) Abrahamovi, Mojzisovi, Eliasovi a chceli po nich aby za niekoho orodovali?\n",
      "Prediction: A tak boli tie, čo boli vy, Mojžiš, Mojzvo, David a zvráti, vskutku i tých ďalších.\n",
      "Source: If it is God’s word, it could not have error.\n",
      "Target: Ak by Božie slovo malo nejakú chybu, už by to nebolo slovo od Boha.\n",
      "Prediction: Ak nie je to Božia milosť, nemôže to byť, že to nie je,\n",
      "Source: No matter what I looked like, Billy on the Street would have worked.\n",
      "Target: Bez ohľadu na to, ako som vyzerala, Billy na ulici by pracoval.\n",
      "Prediction: Bez ohľadu na to, čo som vyzeral, Billy na Street by fungoval.\n"
     ]
    },
    {
     "name": "stderr",
     "output_type": "stream",
     "text": [
      "Evaluating:  51%|█████     | 255/500 [00:20<00:21, 11.32it/s]"
     ]
    },
    {
     "name": "stdout",
     "output_type": "stream",
     "text": [
      "Source: `Thy reign come: Thy will come to pass, as in heaven also on the earth. '\n",
      "Target: Téma stretnutia: „…Buď vôľa Tvoja ako v nebi, tak i na zemi!…“\n",
      "Prediction: „T, na zemi, že sa budú prenasledovať, ako sú v nebi aj na zemi.“\n",
      "Source: Mark 15:28 – The Scripture was fulfilled, which says, “He was numbered with transgressors.”\n",
      "Target: Mk 15:28 - (A splnilo sa Písmo, ktoré hovorí: Započítali ho medzi zločincov.)\n",
      "Prediction: 28:28 - Písmo sa naplnilo, čo hovorí: „Vy toto sa týka s transfakov.\n",
      "Source: But Greer says these are four very important little words to say each day.\n",
      "Target: Greer však tvrdí, že toto sú štyri veľmi dôležité malé slová, ktoré sa majú každý deň povedať.\n",
      "Prediction: Ale Greer hovorí, že sú štyri veľmi dôležité slová, aby každý deň povedali každý deň.\n"
     ]
    },
    {
     "name": "stderr",
     "output_type": "stream",
     "text": [
      "Evaluating:  51%|█████▏    | 257/500 [00:20<00:21, 11.52it/s]"
     ]
    },
    {
     "name": "stdout",
     "output_type": "stream",
     "text": [
      "Source: And all Israel knew that Samuel had been established as a prophet of the Lord.”\n",
      "Target: Celý Izrael poznal, že Samuel bol ustanovený za proroka Hospodinovho.\n",
      "Prediction: A všetci Izraelci poznali, že Sama bol podľa Pána, ako bol prorok Pána,\n",
      "Source: His efforts were certainly accompanied by God’s power.\n",
      "Target: Ich snahu sprevádzala Božia moc.\n",
      "Prediction: Je to tak, že sa uclo, že sa Boh zjavuje s Božou pomocou.\n",
      "Source: Luke 15:16 says, \"You are those who justify yourselves in the sight of men.\"\n",
      "Target: 16:15 A povedal im:: \"To sú tí, ktorí ospravedlňujú sami seba v očiach mužov.\n",
      "Prediction: Lk 15:16: „Hľa, ty si tí, čo práve sami vezme v očiach mužov.“\n"
     ]
    },
    {
     "name": "stderr",
     "output_type": "stream",
     "text": [
      "Evaluating:  52%|█████▏    | 261/500 [00:20<00:20, 11.89it/s]"
     ]
    },
    {
     "name": "stdout",
     "output_type": "stream",
     "text": [
      "Source: And if today you hear God’s voice, harden not your heart.\n",
      "Target: Preto teraz, keď počujete Boží hlas, nezatvrdzujte svoje srdcia.\n",
      "Prediction: A ak dnes počujete, že Boh, nie je to, čo sa týka svojho srdca.\n",
      "Source: That is not the way of God’s children.\n",
      "Target: Takto nemôžu konať synovia Boží.\n",
      "Prediction: Nie je to tak, ako sa súdep Boží syn Boží.\n",
      "Source: Col 1:17: \"And he is before all things, and in him all things consist.\"\n",
      "Target: Ko 1:17: “On je pred všetkým, a všetko spolu má v Ňom svoje bytie.“\n",
      "Prediction: Zhoľuje sa 1,17: „A on je pred všetkým a všetko v ňom všetko naplňuje.”\n"
     ]
    },
    {
     "name": "stderr",
     "output_type": "stream",
     "text": [
      "Evaluating:  53%|█████▎    | 263/500 [00:21<00:19, 12.16it/s]"
     ]
    },
    {
     "name": "stdout",
     "output_type": "stream",
     "text": [
      "Source: So I said to the Mother of God: „Mary, lead me, guide me.”\n",
      "Target: Povedala som Matke Božej: „Mária, sprevádzaj ma, veď\n",
      "Prediction: Tak ja som povedal Matku bohu: „Mária, mi, čo som vedie, nech ma prikázal.“\n",
      "Source: \"How great in your midst is the Holy One of Israel.\"\n",
      "Target: lebo veľkým uprostred teba je Svätý Izraela!“\n",
      "Prediction: „Tak veľký vo vašom ohľade je svätý Izraela.“\n"
     ]
    },
    {
     "name": "stderr",
     "output_type": "stream",
     "text": [
      "Evaluating:  53%|█████▎    | 265/500 [00:21<00:22, 10.25it/s]"
     ]
    },
    {
     "name": "stdout",
     "output_type": "stream",
     "text": [
      "Source: God’s prophets have always stirred up hatred amongst His children, because Satan inflicts his most terrible scourging against those who speak the Word of God.\n",
      "Target: Boží proroci vždy roznietia nenávisť medzi jeho deťmi, pretože Satan spôsobuje najstrašnejšie bičovanie tým, ktorí hovoria Slovo Božie.\n",
      "Prediction: Božie proroci vždy vyhrejú nenávisť medzi jeho synmi, pretože satanká svojich najsvätených, ktorí hovoria proti tomu, ktorí hovoria o Bohu.\n",
      "Source: \"God made out of one man every nation of men,”.\n",
      "Target: Po tretie, Boh „vytvoril z jedného človeka každý ľudský národ“.\n",
      "Prediction: „Boh je z toho človeka, ktorýkoľvek z nás vzal, tak od toho, čo sa týka človeka, je z jedného človeka.“\n"
     ]
    },
    {
     "name": "stderr",
     "output_type": "stream",
     "text": [
      "Evaluating:  53%|█████▎    | 267/500 [00:21<00:22, 10.16it/s]"
     ]
    },
    {
     "name": "stdout",
     "output_type": "stream",
     "text": [
      "Source: 15 When Pharaoh’s princes saw her, they praised her to Pharaoh; and the woman was taken into Pharaoh’s household.\n",
      "Target: A uvidiac ju kniežatá faraonove chválili ju faraonovi, a žena bola vzatá do domu faraonovho.\"\n",
      "Prediction: A keď ju videli faraónovi, chválili ju od faraónovi; tak sa ju chválili do faraónovho domu.\n",
      "Source: Knowing that there is nothing other than Allah.\n",
      "Target: Vedia, že niet Boha než Allaha.\n",
      "Prediction: A čo je v tom, že nie je nič iné ako Allah.\n",
      "Source: (Here are the 5 worst things you do every morning before you even leave your house.)\n",
      "Target: (Tu je päť najhorších vecí, ktoré robíte každé ráno predtým, než dokonca opustíte svoj dom.)\n",
      "Prediction: (Tu sú 5 najhoršie veci, ktoré robíte každé ráno, než dokonca aj opustíte svoj dom.)\n"
     ]
    },
    {
     "name": "stderr",
     "output_type": "stream",
     "text": [
      "Evaluating:  54%|█████▍    | 271/500 [00:21<00:20, 11.28it/s]"
     ]
    },
    {
     "name": "stdout",
     "output_type": "stream",
     "text": [
      "Source: What Is God's Purpose for Mankind?\n",
      "Target: Aký je Boží plán pre ľudstvo?\n",
      "Prediction: Čo je Božia milosť, ktorú sa dá rozcť?\n",
      "Source: Y: They will not believe in it until they see the grievous Penalty;\n",
      "Target: {avšak oni v to neuveria, kým trest bolestný nezazrú}\n",
      "Prediction: Y: Nedeli v ňom, kým nevidiajú grivo (z toreal)\n",
      "Source: Yet, His will in the heavens has always been enforced: immediate obedience.\n",
      "Target: [:duša mu je v nebi, tam jej slnok svieti,\n",
      "Prediction: A tak sa v nebi vždy vymenili, aby sa zamilovali,\n"
     ]
    },
    {
     "name": "stderr",
     "output_type": "stream",
     "text": [
      "Evaluating:  55%|█████▍    | 273/500 [00:21<00:17, 12.63it/s]"
     ]
    },
    {
     "name": "stdout",
     "output_type": "stream",
     "text": [
      "Source: ”We are now five days away from a very dangerous moment.\n",
      "Target: \"Nachádzame sa teraz päť dní od veľmi nebezpečného okamihu.\n",
      "Prediction: \"Sme teraz päť dní od veľmi nebezpečného momentu.\n",
      "Source: but whoever does God's will lives forever.\n",
      "Target: Kto plní Božiu vôľu, ostáva naveky\n",
      "Prediction: Kto však plní Božiu vôľu, bude žiť večne.\n",
      "Source: Only in this way, you can witness and carry God’s peace to this peaceless world.\n",
      "Target: Len tým spôsobom môžete dosvedčovať a prinášať Boží pokoj tomuto nepokojnému svetu.\n",
      "Prediction: Len tak, ako je, môžete sa stať svedkom o Bohu a plniť pokoj Boha k tomuto pokojnému svetu.\n"
     ]
    },
    {
     "name": "stderr",
     "output_type": "stream",
     "text": [
      "Evaluating:  55%|█████▌    | 277/500 [00:22<00:17, 12.88it/s]"
     ]
    },
    {
     "name": "stdout",
     "output_type": "stream",
     "text": [
      "Source: These 10 magicians work hard for their millions.\n",
      "Target: Títo 10 kúzelníci tvrdo pracujú pre svoje milióny.\n",
      "Prediction: Týchto 10 maskírov pre svojich miliónov.\n",
      "Source: Why is He called God's “only begotten Son,” since we also are the children of God?\n",
      "Target: Prečo je Kristus nazvaný „jednorodeným Synom\" Božím, keď aj my sme deťmi Božími?\n",
      "Prediction: Prečo sa Boh nazýval „zasúčný Syn“, pretože aj my sme Božími deťmi?\n",
      "Source: Ask them about their journey and ask them for help.\n",
      "Target: ask them for (help) → žiadať ich o (pomoc)žiadať ich o (pomoc)\n",
      "Prediction: Popýtajte sa ich na ceste a žiadaj ich za pomoc.\n",
      "Source: His friend, Mr. B, is not.\n",
      "Target: Jeho priateľ, pán B, nie je.\n",
      "Prediction: Jeho priateľ, pán B, nie je.\n"
     ]
    },
    {
     "name": "stderr",
     "output_type": "stream",
     "text": [
      "Evaluating:  56%|█████▌    | 281/500 [00:22<00:14, 14.79it/s]"
     ]
    },
    {
     "name": "stdout",
     "output_type": "stream",
     "text": [
      "Source: So the book is Atonement: A Guide for the Perplexed.\n",
      "Target: Poslanie knihy je: odnaučiť sa žiarliť. - (Plzák Miroslav) Predané.\n",
      "Prediction: Tak je kniha na včebe: Hrob pre exxed.\n",
      "Source: God's blessings to your family. ”\n",
      "Target: Nech Boh žehná vašej rodine.”\n",
      "Prediction: Božie milosrdenstvo pre vašu rodinu.\n",
      "Source: They can have campaigns of hatred; our friendly dictators will keep them under control.\n",
      "Target: Môžu mať kampane nenávisti; naši priateľskí diktátori ich udržia pod kontrolou.\n",
      "Prediction: Môžu mať certifikácie nenávisti; naše priateľské dikmatické ich budú naďalej pod kontrolou.\n",
      "Source: But what is God’s pleasure?\n",
      "Target: A aká je radosť Boha?\n",
      "Prediction: A čo je Božia láska?\n"
     ]
    },
    {
     "name": "stderr",
     "output_type": "stream",
     "text": [
      "Evaluating:  57%|█████▋    | 286/500 [00:22<00:12, 17.01it/s]"
     ]
    },
    {
     "name": "stdout",
     "output_type": "stream",
     "text": [
      "Source: 'In each of us there is another, whom we do not know.\n",
      "Target: V každom z nás je ešte niekto druhý, koho nepoznáme.\n",
      "Prediction: \"V každom z nás je tu ďalší, ktorého nevieme.\n",
      "Source: He Who created the heavens and stretched them out,\n",
      "Target: ktorý stvoril nebesá a rozostrel ich,\n",
      "Prediction: Kto stvoril nebesia a rozkazoval ich,\n",
      "Source: “Sorry aunt Jodie these magazines lack integrity.”\n",
      "Target: \"Je mi to ľúto teta Jodie, tieto časopisy postrádajú integritu.\"\n",
      "Prediction: \"Dáva si nádevu Jodie, že tieto stoličky ignorujú integritu.\"\n",
      "Source: Not from God’s words.\n",
      "Target: Nie Božím Slovám.\n",
      "Prediction: Nie od Boha slová.\n"
     ]
    },
    {
     "name": "stderr",
     "output_type": "stream",
     "text": [
      "Evaluating:  58%|█████▊    | 288/500 [00:22<00:11, 17.71it/s]"
     ]
    },
    {
     "name": "stdout",
     "output_type": "stream",
     "text": [
      "Source: 17 July 2004 New languages added.\n",
      "Target: 17. júl 2004 Pridané nové jazyky.\n",
      "Prediction: 17. júla 2004 pridanú v rámci nových jazykov.\n",
      "Source: Do not leave on the earth a single unbeliever.'\n",
      "Target: Neponechaj na zemi ani jedinkého obyvateľa spomedzi neveriacich!“\n",
      "Prediction: Neprišiel si na zemi, neverný,\n"
     ]
    },
    {
     "name": "stderr",
     "output_type": "stream",
     "text": [
      "Evaluating:  58%|█████▊    | 290/500 [00:23<00:14, 14.45it/s]"
     ]
    },
    {
     "name": "stdout",
     "output_type": "stream",
     "text": [
      "Source: Sirpa Pietikäinen (PPE). - (FI) Mr President, it is significant that Parliament for the first time had a chance to approve the budget.\n",
      "Target: Sirpa Pietikäinen (PPE). – (FI) Vážený pán predsedajúci, je významné, že Parlament mal prvýkrát možnosť schvaľovať rozpočet.\n",
      "Prediction: Sirpha Pesineen (PPE). - (FI) Vážený pán predsedajúci, je to dôležité, čo by sa mal prvý, ktorý musel začať zlepšiť.\n",
      "Source: A day in God’s sight is a thousand years.\n",
      "Target: Viera v boha je nemenna a stala tisice rokov.\n",
      "Prediction: V deň Božích rokov je tisíc rokov.\n",
      "Source: It shows how easily we could solve the planet’s problems if we had competent leadership.\n",
      "Target: Ukazuje, ako ľahko by sme mohli vyriešiť problémy planéty keby sme mali kompetentné vedenie.\n",
      "Prediction: Vysvetľuje to, ako ľahko by sme mohli vyriešiť problémy planéty, ak by sme mali príslušné vedenie.\n"
     ]
    },
    {
     "name": "stderr",
     "output_type": "stream",
     "text": [
      "Evaluating:  59%|█████▉    | 294/500 [00:23<00:14, 14.06it/s]"
     ]
    },
    {
     "name": "stdout",
     "output_type": "stream",
     "text": [
      "Source: “Blessed be God Most High, who delivered your enemies into your hand.”\n",
      "Target: a požehnaný nech je Najvyšší Boh, ktorý ti vydal do rúk tvojich nepriateľov.\"\n",
      "Prediction: „Bojhne Boha, zvrhnutý na tvoju ruku, ktorý ti dal do ruky nepriateľov.“\n",
      "Source: He said,“Write this: ‘These words are trustworthy and true.’”\n",
      "Target: Potom doložil: Napíš: Tieto slová sú pravdivé a spoľahlivé.\"\n",
      "Prediction: A povedal: „Tieto slová sú jasné a pravdivé.“\n",
      "Source: Moreover, a modern “house” for fish can look like anything!\n",
      "Target: Okrem toho, moderný \"dom\" pre ryby môže vyzerať ako čokoľvek!\n",
      "Prediction: Okrem toho moderný „usk“ pre ryby môžu vyzerať čokoľvek!\n"
     ]
    },
    {
     "name": "stderr",
     "output_type": "stream",
     "text": [
      "Evaluating:  59%|█████▉    | 296/500 [00:23<00:16, 12.61it/s]"
     ]
    },
    {
     "name": "stdout",
     "output_type": "stream",
     "text": [
      "Source: And Pharaoh's daughter said to her, 'Go.'\n",
      "Target: Faraónova dcéra jej odpovedala: Choď!\n",
      "Prediction: „A hľabaho mu povedal: „Daj sa na to, čo sa ti vypustí“\n",
      "Source: Then save yourself, if you’re God’s son, and come down from the cross.’\n",
      "Target: Zachráň sám seba, ak si Syn Boží, a zostúp z kríža!\n",
      "Prediction: A potom, keď si vy, keď sa naalš syna, zpustí si odvrátiš od Boha.\n"
     ]
    },
    {
     "name": "stderr",
     "output_type": "stream",
     "text": [
      "Evaluating:  60%|█████▉    | 298/500 [00:23<00:17, 11.50it/s]"
     ]
    },
    {
     "name": "stdout",
     "output_type": "stream",
     "text": [
      "Source: 41:25 Joseph said to Pharaoh, 'Pharaoh's dream has a single meaning.\n",
      "Target: 41:25 Joseph reagoval: \"Sen kráľa je jedna.\n",
      "Prediction: 25.5 Jemu: „A faraón povedal faraónovi, ako bol to jeden z faraónovo.\n",
      "Source: Those who “abide in Him” are objects of God’s affection and love.\n",
      "Target: Tí, ktorí „zostávajú v Ňom“, sú predmetmi Božej náklonnosti a lásky.\n",
      "Prediction: Tí, ktorí v ňom sú, sú v ňom, sú večné o Božej milosti a v láske.\n",
      "Source: and its inhabitants will die in the same way:\n",
      "Target: Jej obyvatelia pomrú podobne,\n",
      "Prediction: a jeho obyvatelia zomrie rovnakým spôsobom:\n"
     ]
    },
    {
     "name": "stderr",
     "output_type": "stream",
     "text": [
      "Evaluating:  60%|██████    | 302/500 [00:24<00:16, 11.91it/s]"
     ]
    },
    {
     "name": "stdout",
     "output_type": "stream",
     "text": [
      "Source: Satan would try to remove God’s name from the earth.\n",
      "Target: ,,Diabol sa zaryto snaží vymazať Božie meno z existencie.\n",
      "Prediction: Satan sa pokúsi povedať, že Božie meno je zvíťazené na zemi.\n",
      "Source: 12), which codified it and contains, in essence, the same provisions.\n",
      "Target: 12), ktorá ju kodifikovala a v podstate obsahuje rovnaké ustanovenia.\n",
      "Prediction: 12), ktoré ho kodvičili a obsahuje v prípade, rovnaké ustanovenia.\n",
      "Source: When some of those standing there heard this, they said, \"He's calling Elijah.”\n",
      "Target: Keď to počuli niektorí z tých, čo tam stáli, vraveli: „Volá Eliáša.”\n",
      "Prediction: Keď to počuli, ako to, niektorí z nich stoja, vraveli: „V tomto sile vraveli: „Zihrie.\n"
     ]
    },
    {
     "name": "stderr",
     "output_type": "stream",
     "text": [
      "Evaluating:  61%|██████    | 306/500 [00:24<00:16, 11.99it/s]"
     ]
    },
    {
     "name": "stdout",
     "output_type": "stream",
     "text": [
      "Source: {4} And no man in heaven, nor in earth, neither under the earth, was able to open the book, neither to look thereon.\n",
      "Target: A nikto nemohol na nebi ani na zemi ani pod zemou otvoriť knihu ani nazrieť do nej.\n",
      "Prediction: A on ani na zemi, ani ne, ani na zemi, netvoril, že nie je, ani na zemi, ani nažilo, ani sa nažal.\n",
      "Source: They found Him and said, \"Everybody's looking for you.\"\n",
      "Target: “Keď ho našli, povedali mu: \"Všetci ťa hľadajú”.\n",
      "Prediction: A tak sa našli a povedali: „Všetci ťa hľadajú.“\n",
      "Source: \"He that believeth not God hath made God a liar.\"\n",
      "Target: Kto Bohu neverí, činí z Neho luhára!\n",
      "Prediction: „Kristus, ktorý neverí, nie je Boh a neverný.\n",
      "Source: They do not recognize Jesus, the Son of Mary, as God’s son.\n",
      "Target: Nepoznáš Ježiša, Božieho syna.\n",
      "Prediction: Neprisľúbili, že Boh je Syn, ako Boží Syn.\n"
     ]
    },
    {
     "name": "stderr",
     "output_type": "stream",
     "text": [
      "Evaluating:  62%|██████▏   | 308/500 [00:24<00:16, 11.91it/s]"
     ]
    },
    {
     "name": "stdout",
     "output_type": "stream",
     "text": [
      "Source: Everyone who does not listen to that prophet will be cut off from the people.”\n",
      "Target: A každý, kto nepočúvne toho proroka, bude odstránený z ľudu.'\n",
      "Prediction: A každý, kto nepočúva, že prorok sa od Boha zradá.\"\n",
      "Source: To them I say: stop the killings and the destruction, and create space for lasting peace.\"\n",
      "Target: Odkazujem im: Zastavte zabíjanie a ničenie a vytvorte priestor na trvalý mier.\n",
      "Prediction: Na nich hovorím: Zostať som zabížania a odmenu a vytvoriť priestor pre trvalú mier.“\n",
      "Source: His mother said to the servant “Do whatever he tells you.”\n",
      "Target: Jeho matka povedala obsluhujúcim: \"Urobte všetko, čo Vám povie\".\n",
      "Prediction: Srdce povedala služobníkom: „Hľa, všetko, čo vám povie.“\n"
     ]
    },
    {
     "name": "stderr",
     "output_type": "stream",
     "text": [
      "Evaluating:  62%|██████▏   | 310/500 [00:24<00:16, 11.76it/s]"
     ]
    },
    {
     "name": "stdout",
     "output_type": "stream",
     "text": [
      "Source: The 34th government will deserve Israel; Israel will deserve the 34th government.\n",
      "Target: V poradí 34. vláda bude zaslúži Izraelu; a Izrael bude zaslúžiť 34. vláde.\n",
      "Prediction: Sx. vládnu si, aby si Somana zaslúži Izrael; Izrael si zaslúži nadšenú vládu.\n",
      "Source: Shakir: And your Allah is one Allah! there is no god but He; He is the Beneficent, the Merciful.\n",
      "Target: {Váš Boh je Boh jediný a niet božstva okrem Neho, Milosrdného, Zľutovného.\n",
      "Prediction: A vychrakajte Boha a je Allahovo jediný, niet bohabojný, niet boha ako Allahovi, On je Milosrdného.\n"
     ]
    },
    {
     "name": "stderr",
     "output_type": "stream",
     "text": [
      "Evaluating:  63%|██████▎   | 314/500 [00:25<00:17, 10.85it/s]"
     ]
    },
    {
     "name": "stdout",
     "output_type": "stream",
     "text": [
      "Source: After the Lord's ascension, the disciples realized the fulfillment of His promise.\n",
      "Target: Po Pánovom nanebovstúpení si učeníci uvedomili, že jeho zasľúbenie sa splnilo.\n",
      "Prediction: Po Božskej prívodnej milosti, učeníci si uvedomili naplnenie jeho zasľúbenia.\n",
      "Source: And if anyone's name was not found written in the book of life, he was thrown into the lake of fire.\"\n",
      "Target: A ak niekto nebol zapísaný v knihe života, zvrhli ho do ohnivého jazera.“\n",
      "Prediction: A ak niekto nebol zapísaný v knihe života, bol uvrhnutý do ohnivého jazera.\"\n",
      "Source: You will need iron for the rest of your life; everyone needs iron.\n",
      "Target: Budete potrebovať železo po zvyšok svojho života; každý potrebuje železo.\n",
      "Prediction: Budete potrebovať hostiteľka postup zo zvyšku vášho života; každý potrebuje obklopený.\n"
     ]
    },
    {
     "name": "stderr",
     "output_type": "stream",
     "text": [
      "Evaluating:  64%|██████▎   | 318/500 [00:25<00:14, 12.44it/s]"
     ]
    },
    {
     "name": "stdout",
     "output_type": "stream",
     "text": [
      "Source: “I presented my Peace Plan in the European Parliament, here in Brussels.\n",
      "Target: „Predstavil som svoj mierový plán v Európskom parlamente, tu v Bruseli.\n",
      "Prediction: „Vytvoril som môj mier v Parlamente Európskeho parlamentu, tu v Bruseli.\n",
      "Source: That has nothing to do with God's grace.\n",
      "Target: Nemá to nič spoločné s dokonalosťou Boha.\n",
      "Prediction: To nie je nič pre to, čo sa týka Božej milosti.\n",
      "Source: 'Pli.--And do you think that the words of your book are certainly true?\n",
      "Target: Povoľný: „A či myslíš, že slová tvojej knihy sú skutočne pravda?“\n",
      "Prediction: „Pi. — a myslíte si, že slová vašej knihy sú určite pravdivé?\n",
      "Source: Seek and find in the Pyramid I built.\n",
      "Target: Hľadaj a nájdi v pyramíde, ktorú som postavil.\n",
      "Prediction: Pochop a nájsť v Pamiedididide I.\n"
     ]
    },
    {
     "name": "stderr",
     "output_type": "stream",
     "text": [
      "Evaluating:  64%|██████▍   | 320/500 [00:25<00:13, 12.98it/s]"
     ]
    },
    {
     "name": "stdout",
     "output_type": "stream",
     "text": [
      "Source: He sees the future and knew I needed my Hayden.\n",
      "Target: Vidí budúcnosť, a vedel, že som potreboval môj Hayden.\n",
      "Prediction: Vidí budúcnosť a vedel som, že potrebujem moje Hayón.\n",
      "Source: 'And God saw everything that he had made, and behold, it was very good.\n",
      "Target: „A Boh videl všetko, čo urobil, a hľa, bolo to veľmi dobré.\n",
      "Prediction: A Boh videl všetko, čo urobil, a hľa, bolo to veľmi dobré.\n",
      "Source: \"We already have the closest possible relationship: it's called the European Union.\n",
      "Target: \"Už máme najbližší možný vzťah: volá sa Európska únia.\n",
      "Prediction: „Máme už najťažší možný vzťah: sa nazýva Európska únia.\n"
     ]
    },
    {
     "name": "stderr",
     "output_type": "stream",
     "text": [
      "Evaluating:  65%|██████▍   | 324/500 [00:25<00:12, 14.18it/s]"
     ]
    },
    {
     "name": "stdout",
     "output_type": "stream",
     "text": [
      "Source: “Turn your face to the sun and all of the shadows fall behind you.”\n",
      "Target: „Obráť tvár k slnku a všetky tiene padnú za teba.“\n",
      "Prediction: „Obráť sa tvár k slnku a všetky tiene padnú za teba.”\n",
      "Source: Let us not hesitate to help those who have died and offer our prayers for them.”\n",
      "Target: Neváhajme a poďme na pomoc tým, ktorí sú mŕtví a obetujme za nich svoje modlitby.“\n",
      "Prediction: Nevysláme s tým, ktorí zomreli a ponúkame im naše modlitby.\"\n",
      "Source: God’s glory is seen in his creation.\n",
      "Target: Božia sláva je zjavená v jeho tvorstve.\n",
      "Prediction: Božia milosť je v jeho stvorení.\n",
      "Source: Life is temporary; God’s lovingkindness is eternal.\n",
      "Target: Utrpenie je časné, Božia sláva je večná.\n",
      "Prediction: Je to Božia láska, Božia láska je v Svojom.\n"
     ]
    },
    {
     "name": "stderr",
     "output_type": "stream",
     "text": [
      "Evaluating:  66%|██████▌   | 328/500 [00:26<00:11, 15.00it/s]"
     ]
    },
    {
     "name": "stdout",
     "output_type": "stream",
     "text": [
      "Source: Like a bat out of hell means very fast.\n",
      "Target: Like a bat out of hell znamená veľmi rýchlo.\n",
      "Prediction: Ako sa na v zleku sa znamená veľmi rýchlo.\n",
      "Source: Because you need this lesson, Jonathan.\n",
      "Target: Lebo ty túto lekciu potrebuješ, Jonathan.\n",
      "Prediction: Pretože potrebujete túto lekciu, Jonan.\n",
      "Source: Send your dead animal into space, it's now possible!\n",
      "Target: Pošlite svoje mŕtve zviera do vesmíru, je to teraz možné!\n",
      "Prediction: Singh, váš mŕtvy v Bodinte do priestoru, je teraz možný!\n",
      "Source: But nobody seems to know how—including Facebook.\n",
      "Target: Zdá sa však, že nikto nevie, ako – vrátane Facebooku.\n",
      "Prediction: Ale nikto nezdí vedieť ako – ako je od Facebooku.\n"
     ]
    },
    {
     "name": "stderr",
     "output_type": "stream",
     "text": [
      "Evaluating:  66%|██████▋   | 332/500 [00:26<00:13, 12.65it/s]"
     ]
    },
    {
     "name": "stdout",
     "output_type": "stream",
     "text": [
      "Source: 1 The king’s heart is a stream of water in the hand of the LORD; he turns it wherever he will.\n",
      "Target: 1 Sťa vodná struha je srdce kráľa v ruke Pánovej, vedie ho, kamkoľvek chce.\n",
      "Prediction: 1., Dajsterova, je v ruke Pánovu, tak sa teší, kamkoľvek stane.\n",
      "Source: He hath refused to reserve for Himself any share whatever of this world's dominion.\n",
      "Target: On si pre seba odmietol ponechať akýkoľvek podiel z tejto svetskej vlády.\n",
      "Prediction: On odmietol na v tomto živote zapúšťať, že sa podelína, čokoľvek z toho, čo je na dominantnejší.\n",
      "Source: It defines that Spanish and German groups will always start at the same time:\n",
      "Target: Je tam zadefinované, že skupiny Španielčiny a Nemčiny budú vždy začínať v rovnakom čase:\n",
      "Prediction: Znehrdia, že španielske a nemecké skupiny budú vždy začať súčasne:\n"
     ]
    },
    {
     "name": "stderr",
     "output_type": "stream",
     "text": [
      "Evaluating:  67%|██████▋   | 335/500 [00:26<00:13, 12.67it/s]"
     ]
    },
    {
     "name": "stdout",
     "output_type": "stream",
     "text": [
      "Source: Although they may have great knowledge about their websit\n",
      "Target: Hoci oni môžu mať veľké znalosti o ich websit\n",
      "Prediction: Hoci môžu mať veľké vedomosti o ich súcnosti\n",
      "Source: Scripture is God's word to us.\n",
      "Target: Božie slovo je napísané pre nás,\n",
      "Prediction: Popovedal, že Božie slovo je pre nás.\n",
      "Source: Isaiah 56:3-7 - Let no foreigner who has bound himself to the LORD say, \"The LORD will surely exclude me from his people.\"\n",
      "Target: Evanjelický preklad: Iz 56:3-7 Nech nehovorí cudzinec, ktorý sa pripojil k Hospodinovi: Hospodin ma celkom oddelí od svojho ľudu!\n",
      "Prediction: Izaiáš 56:2, Nech, Napríklad sa neskládajte, aby sa Pán pre Pánovi povedal: „Pán ich nepráči!\n"
     ]
    },
    {
     "name": "stderr",
     "output_type": "stream",
     "text": [
      "Evaluating:  67%|██████▋   | 337/500 [00:26<00:12, 12.61it/s]"
     ]
    },
    {
     "name": "stdout",
     "output_type": "stream",
     "text": [
      "Source: That he has all power in heaven and in earth.\n",
      "Target: Jeho je moc v nebesiach i na zemi!\n",
      "Prediction: To je všetko, čo je v nebi i na zemi.\n",
      "Source: But when Jesus called them, “immediately they left the boat and their father and followed him.”\n",
      "Target: Ježiš ich volá, a “oni hneď zanechali loď i svojho otca a išli za ním”.\n",
      "Prediction: Ale keď ich Ježiš nazýval, „Môj, a ich otec a podech, poslal jej otcom.\n",
      "Source: Even biological growth is a crisis, no?\n",
      "Target: Dokonca aj biologický rast je kríza, či nie?\n",
      "Prediction: Dokonca aj biologický rast je kríza, nie?\n"
     ]
    },
    {
     "name": "stderr",
     "output_type": "stream",
     "text": [
      "Evaluating:  68%|██████▊   | 341/500 [00:27<00:11, 14.06it/s]"
     ]
    },
    {
     "name": "stdout",
     "output_type": "stream",
     "text": [
      "Source: The sun, the moon, and eleven stars bowed down to me.”\n",
      "Target: Slnko, mesiac a jedenásť hviezd sa mi klaňalo.\"\n",
      "Prediction: Tej, Mesiac, a srokov, sa mi kamojne poslušený.\"\n",
      "Source: That is God’s truth.”\n",
      "Target: To je božia spravodlivosť.\"\n",
      "Prediction: To je Božia pravda.“\n",
      "Source: Despite this, Chinese doctors believe that these 2 exercises can add years to your life!\n",
      "Target: Napriek tomu, čínski lekári veria, že tieto 2 cvičenia môžu pridať roky do vášho života!\n",
      "Prediction: Napriek tomu, čínski lekári veria, že tieto 2 cvičenia môžu pridať roky do vášho života!\n"
     ]
    },
    {
     "name": "stderr",
     "output_type": "stream",
     "text": [
      "Evaluating:  69%|██████▊   | 343/500 [00:27<00:11, 13.15it/s]"
     ]
    },
    {
     "name": "stdout",
     "output_type": "stream",
     "text": [
      "Source: I will harden Pharaoh's heart and he will pursue them.\n",
      "Target: 4A ja opäť zatvrdím faraónovo srdce, a bude sa hnať za vami.\n",
      "Prediction: Ja som sa zraňuje, že som ich utrieš faraónovi a bude sa hľašediť.\n",
      "Source: God’s mercy is great towards those who fear Him.\n",
      "Target: Veľké je jeho milosrdenstvo nad tými, čo sa ho boja.\n",
      "Prediction: Božie milosrdenstvo je veľký pre tých, ktorí sa mu bojujú.\n",
      "Source: Yes, we know they are good, but what about your virtual private server ?\n",
      "Target: Áno, vieme, že sú dobré, ale čo váš virtuálny súkromný server?\n",
      "Prediction: Áno, vieme, že sú to dobré, ale čo z vašej virtuálnej súkromnej stoličky?\n"
     ]
    },
    {
     "name": "stderr",
     "output_type": "stream",
     "text": [
      "Evaluating:  70%|██████▉   | 348/500 [00:27<00:11, 13.76it/s]"
     ]
    },
    {
     "name": "stdout",
     "output_type": "stream",
     "text": [
      "Source: People who only received bGH after 1985 can also donate blood.\n",
      "Target: Ľudia, ktorí dostali iba bGH po roku 1985, môžu tiež darovať krv.\n",
      "Prediction: Ľudia, ktorí dostali len bGH po roku 1985, môžu tiež darovať krv.\n",
      "Source: \"but lo! a Day with Allah is as a thousand years of what ye reckon.\" (22:47)\n",
      "Target: “Veď deň u tvojho Boha je ako tisíc rokov, ktoré počítate vy (na Zemi).”\n",
      "Prediction: „Ale milovníci!\n",
      "Source: This time, her choice fell on RATI-GITIS.\n",
      "Target: Tentokrát jej výber padol na RATI-GITIS.\n",
      "Prediction: Tentoraz, jej voľba sa na RATI-GITIS.\n",
      "Source: There is a God in the heavens whom we serve, and He is able to save us from the burning fiery furnace.\n",
      "Target: My hľadáme Boha na nebesiach a on k nám prichádza v malosti.\n",
      "Prediction: V nebi je Boh, ktorého slúžime, a On nás dokáže zachrániť od hrónneho zrata.\n"
     ]
    },
    {
     "name": "stderr",
     "output_type": "stream",
     "text": [
      "Evaluating:  70%|███████   | 350/500 [00:27<00:10, 14.32it/s]"
     ]
    },
    {
     "name": "stdout",
     "output_type": "stream",
     "text": [
      "Source: And know that Allah is with those who fear him.”\n",
      "Target: A vedzte, že Boh je s tými, ktorí sú bohabojní.\"\n",
      "Prediction: A vedzte, že Boh je s tými, ktorí sa mu obávajú.“\n",
      "Source: The people of Israel commit themselves to be David's people.\n",
      "Target: Izraeliti sa zaviazali, že budú ľudom Hospodinovým.\n",
      "Prediction: Majiť sa ľudia Izraela, že sa modlí,\n",
      "Source: Anna, ’44: “I work the director of a large network.\n",
      "Target: Anna, ’44: „Pracujem riaditeľ veľké siete.\n",
      "Prediction: Anna, “4: „Pracujem, je by som malu aplikácie veľkej siete.\n"
     ]
    },
    {
     "name": "stderr",
     "output_type": "stream",
     "text": [
      "Evaluating:  71%|███████   | 354/500 [00:28<00:10, 14.47it/s]"
     ]
    },
    {
     "name": "stdout",
     "output_type": "stream",
     "text": [
      "Source: So what is life like after your husband’s death.\n",
      "Target: - Ako sa tvoj život zmenil po manželovej smrti?\n",
      "Prediction: A čo je to, čo je v živote po smrti vášho manžela.\n",
      "Source: And God loves all of God’s children.\n",
      "Target: Spasiteľ miluje každé jedno z Božích detí.\n",
      "Prediction: A Boh miluje všetky Božie deti.\n",
      "Source: On the other hand, Europe still has many noble dreams; that is part of its heritage.\n",
      "Target: Na strane druhej, Európa má ešte stále veľa vznešených snov; to je súčasťou jej dedičstva.\n",
      "Prediction: Na druhej strane Európa stále má veľa invátných snov; to je súčasťou jej dedičstva.\n",
      "Source: That approach failed in 1940; will it work today?\n",
      "Target: Tento prístup zlyhal v roku 1940; bude fungovať dnes?\n",
      "Prediction: Tento prístup zlyhal v roku 1940; bude to pracovať dnes?\n"
     ]
    },
    {
     "name": "stderr",
     "output_type": "stream",
     "text": [
      "Evaluating:  72%|███████▏  | 358/500 [00:28<00:10, 13.46it/s]"
     ]
    },
    {
     "name": "stdout",
     "output_type": "stream",
     "text": [
      "Source: We say that what you have gained is gong.\n",
      "Target: Hovoríme, že to čo ste získali je gong.\n",
      "Prediction: Hovoríme, že to, čo ste dostali, je gong.\n",
      "Source: How much would her movie roles be worth if she were alive and working in 2015?\n",
      "Target: Koľko by jej filmové roly stáli za to, keby bola v roku 2015 nažive a pracuje?\n",
      "Prediction: Koľko by bola jej film pre film, aby bola nažive, keby bola nažive a pracovala v roku 2015?\n",
      "Source: (The number of women who’ve been elected to Parliament since 1867: 257.\n",
      "Target: (Počet žien, ktoré boli zvolené do parlamentu od roku 1867: 257.\n",
      "Prediction: (Počet žien, ktoré boli zvolené z Parlamentu od roku 1877: 257.\n"
     ]
    },
    {
     "name": "stderr",
     "output_type": "stream",
     "text": [
      "Evaluating:  72%|███████▏  | 360/500 [00:28<00:10, 12.78it/s]"
     ]
    },
    {
     "name": "stdout",
     "output_type": "stream",
     "text": [
      "Source: If he got healed under such circumstances, it was from Satan.\n",
      "Target: Ak bol uzdravený za týchto podmienok, bolo to od Satana.\n",
      "Prediction: Ak si na to, čo zabil za takýchto okolností, to bolo od satana.\n",
      "Source: God's people do not only work for Him in a labour of love, but they suffer for Him with joy.\n",
      "Target: Ľud Boží pre Neho nepracuje len v namáhavej práci lásky, ale s radosťou pre Neho aj trpí.\n",
      "Prediction: Boží ľud nepravzuje len pre neho v plnom živote lásky, ale s ním tromi trpia.\n",
      "Source: 18 Neither their silver nor their gold will be able to save them on the day of the Lord’s wrath.\n",
      "Target: 18 Ani ich striebro ani zlato ich nebude môcť zachrániť v deň Hospodinovho hnevu.\n",
      "Prediction: 18 a ani ich zlato ich nebude môcť zachrániť v deň Pánovej ruky.\n"
     ]
    },
    {
     "name": "stderr",
     "output_type": "stream",
     "text": [
      "Evaluating:  73%|███████▎  | 364/500 [00:28<00:11, 12.22it/s]"
     ]
    },
    {
     "name": "stdout",
     "output_type": "stream",
     "text": [
      "Source: “Whatever the LORD pleases he does, in heaven and on earth, in the seas and all deeps.”\n",
      "Target: 6 Hospodin koná, čo chce, na nebi i na zemi, v moriach i vo všetkých hlbinách.\n",
      "Prediction: „A potomže Pán, v nebi, v nebi a na zemi, v morských a v celom svete, v Pánovi, ako je v naštine a vhláre.\n",
      "Source: Many are saying of me, there is no help for him in God.\n",
      "Target: Mnohí o mne hovoria: Pre neho niet pomoci u Boha!\n",
      "Prediction: Veľa hovorí o mne, niet pre Boha.\n",
      "Source: If you lie, your nose will stretch up to the sky.”\n",
      "Target: Keď privoniaš, tvoj nos sa rozšíri.\"\n",
      "Prediction: Ak klame, môžete sa vaše nože, vykrábať na oblohu.\"\n"
     ]
    },
    {
     "name": "stderr",
     "output_type": "stream",
     "text": [
      "Evaluating:  73%|███████▎  | 366/500 [00:29<00:10, 12.29it/s]"
     ]
    },
    {
     "name": "stdout",
     "output_type": "stream",
     "text": [
      "Source: Peace be upon you, God's mercy and His blessings.\n",
      "Target: A mier s tebou, Milosť Allaha a Jeho Požehnania.\n",
      "Prediction: Daj vám, Všemohúci, odpusť, že je to, že je milosť a pre vás Boh,\n",
      "Source: 37.39); not the others, but yourself.\n",
      "Target: 37.39); nie druhých, ale seba samého.\n",
      "Prediction: 37.39.39); nie ostatným, ale sami.\n",
      "Source: Let us take an example which surely is not problematic: France in 1940.\n",
      "Target: Pozrime sa na príklad, ktorý zaiste nie je problematický: Francúzsko v 1940.\n",
      "Prediction: Nechajte sa napríklad nájsť príklad, ktorý nie je problematický: Francúzsko v roku 1940.\n"
     ]
    },
    {
     "name": "stderr",
     "output_type": "stream",
     "text": [
      "Evaluating:  74%|███████▍  | 370/500 [00:29<00:10, 12.28it/s]"
     ]
    },
    {
     "name": "stdout",
     "output_type": "stream",
     "text": [
      "Source: If our thoughts are formed from God’s Word, the maintenance of the one will not lead to the denial of the other.\n",
      "Target: Ak naše myšlienky formuje Božie slovo, zachovanie jedného nepovedie k popretiu druhého.\n",
      "Prediction: Ak sa splníme naše myšlienky, že Božie slovo, sviatok toho nebude viesť k výdelu druhého.\n",
      "Source: This is not GOD'S will!\n",
      "Target: Ale toto nie je Božia vôľa!\n",
      "Prediction: To nie je Božia vôľa!\n",
      "Source: Satan is at work in opposition to God’s purpose and plan.\n",
      "Target: Hlavným cieľom diabla je, že sa stavia proti Božím úmyslom a plánom.\n",
      "Prediction: Satan v sinatinovej v o v o v o v o jeho jede na Božom pláne a pláne.\n"
     ]
    },
    {
     "name": "stderr",
     "output_type": "stream",
     "text": [
      "Evaluating:  74%|███████▍  | 372/500 [00:29<00:09, 13.60it/s]"
     ]
    },
    {
     "name": "stdout",
     "output_type": "stream",
     "text": [
      "Source: All I want for Christmas is to eradicate these 3 health issues\n",
      "Target: Všetko, čo chcem na Vianoce, je odstrániť tieto 3 zdravotné problémy\n",
      "Prediction: Všetko, čo chcem, je na súskovať tieto 3 zdravotné otázky\n",
      "Source: \"Why do we need a good relationship with Everton?\"\n",
      "Target: “Prečo potrebujeme dobrý vzťah s Evertonom?”\n",
      "Prediction: \"Prečo potrebujeme dobrý vzťah s Evertonom?\"\n",
      "Source: Every seven years, the Union decides about its future finances.\n",
      "Target: Každých sedem rokov Únia rozhoduje o svojich budúcich financiách.\n",
      "Prediction: Každý sedem rokov sa Únia rozhodne o svojich budúcich financiách.\n"
     ]
    },
    {
     "name": "stderr",
     "output_type": "stream",
     "text": [
      "Evaluating:  75%|███████▌  | 376/500 [00:29<00:10, 12.32it/s]"
     ]
    },
    {
     "name": "stdout",
     "output_type": "stream",
     "text": [
      "Source: Every discerning observer will recognize that in the Dispensation of the Qur’an both the Book and the Cause of Jesus were confirmed.\n",
      "Target: Každý vnímavý pozorovateľ uzná, že v zriadení Koránu bola potvrdená aj Ježišova kniha, aj Jeho vec.\n",
      "Prediction: Každý, ktokoľvek, bude verný, že v zmenu sa spozná, že v v zradnej knihe je v Knihu, tak ako sa potvrdil Kreti.\n",
      "Source: Even we who live in Italy: below zero.\n",
      "Target: Aj my, ktorí žijeme v Taliansku: pod nulou.\n",
      "Prediction: Aj my, ktorí žijeme v Taliansku: pod nulovateľom.\n",
      "Source: God’s mercy has no limits if you go to him with a sincere and contrite heart.\n",
      "Target: Božia milosrdnosť nemá hraníc, ak pred neho predstúpiš s úprimným srdcom.\n",
      "Prediction: Božie milosrdenstvo nemá žiadne hranice, ak sa k nemu neznedelíš so.\n"
     ]
    },
    {
     "name": "stderr",
     "output_type": "stream",
     "text": [
      "Evaluating:  76%|███████▌  | 380/500 [00:30<00:09, 13.25it/s]"
     ]
    },
    {
     "name": "stdout",
     "output_type": "stream",
     "text": [
      "Source: Getting rid of water weight - 18-03-2018, 02:06:53\n",
      "Target: Tvrdosť vody [dH]: 11,4 – 18,3\n",
      "Prediction: Získajte sa od jehopatinovej hmotnosť - 18-03-20, 02:06:533\n",
      "Source: No one is excluded from the joy brought by the Lord.\"\n",
      "Target: nie je vylúčený z radosti, ktorú daruje Pán“.\n",
      "Prediction: Nikto nie je od Boha vylúčený z radosti, ktorý dal Pán Pán.“\n",
      "Source: The blessed life is a life full of God’s presence.\n",
      "Target: dokonalá ľudskosť je miestom Božej prítomnosti.\n",
      "Prediction: Svätý život je život plnode Božej prítomnosti.\n",
      "Source: Remember that your opinion may be decisive for thousands of men!\n",
      "Target: Nezabudnite, že Váš názor môže byť rozhodujúce pre tisíce ľudí!\n",
      "Prediction: Pamätajte, že váš názor môže byť rozhodujúce pre tisíce mužov!\n"
     ]
    },
    {
     "name": "stderr",
     "output_type": "stream",
     "text": [
      "Evaluating:  77%|███████▋  | 383/500 [00:30<00:08, 13.58it/s]"
     ]
    },
    {
     "name": "stdout",
     "output_type": "stream",
     "text": [
      "Source: And no one can replace you in God's heart.\n",
      "Target: Nikto ťa v Božom srdci nemôže nahradiť.\n",
      "Prediction: A nikto vás nemôže nahradiť v Božom srdci.\n",
      "Source: Ask for God’s forgiveness and protection.\n",
      "Target: Prosím pána Boha o odpustenie a pomoc.\n",
      "Prediction: Popúšťajte Boha, odpustenie a ochrany.\n",
      "Source: Are you looking for the most suitable solution to improve the efficiency of your supply chain in Russia and the 1520* area?\n",
      "Target: Hľadáte najvhodnejšie riešenie na zlepšenie efektívnosti vášho dodávateľského reťazca v Rusku a oblasti 1520 *?\n",
      "Prediction: Vyzeráš najjednoduchší riešenie na zlepšenie účinnosti vášho jestanej reťazec v Rusku a v roku 2020, 1520*?\n"
     ]
    },
    {
     "name": "stderr",
     "output_type": "stream",
     "text": [
      "Evaluating:  77%|███████▋  | 385/500 [00:30<00:09, 12.14it/s]"
     ]
    },
    {
     "name": "stdout",
     "output_type": "stream",
     "text": [
      "Source: Okay, that’s four possible answers to the objection, “But we can’t go to war with a billion Muslims!”\n",
      "Target: Dobre, to sú štyri možné odpovede na námietku, „Ale nemôžeme ísť do vojny s miliardou moslimov!“.\n",
      "Prediction: Dobre, to je štyri možné odpovede na objektu, \"Ale nemôžeme ísť do vojny s miliami moslimov!\"\n",
      "Source: 1.6 And again, when he brings the firstborn into the world, he says, “Let all God’s angels worship him.”\n",
      "Target: 6A znova, keď uvádza prvorodeného na svet, hovorí: \"Nech sa mu klaňajú všetci Boží anjeli.\"\n",
      "Prediction: 6 A znova, keď uvádza Prvorodeného na svete, hovorí: „Nech sa mu klaňajú všetci anjelia.“\n"
     ]
    },
    {
     "name": "stderr",
     "output_type": "stream",
     "text": [
      "Evaluating:  78%|███████▊  | 389/500 [00:30<00:08, 12.60it/s]"
     ]
    },
    {
     "name": "stdout",
     "output_type": "stream",
     "text": [
      "Source: 'to give his people the knowledge of salvation through the forgiveness of their sins'\n",
      "Target: V deň spásy „…dať Jeho ľudu známosť spasenia, záležajúceho v odpustení ich hriechov…“\n",
      "Prediction: Nehovoria o tom, že ich zvrhnutie, zvrhnutie, z Boha zavádzajú, odpúšťa ich hriechy.\n",
      "Source: “There are no tales finer than those created by life itself.”\n",
      "Target: \"Niet krajších rozprávok ako tie, ktoré píše sám život.\"\n",
      "Prediction: \"Niet toho talentov predví, než sú tie, ktoré dali život sám.\n",
      "Source: “In addition to the European plan ... we will take a national step.\n",
      "Target: \"Okrem európskeho plánu ... podnikneme vlastné národné kroky.\n",
      "Prediction: „Okrem európskeho plánu ... budeme mať národný krok.\n",
      "Source: Did his dad compliment him on any of his 4,493 victories?\n",
      "Target: Páčilo sa jeho otec ho pochváliť na niektorom zo svojich 4,493 víťazstvo?\n",
      "Prediction: Hlasoval ho jeho otec komplici za akékoľvek 4,493 víťazstva?\n"
     ]
    },
    {
     "name": "stderr",
     "output_type": "stream",
     "text": [
      "Evaluating:  79%|███████▊  | 393/500 [00:31<00:07, 14.01it/s]"
     ]
    },
    {
     "name": "stdout",
     "output_type": "stream",
     "text": [
      "Source: Then he said to them, ‘How can they say that the Messiah is David’s son?\n",
      "Target: I povedal im (Ježiš): Ako môžu hovoriť o Mesiášovi, že je synom Dávidovým,\n",
      "Prediction: A on im povedal: Ako môžu hovoriť o Mesiášovi, že je to Synova?\n",
      "Source: This is your choice, not God’s.\n",
      "Target: Je to ale len tvoja voľba, nie Božia vôľa.\n",
      "Prediction: To je Božia vôľa, nie Božia.\n",
      "Source: \"God hath not called us for uncleanness, but for sanctifieation.\"\n",
      "Target: Veď Boh nás nepovolal pre nečistotu, ale pre posvätenie.\"\n",
      "Prediction: „Boh nás nepovolal pre neumhodu, ale pre svätý.\n",
      "Source: Maybe you liked another name for cars?\n",
      "Target: Možno sa vám páčilo iné meno pre autá?\n",
      "Prediction: Možno ste radi ďalšie meno pre autá?\n"
     ]
    },
    {
     "name": "stderr",
     "output_type": "stream",
     "text": [
      "Evaluating:  79%|███████▉  | 396/500 [00:31<00:06, 15.82it/s]"
     ]
    },
    {
     "name": "stdout",
     "output_type": "stream",
     "text": [
      "Source: Those are some of Satan’s designs.\n",
      "Target: To sú niektoré zo satanových úmyslov.\n",
      "Prediction: To sú niektoré z to, čo sú tu,\n",
      "Source: If you lie, I will know.”\n",
      "Target: A keď klameš, viem to.\"\n",
      "Prediction: Ak si vieš, budem vedieť.“\n",
      "Source: “There is no doubt, My Lord.”\n",
      "Target: \"Neexistuje žiadna pochybnosť, výsosť.\"\n",
      "Prediction: Niet pochýb o tom, J, Môjch,\n",
      "Source: She said, \"He's dead!\n",
      "Target: kričala: \"Je mŕtvy!\n",
      "Prediction: Odpovedal: „Je mŕtvy!\n"
     ]
    },
    {
     "name": "stderr",
     "output_type": "stream",
     "text": [
      "Evaluating:  80%|████████  | 400/500 [00:31<00:06, 14.74it/s]"
     ]
    },
    {
     "name": "stdout",
     "output_type": "stream",
     "text": [
      "Source: We are part of that soul, so we rarely recognize that it is working for us.\"\n",
      "Target: “Sme súčasťou tejto Duša a málokedy si uvedomujeme, že ona vždy pracuje v náš prospech.”\n",
      "Prediction: Sme súčasťou tejto duše, takže nám zriedkame, že to pracuje pre nás. \"\n",
      "Source: If you lie, it becomes a part of your future.”\n",
      "Target: Ak klameš, stáva sa to súčasťou tvojej budúcnosti.\"\n",
      "Prediction: Ak klame, stáva sa súčasťou vašej budúcnosti.“\n",
      "Source: A person may, for instance, be determined to seek financial prosperity, whereas God’s first priority for him is righteousness.\n",
      "Target: Niekto je napríklad rozhodnutý usilovať o finančnú prosperitu, zatiaľ čo Boh pre neho má na prvom mieste spravodlivosť.\n",
      "Prediction: Kultor môže napríklad rozhodovať, aby hľadal finančnú prosperitu, zatiaľ čo je pre neho prvá priorita pre spravodlivosť.\n"
     ]
    },
    {
     "name": "stderr",
     "output_type": "stream",
     "text": [
      "Evaluating:  80%|████████  | 402/500 [00:31<00:06, 14.00it/s]"
     ]
    },
    {
     "name": "stdout",
     "output_type": "stream",
     "text": [
      "Source: “When God’s people come together for one purpose, God can do mighty things.\n",
      "Target: \"Ak má Kristus v človeku získať priestor, Boh musí urobiť jedno.\n",
      "Prediction: Keď sa Boží ľud spúšťa, tak môže byť Boh, tak môže byť možné urobiť aj veci.\n",
      "Source: Moreover, and probably most importantly, we have our own individual Divine Mother.\n",
      "Target: Navyše a pravdepodobne najdôležitejšie je to, že máme vlastnú individuálnu Božskú Matku.\n",
      "Prediction: Okrem toho, a pravdepodobne je najdôležitejšie, máme vlastnú individuálnu Matku.\n",
      "Source: In the New Era of Peace, they will have so much more, so much perfection.\n",
      "Target: V Novej ére mieru, budú mať oveľa viac, tak veľa dokonalosti.\n",
      "Prediction: V Novom Era pokorne budú mať oveľa viac, tak oveľa dokonale.\n"
     ]
    },
    {
     "name": "stderr",
     "output_type": "stream",
     "text": [
      "Evaluating:  81%|████████  | 406/500 [00:32<00:07, 12.95it/s]"
     ]
    },
    {
     "name": "stdout",
     "output_type": "stream",
     "text": [
      "Source: That way, you have two fully guaranteed policies instead of one partially guaranteed policy.\n",
      "Target: Týmto spôsobom, máte dve plne zaručená politiky namiesto jedného čiastočne zaručené politiky.\n",
      "Prediction: Týmto spôsobom máte dve plne zaručené politiky z jednej časti, ktorá sa výrazne zaručuje nástroje.\n",
      "Source: I represent bigger women,\" because I did.\n",
      "Target: Zastupujem väčšie ženy, \" pretože som to urobil.\n",
      "Prediction: Ja predstavujúm väčšie ženy,” pretože som urobil.\n",
      "Source: 10 Then you will bring the Levites into the LORD's presence, and the Israelites will lay their hands on the Levites.\n",
      "Target: 10Tu levitov predvedieš pred Pána a Izraeliti vložia na nich svoje ruky.\n",
      "Prediction: 10 A uvidíte Pánovu prítomnosť a Izraelici padnú na neskedyva na Levizty.\n"
     ]
    },
    {
     "name": "stderr",
     "output_type": "stream",
     "text": [
      "Evaluating:  82%|████████▏ | 410/500 [00:32<00:06, 13.61it/s]"
     ]
    },
    {
     "name": "stdout",
     "output_type": "stream",
     "text": [
      "Source: The Earth is full of the KNOWLEDGE of the Lord’s Glory as water covers the Sea.\n",
      "Target: Lebo zem bude plná poznania Pánovej slávy ako vody, ktoré pokrývajú more.\n",
      "Prediction: Svätí je teda plná zo strany Pánovej milosti ako voda, ktorá je Božia mocná.\n",
      "Source: God's Kingdom is among you.\n",
      "Target: Božie kráľovstvo je medzi vami\n",
      "Prediction: Božie kráľovstvo je medzi vami.\n",
      "Source: What if political activity includes all the parasitical and destructive things the government does?\n",
      "Target: Čo ak politická aktivita zahŕňa všetky parazitické a deštruktívne veci, ktoré robí vláda?\n",
      "Prediction: Čo ak politická aktivita zahŕňa všetky parazické a deštruktívne veci, ktorú je vláda?\n",
      "Source: They were not told to look at Moses.\n",
      "Target: Nebolo im povedané, aby sa pozreli na Mojžiša.\n",
      "Prediction: Nepovedali sa, že sa ohrietávajú Mojžiš.\n"
     ]
    },
    {
     "name": "stderr",
     "output_type": "stream",
     "text": [
      "Evaluating:  83%|████████▎ | 414/500 [00:32<00:05, 14.76it/s]"
     ]
    },
    {
     "name": "stdout",
     "output_type": "stream",
     "text": [
      "Source: Then Moses inquired of the name of God.\n",
      "Target: Mojžiš (mier s ním) sa spýtal Allaha (Oslavovaný a Vyvýšený):\n",
      "Prediction: a Mojžiš (na) zvestuje sa k Bohu,\n",
      "Source: Those allegations are untrue.”\n",
      "Target: Tieto obvinenia sú nepravdivé.“\n",
      "Prediction: a tie, ktoré sú spojení, sú nemenné.“\n",
      "Source: There is no God except Him, creator of everything, so serve Him.\n",
      "Target: Niet boha okrem Neho, stvoriteľ všetkého, tak Ho (a len jeho) uctievajte.\n",
      "Prediction: Niet Boha okrem Neho, stvorenia všetkého, tak aj jeho.\n",
      "Source: \"Cancel Justin's concert in the UK, please!\n",
      "Target: \"Zrušte Justinov koncert v Spojenom kráľovstve, prosím!\n",
      "Prediction: \"Courle Slakargu v Spojenom kráľovstve, prosím!\n"
     ]
    },
    {
     "name": "stderr",
     "output_type": "stream",
     "text": [
      "Evaluating:  83%|████████▎ | 416/500 [00:32<00:06, 12.76it/s]"
     ]
    },
    {
     "name": "stdout",
     "output_type": "stream",
     "text": [
      "Source: 5 The will receive the Lord’s blessings and have a right relationship with God their Savior.\n",
      "Target: 5 Dostane požehnanie od Hospodina a spravodlivú odmenu od Boha svojej spásy.\n",
      "Prediction: 5 Vtedy, aby sa prejdeš požehnanie Pánovo, a nech správne poslušuje ten správny vzťah, ktorý napravil ich zachranenia.\n",
      "Source: “Simon Mol always accused everybody of racism.\n",
      "Target: „Simon Mol vždy všetkých obviňoval z rasizmu.\n",
      "Prediction: \"Jednoduon Mol vždy popularity každého rasizmu.\n",
      "Source: How can my lord's servant talk with my lord?\n",
      "Target: Ako by teda mohol sluha môjho pána hovoriť tu s mojím pánom?\n",
      "Prediction: Ako môže byť sluha môjho pána hovoriť so svojím pánom?\n"
     ]
    },
    {
     "name": "stderr",
     "output_type": "stream",
     "text": [
      "Evaluating:  84%|████████▍ | 420/500 [00:33<00:06, 12.14it/s]"
     ]
    },
    {
     "name": "stdout",
     "output_type": "stream",
     "text": [
      "Source: This, my followers, is the time for the third seal to be revealed.\n",
      "Target: Toto, moji nasledovníci, je čas, aby bola odhalená tretia pečať.\n",
      "Prediction: To, moji nasledovníci, je čas pre tretiu se včeraju, aby sa odhalili.\n",
      "Source: \"Through His name everyone who believes in Him receives forgiveness of sins.\"\n",
      "Target: \"Pre jeho meno dosiahne odpustenie hriechov každý, kto v neho verí.\"\n",
      "Prediction: „A v Allah, ktorý verí v odpustenie, zazýva v odpustenie hriechov.“\n",
      "Source: 1The king's heart is a stream of water in the hand of the LORD; he turns it wherever he will.\n",
      "Target: 1Sťa vodná struha je srdce kráľa v ruke Pánovej, vedie ho, kamkoľvek chce.\n",
      "Prediction: 1.Schal, kráľom, je v ruke Pánovu, tak sa pozerá, kamkoľvek chce.\n"
     ]
    },
    {
     "name": "stderr",
     "output_type": "stream",
     "text": [
      "Evaluating:  84%|████████▍ | 422/500 [00:33<00:06, 12.69it/s]"
     ]
    },
    {
     "name": "stdout",
     "output_type": "stream",
     "text": [
      "Source: God has the last word, and God’s word is Life.\n",
      "Target: Boh je len jeden a uveriť Božiemu Slovu je život.\n",
      "Prediction: Je to tak, že sa Boh zjavuje na svätosti a je Božie slovo.\n",
      "Source: The new constitution was also withdrawn, along with the guarantees to the Christians.\n",
      "Target: Nová ústava bola takisto stiahnutá, spolu so zárukami pre kresťanov.\n",
      "Prediction: Nová ústava bola tiež v prvom rade nominovaná s zárukami kresťanov.\n",
      "Source: 31 But they said, “Should he treat our sister as a whore?”\n",
      "Target: 31 (KAT) Oni však odpovedali: „Vari mohol s našou sestrou zaobchádzať ako s pobehlicou?!“\n",
      "Prediction: 31 Ale povedali: „Vezôlácie by mal zaobchádzať s našej sestru ako pode?\n"
     ]
    },
    {
     "name": "stderr",
     "output_type": "stream",
     "text": [
      "Evaluating:  85%|████████▌ | 426/500 [00:33<00:05, 12.91it/s]"
     ]
    },
    {
     "name": "stdout",
     "output_type": "stream",
     "text": [
      "Source: (2) 1day-For our existing samples for reference.\n",
      "Target: (2) 1-dňový-Pre naše existujúce vzorky pre referencie.\n",
      "Prediction: (2) 1d) pre našich existujúcich sadov pre referencie.\n",
      "Source: That is God’s mercy to YOU.\n",
      "Target: Nech vám v tom pomáha Božia milosť\n",
      "Prediction: To je Božia milosť pre nás.\n",
      "Source: It's better for you to enter life lame than to be thrown into hell with two feet.\n",
      "Target: Je pre teba lepšie, aby si vošiel do života chromý, než aby si bol s dvoma nohami uvrhnutý do gehenny.\n",
      "Prediction: Je lepšie, aby ste vojdeli život života, než byť vy, učinený do pekla s dvoma nohami.\n"
     ]
    },
    {
     "name": "stderr",
     "output_type": "stream",
     "text": [
      "Evaluating:  86%|████████▌ | 428/500 [00:33<00:05, 12.51it/s]"
     ]
    },
    {
     "name": "stdout",
     "output_type": "stream",
     "text": [
      "Source: You were only sold off for your sins, and your mother dismissed for your crimes.”\n",
      "Target: Hľa, pre svoje hriechy ste boli predaní, pre vaše zločiny bola prepustená vaša matka. ”\n",
      "Prediction: Boli ste predané za zvrhnutý len za svoje hriechy a vaše maľby boli poslušené za vaše trestné tresty.“\n",
      "Source: Yes, and increase surveillance on all new immigrants\n",
      "Target: Áno, a zvýšiť dohľad na všetkých nových prisťahovalcov\n",
      "Prediction: Áno, a zvýšiť sa na všetkých nových prisťahovalcov\n"
     ]
    },
    {
     "name": "stderr",
     "output_type": "stream",
     "text": [
      "Evaluating:  86%|████████▌ | 430/500 [00:34<00:06, 10.03it/s]"
     ]
    },
    {
     "name": "stdout",
     "output_type": "stream",
     "text": [
      "Source: – having regard to the proposal for a recommendation to the Council by Graham Watson on behalf of the ALDE Group, on a consistent policy towards authoritarian regimes, against whom the EU applies restrictive measures, when they exercise their personal and commercial interests within EU borders (B7-0235/2011),\n",
      "Target: so zreteľom na návrh odporúčania Rade, ktorý v mene skupiny ALDE predložil Graham Watson, o jednotnej politike voči autoritárskym režimom, proti ktorým EÚ uplatňuje reštriktívne opatrenia, keď sledujú svoje osobné a obchodné záujmy v rámci EÚ (B7-0235/2011),\n",
      "Prediction: – so zreteľom na návrh odporúčania Rady Gamsonom, že v mene Pravia MODE na základe Európskej únie na konzistenciu, ktoré sa týka spotrebiteľa týkajúce proti tomu, že sú v oblasti spotrebiteľov,\n",
      "Source: [8] See my article, 'The New Age Worldview: Is It Believable?'.\n",
      "Target: [8] Pozri môj článok 'The New Age Worldview: Is It Believable?'.\n",
      "Prediction: [8] Pozri môj článok, „Športe sa Nový nateri: Je to bielá?\n",
      "Source: \"So you don't accept God's moral code to do with what is righteous?\"\n",
      "Target: „Takže vy neakceptujete Boží morálny zákonník, ktorý nám prikazuje robiť to, čo je spravodlivé?“\n",
      "Prediction: „Tak neakaždíte, že morálsky kód, aby ste robili, čo je spravodlivý?“\n"
     ]
    },
    {
     "name": "stderr",
     "output_type": "stream",
     "text": [
      "Evaluating:  87%|████████▋ | 434/500 [00:34<00:05, 12.58it/s]"
     ]
    },
    {
     "name": "stdout",
     "output_type": "stream",
     "text": [
      "Source: That was not God's will.\n",
      "Target: To nebola Božia vôľa.\n",
      "Prediction: To nie je Božia vôľa\n",
      "Source: I use it for a month, for which the ugly stars are much smaller. ”\n",
      "Target: Používam ho po dobu jedného mesiaca, pre ktorý sú škaredé hviezdy omnoho menšie. ”\n",
      "Prediction: Použivam ho za mesiac, za ktorý sú škaredé hviezdy oveľa menšie. “\n",
      "Source: What if I was in Jack's place?\n",
      "Target: Čo ak by som bola na Jackovom mieste?\n",
      "Prediction: Čo ak som bol v hľa.\n"
     ]
    },
    {
     "name": "stderr",
     "output_type": "stream",
     "text": [
      "Evaluating:  87%|████████▋ | 436/500 [00:34<00:05, 11.60it/s]"
     ]
    },
    {
     "name": "stdout",
     "output_type": "stream",
     "text": [
      "Source: So if a mistake is made in the team, it is you that has made it, not the dog.”\n",
      "Target: Takže ak bola urobená chyba v tíme, ste to Vy, kto ju urobil, nie Váš pes..\n",
      "Prediction: Takže ak sa v ten mužovi urobila, je to, čo si to urobil, nie pých ľudí.\"\n",
      "Source: He warneth you that haply ye may be mindful\" (16:92).\n",
      "Target: mali sa orientovať na tvoje schopnosti a nie na to, do čoho ich nič nie je ]-( ]-( ]-( ]-(\n",
      "Prediction: Vysvetľuje vás, že nože, možno si želáte, aby bol nápojý \" (16:9).\n"
     ]
    },
    {
     "name": "stderr",
     "output_type": "stream",
     "text": [
      "Evaluating:  88%|████████▊ | 438/500 [00:34<00:05, 10.58it/s]"
     ]
    },
    {
     "name": "stdout",
     "output_type": "stream",
     "text": [
      "Source: But praise to Allah, they released him.\n",
      "Target: chváliť Boha; pospiechali za Ním.\n",
      "Prediction: Na vskutku Allahúci poslúchali Allaho Allahovi (na) v tom, čo je,\n",
      "Source: Then your Father in heaven will forgive your sins also.”\n",
      "Target: Keď pánboh zdravia dá, aj hriechy budú »\n",
      "Prediction: A potom aj vy­vedieš, že aj vy budete odpúšťajú, aj odpúšťajú sa k Bohu,\n"
     ]
    },
    {
     "name": "stderr",
     "output_type": "stream",
     "text": [
      "Evaluating:  88%|████████▊ | 440/500 [00:34<00:05, 10.65it/s]"
     ]
    },
    {
     "name": "stdout",
     "output_type": "stream",
     "text": [
      "Source: Even in the hardest and most disturbing moments, the Lord's mercy and goodness are greater than every thing.\n",
      "Target: ◊ Aj v najťažších a v najskľučujúcejších momentoch milosrdenstvo a dobrota Pána prevýšia všetko.\n",
      "Prediction: Aj v najťažších a najťažších momentoch je Pánovo milosť a dobrota mocnejší ako každú vec.\n",
      "Source: And human beings are made in God’s image (Gn 1:26).\n",
      "Target: Trojakosť vystupuje i v duši, ktorá je stvorená na Boží obraz (porov. Gn 1,26).\n",
      "Prediction: A ľudské bytosti sa rozderajú v Božom obraze (Gn 1,26).\n",
      "Source: King and Sands (2015) also offers practical tips.\n",
      "Target: King and Sands (2015) tiež ponúkajú praktické tipy.\n",
      "Prediction: King a Sings (2015) tiež ponúkajú praktické tipy.\n"
     ]
    },
    {
     "name": "stderr",
     "output_type": "stream",
     "text": [
      "Evaluating:  89%|████████▉ | 444/500 [00:35<00:05, 11.08it/s]"
     ]
    },
    {
     "name": "stdout",
     "output_type": "stream",
     "text": [
      "Source: And some even said, this would be Stasi 2.0.\n",
      "Target: Niektorí dokonca povedali, že by to bola Stasi 2.0.\n",
      "Prediction: A niektorí dokonca dokonca povedali, bolo by to Hasi 2.0.\n",
      "Source: How many customers led the farmer to the Internet\n",
      "Target: Koľko zákazníkov viedlo farmára k internetu\n",
      "Prediction: Koľko zákazníkov viedli nasiu, aby internet\n",
      "Source: 15 Pharaoh’s officials saw her and praised her to Pharaoh; and the woman was taken into Pharaoh’s house.\n",
      "Target: 15A keď ju videli faraónovi dvorania, chválili ju pred faraónom a ženu odviedli do faraónovho domu.\n",
      "Prediction: A videli ju aj faraónovi úradníkov a vychvávali ju od faraónovi; a žena bola vzatá dodňal faraónovho domu.\n"
     ]
    },
    {
     "name": "stderr",
     "output_type": "stream",
     "text": [
      "Evaluating:  89%|████████▉ | 446/500 [00:35<00:04, 12.26it/s]"
     ]
    },
    {
     "name": "stdout",
     "output_type": "stream",
     "text": [
      "Source: #EAPM – Member states must act together.\n",
      "Target: #EAPM - Členské štáty musia konať spoločne.\n",
      "Prediction: #EEAPM – členské štáty musia konať spoločne.\n",
      "Source: His mother said to the servant “Do whatever he tells you.”\n",
      "Target: Jeho matka povedala obsluhujúcim: \"Urobte všetko, čo vám povie!\"\"\n",
      "Prediction: Srdce povedala služobníkom: „Urobte všetko, čo vám povie.”\n",
      "Source: 34 Now when Jesus saw that he answered wisely, He said to him, \"You are not far from the kingdom of God.\"\n",
      "Target: 34 Keď Ježiš počul, ako správne to pochopil, povedal mu: Ty nie si ďaleko od Božieho kráľovstva.\"\n",
      "Prediction: 34 A Ježiš videl, že múdri, mu odpovedal, povedal, povedal mu: „Nie si ďaleko od Božieho kráľovstva.\n"
     ]
    },
    {
     "name": "stderr",
     "output_type": "stream",
     "text": [
      "Evaluating:  90%|█████████ | 450/500 [00:35<00:04, 11.22it/s]"
     ]
    },
    {
     "name": "stdout",
     "output_type": "stream",
     "text": [
      "Source: I declare it both to heaven and to earth, that the Word of God is increasing in people’s hearts and lives, the number of disciples is being multiplied greatly, and a large number of people are obedient to the faith.\n",
      "Target: Vyznávam smerom k nebesiam i k zemi, že Slovo Božie rastie a šíri sa v srdciach ľudí a počet učeníkov rastie, mnohí nasledujú vieru.\n",
      "Prediction: Hnedam, že som vyvo ako zem a zeme, že Slovo Boha zvyšuje ľudí ľudí, život a žije počet učeníkov, spočených a vedeli som to veľa, že je „Svätých“.\n",
      "Source: Am I not better to you than ten sons?’\n",
      "Target: Vari som ti ja nie lepší ako desať synov?“\n",
      "Prediction: Nie som ti lepšie ako desať synov?\"\n",
      "Source: To reject God’s Savior is to reject God’s salvation.\n",
      "Target: Odmietnuť plniť Božiu vôľu znamená odmietnuť ponúknutú spásu.\n",
      "Prediction: Je potrebné, aby sme odmietli Božiu slávu, je odmieta odmietať Božiu milosť.\n",
      "Source: If Michael Bay was a Religion\n",
      "Target: Ak bol Michael Bay náboženstvom\n",
      "Prediction: Ak je Michael Bayre Reder\n"
     ]
    },
    {
     "name": "stderr",
     "output_type": "stream",
     "text": [
      "Evaluating:  91%|█████████ | 454/500 [00:36<00:03, 13.62it/s]"
     ]
    },
    {
     "name": "stdout",
     "output_type": "stream",
     "text": [
      "Source: “MJ will be my new name No more Michael Jackson.\n",
      "Target: \"MJ bude moje nové meno, už žiadny Michael Jackson.\n",
      "Prediction: „MJ bude mojim novým menom Notock Juckson.\n",
      "Source: How Much Do The Richest Authors Today Make – Per Word?\n",
      "Target: Koľko robia dnes najbohatší autori - podľa slova?\n",
      "Prediction: Koľko si samozrejme, ako pád –žeže?\n",
      "Source: As regards the system and its various functions, Andreas cannot be more specific.\n",
      "Target: Pokiaľ ide o systém a jeho jednotlivé funkcie, Andreas nemôže byť konkrétnejší.\n",
      "Prediction: Pokiaľ ide o systém a svoje rôzne funkcie, areas nemôžu byť špecifickejší.\n",
      "Source: They will not listen to me or to Russia’s Foreign Minister.\n",
      "Target: Nebudú počúvať mňa alebo ruského ministra zahraničia.\n",
      "Prediction: Nevedia, že ma budú počúvať, alebo pre zahraničných ministrov Ruska.\n"
     ]
    },
    {
     "name": "stderr",
     "output_type": "stream",
     "text": [
      "Evaluating:  92%|█████████▏| 459/500 [00:36<00:02, 16.04it/s]"
     ]
    },
    {
     "name": "stdout",
     "output_type": "stream",
     "text": [
      "Source: We don't want to see Erdoğan in our country again.\"\n",
      "Target: Nechceme znovu vidieť Erdoğana v našej krajine.\"\n",
      "Prediction: Nechceme vidieť Erdton v našej krajine.“\n",
      "Source: That’s right – the name is as ugly as the car.\n",
      "Target: To je pravda – meno je také škaredé ako auto.\n",
      "Prediction: To je správne – meno je rovnako škoredé ako auto.\n",
      "Source: Are these not God’s children?\n",
      "Target: Nie sú aj tí homosexuáli božie deti?\n",
      "Prediction: Nie sú to Božie deti?\n",
      "Source: 'Behind the steps of Mary and Joseph are many steps hidden.\n",
      "Target: V krokoch Jozefa a Márie sa ukrývajú mnohé kroky.\n",
      "Prediction: „Mýčenie Mária a Jozef je veľa krokov skrytých.\n"
     ]
    },
    {
     "name": "stderr",
     "output_type": "stream",
     "text": [
      "Evaluating:  92%|█████████▏| 461/500 [00:36<00:02, 15.51it/s]"
     ]
    },
    {
     "name": "stdout",
     "output_type": "stream",
     "text": [
      "Source: Just as the rich man in Luke 16, you'll remember it all!\n",
      "Target: Rovnako ako bohatý muž v Luke 16, budete pamätať všetko!\n",
      "Prediction: Len ako bohatý muž v Luke 16, pamätáte si to všetko!\n",
      "Source: He came down from the heavens, and He is joining Himself to the living soul that died.\n",
      "Target: Z neba mal stúpiť, - smrťou vykúpiť - celý svet - [:predpovedaný, - zrodený z Panny - ako kvet.:]\n",
      "Prediction: Prišiel z neba a je sa priblížil do života, ktorá zomrel.\n",
      "Source: First, God’s will of command is revealed with final, decisive authority only in the Bible.\n",
      "Target: Po prvé, vôľa Božích prikázaní je zjavená v absolútne rozhodnej autorite — v Biblii.\n",
      "Prediction: Po prvé, Božia vôľa je zjavená v úmysle, pozvárová autorita len v Biblii.\n"
     ]
    },
    {
     "name": "stderr",
     "output_type": "stream",
     "text": [
      "Evaluating:  93%|█████████▎| 465/500 [00:36<00:02, 12.14it/s]"
     ]
    },
    {
     "name": "stdout",
     "output_type": "stream",
     "text": [
      "Source: Ask them for their consent, ask them if they want to be helped.\n",
      "Target: ask them for (help) → žiadať ich o (pomoc)žiadať ich o (pomoc)\n",
      "Prediction: Popýtajte sa ich o svoje úbohé, či sa ich pýtajú, že ich chcú pomôcť.\n",
      "Source: 34 For God sent Him, and He speaks God’s words, since He gives the Spirit without measure.\n",
      "Target: 34 Koho poslal Boh, ten hovorí slová Boha, lebo on dáva Ducha neobmedzene.\n",
      "Prediction: 34 Lebo ten, ktorý poslal, hovorí Božie slová, pretože sa od toho, že sa neskračí Duch, bez toho, čo sa nepláči.\n",
      "Source: Come to Jesus and receive God’s forgiveness.\n",
      "Target: Prijmi Ježišovo odpustenie aj odpustenie dieťaťa.\n",
      "Prediction: Poď, aby sme dostali Ježiša a dostali od odpusť.\n"
     ]
    },
    {
     "name": "stderr",
     "output_type": "stream",
     "text": [
      "Evaluating:  93%|█████████▎| 467/500 [00:37<00:02, 11.61it/s]"
     ]
    },
    {
     "name": "stdout",
     "output_type": "stream",
     "text": [
      "Source: Of course, Bush was re-elected, so… good job fellas.\n",
      "Target: Samozrejme, Bush bol opätovne zvolený, takže ... dobrí zamestnanci.\n",
      "Prediction: Samozrejme, Bush bol znovupopnierovaný, takže dobrá práca sa navodá.\n",
      "Source: I am praying with you and for you, little children, that from day to day you may become still more open to God's will.\n",
      "Target: Modlím sa s vami a za vás, dietky, aby ste sa zo dňa na deň stávali stále otvorenejšími Božej vôli.\n",
      "Prediction: Modlím sa s vami a za vás, malé deti, z dňa do dňa sa môžete stále stať otvoreným otvoreným Bohu.\n",
      "Source: And then the answer appeared - her horse Toffee.\n",
      "Target: A potom sa objavila odpoveď - jej kôň Toffee.\n",
      "Prediction: A potom odpoveď sa objavil - jej kôň.\n"
     ]
    },
    {
     "name": "stderr",
     "output_type": "stream",
     "text": [
      "Evaluating:  94%|█████████▍| 471/500 [00:37<00:02, 11.96it/s]"
     ]
    },
    {
     "name": "stdout",
     "output_type": "stream",
     "text": [
      "Source: In this context, the new Regulation 1408/71 might contribute to creating new and problematic situations.\n",
      "Target: V tomto kontexte by mohlo nové nariadenie 1408/71 prispieť k vytvoreniu nových a problematických situácií.\n",
      "Prediction: V tomto kontexte by nová nariadenie 1408/71 mohla prispieť k vytváranie nových a problematickétých situácií.\n",
      "Source: He replied, “Yes, until it becomes like mountains.\n",
      "Target: A nato on: „Než objavia sa schody,\n",
      "Prediction: Islam: „Áno, kým sa tak ako to tak neskal,\n",
      "Source: You know how to discern the face of the sky, but you cannot discern the signs of the times.” ‭‭\n",
      "Target: oblohy dokážete rozoznať ale znak času nedokážete.”\n",
      "Prediction: „Poznávate, ako poslúchať z neba, ale nemôžete neskrievať tie, ale naraď.\"\n"
     ]
    },
    {
     "name": "stderr",
     "output_type": "stream",
     "text": [
      "Evaluating:  95%|█████████▍| 473/500 [00:37<00:02, 12.51it/s]"
     ]
    },
    {
     "name": "stdout",
     "output_type": "stream",
     "text": [
      "Source: \"None of you will have faith until he wishes for his brother what he wishes for himself.\"\n",
      "Target: „Nikto z vás nebude veriacim, kým si nebude želať pre svojho brata to, čo si želá pre seba.\"\n",
      "Prediction: \"Nikto z vás nebude mať vieru, kým si želá pre svojho brata, čo chce pre seba.\"\n",
      "Source: God's chastisements are acts of love.\n",
      "Target: Tie božské činy sú činy lásky.\n",
      "Prediction: Božie skutky sú skutky lásky.\n",
      "Source: And even beyond that, as he neared death Jesus said, \"Father, forgive them, for they do not know what they are doing.\"\n",
      "Target: A dokonca okrem toho, ako sa blížila smrť, Ježiš povedal, \"Otče, odpusť im, lebo nevedia, čo robia!\"\n",
      "Prediction: A aj za to, že sa pozrel k Bohu, povedal: „Otče, odpusť im, odpusť im, lebo nevedia, čo robia.“\n"
     ]
    },
    {
     "name": "stderr",
     "output_type": "stream",
     "text": [
      "Evaluating:  95%|█████████▌| 477/500 [00:37<00:02, 10.32it/s]"
     ]
    },
    {
     "name": "stdout",
     "output_type": "stream",
     "text": [
      "Source: Joseph gave them wagons according to Pharaoh's instructions, and he also provided them with food for the journey.\n",
      "Target: A Jozef im dal vozy podľa rozkazu faraonovho a dal im aj potravy na cestu.\n",
      "Prediction: Jozef im vskutku dal, že ich poslušc sa vzal, aby ich poslušali, a aj ich jedlo za jedlo na ceste.\n",
      "Source: This is the third time you came to Western Canada, is there still interest in Consular Days?\n",
      "Target: Toto je už tretí krát, keď ste prišli do západnej Kanady, je ešte stále záujem o Konzulárne dni?\n",
      "Prediction: Je to tretia čas, kedy ste prišli do západnej Kanady, stále stále cítite údaje v oblasti údajov?\n",
      "Source: The sovereignty belongs to the people again — and now we will really start to apply our constitution.”\n",
      "Target: Suverenita patrí opäť ľudu – a teraz naozaj začneme uplatňovať našu ústavu.“\n",
      "Prediction: Zvrchovanosť patrí k ľuďom znova – a teraz sa budeme skutočne začať uplatňovať našu ústavu.“\n"
     ]
    },
    {
     "name": "stderr",
     "output_type": "stream",
     "text": [
      "Evaluating:  96%|█████████▌| 479/500 [00:38<00:01, 11.23it/s]"
     ]
    },
    {
     "name": "stdout",
     "output_type": "stream",
     "text": [
      "Source: They found him and said, \"Everybody's looking for you.\"\n",
      "Target: Keď ho našli, povedali mu: „Všetci ťa hľadajú.\"\n",
      "Prediction: Našli sa ho a povedali: „A všetci ťa hľadajú.”\n",
      "Source: Saying no also means refining your creative ideas....eventually.\n",
      "Target: Povedať nie znamená aj rafinácia svoje kreatívne nápady... nakoniec.\n",
      "Prediction: Nedeliť nie tiež tiež, že odmieta vaše tvorivé nápady ... úvodne.\n",
      "Source: It was really hard to choose which countries to visit — my list was originally about 36 countries long!\n",
      "Target: Bolo to naozaj ťažké vybrať, ktoré krajiny navštíviť - môj zoznam bol pôvodne asi 36 krajín dlho!\n",
      "Prediction: Bolo naozaj ťažké vybrať si, aké krajiny navštíviť – môj zoznam bol pôvodne o 36 krajinách dlho!\n"
     ]
    },
    {
     "name": "stderr",
     "output_type": "stream",
     "text": [
      "Evaluating:  96%|█████████▌| 481/500 [00:38<00:01, 11.24it/s]"
     ]
    },
    {
     "name": "stdout",
     "output_type": "stream",
     "text": [
      "Source: Then, in Saqqara (Egypt), the remains of the ancestors of these animals were also found.\n",
      "Target: Potom v Saqqara (Egypt) boli nájdené a zvyšky predkov týchto zvierat.\n",
      "Prediction: Potom v SaWqqqra (Egypt) bola tiež nájdená z anjeli týchto zvierat.\n"
     ]
    },
    {
     "name": "stderr",
     "output_type": "stream",
     "text": [
      "Evaluating:  97%|█████████▋| 483/500 [00:38<00:01,  8.97it/s]"
     ]
    },
    {
     "name": "stdout",
     "output_type": "stream",
     "text": [
      "Source: It gives meaning to the Scripture: many are called (to the 1st resurrection), but few are chosen.\n",
      "Target: Pamätná veta z písma znie: Je veľa povolaných ale málo vyvolených.\n",
      "Prediction: Je známe, že sa v tomto zvrhol sporený (Guzef) povedal (nietm sa v zroku (namenšom) na z nich (srde) a len málo (Zas, ktorí sú poslutané.\n",
      "Source: They have strayed from the truth 1 by saying that the resurrection has already occurred, and they are undermining some people’s faith.\n",
      "Target: Oni zablúdili ďaleko od pravdy, keď tvrdia, že zmŕtvychvstanie už bolo, a nivočia vieru niektorých.\n",
      "Prediction: Malal od pravdy 1, ktorý povedal, že sa už už vyhli, a sú podvídaní niektorých ľudí.\n"
     ]
    },
    {
     "name": "stderr",
     "output_type": "stream",
     "text": [
      "Evaluating:  97%|█████████▋| 487/500 [00:38<00:01, 11.59it/s]"
     ]
    },
    {
     "name": "stdout",
     "output_type": "stream",
     "text": [
      "Source: I hope that many of us will meet again in the future – perhaps at another GS Trophy!”\n",
      "Target: Dúfam, že sa mnohí z nás v budúcnosti znova stretnú – možno na inej GS Trophy!“\n",
      "Prediction: Dúfam, že mnohí z nás sa opäť stretne v budúcnosti – možno v inej GS Tingeph!\n",
      "Source: Why am I having them all now—in this lifetime?\n",
      "Target: Prečo ich mám všetky teraz - v tomto živote?\n",
      "Prediction: Prečo ich teraz majú všetko — v tomto živote?\n",
      "Source: Glory to God in the highest, and peace to God’s people on earth!\n",
      "Target: Sláva Bohu navýsostiach, pokoj ľuďom na zemi!\n",
      "Prediction: Sväté Bohu na nebi a pokoj na zemi!\n",
      "Source: First, Satan is not God’s counterpart.\n",
      "Target: Satan nie je súperom Boha.\n",
      "Prediction: Satanova Božia,ka nie je zjavná,\n"
     ]
    },
    {
     "name": "stderr",
     "output_type": "stream",
     "text": [
      "Evaluating:  98%|█████████▊| 489/500 [00:39<00:00, 11.38it/s]"
     ]
    },
    {
     "name": "stdout",
     "output_type": "stream",
     "text": [
      "Source: When it comes to reducing emissions, however, we rely almost entirely on political governance structures.\n",
      "Target: Pokiaľ však ide o znižovanie emisií, takmer úplne sa spoliehame na politické štruktúry riadenia.\n",
      "Prediction: Keď sa však týka na zníženie plavidiel, spoliehame sa takmer úplne na politických štruktúr.\n",
      "Source: We want to be sure that the trees we will sell to you in December will be really beautiful and healthy.\n",
      "Target: Chceme mať istotu, že stromčeky, ktoré Vám budeme v decembri predávať,budú naozaj krásne a zdravé.\n",
      "Prediction: Chceme byť istí, že stromy, ktoré vám predávajú v decembri, bude naozaj krásna a zdravý.\n",
      "Source: The manufacturer took this requirement into account in the year 2107.\n",
      "Target: Výrobca vzal túto požiadavku do úvahy v roku 2107.\n",
      "Prediction: Výber vzal túto požiadavku do úvahy v roku 2107.\n"
     ]
    },
    {
     "name": "stderr",
     "output_type": "stream",
     "text": [
      "Evaluating:  99%|█████████▊| 493/500 [00:39<00:00, 11.94it/s]"
     ]
    },
    {
     "name": "stdout",
     "output_type": "stream",
     "text": [
      "Source: All is happening in accordance with God’s will.\n",
      "Target: Všetko sa deje podľa vôli Božej.\n",
      "Prediction: To všetko sa deje v súlade s Božou vôľou.\n",
      "Source: And if he swears by heaven, he's swearing by the throne of God, and by Him Who sits on it.\n",
      "Target: A kto prisahá na nebo, prisahá na Boží trón i na Toho, ktorý na ňom sedí.\n",
      "Prediction: A ak prisahá na nebesia, prisahá na Boha a na toho, kto na neho pamätá.\n",
      "Source: (*) Liechtenstein will contribute through proportional financial support.\n",
      "Target: (*) Lichtenštajnsko poskytne príspevok prostredníctvom proporcionálnej finančnej podpory.\n",
      "Prediction: (*) Liechenson prispieva cez proporčnú finančnú podporu.\n"
     ]
    },
    {
     "name": "stderr",
     "output_type": "stream",
     "text": [
      "Evaluating:  99%|█████████▉| 497/500 [00:39<00:00, 12.78it/s]"
     ]
    },
    {
     "name": "stdout",
     "output_type": "stream",
     "text": [
      "Source: The Comprehensive Economic and Trade Agreement with Canada should not be ratified, as it also contains this kind of investor protection.”\n",
      "Target: Komplexná hospodárska a obchodná dohoda s Kanadou by nemala byť podpísaná, keďže tiež obsahuje takýto druh ochrany investora.“\n",
      "Prediction: Rozdelenakonomická a obchodná dohoda s Kanady by nemala byť ratifikované, keďže tiež obsahuje túto druhú ochranu na ochranu investoru.“\n",
      "Source: “Greece demands and gets a lot of solidarity from the EU.\n",
      "Target: \"Grécko žiada a dostáva veľkú solidaritu z EÚ.\n",
      "Prediction: \"Grécko vyžaduje a dostane veľa solidarity z EÚ.\n",
      "Source: I believe in God even when He's silent.\"\n",
      "Target: Verím v Boha, aj keď mlčí.\"\n",
      "Prediction: Ja verím v Boha a aj keď sa prešiel.“\n",
      "Source: “When you pray, do not be like the hypocrites.”\n",
      "Target: “ Keď sa modlíte, nebuďte ako pokrytci.\n",
      "Prediction: \"Keď sa modlíte, nebyte byť ako hypiátori.\"\n"
     ]
    },
    {
     "name": "stderr",
     "output_type": "stream",
     "text": [
      "Evaluating: 100%|██████████| 500/500 [00:39<00:00, 12.53it/s]"
     ]
    },
    {
     "name": "stdout",
     "output_type": "stream",
     "text": [
      "Source: Abraham believed God’s promise and God counted it to him as righteousness.\n",
      "Target: Uveril tomu, čo mu Boh zasľúbil o veľkom národe a Boh mu jeho vieru počítal za spravodlivosť.\n",
      "Prediction: Všemohúci veril, že Boh je zasľúbený, že sa mu Boh zjavuje a za jeho spravodlivosť.\n",
      "Source: Thus, human work corresponds with God’s will.\n",
      "Target: Vtedy sa vôľa človeka zjednocuje s vôľou Božou.\n",
      "Prediction: A tak aj tak, že človek je podľa Božej vôle.\n",
      "Source: bet-at-home also believes in fair game.\n",
      "Target: bet-at-home tiež verí vo fér hru.\n",
      "Prediction: bet-at-h-ho ver tiež verí v spravodlivá hru.\n",
      "BLEU: 0.2014, CHRF2: 0.3204\n"
     ]
    },
    {
     "name": "stderr",
     "output_type": "stream",
     "text": [
      "\n"
     ]
    },
    {
     "data": {
      "text/plain": [
       "(tensor(0.2014), 0.3204391541230965)"
      ]
     },
     "execution_count": 17,
     "metadata": {},
     "output_type": "execute_result"
    }
   ],
   "execution_count": 17
  },
  {
   "metadata": {
    "ExecuteTime": {
     "end_time": "2024-12-09T11:40:55.560729Z",
     "start_time": "2024-12-09T11:35:34.899561Z"
    }
   },
   "cell_type": "code",
   "source": [
    "translator = Translator(model, source_tokenizer, target_tokenizer, search_strategy=BeamSearch(20))\n",
    "\n",
    "evaluate(\n",
    "    lambda x: translator.translate(x, max_length=128),\n",
    "    max_length=128,\n",
    ")\n"
   ],
   "id": "24fa5776484ff604",
   "outputs": [
    {
     "name": "stderr",
     "output_type": "stream",
     "text": [
      "Evaluating:   0%|          | 1/500 [00:00<01:22,  6.04it/s]"
     ]
    },
    {
     "name": "stdout",
     "output_type": "stream",
     "text": [
      "Source: I invite you to pray for them and for those who have lost their lives.”\n",
      "Target: Pozývam vás k modlitbe za nich, ako aj za tých, čo stratili život.“\n",
      "Prediction: Žím vás, aby ste sa za nich modlili a pre tých, ktorí stratili ich životy.“\n",
      "Source: Thus God's Son came down from heaven.\n",
      "Target: A vtedy Boh Syn sám zostúpil z výšky nebeskej.\n",
      "Prediction: A tak Boží Syn prišiel z neba.\n"
     ]
    },
    {
     "name": "stderr",
     "output_type": "stream",
     "text": [
      "Evaluating:   1%|          | 3/500 [00:00<01:13,  6.79it/s]"
     ]
    },
    {
     "name": "stdout",
     "output_type": "stream",
     "text": [
      "Source: When the apostle heard what she had said he said, \"Who will rid me of Marwan's daughter?\"\n",
      "Target: Keď apoštol počul, čo povedala, povedal, \"Kto ma zbaví Marwanovej dcéry?\"\n",
      "Prediction: Keď to,, čo nepočul, povedal,, povedal: “Kto sa skryte z dcéru Marwana?”\n"
     ]
    },
    {
     "name": "stderr",
     "output_type": "stream",
     "text": [
      "Evaluating:   1%|          | 4/500 [00:02<07:29,  1.10it/s]"
     ]
    },
    {
     "name": "stdout",
     "output_type": "stream",
     "text": [
      "Source: It is the fruit of the Word delivered to God’s people through His chosen shepherds.\n",
      "Target: Je to ovocím Slova, ktoré je dané Božiemu ľudu prostredníctvom Jeho vyvolených pastierov.\n",
      "Prediction: Je to poslušnosť Božieho slova, tým, že sa prisľúbilo.\n",
      "Source: The atmosphere is filled with God’s presence.\n",
      "Target: Atmosféra sa začala napĺňať Božou prítomnosťou.\n",
      "Prediction: Božie slovo je súčasťou Božej prítomnosti.\n"
     ]
    },
    {
     "name": "stderr",
     "output_type": "stream",
     "text": [
      "Evaluating:   1%|▏         | 7/500 [00:03<03:29,  2.36it/s]"
     ]
    },
    {
     "name": "stdout",
     "output_type": "stream",
     "text": [
      "Source: 'Is God willing to prevent evil, but not able?\n",
      "Target: Chce boh zabrániť zlu, ale nedokáže?\n",
      "Prediction: Je Boh ochotný zabrániť zlo, nie?\n",
      "Source: With God's help, you can control the tongue.\n",
      "Target: S Božou pomocou dokážeš skrotiť jazyk!\n",
      "Prediction: S Božou pomocou dokážeš ovládať jazyk.\n",
      "Source: Ask them,\" he added.\n",
      "Target: Pýtajte sa ďalej,“ dodal.\n",
      "Prediction: Popýtaj sa ich,“ dodal.\n"
     ]
    },
    {
     "name": "stderr",
     "output_type": "stream",
     "text": [
      "Evaluating:   2%|▏         | 9/500 [00:03<03:01,  2.71it/s]"
     ]
    },
    {
     "name": "stdout",
     "output_type": "stream",
     "text": [
      "Source: He says, “every careless word.”\n",
      "Target: On hovorí, \"Každý neopatrný slovo.\"\n",
      "Prediction: Hovorí: „Hľa, bez ohľadu na slovo.“\n",
      "Source: Therefore, there is no need to suppose God's existence.\"\n",
      "Target: Preto niet dôvodu predpokladať existenciu Boha.“\n",
      "Prediction: Preto nie je potrebné spoznať existenciu Boha.\"\n"
     ]
    },
    {
     "name": "stderr",
     "output_type": "stream",
     "text": [
      "Evaluating:   2%|▏         | 11/500 [00:04<02:42,  3.02it/s]"
     ]
    },
    {
     "name": "stdout",
     "output_type": "stream",
     "text": [
      "Source: And let us ask him: ‘Lord, let me rediscover the joy of giving’”.\n",
      "Target: A prosme ho: „Pane, daj mi znovuobjaviť radosť z darovania“.\n",
      "Prediction: A spýtame sa mu: „Pane, nech som mi zjavil radosť,\n"
     ]
    },
    {
     "name": "stderr",
     "output_type": "stream",
     "text": [
      "Evaluating:   2%|▏         | 12/500 [00:06<05:58,  1.36it/s]"
     ]
    },
    {
     "name": "stdout",
     "output_type": "stream",
     "text": [
      "Source: 9The LORD will be king over the whole earth;f on that day the LORD will be the only one, and the LORD’s name the only one.\n",
      "Target: 9 A Hospodin bude kráľom nad celou zemou; toho dňa bude Hospodin jeden a jeho meno jedno.\n",
      "Prediction: A Pán bude kráľom nad celou zemou na zemi, lebo v ten deň bude Pán jediný, iba jeden.\n"
     ]
    },
    {
     "name": "stderr",
     "output_type": "stream",
     "text": [
      "Evaluating:   3%|▎         | 14/500 [00:08<06:52,  1.18it/s]"
     ]
    },
    {
     "name": "stdout",
     "output_type": "stream",
     "text": [
      "Source: 23.This is why his parents said, “He’s of age; ask him.”)\n",
      "Target: Preto povedali jeho rodičia: Má svoje roky; jeho sa spýtajte!\n",
      "Prediction: 23.\n",
      "Source: We should have deep repugnance to their acts and we must remind and warn them.”\n",
      "Target: Mali by sme mať hlboký odpor k ich činom a musíme im to pripomínať a varovať ich.“\n",
      "Prediction: Mali by sme mať hlboká opaknosť svojim činom a musíme ich pripomenúť.“\n",
      "Source: but whoever does God's will lives forever.\n",
      "Target: Kto však koná Božiu vôľu, zostáva naveky.\n",
      "Prediction: Kto však koná Božiu vôľu,\n"
     ]
    },
    {
     "name": "stderr",
     "output_type": "stream",
     "text": [
      "Evaluating:   3%|▎         | 17/500 [00:11<06:17,  1.28it/s]"
     ]
    },
    {
     "name": "stdout",
     "output_type": "stream",
     "text": [
      "Source: It is a religion of Adam, Abraham, Musa, Jesus and Muhammad (SAW).\n",
      "Target: Počnúc Adamom, cez Abraháma, Mojžiša (Tóra) a Ježiša (Evanjelium) až po Muhammada (Korán).\n",
      "Prediction: Je to náboženstvo Adama, Abrahám, Abrahám, Ježiš a Mohamed (Ahad).\n",
      "Source: 'Almighty and merciful God,\n",
      "Target: Náš všemohúci Bože,\n",
      "Prediction: Milosrdný a Milosrdný,\n"
     ]
    },
    {
     "name": "stderr",
     "output_type": "stream",
     "text": [
      "Evaluating:   4%|▍         | 20/500 [00:11<03:19,  2.41it/s]"
     ]
    },
    {
     "name": "stdout",
     "output_type": "stream",
     "text": [
      "Source: They are God’s sons and daughters.\n",
      "Target: A sú to synovia a dcéry Boha.\n",
      "Prediction: To sú Božími synmi a dcéry.\n",
      "Source: Such a thing cannot come from God's Spirit.\n",
      "Target: Takáto vec nemôže pochádzať od Božieho Ducha.\n",
      "Prediction: A tak nemôže prísť z Božieho Ducha.\n",
      "Source: The self-realized souls can impart knowledge unto you because he has seen the truth.”\n",
      "Target: Sebarealizované duše ti môžu odovzdať poznanie, pretože oni uvideli pravdu.\"\n",
      "Prediction: Sebarealizované duše vám môžu dať poznanie, pretože videl pravdu.\"\n"
     ]
    },
    {
     "name": "stderr",
     "output_type": "stream",
     "text": [
      "Evaluating:   4%|▍         | 21/500 [00:12<04:52,  1.64it/s]"
     ]
    },
    {
     "name": "stdout",
     "output_type": "stream",
     "text": [
      "Source: The Heavens on Earth are blessed for this time.\n",
      "Target: a na nebi sa objavili bohovia, objatí radosťou,\n",
      "Prediction: Nebesá na zemi sú stvorené,\n",
      "Source: Who Are God's Sons?\n",
      "Target: Kto sú synovia boží?\n",
      "Prediction: Kto sú Boží?\n"
     ]
    },
    {
     "name": "stderr",
     "output_type": "stream",
     "text": [
      "Evaluating:   5%|▍         | 23/500 [00:13<03:12,  2.48it/s]"
     ]
    },
    {
     "name": "stdout",
     "output_type": "stream",
     "text": [
      "Source: Like your heart, the tree offers its fruit to all, no matter into whose hands they fall.\"\n",
      "Target: Podobne ako tvoje srdce, tak aj strom ponúka svoje plody každému bez ohľadu na to, do koho rúk padnú.“ Svámidží\n",
      "Prediction: Podobne ako tvoje srdce, strom ponúka svojim ovocie všetkým, bez ohľadu na to, ktorého ruci poslúchajú.“\n"
     ]
    },
    {
     "name": "stderr",
     "output_type": "stream",
     "text": [
      "Evaluating:   5%|▌         | 25/500 [00:15<04:53,  1.62it/s]"
     ]
    },
    {
     "name": "stdout",
     "output_type": "stream",
     "text": [
      "Source: Then Moses reported the people's words to the Lord.\n",
      "Target: Potom Mojžiš tlmočil slová ľudu Pánovi.\n",
      "Prediction: Mojžiš sa poslúchal k Bohu.\n",
      "Source: Many are saying of me, There is no help for him in God.\n",
      "Target: Mnohí o mne hovoria: Pre neho niet pomoci u Boha!\n",
      "Prediction: Mnohí o mne hovorí, nie je pre neho nič iné.\n"
     ]
    },
    {
     "name": "stderr",
     "output_type": "stream",
     "text": [
      "Evaluating:   5%|▌         | 26/500 [00:17<07:52,  1.00it/s]"
     ]
    },
    {
     "name": "stdout",
     "output_type": "stream",
     "text": [
      "Source: They fight in God’s way, and they kill and get killed.\n",
      "Target: A oni bojujú na ceste božej - zabíjajú a sú zabíjaní...\n",
      "Prediction: V Božom Slove sa spoznali a zabíjajú,\n"
     ]
    },
    {
     "name": "stderr",
     "output_type": "stream",
     "text": [
      "Evaluating:   5%|▌         | 27/500 [00:18<07:41,  1.02it/s]"
     ]
    },
    {
     "name": "stdout",
     "output_type": "stream",
     "text": [
      "Source: And because of that, every knee in heaven and on earth and under the earth will call him Lord.\n",
      "Target: Každé stvorenie v nebi, na zemi a pod zemou pokľakne pred Pánom - všetci, bez výnimky.\n",
      "Prediction: A kvôli tomu, že na nebesiach a na zemi, a podľa zeme budú voliť zem.\n"
     ]
    },
    {
     "name": "stderr",
     "output_type": "stream",
     "text": [
      "Evaluating:   6%|▌         | 28/500 [00:20<10:16,  1.31s/it]"
     ]
    },
    {
     "name": "stdout",
     "output_type": "stream",
     "text": [
      "Source: I fully endorse the motion for a resolution (B7-0029/2010) on preventing trafficking in human beings, which was submitted by a broad coalition of the European Parliament’s political groups.\n",
      "Target: Plne podporujem návrh uznesenia (B7-0029/2010) o predchádzaní obchodovaniu s ľuďmi, ktorý predložila široká koalícia politických strán Európskeho parlamentu.\n",
      "Prediction: V poslednej dobe som ukončil návrh uznesenia (B7-0015/2010) na zastavenie obchodovania s ľuďmi, ktoré predložili rozšírenie Európskeho parlamentu v oblasti Parlamentu.\n"
     ]
    },
    {
     "name": "stderr",
     "output_type": "stream",
     "text": [
      "Evaluating:   6%|▌         | 30/500 [00:22<07:56,  1.01s/it]"
     ]
    },
    {
     "name": "stdout",
     "output_type": "stream",
     "text": [
      "Source: That's how Pharaoh came to own the land.\n",
      "Target: Takto sa krajina dostala do faraónovho vlastníctva.\n",
      "Prediction: A tak, ako prišli faraónovi,\n",
      "Source: I will harden Pharaoh's heart and he will pursue them.\n",
      "Target: \"A ja opäť zatvrdím faraónovo srdce a bude sa hnať za vami.\n",
      "Prediction: Ja by som zatvrdil faraónovo srdce a mal by som ich prepustiť.\n"
     ]
    },
    {
     "name": "stderr",
     "output_type": "stream",
     "text": [
      "Evaluating:   6%|▌         | 31/500 [00:22<06:01,  1.30it/s]"
     ]
    },
    {
     "name": "stdout",
     "output_type": "stream",
     "text": [
      "Source: To meet the demands of the Law it had to be slain—“And Moses slew it.”\n",
      "Target: Aby sa vyhovelo požiadavkám Zákonu, vôl musel byť usmrtený — \"a Mojžíš ho zabil.\"\n",
      "Prediction: Aby sa stretol s požiadavkami zákona, na to, že to bolo vinní – „A Mojžiš vzal“.\n"
     ]
    },
    {
     "name": "stderr",
     "output_type": "stream",
     "text": [
      "Evaluating:   7%|▋         | 34/500 [00:22<02:47,  2.79it/s]"
     ]
    },
    {
     "name": "stdout",
     "output_type": "stream",
     "text": [
      "Source: He played a leading role on that day”.\n",
      "Target: \"V ten deň hral hlavnú úlohu.\n",
      "Prediction: V ten deň hral vedúcu úlohu.\"\n",
      "Source: the Snow Queen will retain her power over him.\"\n",
      "Target: Snehová kráľovná bude ho mať naďalej v moci!\"\n",
      "Prediction: Sedetná kráľovská svoju moc jej zachráni.“\n",
      "Source: As we listen to God’s son,\n",
      "Target: ak počúvali Božieho Syna\n",
      "Prediction: Keď počúvame Božieho syna,\n"
     ]
    },
    {
     "name": "stderr",
     "output_type": "stream",
     "text": [
      "Evaluating:   7%|▋         | 37/500 [00:22<01:41,  4.57it/s]"
     ]
    },
    {
     "name": "stdout",
     "output_type": "stream",
     "text": [
      "Source: And the lowest in heaven’s kingdom is yet greater than he.”\n",
      "Target: Ale kto je v nebeskom kráľovstve najmenší, je väčší ako on. \"\n",
      "Prediction: a na nebesiach je ešte väčší, než on.“\n",
      "Source: Truly, I am very grateful this morning.\"\n",
      "Target: Úprimne, dnes ráno som veľmi vďačná.”\n",
      "Prediction: Truly, som veľmi vďačný ráno.\"\n",
      "Source: That will happen, if it is God’s will.\n",
      "Target: Stane sa tak, ak to bude Božia vôľa.\n",
      "Prediction: Toto je, ak je to Božia vôľa.\n"
     ]
    },
    {
     "name": "stderr",
     "output_type": "stream",
     "text": [
      "Evaluating:   8%|▊         | 39/500 [00:23<01:26,  5.33it/s]"
     ]
    },
    {
     "name": "stdout",
     "output_type": "stream",
     "text": [
      "Source: Have you asked for God’s forgiveness?\n",
      "Target: Prosíš ty Boha o odpustenie?\n",
      "Prediction: Pýtali ste sa na Božiu milosť?\n",
      "Source: “If the wife of any of you seeks permission to go to the masjid, he may not prevent her.”\n",
      "Target: \"Ak žena kohokoľvek z vás požiada o dovolenie ísť do mešity, nemali by ste jej to zakazovať.\"\n",
      "Prediction: \"Ak sa manželka ktorejkoľvek z vás žiadate, aby ste hrali na masky, nemohol ju vyhnúť.\"\n"
     ]
    },
    {
     "name": "stderr",
     "output_type": "stream",
     "text": [
      "Evaluating:   8%|▊         | 41/500 [00:23<01:07,  6.80it/s]"
     ]
    },
    {
     "name": "stdout",
     "output_type": "stream",
     "text": [
      "Source: God uses them for God’s plan of life for the world.\n",
      "Target: Pretože ich Boh používa na uskutočnenie svojho plánu pokoja pre svet\n",
      "Prediction: Božie Božie Slovo pre svet.\n",
      "Source: That’s how they persecuted the prophets who came before you.”\n",
      "Target: Takto totiž prenasledovali prorokov, ktorí boli pred vami. \"\n",
      "Prediction: Tak ako prenasledovali prorokov, ktorí boli pred vami.“\n"
     ]
    },
    {
     "name": "stderr",
     "output_type": "stream",
     "text": [
      "Evaluating:   9%|▉         | 44/500 [00:25<02:53,  2.63it/s]"
     ]
    },
    {
     "name": "stdout",
     "output_type": "stream",
     "text": [
      "Source: The introduction spoke of God's creating the heavens and the earth.\n",
      "Target: Aj v tomto prípade vystupuje ako podávateľ božieho slova a premostenie Zeme a neba.\n",
      "Prediction: Božie požehnanie na nebesiach a zeme.\n",
      "Source: You and I are part of God’s plan.\n",
      "Target: Ja a ty sme súčasťou Božieho plánu.\n",
      "Prediction: Vy a som súčasťou Božieho plánu.\n",
      "Source: If you do not like it, ignore it or offer your own version in return.\"\n",
      "Target: Ak sa Ti nepáči, ignoruj ju, alebo na oplátku ponúkni svoju verziu.\"\n",
      "Prediction: Ak sa vám to nepáči, ignoruje alebo ponúkajú svoju vlastnú verziu v návrate.\"\n"
     ]
    },
    {
     "name": "stderr",
     "output_type": "stream",
     "text": [
      "Evaluating:   9%|▉         | 45/500 [00:27<05:34,  1.36it/s]"
     ]
    },
    {
     "name": "stdout",
     "output_type": "stream",
     "text": [
      "Source: Satan's plan was to take the heaven and the earth.\n",
      "Target: Tento démon sa pokúšal bojovať s nebesami a so zemou.\n",
      "Prediction: A vskutku, aby sa vzal do neba i zeme.\n",
      "Source: Fear no person, for judgment is God’s.\n",
      "Target: Ani sa nebojte nijakej osoby, lebo súd patrí Bohu. “\n",
      "Prediction: Nie je to žiadny človek, ktorý je Boží.\n"
     ]
    },
    {
     "name": "stderr",
     "output_type": "stream",
     "text": [
      "Evaluating:   9%|▉         | 47/500 [00:29<06:34,  1.15it/s]"
     ]
    },
    {
     "name": "stdout",
     "output_type": "stream",
     "text": [
      "Source: They are unbelievers who say God is Messiah, Mary’s son.”\n",
      "Target: neveriaci*, tí čo tvrdili že Allah je Kristus, syn Márie…“ * – niektoré\n",
      "Prediction: Nie sú tí, ktorí neveriaci, odpúšťajú Pánovo synom.\"\n"
     ]
    },
    {
     "name": "stderr",
     "output_type": "stream",
     "text": [
      "Evaluating:  10%|▉         | 48/500 [00:31<07:22,  1.02it/s]"
     ]
    },
    {
     "name": "stdout",
     "output_type": "stream",
     "text": [
      "Source: The heavens are God’s throne, the earth is His footstool.\n",
      "Target: Nebo je trónom boha-panovníka; Zem je jeho podnožou.\n",
      "Prediction: Božie Slovo sú večné, na zemi,\n"
     ]
    },
    {
     "name": "stderr",
     "output_type": "stream",
     "text": [
      "Evaluating:  10%|▉         | 49/500 [00:31<06:31,  1.15it/s]"
     ]
    },
    {
     "name": "stdout",
     "output_type": "stream",
     "text": [
      "Source: When they came out, they blessed the people, and the Lord’s glorious presence appeared to all the people.\n",
      "Target: Keď vyšli, požehnali ľud a sláva Hospodinova sa zjavila všetkému ľudu.\n",
      "Prediction: Potom, čo išli, obvičili ľudí a Pánovu sumu sa zjavili na všetkých ľudí.\n"
     ]
    },
    {
     "name": "stderr",
     "output_type": "stream",
     "text": [
      "Evaluating:  10%|█         | 51/500 [00:34<06:47,  1.10it/s]"
     ]
    },
    {
     "name": "stdout",
     "output_type": "stream",
     "text": [
      "Source: “Peace alone, therefore, is holy and no act of violence can be perpetrated in the name of God, for it would profane his name.”\n",
      "Target: „Jedine mier je svätý, a nijaké násilie nemôže byť páchané v mene Boha, pretože by to znesväcovalo jeho Meno.“ Zdieľať\n",
      "Prediction: „Mierna, teda je svätý a žiadny čin násilia nemôže byť v Božom mene.\n",
      "Source: Their lawyers have been relentless, so we will deal with it in court”.\n",
      "Target: Ich právnici sú neúprosní, takže sa celou vecou budeme zaoberať na súde.\"\n",
      "Prediction: Židia sú bezbožní, tak sa budeme zaoberať súdom na zemi.“\n"
     ]
    },
    {
     "name": "stderr",
     "output_type": "stream",
     "text": [
      "Evaluating:  10%|█         | 52/500 [00:34<05:09,  1.45it/s]"
     ]
    },
    {
     "name": "stdout",
     "output_type": "stream",
     "text": [
      "Source: They know how to live life according to God's will.\n",
      "Target: Teraz sa učia, ako žiť podľa božej vôle.\n",
      "Prediction: A vieme, ako žiť podľa Božej vôle.\n"
     ]
    },
    {
     "name": "stderr",
     "output_type": "stream",
     "text": [
      "Evaluating:  11%|█         | 53/500 [00:36<08:09,  1.10s/it]"
     ]
    },
    {
     "name": "stdout",
     "output_type": "stream",
     "text": [
      "Source: Tell Pharaoh king of Egypt all that I am telling you.”\n",
      "Target: Povedz faraónovi, egyptskému kráľovi, všetko, čo ti hovorím.\n",
      "Prediction: „Povedzím faraónovi kráľovi a všetko, čo vám hovorím.“\n"
     ]
    },
    {
     "name": "stderr",
     "output_type": "stream",
     "text": [
      "Evaluating:  11%|█         | 54/500 [00:36<06:16,  1.18it/s]"
     ]
    },
    {
     "name": "stdout",
     "output_type": "stream",
     "text": [
      "Source: From heaven, or of men?”\n",
      "Target: Z neba; či od ľudí?\"\n",
      "Prediction: Z neba, alebo z mužov?“\n"
     ]
    },
    {
     "name": "stderr",
     "output_type": "stream",
     "text": [
      "Evaluating:  11%|█         | 56/500 [00:38<06:37,  1.12it/s]"
     ]
    },
    {
     "name": "stdout",
     "output_type": "stream",
     "text": [
      "Source: The LORD has accomplished all that he foretold through his servant Elijah.\"\n",
      "Target: Pán splnil všetko, čo povedal prostredníctvom svojho sluhu Eliáša.“\n",
      "Prediction: Jahve si prešiel všetko, čo povedal o jeho služobníkov Eliáša.\"\n",
      "Source: 27 But the Lord hardened Pharaoh’s heart, and he would not let them go.\n",
      "Target: 27 Ale Hospodin zatvrdil srdce faraonovo, a nechcel ich prepustiť.\n",
      "Prediction: 27 Ale Pán zatvrdil faraónovo srdce a on ich nechcel prepustiť.\n"
     ]
    },
    {
     "name": "stderr",
     "output_type": "stream",
     "text": [
      "Evaluating:  12%|█▏        | 59/500 [00:41<05:17,  1.39it/s]"
     ]
    },
    {
     "name": "stdout",
     "output_type": "stream",
     "text": [
      "Source: 2 Though they say, “As the Lord lives”, yet they swear falsely.\n",
      "Target: 2 A keď aj hovoria: Ako že žije Hospodin, i tak prisahajú falošne.\n",
      "Prediction: 2. povedia: „Ako žije Pán, aj keď prisahá.“\n",
      "Source: I have to believe that’s a sign.”\n",
      "Target: Musím veriť, že je to znamenie.\"\n",
      "Prediction: Musím veriť, že je to znamenie.“\n",
      "Source: [Am] I not better to you than ten sons?\"\n",
      "Target: Či som ti ja nie lepší než desať synov?\" -\n",
      "Prediction: A nie som lepšie ako desať synov?“\n",
      "Source: This is the dignity of God’s forgiveness.\n",
      "Target: To je dôstojnosť Božieho odpustenia!\n",
      "Prediction: Toto je Božie odpustenie.\n"
     ]
    },
    {
     "name": "stderr",
     "output_type": "stream",
     "text": [
      "Evaluating:  12%|█▏        | 61/500 [00:43<06:20,  1.15it/s]"
     ]
    },
    {
     "name": "stdout",
     "output_type": "stream",
     "text": [
      "Source: 41:25 Joseph said to Pharaoh, 'Pharaoh's dream has a single meaning.\n",
      "Target: 25 1Moj 41, 25 Jozef odpovedal faraónovi: Faraónove sny znamenajú jedno a to isté.\n",
      "Prediction: 25.\n"
     ]
    },
    {
     "name": "stderr",
     "output_type": "stream",
     "text": [
      "Evaluating:  12%|█▏        | 62/500 [00:45<08:37,  1.18s/it]"
     ]
    },
    {
     "name": "stdout",
     "output_type": "stream",
     "text": [
      "Source: \"And the Lord said to him, \"Who has made man’s mouth?\n",
      "Target: Citujem.......\"Jahve mu povedal: \"Ktože dal človeku ústa?\n",
      "Prediction: A hľa, povedal mu: „Kto zvrhol človeka?\n",
      "Source: but whoever does God's will lives forever.\n",
      "Target: Kto však plní Božiu vôľu, zostáva naveky.\n",
      "Prediction: Kto však urobí Božiu vôľu,\n"
     ]
    },
    {
     "name": "stderr",
     "output_type": "stream",
     "text": [
      "Evaluating:  13%|█▎        | 66/500 [00:45<03:53,  1.86it/s]"
     ]
    },
    {
     "name": "stdout",
     "output_type": "stream",
     "text": [
      "Source: I am not afraid of a separation that will unite me for ever with God.”\n",
      "Target: A ja nemám strach z odlúčenia, ktoré ma navždy spojí s dobrým Bohom.\n",
      "Prediction: Nie som sa, že som sa bojí odpúšťala, že ma už nikdy nebude žiť s Bohom.“\n",
      "Source: God’s anger remains on them.”\n",
      "Target: ale hnev Boží zostáva na ňom.“\n",
      "Prediction: Boží hnev zostáva na ňom.“\n",
      "Source: God's bread is that which comes down from heaven and gives life to the world.\n",
      "Target: Lebo Boží chlieb je ten, ktorý zostúpi z neba a dáva svetu život.\n",
      "Prediction: Boží chlieb je ten, ktorý prichádza z neba a dáva svetu život.\n"
     ]
    },
    {
     "name": "stderr",
     "output_type": "stream",
     "text": [
      "Evaluating:  13%|█▎        | 67/500 [00:46<03:40,  1.97it/s]"
     ]
    },
    {
     "name": "stdout",
     "output_type": "stream",
     "text": [
      "Source: Prayer is a search for God, but it’s also a revelation of God.\n",
      "Target: Modlitba je hľadaním Boha, ale je aj zjavením Boha.\n",
      "Prediction: Modlitba je hľadaním Boha, ale je to aj Božie zjavenie.\n"
     ]
    },
    {
     "name": "stderr",
     "output_type": "stream",
     "text": [
      "Evaluating:  14%|█▍        | 69/500 [00:48<04:58,  1.44it/s]"
     ]
    },
    {
     "name": "stdout",
     "output_type": "stream",
     "text": [
      "Source: Wherever respect for life and human dignity are lacking, there is need of God’s merciful love, in whose light we see the inexpressible value of every human being.\n",
      "Target: Tam, kde chýba úcta k životu a ľudskej dôstojnosti, tam je potrebná milosrdná Božia láska, lebo v jej svetle vidíme neobyčajnú hodnotu každej ľudskej bytosti.\n",
      "Prediction: Kdekoľvek, čo sa týka života a ľudskej dôstojnosti, chýba, existuje od Boha Milosrdnú láska, v ktorej svetlo učíme, že odpraviálna ľudská moc.\n",
      "Source: Anyone who believes in him will not die but will have eternal life.\"\n",
      "Target: Kto v neho verí, nezahynie, ale bude mať večný život.“\n",
      "Prediction: Kto verí v neho, nebude zomrieť, ale bude mať večný život.\n"
     ]
    },
    {
     "name": "stderr",
     "output_type": "stream",
     "text": [
      "Evaluating:  14%|█▍        | 72/500 [00:48<02:28,  2.88it/s]"
     ]
    },
    {
     "name": "stdout",
     "output_type": "stream",
     "text": [
      "Source: If we fail, Earth and ten billion inhabitants will perish.\"\n",
      "Target: \"Ak sa zle integrujeme, desaťtisíce podnikateľov a poľnohospodárov stratí existenciu\".\n",
      "Prediction: Ak sme zlyhaní, Zem a desať miliárd obyvateľov, budú zahydi. “\n",
      "Source: Even we who live in Italy: under zero.\n",
      "Target: Aj my, ktorí žijeme v Taliansku: pod nulou.\n",
      "Prediction: Aj my, ktorí žijeme v Taliansku: pod nuly.\n",
      "Source: “He who taught it was crucified.”\n",
      "Target: „Ten, kto to učil, bol ukrižovaný.“\n",
      "Prediction: A ten, kto učil, bol ukrižovaný.“\n"
     ]
    },
    {
     "name": "stderr",
     "output_type": "stream",
     "text": [
      "Evaluating:  15%|█▍        | 73/500 [00:51<05:23,  1.32it/s]"
     ]
    },
    {
     "name": "stdout",
     "output_type": "stream",
     "text": [
      "Source: Heaven and hell shall pass away, but God’s word stands forever!\n",
      "Target: Nebesia a zem pominú, ale Božie Slovo zostáva na veky!\n",
      "Prediction: Božie Slovo a peklo, ale Božie Slovo prichádza na navždy!\n"
     ]
    },
    {
     "name": "stderr",
     "output_type": "stream",
     "text": [
      "Evaluating:  15%|█▍        | 74/500 [00:53<07:50,  1.11s/it]"
     ]
    },
    {
     "name": "stdout",
     "output_type": "stream",
     "text": [
      "Source: Zephaniah 3:17 says,”The Lord your God is in your midst.\n",
      "Target: 15 Sofoniáš 3:17 hovorí: „Jehova, tvoj Boh, je v tvojom strede.\n",
      "Prediction: Zereáš 3,17: „Pane, tvoj Boh, je v tvojom ohľade.\n"
     ]
    },
    {
     "name": "stderr",
     "output_type": "stream",
     "text": [
      "Evaluating:  15%|█▌        | 76/500 [00:55<07:21,  1.04s/it]"
     ]
    },
    {
     "name": "stdout",
     "output_type": "stream",
     "text": [
      "Source: Then WHO WILL enter God's Kingdom?\n",
      "Target: Takže, kto môže vojsť do Božieho kráľovstva?\n",
      "Prediction: Ó, čo je v Božom kráľovstve?\n",
      "Source: It is in the brain, and the brain only, that the great sins of the world take place also.”\n",
      "Target: Takisto v hlave - a jedine v hlave - sa odohrávajú aj veľké hriechy sveta.\"\n",
      "Prediction: Je to v mozgu a mozog len, že veľké hriechy sveta sa nachádza aj.”\n",
      "Source: he was taken up between the heaven and the earth;\n",
      "Target: A niečo medzi nebom a zemou rozhodlo,\n",
      "Prediction: z neba i zeme,\n"
     ]
    },
    {
     "name": "stderr",
     "output_type": "stream",
     "text": [
      "Evaluating:  16%|█▌        | 78/500 [00:57<07:39,  1.09s/it]"
     ]
    },
    {
     "name": "stdout",
     "output_type": "stream",
     "text": [
      "Source: Therefore God lacks either goodness, or power, or both.”3\n",
      "Target: Preto Boh buď nie je dobrý, alebo všemohúci, alebo oboje.“8\n",
      "Prediction: Preto Boh nenájal, ani mocnosť, alebo moc i obe.“\n",
      "Source: God is touching the people’s hearts.\n",
      "Target: Boh sa prihovára srdciam ľudí.\n",
      "Prediction: Božie Slovo sa týka srdca človeka.\n"
     ]
    },
    {
     "name": "stderr",
     "output_type": "stream",
     "text": [
      "Evaluating:  16%|█▌        | 80/500 [00:58<05:00,  1.40it/s]"
     ]
    },
    {
     "name": "stdout",
     "output_type": "stream",
     "text": [
      "Source: When Leo wakes up the three of them mess around for most of the day before they settle down to some food.’\n",
      "Target: 'Keď sa Leo prebudia tri z nich neporiadok okolo väčšinu dňa pred pustí do nejakej jedlo.'\n",
      "Prediction: Keď Leo urobil tri z nich tri z nich pre väčšinu dňa skôr, ako sa objavia na nejaké jedlo.“\n",
      "Source: He sees them instead as a completely isolated group.16\n",
      "Target: Namiesto toho ich považuje za úplne izolovanú skupinu.16\n",
      "Prediction: Vidí ich namiesto toho, ako úplne izolovaná skupina.16\n"
     ]
    },
    {
     "name": "stderr",
     "output_type": "stream",
     "text": [
      "Evaluating:  16%|█▋        | 82/500 [00:58<03:45,  1.85it/s]"
     ]
    },
    {
     "name": "stdout",
     "output_type": "stream",
     "text": [
      "Source: He will always behold Me like a brother his brother and as I beheld him from eternity, before he was.\"\n",
      "Target: Bude Ma vždy vidieť ako brat svojho brata a ako som ho Ja videl už od večnosti, ešte skôr než bol.”\n",
      "Prediction: Vždy ma bude menovať ako brata svojho brata a ako by som ich vzal od večníka, skôr ako on.“\n"
     ]
    },
    {
     "name": "stderr",
     "output_type": "stream",
     "text": [
      "Evaluating:  17%|█▋        | 83/500 [01:00<06:11,  1.12it/s]"
     ]
    },
    {
     "name": "stdout",
     "output_type": "stream",
     "text": [
      "Source: Then Joseph said to them, “Do not the meanings of dreams belong to God?\n",
      "Target: Jozef im povedal: \"A nepatrí Bohu vykladanie snov?!\n",
      "Prediction: A Jozef im povedal: „Nie je to isté, že neveriaci patrí Bohu?\n"
     ]
    },
    {
     "name": "stderr",
     "output_type": "stream",
     "text": [
      "Evaluating:  17%|█▋        | 84/500 [01:01<06:00,  1.15it/s]"
     ]
    },
    {
     "name": "stdout",
     "output_type": "stream",
     "text": [
      "Source: “Whatever the Lord pleases, He does, in Heaven and on Earth, in the seas and all deeps.”\n",
      "Target: Všetko, čo sa páči Hospodinovi, činí na nebi aj na zemi, v moriach a všetkých hlbinách.\n",
      "Prediction: To, čokoľvek, v nebi, robí v nebi a na zemi, v oceáne a vo všetkých hlbokých.\"\n"
     ]
    },
    {
     "name": "stderr",
     "output_type": "stream",
     "text": [
      "Evaluating:  17%|█▋        | 87/500 [01:03<05:00,  1.38it/s]"
     ]
    },
    {
     "name": "stdout",
     "output_type": "stream",
     "text": [
      "Source: “Until we meet again, may God hold you in the palm of His hand.”\n",
      "Target: A kým sa stretneme znova, nech ťa Boh drží vo svojich dlaniach.“\n",
      "Prediction: A preto, že sa stretneme znova, nech sa boh plníme v Pánovom kráľovstve.“\n",
      "Source: He said, “The sick need a physician.”\n",
      "Target: Povedal totiž, že ‚chorí potrebujú lekára‘.\n",
      "Prediction: Odpovedal: „Zibi potrebuje fyziku!”\n",
      "Source: And tomorrow, he is tried and put to jail.\"\n",
      "Target: Zajtra bude zatknutý a uvrhnutý do väzenia!”\n",
      "Prediction: A zajtra sa pokúsi a uvida.\"\n",
      "Source: God’s Presence is near.\n",
      "Target: Božia prítomnosť je bližšie.\n",
      "Prediction: Božia prítomnosť je blízko.\n"
     ]
    },
    {
     "name": "stderr",
     "output_type": "stream",
     "text": [
      "Evaluating:  18%|█▊        | 89/500 [01:06<06:04,  1.13it/s]"
     ]
    },
    {
     "name": "stdout",
     "output_type": "stream",
     "text": [
      "Source: These are those who know how to have compassion, who know how to have mercy on others, because they experience it for themselves.”\n",
      "Target: Toto sú tí, ktorí dokážu mať súcit, ktorí vedia mať milosrdenstvo s druhými, pretože ho zakusujú sami na sebe.“\n",
      "Prediction: To sú tí, ktorí vedia, ako mať milosrdenstvo, ktorí poznajú na tých, ktorí majú milosrdenstvo, pretože ich zažijú.\"\n",
      "Source: Have confidence in God’s forgiveness.\n",
      "Target: Majte dôveru v Božie odpustenie.\n",
      "Prediction: Odpúšťajú Božie odpustenie.\n"
     ]
    },
    {
     "name": "stderr",
     "output_type": "stream",
     "text": [
      "Evaluating:  18%|█▊        | 91/500 [01:07<05:26,  1.25it/s]"
     ]
    },
    {
     "name": "stdout",
     "output_type": "stream",
     "text": [
      "Source: So, \"… he said, Lord GOD, whereby shall I know that I shall inherit it?\n",
      "Target: On sa opýtal: „Pane, Bože, podľa čoho spoznám, že ju budem vlastniť?“\n",
      "Prediction: A povedal: „Pane, Bože, vskutku,\n"
     ]
    },
    {
     "name": "stderr",
     "output_type": "stream",
     "text": [
      "Evaluating:  19%|█▊        | 93/500 [01:07<03:53,  1.74it/s]"
     ]
    },
    {
     "name": "stdout",
     "output_type": "stream",
     "text": [
      "Source: But they did not hearken to Moses, and some of them left part of it until the next morning.\n",
      "Target: Oni však nepočúvali Mojžiša a niektorí si z toho nechali (časť) až do druhého rána.\n",
      "Prediction: Ale oni neradili Mojžišovi a niektorí z nich opustili časť, až do najbližších ráno.\n",
      "Source: The most merciful and ever merciful\n",
      "Target: Milostivého a Milosrdného.\n",
      "Prediction: Pravejšia milosť a Milosrdný\n"
     ]
    },
    {
     "name": "stderr",
     "output_type": "stream",
     "text": [
      "Evaluating:  19%|█▉        | 95/500 [01:08<02:39,  2.53it/s]"
     ]
    },
    {
     "name": "stdout",
     "output_type": "stream",
     "text": [
      "Source: As for the traitor in Room 14, we will eventually find him.\n",
      "Target: Pokiaľ ide o zradcu v izbe 14, nakoniec ho nájdeme.\n",
      "Prediction: Pokiaľ ide o trati v Room 14, nakoniec ho nájdeme.\n",
      "Source: Even today, or perhaps today more than ever, Don Bosco asks questions.\n",
      "Target: Aj dnes, a možno častejšie ako kedysi, don Bosco kladie otázky.\n",
      "Prediction: Aj dnes, alebo možno dnes viac ako kedykoľvek predtým, Don Bos sa pýta otázky.\n"
     ]
    },
    {
     "name": "stderr",
     "output_type": "stream",
     "text": [
      "Evaluating:  20%|█▉        | 98/500 [01:10<03:26,  1.95it/s]"
     ]
    },
    {
     "name": "stdout",
     "output_type": "stream",
     "text": [
      "Source: The men in the boat fell down before him and exclaimed, “You really are God’s son.\n",
      "Target: Tí, čo boli na loďke, klaňali sa mu a vraveli: „Naozaj si Boží Syn!“\n",
      "Prediction: Tí, čo boli v lodi, boli pred Bohom a na to, na to, čo sa spoznali: „V skutočnosti si Boh Pán.\n",
      "Source: You can become God’s friend.\n",
      "Target: Môžeš sa stať Božím priateľom!\n",
      "Prediction: Tak sa môžete stať Božím priateľom.\n",
      "Source: Do you know how to listen to God’s voice?\n",
      "Target: Vieš počúvať Boží hlas?\n",
      "Prediction: Viete, ako počúvať Božie slovo?\n"
     ]
    },
    {
     "name": "stderr",
     "output_type": "stream",
     "text": [
      "Evaluating:  20%|██        | 100/500 [01:10<02:24,  2.76it/s]"
     ]
    },
    {
     "name": "stdout",
     "output_type": "stream",
     "text": [
      "Source: God’s bread is the One who comes down from heaven and gives life to the world.”\n",
      "Target: Božím chlebom je Ten, kto zostupuje z neba a dáva život svetu.\n",
      "Prediction: Boží chlieb je ten, ktorý pochádza z neba a dáva svetu život.“\n",
      "Source: Give thanks to God because everything is God's gift to you.\n",
      "Target: Ďakujte Bohu, lebo všetko je pre vás Boží dar.\n",
      "Prediction: To je Božia milosť, lebo ti všetko je milosť.\n"
     ]
    },
    {
     "name": "stderr",
     "output_type": "stream",
     "text": [
      "Evaluating:  20%|██        | 101/500 [01:10<01:59,  3.34it/s]"
     ]
    },
    {
     "name": "stdout",
     "output_type": "stream",
     "text": [
      "Source: How does Satan REMOVE the Word of God from people's hearts?\n",
      "Target: Ako dokáže diabol zobrať Božie slovo zo srdca?\n",
      "Prediction: Ako sa hovorí, že satan bol Božím Slovom!\n"
     ]
    },
    {
     "name": "stderr",
     "output_type": "stream",
     "text": [
      "Evaluating:  20%|██        | 102/500 [01:11<01:54,  3.48it/s]"
     ]
    },
    {
     "name": "stdout",
     "output_type": "stream",
     "text": [
      "Source: The heavens declare God’s righteousness to judge.\n",
      "Target: Mesiáš prichádza s Božou mocou, aby súdil.\n",
      "Prediction: Božie milosrdenstvo na súdnosť.\n"
     ]
    },
    {
     "name": "stderr",
     "output_type": "stream",
     "text": [
      "Evaluating:  21%|██        | 104/500 [01:11<01:39,  3.99it/s]"
     ]
    },
    {
     "name": "stdout",
     "output_type": "stream",
     "text": [
      "Source: Blessed is the one who comes in God’s name – the King of Israel.\n",
      "Target: Požehnaný, ktorý prichádza v_mene Pánovom, Kráľ Izraela\n",
      "Prediction: Blahoslavený, ktorý prichádza v Božom mene, kráľovi Izraela.\n",
      "Source: “But our God is in the heavens; He does whatever He pleases.”20\n",
      "Target: „Náš Boh je na nebesiach, všetko robí podľa svojej vôle.“16\n",
      "Prediction: Ale náš Boh je v nebesiach, robí všetko, čo chce.\n",
      "Source: Human beings are God’s sons and daughters.\n",
      "Target: cítiaci ľudia sú Božími synmi a dcérami.\n",
      "Prediction: Ľudia sú Božími synmi a dcérami.\n"
     ]
    },
    {
     "name": "stderr",
     "output_type": "stream",
     "text": [
      "Evaluating:  21%|██        | 106/500 [01:13<04:11,  1.56it/s]"
     ]
    },
    {
     "name": "stdout",
     "output_type": "stream",
     "text": [
      "Source: Mohammed said, “He who has passed that remark has told a lie; for Amir there is a double reward.”\n",
      "Target: Povedal: Ten, kto vyriekol tú poznámku, povedal lož, pre Amira je dvojnásobná odmena.\"\n",
      "Prediction: Mohamed povedal: „Kto prešiel klamnosť, povedal klamnosť.\n"
     ]
    },
    {
     "name": "stderr",
     "output_type": "stream",
     "text": [
      "Evaluating:  22%|██▏       | 108/500 [01:16<05:13,  1.25it/s]"
     ]
    },
    {
     "name": "stdout",
     "output_type": "stream",
     "text": [
      "Source: If then you are God’s handiwork, await the hand of the Artist who does all things in due season.\n",
      "Target: Ak ste teda vy dielom Boha, čakajte na ruku umelca, ktorý robí každú vec v pravom čase.~SV.\n",
      "Prediction: Akže si Božia vôľa, očakávate ruku z hrristica, ktorý robí všetko v tomto sezóne.\n",
      "Source: And he said, \"We should raise a fund and do some investing.\"\n",
      "Target: A on mi povedal: mali by sme založiť fond a investovať.\n",
      "Prediction: A on povedal: \"Mali by sme zvýšiť financovanie a robiť nejaké investovanie.\"\n"
     ]
    },
    {
     "name": "stderr",
     "output_type": "stream",
     "text": [
      "Evaluating:  22%|██▏       | 110/500 [01:16<03:07,  2.08it/s]"
     ]
    },
    {
     "name": "stdout",
     "output_type": "stream",
     "text": [
      "Source: God’s bread is the One who comes down from heaven and gives life to the world.”\n",
      "Target: Lebo Boží chlieb je ten, ktorý zostúpil z neba a dáva svetu život.”\n",
      "Prediction: Boží chlieb je ten, ktorý pochádza z neba a dáva svet.“\n",
      "Source: God’s bread is the One who comes down from heaven and gives life to the world.”\n",
      "Target: Lebo Boží chlieb je ten, ktorý zostúpil z neba a dáva svetu život.“\n",
      "Prediction: Boží chlieb je ten, ktorý pochádza z neba a dáva svetu život.“\n"
     ]
    },
    {
     "name": "stderr",
     "output_type": "stream",
     "text": [
      "Evaluating:  23%|██▎       | 113/500 [01:16<01:35,  4.06it/s]"
     ]
    },
    {
     "name": "stdout",
     "output_type": "stream",
     "text": [
      "Source: God’s bread is the One who comes down from heaven and gives life to the world.”\n",
      "Target: Lebo Boží chlieb je ten, ktorý zostúpil z neba a dáva svetu život.\"\n",
      "Prediction: Boží chlieb je ten, ktorý pochádza z neba a dáva svetu život.\n",
      "Source: They want to live in God’s presence.\n",
      "Target: a chcú žiť v Božej prítomnosti\n",
      "Prediction: Nech je Božia prítomnosť v Božej prítomnosti.\n",
      "Source: The one who does God’s will remains forever.\n",
      "Target: Kto však koná Božiu vôľu, zostáva naveky.\n",
      "Prediction: Kto však plní Božiu vôľu, zostáva navždy.\n"
     ]
    },
    {
     "name": "stderr",
     "output_type": "stream",
     "text": [
      "Evaluating:  23%|██▎       | 114/500 [01:18<04:32,  1.42it/s]"
     ]
    },
    {
     "name": "stdout",
     "output_type": "stream",
     "text": [
      "Source: God’s had a chosen people the Israelites.\n",
      "Target: Boh si však predsa vyvolil Izraelcov.\n",
      "Prediction: Božie deti si zvolili ľudí.\n",
      "Source: All of God's wonderful promises fulfilled.\n",
      "Target: Všetky nádherné zasľúbenia Božie sú vyplnené.\n",
      "Prediction: Všetky Božie zasľúbenia.\n"
     ]
    },
    {
     "name": "stderr",
     "output_type": "stream",
     "text": [
      "Evaluating:  23%|██▎       | 117/500 [01:21<04:32,  1.40it/s]"
     ]
    },
    {
     "name": "stdout",
     "output_type": "stream",
     "text": [
      "Source: “Whatever the Lord pleases, He does, in Heaven and on Earth, in the seas and all deeps.”\n",
      "Target: - Všetko, čo sa páči Hospodinovi, činí na nebi aj na zemi, v moriach a všetkých hlbinách.\n",
      "Prediction: Čokoľvek, na zemi, v nebi, v nebi a na zemi, v moroch a vo všetkých hlbokých.\"\n",
      "Source: “They have found each other; they are plugged into each other, and they have each other’s backs.\n",
      "Target: Tým, že sa (tam) stretávali s ním, súčasne sa (tam) stretávali navzájom !\n",
      "Prediction: Našli sa navzájom tie ostatné; sú kritizované navzájom, a oni ju majú nejaké iné.\n"
     ]
    },
    {
     "name": "stderr",
     "output_type": "stream",
     "text": [
      "Evaluating:  24%|██▍       | 119/500 [01:21<02:54,  2.18it/s]"
     ]
    },
    {
     "name": "stdout",
     "output_type": "stream",
     "text": [
      "Source: Our (wrong) answer: Beef is always dead.\n",
      "Target: Naša (nesprávna) odpoveď: Hovädzie je vždy mŕtve.\n",
      "Prediction: Naši (spravodlivé) odpoveď: Neché je vždy mŕtva.\n",
      "Source: ​​Pilate said to them ,\"Which of the two do you want me to release to you?\n",
      "Target: Pilát sa opýtal ľudí: “Ktorého z tých dvoch chcete, aby som vám prepustil?”\n",
      "Prediction: APilat im povedal: „Čože z dvoch, chcete, aby som ti ušetril?\n"
     ]
    },
    {
     "name": "stderr",
     "output_type": "stream",
     "text": [
      "Evaluating:  24%|██▍       | 120/500 [01:21<02:18,  2.75it/s]"
     ]
    },
    {
     "name": "stdout",
     "output_type": "stream",
     "text": [
      "Source: And Jesus said to him, \"Go, your faith has healed you.\"\n",
      "Target: A Ježiš mu povedal: „Choď, tvoja viera ťa uzdravila!\"\n",
      "Prediction: Ježiš mu povedal: „Choď, tvoja viera, ktorá ťa uzdravila.\n"
     ]
    },
    {
     "name": "stderr",
     "output_type": "stream",
     "text": [
      "Evaluating:  24%|██▍       | 121/500 [01:22<03:22,  1.87it/s]"
     ]
    },
    {
     "name": "stdout",
     "output_type": "stream",
     "text": [
      "Source: Instead of speaking about yourself, speak about Allah and the Holy Prophet ( ).\n",
      "Target: Namiesto toho, aby si hovoril o sebe, hovor o Bohu a o Božom Prorokovi (mier s ním).\n",
      "Prediction: Namiesto toho, čo sa hovorí o sebe, hovorí o Allahove a o Allahovi.\n"
     ]
    },
    {
     "name": "stderr",
     "output_type": "stream",
     "text": [
      "Evaluating:  24%|██▍       | 122/500 [01:22<03:01,  2.09it/s]"
     ]
    },
    {
     "name": "stdout",
     "output_type": "stream",
     "text": [
      "Source: He comes as the True Parent to conclude God's providence in the Completed Testament Age.\n",
      "Target: Prichádza ako Pravý rodič, aby zavŕšil Božiu prozreteľnosť vo veku Splneného zákona.\n",
      "Prediction: On prichádza ako Pravda Pravdy, aby uzatválil Božiu stupeň v prístupnom veku.\n"
     ]
    },
    {
     "name": "stderr",
     "output_type": "stream",
     "text": [
      "Evaluating:  25%|██▍       | 123/500 [01:23<04:04,  1.54it/s]"
     ]
    },
    {
     "name": "stdout",
     "output_type": "stream",
     "text": [
      "Source: Even today men will choose to follow man-made traditions rather than God's Word.\n",
      "Target: Dnes, rovnako ako kedysi, sú ľudia naklonení prijímať ľudské názory a tradície namiesto Božieho slova.\n",
      "Prediction: Dokonca aj dnes sa ľudia spoznajú, že budú nasledovať človeka, skôr než Božie slovo.\n"
     ]
    },
    {
     "name": "stderr",
     "output_type": "stream",
     "text": [
      "Evaluating:  25%|██▌       | 125/500 [01:26<05:02,  1.24it/s]"
     ]
    },
    {
     "name": "stdout",
     "output_type": "stream",
     "text": [
      "Source: However,Christ says,” When He the spirit of truth comes, He shall lead you into ALL truth.\n",
      "Target: Ježiš, ktorý povedal: „Keď príde Duch pravdy, uvedie vás do plnej pravdy.\"\n",
      "Prediction: Kristus povedal: „Keď však príde Duch pravdy, uvedie vás do Allaha.\n",
      "Source: Let us look above all at Jesus: how much patience He had to have during the three years of His public life!\n",
      "Target: Hľaďme predovšetkým na Ježiša: koľkú trpezlivosť musel mať počas troch rokov svojho verejného života!\n",
      "Prediction: Pozrime sa predovšetkým na Ježiš: koľko veľa trpezlivosť musí mať počas troch rokov svojho verejného života!\n"
     ]
    },
    {
     "name": "stderr",
     "output_type": "stream",
     "text": [
      "Evaluating:  25%|██▌       | 126/500 [01:28<07:30,  1.20s/it]"
     ]
    },
    {
     "name": "stdout",
     "output_type": "stream",
     "text": [
      "Source: Here I sit and there you are lying; we have so much to say, and we shall never say it.”\n",
      "Target: Ešte tu sedím, a ty ležíš, musíme si toho toľko povedať, nikdy však nebudeme môcť.\n",
      "Prediction: Tu som sedel a tam klame, máme toľko čo povedať a nikdy nebudeme to povedať.“\n",
      "Source: “Yet when the Spirit of Truth comes, he’ll guide you into all truth.\n",
      "Target: A znova: Keď príde on, uvedie vás do plnej pravdy.\n",
      "Prediction: Keď však príde Duch pravdy, uvedie vás do celej pravdy.\n"
     ]
    },
    {
     "name": "stderr",
     "output_type": "stream",
     "text": [
      "Evaluating:  26%|██▌       | 128/500 [01:28<04:29,  1.38it/s]"
     ]
    },
    {
     "name": "stdout",
     "output_type": "stream",
     "text": [
      "Source: 46 David found favor in God’s sight, and asked that he might find a dwelling place for the God of Jacob.\n",
      "Target: 46 Dávid našiel milosť u Boha a žiadal, aby našiel Jákobov­mu Bohu príbytok.\n",
      "Prediction: 46 Mojžiš našiel milosť v Božích očiach a opýtal sa, že môže nájsť pre Boha Jakovi Jakubovi.\n"
     ]
    },
    {
     "name": "stderr",
     "output_type": "stream",
     "text": [
      "Evaluating:  26%|██▌       | 129/500 [01:30<06:37,  1.07s/it]"
     ]
    },
    {
     "name": "stdout",
     "output_type": "stream",
     "text": [
      "Source: Wherever respect for life and human dignity are lacking, there is need of God’s merciful love, in whose light we see the inexpressible value of every human being.\n",
      "Target: Kde je nedostatok úcty k životu a ľudskej dôstojnosti, potrebná je milosrdná láska Boha, v svetle ktorej sa odhaľuje neopísateľná hodnota každej ľudskej bytosti.\n",
      "Prediction: Na rozdiel od bez ohľadu na život a ľudskú dôstojnosť chýba, tam je Božiu milosť, v tom, ktorého svetlo vidíme, že sme uclorna ľudskej moci.\n"
     ]
    },
    {
     "name": "stderr",
     "output_type": "stream",
     "text": [
      "Evaluating:  26%|██▌       | 131/500 [01:31<04:09,  1.48it/s]"
     ]
    },
    {
     "name": "stdout",
     "output_type": "stream",
     "text": [
      "Source: 8:18I am he who testifies about myself, and the Father who sent me testifies about me.\"\n",
      "Target: Jn 8:18 - Ja sám vydávam svedectvo o sebe a vydáva o mne svedectvo aj Otec, ktorý ma poslal.“\n",
      "Prediction: 8:18 Ja sám vydávam svedectvo o sebe a Otec, ktorý ma poslal.\n",
      "Source: “The other things on Earth are created to for man’s use, to help him reach the end for which he was created.\n",
      "Target: Ostatné veci na povrchu zeme sú stvorené pre človeka, aby mu pomáhali dosiahnuť cieľ, pre ktorý je stvorený.\n",
      "Prediction: Iné veci na Zemi sú vytvorené pre človeka, aby im pomohlo dosiahnuť koniec, pre ktorý bol stvorený.\n"
     ]
    },
    {
     "name": "stderr",
     "output_type": "stream",
     "text": [
      "Evaluating:  27%|██▋       | 133/500 [01:31<02:31,  2.42it/s]"
     ]
    },
    {
     "name": "stdout",
     "output_type": "stream",
     "text": [
      "Source: The dream is certain, and the interpretation thereof sure.\"\n",
      "Target: Sen je pravdivý a jeho výklad spoľahlivý.“\n",
      "Prediction: Sen je pravdivý a jeho výklad spoľahlivý.\"\n",
      "Source: This is indeed a birder’s paradise.\n",
      "Target: Je to skutočne raj vtákov.\n",
      "Prediction: To je skutočne vták vtáka.\n"
     ]
    },
    {
     "name": "stderr",
     "output_type": "stream",
     "text": [
      "Evaluating:  27%|██▋       | 135/500 [01:31<01:55,  3.17it/s]"
     ]
    },
    {
     "name": "stdout",
     "output_type": "stream",
     "text": [
      "Source: “Books are mirrors: you only see in them what you already have inside of you.”\n",
      "Target: “Knihy sú ako zrkadlo, vidíš v nich len to, čo už v sebe máš.”\n",
      "Prediction: „Božie slovo sú zázraky: v nich vidíte len v tom, čo už máte vo vás.“\n",
      "Source: “Books are mirrors: you only see in them what you already have inside of you.”\n",
      "Target: \"Knihy sú ako zrkadlo, vidíš v nich len to, čo už v sebe máš.\"\n",
      "Prediction: „Božie Slovo sú zázraky: vidíte v nich len v tom, čo už máte vo vás.\"\n"
     ]
    },
    {
     "name": "stderr",
     "output_type": "stream",
     "text": [
      "Evaluating:  27%|██▋       | 136/500 [01:31<01:36,  3.76it/s]"
     ]
    },
    {
     "name": "stdout",
     "output_type": "stream",
     "text": [
      "Source: The self-realized souls can impart knowledge unto you because he has seen the truth.”\n",
      "Target: Sebarealizované duše ti môžu dať poznanie, lebo ony uzreli pravdu.“\n",
      "Prediction: Sebarealizované duše ti môžu odolať vedomosti, pretože videl pravdu.“\n"
     ]
    },
    {
     "name": "stderr",
     "output_type": "stream",
     "text": [
      "Evaluating:  27%|██▋       | 137/500 [01:32<02:43,  2.22it/s]"
     ]
    },
    {
     "name": "stdout",
     "output_type": "stream",
     "text": [
      "Source: Where there is darkness, God's light shines forth.\n",
      "Target: Žijúcim v temnom kraji, svetlo Božie žiariť má.\n",
      "Prediction: A tak je v tom, že je to, čo je v úbohúci.\n",
      "Source: “If you believe, you will see God’s glory!”\n",
      "Target: \"Ak budeš veriť, uzrieš slávu Božiu!\"\n",
      "Prediction: „Ak veríte, uvidíte Božiu slávu!“\n"
     ]
    },
    {
     "name": "stderr",
     "output_type": "stream",
     "text": [
      "Evaluating:  28%|██▊       | 139/500 [01:33<02:49,  2.13it/s]"
     ]
    },
    {
     "name": "stdout",
     "output_type": "stream",
     "text": [
      "Source: 'Because of what you have done the heavens have become a part of man's world.\n",
      "Target: Vďaka tomu, čo ste urobili, sa nebesá stali časťou ľudského sveta.\"\n",
      "Prediction: \"To, čo ste robili, sa nebesia sú súčasťou života človeka.\n"
     ]
    },
    {
     "name": "stderr",
     "output_type": "stream",
     "text": [
      "Evaluating:  28%|██▊       | 141/500 [01:36<04:01,  1.49it/s]"
     ]
    },
    {
     "name": "stdout",
     "output_type": "stream",
     "text": [
      "Source: Whatever is in the heavens and on earth, doth declare His Praises and Glory:\n",
      "Target: na nebi i na zemi: na zemi tým, že ťa rozmnoží v milosti a vo svojich čnostiach\n",
      "Prediction: Všetko, čo je v nebi a na zemi, je v tom, že sa chválí a na zemi,\n",
      "Source: She heard God’s voice and sought God’s presence.\n",
      "Target: Počúvala Boží hlas a hľadala Božiu vôľu.\n",
      "Prediction: Dal si Boží hlas a videl sa Božiu prítomnosť.\n",
      "Source: But what about in God's eyes?\n",
      "Target: Ale čo v očiach Božích?\n",
      "Prediction: A čo v očiach Boha?\n"
     ]
    },
    {
     "name": "stderr",
     "output_type": "stream",
     "text": [
      "Evaluating:  29%|██▊       | 143/500 [01:36<02:30,  2.37it/s]"
     ]
    },
    {
     "name": "stdout",
     "output_type": "stream",
     "text": [
      "Source: (1) 17.64% for the European Research Council;\n",
      "Target: (1) 17,64 % na Európsku radu pre výskum;\n",
      "Prediction: (1) 17.64% pre európsku výskumnú radu;\n"
     ]
    },
    {
     "name": "stderr",
     "output_type": "stream",
     "text": [
      "Evaluating:  29%|██▉       | 144/500 [01:36<02:40,  2.22it/s]"
     ]
    },
    {
     "name": "stdout",
     "output_type": "stream",
     "text": [
      "Source: It is the state of God’s will being done on Earth as it is in Heaven.\n",
      "Target: Spôsobí, že sa na zemi bude diať Božia vôľa, tak ako sa deje v nebi.\n",
      "Prediction: Je to Božia vôľa na zemi, ako je v nebi.\n"
     ]
    },
    {
     "name": "stderr",
     "output_type": "stream",
     "text": [
      "Evaluating:  29%|██▉       | 147/500 [01:39<03:09,  1.86it/s]"
     ]
    },
    {
     "name": "stdout",
     "output_type": "stream",
     "text": [
      "Source: the earth's surface and the life which peoples it.\n",
      "Target: Pozemský život a žitie, ktoré ju vystihuje.\n",
      "Prediction: Božie chválu a život, v ktoromkoľvek zvestuje nároky.\n",
      "Source: God’s judgment was swift upon him.\n",
      "Target: Preto bol Boží súd nad nimi veľmi rýchly.\n",
      "Prediction: Božie prikázanie sa na ňom prikázal.\n",
      "Source: There is no greater obstacle to God than time.”\n",
      "Target: Na ceste k Bohu niet väčšej prekážky, ako je čas.“\n",
      "Prediction: Nie je pre Boha mocná.\"\n"
     ]
    },
    {
     "name": "stderr",
     "output_type": "stream",
     "text": [
      "Evaluating:  30%|███       | 150/500 [01:39<01:46,  3.29it/s]"
     ]
    },
    {
     "name": "stdout",
     "output_type": "stream",
     "text": [
      "Source: Indeed, Jesus “has his priesthood without any successors.”\n",
      "Target: Áno, Ježiš „má svoje kňazstvo bez akýchkoľvek nástupcov“.\n",
      "Prediction: V skutočnosti, Ježiš „zasám jeho kňazstvo bez akéhokoľvek úspechu.”\n",
      "Source: Who could escape from God’s hands?\n",
      "Target: Ale kto môže utiecť pred Božou rukou?\n",
      "Prediction: Kto môže utiecť z Božích rúk?\n",
      "Source: for all endurance and patience with joy.\"\n",
      "Target: ku všetkej trpezlivosti a zhovievavosti s radosťou“,\n",
      "Prediction: A pre všetkých tvorcov a trpezlivosť s radosťou.“\n"
     ]
    },
    {
     "name": "stderr",
     "output_type": "stream",
     "text": [
      "Evaluating:  30%|███       | 151/500 [01:40<03:24,  1.70it/s]"
     ]
    },
    {
     "name": "stdout",
     "output_type": "stream",
     "text": [
      "Source: 2592 The prayer of Abraham and Jacob is presented as a battle of faith marked by trust in God's faithfulness and by certitude in the victory promised to perseverance.\n",
      "Target: 2592 Abrahámova a Jakubova modlitba sa javí ako zápas viery, ktorá dôveruje v Božiu vernosť a je si istá víťazstvom, ktoré je prisľúbené za vytrvalosť.\n",
      "Prediction: 2592 Abrahám Abraháma a Jakub je prezentovaný ako boj viery, ktorú chýbaš vernosť v verzii veríme vernosť a poslúži k Bohu.\n"
     ]
    },
    {
     "name": "stderr",
     "output_type": "stream",
     "text": [
      "Evaluating:  30%|███       | 152/500 [01:42<04:19,  1.34it/s]"
     ]
    },
    {
     "name": "stdout",
     "output_type": "stream",
     "text": [
      "Source: How many believers, even in our own day, are tested by God’s silence when they would rather hear his consoling voice!\n",
      "Target: Koľkí veriaci sú aj v našej dobe skúšaní Božím mlčaním, zatiaľ čo by chceli počuť jeho utešujúci hlas!\n",
      "Prediction: Koľko veriacich, dokonca aj v našom vlastnom dni, sú testovaní Božím tichomi, keď by skôr počuť jeho končivý hlas.\n"
     ]
    },
    {
     "name": "stderr",
     "output_type": "stream",
     "text": [
      "Evaluating:  31%|███       | 154/500 [01:42<02:57,  1.95it/s]"
     ]
    },
    {
     "name": "stdout",
     "output_type": "stream",
     "text": [
      "Source: Be compassionate, understanding, forgiving and merciful.\n",
      "Target: Ohlasujte Boha dobrotivého, milosrdného, odpúšťajúceho, milujúceho.\n",
      "Prediction: Božie požehnanie, odpúšťajú, odpúšťajú,\n",
      "Source: “Then we could help 120,000 people in southern Lebanon.\n",
      "Target: \"Potom by sme mohli pomôcť 120 000 ľuďom v južnom Libanone.\n",
      "Prediction: \"Potom by sme mohli pomôcť 1 000,000 ľudí v južnom Libanne.\n"
     ]
    },
    {
     "name": "stderr",
     "output_type": "stream",
     "text": [
      "Evaluating:  31%|███       | 155/500 [01:44<04:49,  1.19it/s]"
     ]
    },
    {
     "name": "stdout",
     "output_type": "stream",
     "text": [
      "Source: The earth was corrupt in God’s sight and filled with violence.\n",
      "Target: Zem sa pred Bohom skazila a naplnila sa násilím.\n",
      "Prediction: Smrť bola v Božích očiach a plná na násilie.\n"
     ]
    },
    {
     "name": "stderr",
     "output_type": "stream",
     "text": [
      "Evaluating:  31%|███       | 156/500 [01:44<04:05,  1.40it/s]"
     ]
    },
    {
     "name": "stdout",
     "output_type": "stream",
     "text": [
      "Source: At God’s will the Son is what and whatsoever He is.\n",
      "Target: Boh je Pán všetkého, čo je a bude.\n",
      "Prediction: S Božou vôľou je to, čo je o tom, čo je.\n"
     ]
    },
    {
     "name": "stderr",
     "output_type": "stream",
     "text": [
      "Evaluating:  32%|███▏      | 158/500 [01:46<03:40,  1.55it/s]"
     ]
    },
    {
     "name": "stdout",
     "output_type": "stream",
     "text": [
      "Source: The glory of the martyrs shines upon you.”\n",
      "Target: Sláva mučeníkov žiari nad tebou.»\n",
      "Prediction: Božie požehnanie na vás.“\n",
      "Source: But there is only One Who can meet you there, and that's God.\n",
      "Target: Ale je len Jeden, ktorý vás tam môže stretnúť a to je Boh.\n",
      "Prediction: Ale je tu len jeden, kto sa tam stretne, a je to Boh.\n"
     ]
    },
    {
     "name": "stderr",
     "output_type": "stream",
     "text": [
      "Evaluating:  32%|███▏      | 159/500 [01:46<02:57,  1.92it/s]"
     ]
    },
    {
     "name": "stdout",
     "output_type": "stream",
     "text": [
      "Source: Therefore, make the Sign of the Cross with respect, as though it were the last you make in your life.”\n",
      "Target: Rob preto znamenie kríža s úctou, akoby malo byť posledné v tvojom živote.\"\n",
      "Prediction: Preto, robiť znamenie kríža s rešpektom, ako aj keď bolo to posledné, čo si plní vo svojom živote.“\n"
     ]
    },
    {
     "name": "stderr",
     "output_type": "stream",
     "text": [
      "Evaluating:  32%|███▏      | 160/500 [01:46<02:26,  2.33it/s]"
     ]
    },
    {
     "name": "stdout",
     "output_type": "stream",
     "text": [
      "Source: 12:34When Jesus saw that he answered wisely, he said to him, \"You are not far from the kingdom of God.\"\n",
      "Target: 12.34 Keď Ježiš videl, že odpovedal rozumne, povedal mu: “Nie si ďaleko od Božieho kráľovstva.”\n",
      "Prediction: 12.36 A Ježiš videl, že múdre, rozumne odpovedal, povedal mu: „Nie si ďaleko od Božieho kráľovstva.“\n"
     ]
    },
    {
     "name": "stderr",
     "output_type": "stream",
     "text": [
      "Evaluating:  32%|███▏      | 161/500 [01:48<05:34,  1.01it/s]"
     ]
    },
    {
     "name": "stdout",
     "output_type": "stream",
     "text": [
      "Source: He who has conquered doubt and fear has conquered failure.”\n",
      "Target: Ten, kto premohol pochybnosti a strach, premohol neúspech.\n",
      "Prediction: A kto stratil pochybnosť a obrátil sa.\"\n"
     ]
    },
    {
     "name": "stderr",
     "output_type": "stream",
     "text": [
      "Evaluating:  33%|███▎      | 164/500 [01:50<03:12,  1.75it/s]"
     ]
    },
    {
     "name": "stdout",
     "output_type": "stream",
     "text": [
      "Source: Pharaoh had Joseph brought before him to interpret his dream.\n",
      "Target: A Pharaoh Joseph, jeho sen s ním hovoril a bol schopný zabrániť hladovanie).\n",
      "Prediction: Faraón pred ním prepustil faraónovi;\n",
      "Source: (c) The \"One Rejected\" is the Sun of our system.\n",
      "Target: (c) Ten “Jeden Odmietnutý” je Slnkom nášho systému.\n",
      "Prediction: c) „Jeden redukovaný“ je slnko nášho systému.\n",
      "Source: \"So you don't accept God's moral code to do what is righteous?\"\n",
      "Target: „Takže vy neakceptujete Boží morálny zákonník, ktorý nám prikazuje robiť to, čo je spravodlivé?“\n",
      "Prediction: \"Nie ste, aby ste prijať morálny kód, čo je spravodlivé?\"\n"
     ]
    },
    {
     "name": "stderr",
     "output_type": "stream",
     "text": [
      "Evaluating:  33%|███▎      | 165/500 [01:50<02:35,  2.15it/s]"
     ]
    },
    {
     "name": "stdout",
     "output_type": "stream",
     "text": [
      "Source: Now, if God makes a promise, God's got to keep His promise.\n",
      "Target: Ak Boh niečo sľubuje, určite dané slovo dodrží.\n",
      "Prediction: Preto, ak Boh robí prísľub, Boh musí mať svoj prísľub.\n"
     ]
    },
    {
     "name": "stderr",
     "output_type": "stream",
     "text": [
      "Evaluating:  33%|███▎      | 166/500 [01:51<03:32,  1.57it/s]"
     ]
    },
    {
     "name": "stdout",
     "output_type": "stream",
     "text": [
      "Source: When some of those standing there heard this, they said, ‘He’s calling for Elijah.’\n",
      "Target: Keď to počuli niektorí z tých, čo tam stáli, vraveli: \"Volá Eliáša.\"\n",
      "Prediction: A keď to počuli niektorí z tých, čo tam stáli, povedali: „Sám hovorí Eliáša.“\n"
     ]
    },
    {
     "name": "stderr",
     "output_type": "stream",
     "text": [
      "Evaluating:  33%|███▎      | 167/500 [01:53<05:48,  1.05s/it]"
     ]
    },
    {
     "name": "stdout",
     "output_type": "stream",
     "text": [
      "Source: Was it by God’s rhema that the heavens existed or the earth was formed?\n",
      "Target: Či bol tam prorok, keď Boh stvoril nebo a zem?\n",
      "Prediction: Nie je to Božia ruka, že nebesia a zem bol stvorený?\n"
     ]
    },
    {
     "name": "stderr",
     "output_type": "stream",
     "text": [
      "Evaluating:  34%|███▎      | 168/500 [01:54<06:19,  1.14s/it]"
     ]
    },
    {
     "name": "stdout",
     "output_type": "stream",
     "text": [
      "Source: The Lord of Heaven’s armies says so, and he means what he says.\n",
      "Target: Toto hovorí Kráľ Božieho kráľovstva – teda musí vedieť, čo hovorí.\n",
      "Prediction: Božie slovo hovorí, že je to, čo hovorí.\n"
     ]
    },
    {
     "name": "stderr",
     "output_type": "stream",
     "text": [
      "Evaluating:  34%|███▍      | 170/500 [01:57<05:44,  1.04s/it]"
     ]
    },
    {
     "name": "stdout",
     "output_type": "stream",
     "text": [
      "Source: Heaven and earth will pass away, but God’s word will stand.\n",
      "Target: Zaujali ste postoj na Božom Slove a nebesia a zem pominú, ale Božie Slovo ostáva na veky!\n",
      "Prediction: Božie Slovo a na zemi sa popierá, ale Božia vôľa.\n",
      "Source: “I hope that next time the TMO will really do his job.\n",
      "Target: „Dúfam, že nabudúce TMO bude skutočne robiť svoju prácu.\n",
      "Prediction: \"Dúfam, že nabudúce TMO bude skutočne urobiť svoju prácu.\n"
     ]
    },
    {
     "name": "stderr",
     "output_type": "stream",
     "text": [
      "Evaluating:  34%|███▍      | 171/500 [01:57<04:14,  1.29it/s]"
     ]
    },
    {
     "name": "stdout",
     "output_type": "stream",
     "text": [
      "Source: what will i have done if not for Mr tom jerry who i will always see as\n",
      "Target: čo budem musieť urobiť, ak nie je pre pána Tom Jerry, ktorý budem vždy vidieť, ako\n",
      "Prediction: Čo budem robiť, ak nie pre pána bryry, ktorý budem vždy vidieť\n",
      "Source: 'In him was life, and the life was the light of men.\"\n",
      "Target: „V ňom bol život a život bol svetlom ľudí“.\n",
      "Prediction: V ňom bol život a život bol svet mužom.\n"
     ]
    },
    {
     "name": "stderr",
     "output_type": "stream",
     "text": [
      "Evaluating:  35%|███▍      | 173/500 [01:59<05:03,  1.08it/s]"
     ]
    },
    {
     "name": "stdout",
     "output_type": "stream",
     "text": [
      "Source: To take up your cross is to put God’s will above your own.\n",
      "Target: Vziať svoj kríž znamená povýšiť Božiu vôľu nad svoju.\n",
      "Prediction: Je potrebné, aby ste plnili Božiu vôľu nad sebou.\n",
      "Source: What operation, I am only 38?\n",
      "Target: Aká operácia, som len 38?\n",
      "Prediction: Aké operácie som len 38?\n"
     ]
    },
    {
     "name": "stderr",
     "output_type": "stream",
     "text": [
      "Evaluating:  35%|███▌      | 175/500 [01:59<03:16,  1.66it/s]"
     ]
    },
    {
     "name": "stdout",
     "output_type": "stream",
     "text": [
      "Source: Moses told them “that’s the bread the Lord has given you to eat.”\n",
      "Target: “Vtedy im Mojžiš povedal: „To je chlieb, ktorý vám dáva Pán jesť.\n",
      "Prediction: Mojžiš im povedal: \"To je chlieb, ktorý vám dáva jesť Pán.\"\n"
     ]
    },
    {
     "name": "stderr",
     "output_type": "stream",
     "text": [
      "Evaluating:  35%|███▌      | 177/500 [02:02<04:11,  1.28it/s]"
     ]
    },
    {
     "name": "stdout",
     "output_type": "stream",
     "text": [
      "Source: And when Ibrahim built the foundations of the House with Isma'il: 'Our Lord, accept this from us!\n",
      "Target: V súrat al-Bakara sa Abrahám modlil: \"Pane náš, učiň nás Tebe oddanými.\"\n",
      "Prediction: A keď som, Ibrahim, postavil základy domova s Imatom: “Naším Ježiš, prijať od nás!\n",
      "Source: Another 25 people, but only for you!” ... it is no longer used.\n",
      "Target: Ďalších 25 ľudí, ale len pre vás!“ ... už sa nepoužíva.\n",
      "Prediction: Ďalších 25 ľudí, ale len pre teba!“ nie je to už dlhšie použitý.\n"
     ]
    },
    {
     "name": "stderr",
     "output_type": "stream",
     "text": [
      "Evaluating:  36%|███▌      | 179/500 [02:02<02:44,  1.96it/s]"
     ]
    },
    {
     "name": "stdout",
     "output_type": "stream",
     "text": [
      "Source: The Corinthian believers were better able to communicate the Gospel and God’s Word as a result of the gift of tongues.\n",
      "Target: Korintskí veriaci boli schopní lepšie komunikovať evanjelium a Božie slovo vďaka daru jazykov.\n",
      "Prediction: Náboženské veriaci boli lepšie schopní komunikovať frekvenciu a Božie Slovo ako výsledok darovacie jazykov.\n",
      "Source: And why not; we know that good jobs always bring new clients.\n",
      "Target: A prečo nie; vieme, že dobré pracovné miesta vždy priviesť nových klientov.\n",
      "Prediction: A prečo nie; vieme, že dobré pracovné miesta vždy prinášame nových klientov.\n"
     ]
    },
    {
     "name": "stderr",
     "output_type": "stream",
     "text": [
      "Evaluating:  36%|███▋      | 182/500 [02:04<03:02,  1.74it/s]"
     ]
    },
    {
     "name": "stdout",
     "output_type": "stream",
     "text": [
      "Source: [19:46] He said, \"Have you forsaken my gods, O Abraham?\n",
      "Target: Preto povedal, ‘Ó, Ibrahím, je v tvojej hrudi pomiešané niečo iné než to?’\n",
      "Prediction: Abrahám povedal: „Hľa, ako ste hľadali moje bohov, Abrahám?\n",
      "Source: We should follow their example.\"\n",
      "Target: Myslím, že by sme mali nasledovať ich príklad.“\n",
      "Prediction: Mali by sme nasledovať ich príklad.“\n",
      "Source: What do you have to endure in Moscow all these meetings, speeches.\n",
      "Target: Čo musíte vydržať v Moskve všetky tieto stretnutia, prejavy.\n",
      "Prediction: Čo musíte ukončiť v Moskve všetkých týchto stretnutia, sľubuje.\n"
     ]
    },
    {
     "name": "stderr",
     "output_type": "stream",
     "text": [
      "Evaluating:  37%|███▋      | 184/500 [02:04<02:01,  2.61it/s]"
     ]
    },
    {
     "name": "stdout",
     "output_type": "stream",
     "text": [
      "Source: lead him wherever it wants.”\n",
      "Target: vedie ho, kamkoľvek chce.”\n",
      "Prediction: a to je, kde chce.”\n",
      "Source: It’s time to check whether room 237 still scares you.\n",
      "Target: Najvyšší čas presvedčiť sa, či vás izba 237 stále desí.\n",
      "Prediction: Je čas skontrolovať, či ťa izba 237 stále stratí.\n",
      "Source: Keep all the roses, I'm not dead\n",
      "Target: Ponechaj si všetky ruže, ja nie som mŕtva\n",
      "Prediction: Majte všetky ruce, nie som mŕtvy\n"
     ]
    },
    {
     "name": "stderr",
     "output_type": "stream",
     "text": [
      "Evaluating:  37%|███▋      | 186/500 [02:05<01:26,  3.64it/s]"
     ]
    },
    {
     "name": "stdout",
     "output_type": "stream",
     "text": [
      "Source: But God’s Word is sufficient.\n",
      "Target: Božie slovo je dostačujúca.\n",
      "Prediction: Božie Slovo je dostatočné.\n"
     ]
    },
    {
     "name": "stderr",
     "output_type": "stream",
     "text": [
      "Evaluating:  38%|███▊      | 189/500 [02:07<02:17,  2.26it/s]"
     ]
    },
    {
     "name": "stdout",
     "output_type": "stream",
     "text": [
      "Source: “And your Allah is one Allah! there is no god but He; He is the Beneficent, the Merciful.”\n",
      "Target: {Váš Boh je Boh jediný a niet božstva okrem Neho, Milosrdného, Zľutovného.\n",
      "Prediction: V Allah je Allah, ktorý je Boh, niet Allaha, ale Milosrdného.\n",
      "Source: can be witnesses to God’s faithful love.\n",
      "Target: vernosťou môžu byť svedkami vernej Božej lásky.\n",
      "Prediction: S Božou milosťou je verný.\n",
      "Source: Sometimes, it even seems that only the United States need NATO.\n",
      "Target: Niekedy sa dokonca zdá, že iba Spojené štáty potrebujú NATO.\n",
      "Prediction: Niekedy sa dokonca zdá, že len Spojené štáty potrebujú NATO.\n"
     ]
    },
    {
     "name": "stderr",
     "output_type": "stream",
     "text": [
      "Evaluating:  38%|███▊      | 192/500 [02:09<02:41,  1.91it/s]"
     ]
    },
    {
     "name": "stdout",
     "output_type": "stream",
     "text": [
      "Source: Whoever’s sins you forgive they are forgiven.\n",
      "Target: Ktorýmkoľvek odpustíte hriechy, odpúšťajú sa im.\n",
      "Prediction: Kto je odpúšťajúci, je odpúšťajúci.\n",
      "Source: 400 vehicles - always professionally maintained\n",
      "Target: 400 vozidiel – vždy profesionálne udržiavané\n",
      "Prediction: 400 vozidiel - vždy udržiavať profesionálne\n",
      "Source: They are hoping for God’s return.\n",
      "Target: Čakajú na návrat boha\n",
      "Prediction: Dúfajme, že sa vráti Božie.\n"
     ]
    },
    {
     "name": "stderr",
     "output_type": "stream",
     "text": [
      "Evaluating:  39%|███▊      | 193/500 [02:10<02:35,  1.97it/s]"
     ]
    },
    {
     "name": "stdout",
     "output_type": "stream",
     "text": [
      "Source: Jesus tells them, “whoever wishes to be great among you must be your servant.”\n",
      "Target: Ježiš nám v evanjeliu dáva návod: \"Kto sa bude chcieť stať medzi vami veľkým, bude vaším služobníkom.\n",
      "Prediction: Ježiš im povedal: „Kto chce byť veľký medzi vami, bude vaším služobníkom.\n"
     ]
    },
    {
     "name": "stderr",
     "output_type": "stream",
     "text": [
      "Evaluating:  39%|███▉      | 194/500 [02:10<02:27,  2.07it/s]"
     ]
    },
    {
     "name": "stdout",
     "output_type": "stream",
     "text": [
      "Source: Those to whom We gave the Scripture before it believe in it.\n",
      "Target: sme dali Knihu (predtým), v ňu (Knihu - Korán) veria.\n",
      "Prediction: A tí, ktorí počúvali Písmo pred tým, ako uveria.\n",
      "Source: For, “he who loves the danger, shall perish in it.”\n",
      "Target: lebo kto miluje nebezpečenstvo, zahynie v ňom.\n",
      "Prediction: \"Kto miluje nebezpečenstvo, zahynie v ňom.\"\n"
     ]
    },
    {
     "name": "stderr",
     "output_type": "stream",
     "text": [
      "Evaluating:  39%|███▉      | 196/500 [02:12<03:42,  1.37it/s]"
     ]
    },
    {
     "name": "stdout",
     "output_type": "stream",
     "text": [
      "Source: * He said, ‘Oh no, father Abraham, but if someone from the dead goes to them, they will repent.’\n",
      "Target: A on povedal: 'Nie, otče Abraháme; ale keby k nim išiel niekto z mŕtvych, budú robiť pokánie. '\n",
      "Prediction: A on povedal: „Ó, Pán Abrahám, no ak príde k nim niekto z mŕtvych, nech sa opúšťajú.\n"
     ]
    },
    {
     "name": "stderr",
     "output_type": "stream",
     "text": [
      "Evaluating:  40%|███▉      | 198/500 [02:13<02:44,  1.83it/s]"
     ]
    },
    {
     "name": "stdout",
     "output_type": "stream",
     "text": [
      "Source: 20Seeing their faith, he said to him, “Man, your sins are forgiven you.”\n",
      "Target: 20Keď videl ich vieru, povedal: \"Človeče, odpúšťajú sa ti hriechy.\"\n",
      "Prediction: Popúšťajte ich vieru, povedal: „Pane, odpusť sa ti vaše hriechy.“\n",
      "Source: This is God’s way, the way of humility.\n",
      "Target: Toto je Božia cesta, cesta pokory.\n",
      "Prediction: Je to Božia cesta, spôsobu pokoja.\n"
     ]
    },
    {
     "name": "stderr",
     "output_type": "stream",
     "text": [
      "Evaluating:  40%|███▉      | 199/500 [02:15<04:45,  1.05it/s]"
     ]
    },
    {
     "name": "stdout",
     "output_type": "stream",
     "text": [
      "Source: And whoso disobeys me, - still You are indeed Oft-Forgiving, Most Merciful.\n",
      "Target: Ten, kto ma nasledoval, ten patrí ku mne a voči tomu, kto ma neposlúchol, Ty si Ten odpúšťajúci a milostivý“}\n",
      "Prediction: A potom, keď ma poslúchali, - stále ste vskutku vskutku Allahovho.\n"
     ]
    },
    {
     "name": "stderr",
     "output_type": "stream",
     "text": [
      "Evaluating:  40%|████      | 201/500 [02:15<02:56,  1.69it/s]"
     ]
    },
    {
     "name": "stdout",
     "output_type": "stream",
     "text": [
      "Source: 2 “Do you think this is right, that you said, ‘My righteousness is more than El’s?\n",
      "Target: 2 Vari to považuješ za správne, keď hovoríš: Moja spravodlivosť je väčšia ako Božia?\n",
      "Prediction: 2 „Myslíte si, že to je správne, že ste povedali, že moja spravodlivosť je viac než polícia?\n",
      "Source: She said, “No, they always played backgammon together.”\n",
      "Target: Povedala: “Nie, vždy hrávali spoločne backgammon.”\n",
      "Prediction: Povedala: „Nie, vždy sa hrali späť, že sa stále spoločne\n"
     ]
    },
    {
     "name": "stderr",
     "output_type": "stream",
     "text": [
      "Evaluating:  40%|████      | 202/500 [02:16<03:31,  1.41it/s]"
     ]
    },
    {
     "name": "stdout",
     "output_type": "stream",
     "text": [
      "Source: The heavens are God’s throne, the earth is His footstool.\n",
      "Target: Celé nebesá sú len trónom pre Boha, celá zem podnožou jeho nôh.\n",
      "Prediction: Nebesá je Božia milosť, k Bohu.\n"
     ]
    },
    {
     "name": "stderr",
     "output_type": "stream",
     "text": [
      "Evaluating:  41%|████      | 203/500 [02:17<02:53,  1.71it/s]"
     ]
    },
    {
     "name": "stdout",
     "output_type": "stream",
     "text": [
      "Source: Lastly, Fowler would ask: what can't fail in the next six months?\n",
      "Target: Nakoniec by sa Fowler opýtal: čo nemôže v nasledujúcich šiestich mesiacoch zlyhať?\n",
      "Prediction: A nakoniec, Fowler sa pýta: čo nemôže v nasledujúcich šiestich mesiacoch zlyhať?\n"
     ]
    },
    {
     "name": "stderr",
     "output_type": "stream",
     "text": [
      "Evaluating:  41%|████      | 206/500 [02:17<01:29,  3.29it/s]"
     ]
    },
    {
     "name": "stdout",
     "output_type": "stream",
     "text": [
      "Source: You shall wait seven days until I come to you and show you that you should do.’\n",
      "Target: Sedem dní budeš čakať, kým prídem k tebe a oznámim ti, čo máš robiť.“\n",
      "Prediction: Budete čakať sedem dní, kým prídem k vám a ukázať, že by ste mali robiť.\"\n",
      "Source: Is this God's punishment for something we have done?\n",
      "Target: Je toto snáď boží trest za niečo čo som vykonala?\n",
      "Prediction: Je tento Boží trest pre niečo, čo sme robili?\n",
      "Source: Show that you are a real leader and not a false prophet.”\n",
      "Target: Ukážte im, že ste skutočný vodca a nie falošný prorok.\n",
      "Prediction: Uvedomte si, že ste skutočným vodcom a nie známemu proroka.\"\n",
      "Source: And what a difference between man's sin and God's forgiveness!\n",
      "Target: A aký rozdiel je medzi ľudským hriechom a Božím odpustením!\n",
      "Prediction: A aký je rozdiel medzi mužom a Božím odpustením!\n"
     ]
    },
    {
     "name": "stderr",
     "output_type": "stream",
     "text": [
      "Evaluating:  42%|████▏     | 208/500 [02:17<01:16,  3.80it/s]"
     ]
    },
    {
     "name": "stdout",
     "output_type": "stream",
     "text": [
      "Source: They thus wish to alter GOD's words.\n",
      "Target: Chcú zmeniť slová Božie.\n",
      "Prediction: A tak budú môcť zmeniť Božie slová.\n"
     ]
    },
    {
     "name": "stderr",
     "output_type": "stream",
     "text": [
      "Evaluating:  42%|████▏     | 211/500 [02:20<02:07,  2.26it/s]"
     ]
    },
    {
     "name": "stdout",
     "output_type": "stream",
     "text": [
      "Source: “Glory to God in the Highest, And on earth peace, God’s good will toward men!”\n",
      "Target: \"Sláva na výsostiach Bohu a na zemi pokoj ľuďom dobrej vôle!\"\n",
      "Prediction: „Sláva Bohu vo svete, na zemi pokoj!\n",
      "Source: Please consult a doctor under such circumstances (31).\n",
      "Target: Prosím, poraďte sa s lekárom za týchto okolností (31).\n",
      "Prediction: Prosím konzultovať lekár za takýchto okolností (31).\n",
      "Source: How can we know what God’s will is?\n",
      "Target: Ako môžeme zistiť, že čo je Božia vôľa?\n",
      "Prediction: Ako vieme, čo je Božia vôľa?\n"
     ]
    },
    {
     "name": "stderr",
     "output_type": "stream",
     "text": [
      "Evaluating:  42%|████▏     | 212/500 [02:20<01:53,  2.54it/s]"
     ]
    },
    {
     "name": "stdout",
     "output_type": "stream",
     "text": [
      "Source: Worship is a response to who God is and what he’s done.\n",
      "Target: Uctievanie môže byť jedine našou odozvou na to, kto Boh je a čo On urobil.\n",
      "Prediction: Božie Slovo je odpoveď na to, kto je Boh a čo sa mu robí.\n"
     ]
    },
    {
     "name": "stderr",
     "output_type": "stream",
     "text": [
      "Evaluating:  43%|████▎     | 213/500 [02:22<03:51,  1.24it/s]"
     ]
    },
    {
     "name": "stdout",
     "output_type": "stream",
     "text": [
      "Source: Moses had been God’s spokesman before Pharaoh.\n",
      "Target: Mojžiš bol Boží reprezentant pred faraonom.\n",
      "Prediction: Mojžiš bol pred faraónom pred faraónom.\n"
     ]
    },
    {
     "name": "stderr",
     "output_type": "stream",
     "text": [
      "Evaluating:  43%|████▎     | 214/500 [02:22<03:09,  1.51it/s]"
     ]
    },
    {
     "name": "stdout",
     "output_type": "stream",
     "text": [
      "Source: And he said to me, “Arise, go out into the valley, and there I will speak with you.” ...\n",
      "Target: I riekol mi: Vstaň, vyjdi do údolia, a tam budem hovoriť s tebou.\n",
      "Prediction: A on mi povedal: „Hľa, choď do úhy a tam hovorím s tebou.“\n"
     ]
    },
    {
     "name": "stderr",
     "output_type": "stream",
     "text": [
      "Evaluating:  43%|████▎     | 215/500 [02:23<02:37,  1.81it/s]"
     ]
    },
    {
     "name": "stdout",
     "output_type": "stream",
     "text": [
      "Source: But they said, “No!\n",
      "Target: Oni však odpovedali: \"Nie!\n",
      "Prediction: Oni však odpovedali: \"Nie!\n"
     ]
    },
    {
     "name": "stderr",
     "output_type": "stream",
     "text": [
      "Evaluating:  43%|████▎     | 216/500 [02:23<02:20,  2.02it/s]"
     ]
    },
    {
     "name": "stdout",
     "output_type": "stream",
     "text": [
      "Source: The accomplishment of God’s Will means the realization of the kingdom of heaven on earth.\n",
      "Target: Boží účel stvorenia sa mal naplniť vytvorením Nebeského kráľovstva na zemi.\n",
      "Prediction: Božia vôľa\n"
     ]
    },
    {
     "name": "stderr",
     "output_type": "stream",
     "text": [
      "Evaluating:  43%|████▎     | 217/500 [02:25<04:08,  1.14it/s]"
     ]
    },
    {
     "name": "stdout",
     "output_type": "stream",
     "text": [
      "Source: She told them it was God’s punishment upon her but God was not to blame.\n",
      "Target: Oni hovorili, že trpí pre svoje hriechy, z Božieho trestu, ale Boh im nedal za pravdu.\n",
      "Prediction: Hovorí o tom, že to bolo Boží trest, ale Boh nie je odpúšťa.\n"
     ]
    },
    {
     "name": "stderr",
     "output_type": "stream",
     "text": [
      "Evaluating:  44%|████▎     | 218/500 [02:27<06:04,  1.29s/it]"
     ]
    },
    {
     "name": "stdout",
     "output_type": "stream",
     "text": [
      "Source: Receive God’s salvation with thanks.\n",
      "Target: Prijmite túto Božiu lásku s vďačnosťou.\n",
      "Prediction: Vyznávame Božiu milosť vďaka nemu.\n"
     ]
    },
    {
     "name": "stderr",
     "output_type": "stream",
     "text": [
      "Evaluating:  44%|████▍     | 219/500 [02:29<07:10,  1.53s/it]"
     ]
    },
    {
     "name": "stdout",
     "output_type": "stream",
     "text": [
      "Source: Paul said, \"Oh, He's the God who made the Heaven and the earth and everything in them.\"\n",
      "Target: 10 A Áron mu povedal: Áno, on je oným Veľkým Duchom a on stvoril všetky veci ako na nebi, tak na zemi.\n",
      "Prediction: Hista povedal: „Áno, Boh, ktorý stvoril nebesia a všetko, čo je v nej.\n",
      "Source: When the terrible judge will judge his people’.\n",
      "Target: STRAŠNÝ Sudca bude súdiť ľud.“\n",
      "Prediction: Potom, čo je strašne, bude súdiť svoje nároky.“\n"
     ]
    },
    {
     "name": "stderr",
     "output_type": "stream",
     "text": [
      "Evaluating:  44%|████▍     | 221/500 [02:30<04:16,  1.09it/s]"
     ]
    },
    {
     "name": "stdout",
     "output_type": "stream",
     "text": [
      "Source: Moses tells them \"It is the bread which the Lord has given you to eat.\"\n",
      "Target: Vtedy im Mojžiš povedal: „To je chlieb, ktorý vám dáva Pán jesť.\n",
      "Prediction: Mojžiš im povedal: „To je chlieb, ktorý vám dal Pán.\n",
      "Source: 8 Better is a little with righteousness,\n",
      "Target: 8 Lepšie (mať) málo spravodlivým (spôsobom),\n",
      "Prediction: 8 Brát je trochu s spravodlivým,\n"
     ]
    },
    {
     "name": "stderr",
     "output_type": "stream",
     "text": [
      "Evaluating:  45%|████▍     | 223/500 [02:30<02:51,  1.61it/s]"
     ]
    },
    {
     "name": "stdout",
     "output_type": "stream",
     "text": [
      "Source: It will be God's own son, and his kingdom will never end.\n",
      "Target: Syn, meno Ježiš, jeho kráľovstvu nebude konca.\n",
      "Prediction: Je to Božia milosť a jeho kráľovstvo sa nikdy nezostane.\n",
      "Source: M. QUEEN - 14% believe that such films are not needed.\n",
      "Target: M. QUEEN - 14% verí, že takéto filmy nie sú potrebné.\n",
      "Prediction: M. Trump - 14% verí, že takéto filmy nie sú potrebné.\n"
     ]
    },
    {
     "name": "stderr",
     "output_type": "stream",
     "text": [
      "Evaluating:  45%|████▌     | 226/500 [02:30<01:48,  2.52it/s]"
     ]
    },
    {
     "name": "stdout",
     "output_type": "stream",
     "text": [
      "Source: Have fun – In western culture we all seem to take dating very seriously.\n",
      "Target: Bavte sa - V západnej kultúre sme všetci Zdá sa, že datovania veľmi vážne.\n",
      "Prediction: Dajte sa zábavne - V západnej kultúre, ktorú sa všetci zvíťazime, veľmi vážne.\n",
      "Source: Uruguay is already well known for all the things that are legal there.\n",
      "Target: Uruguaj je už dobre známy pre všetky veci, ktoré sú tam legálne.\n",
      "Prediction: Uzausay je už už dobre známe pre všetky veci, ktoré sú legálne tam.\n"
     ]
    },
    {
     "name": "stderr",
     "output_type": "stream",
     "text": [
      "Evaluating:  46%|████▌     | 229/500 [02:31<01:03,  4.29it/s]"
     ]
    },
    {
     "name": "stdout",
     "output_type": "stream",
     "text": [
      "Source: He said to me, “Go in and see the evil abominations they are practicing here.”\n",
      "Target: Povedal mi: „Vojdi a pozri sa na strašné ohavnosti, ktoré tu páchajú.“\n",
      "Prediction: Odpovedal mi: „Choďte a vidte zláty, ktoré tu praktizujú.“\n",
      "Source: God is great-be thankful.\n",
      "Target: Boha vždy náramne vďačného,\n",
      "Prediction: Boh je veľký,\n",
      "Source: How to become Allah’s Friend?\n",
      "Target: Ako sa teda stanem Božím priateľom?\n",
      "Prediction: Ako sa stať Božím priateľom?\n"
     ]
    },
    {
     "name": "stderr",
     "output_type": "stream",
     "text": [
      "Evaluating:  46%|████▌     | 230/500 [02:31<01:06,  4.07it/s]"
     ]
    },
    {
     "name": "stdout",
     "output_type": "stream",
     "text": [
      "Source: God’s purpose was that His name should be made known in all the earth.\n",
      "Target: Naším cieľom by malo byť, aby Božie meno bolo známe celému svetu.\n",
      "Prediction: Božie slovo je jasné, že Jeho meno je známe v celej zemi.\n"
     ]
    },
    {
     "name": "stderr",
     "output_type": "stream",
     "text": [
      "Evaluating:  47%|████▋     | 233/500 [02:33<01:56,  2.29it/s]"
     ]
    },
    {
     "name": "stdout",
     "output_type": "stream",
     "text": [
      "Source: “He has been raised: he is not here, Behold the place where they laid him,” (Mk 16:6).\n",
      "Target: Vstal, niet Ho tu; ajhľa, miesto, kam Ho boli položili“ (Mk 16, 6).\n",
      "Prediction: On bol vzkriesený: nie je tu, čo miesto, v ktorom ho stanovené (Mk 16:6).\n",
      "Source: recompense of falsehood is always falsehood.\n",
      "Target: lež v príjmoch bezbožného je zmätok (nad zmätok).\n",
      "Prediction: zlažné falošné je vždy falošné.\n",
      "Source: You will need God’s help.\n",
      "Target: Budete však potrebovať Božiu pomoc.\n",
      "Prediction: Budete potrebovať Božiu pomoc.\n",
      "Source: God is in people’s hearts.\n",
      "Target: Boh sa prihovára srdciam ľudí.\n",
      "Prediction: Boh je v srdciach človeka.\n"
     ]
    },
    {
     "name": "stderr",
     "output_type": "stream",
     "text": [
      "Evaluating:  47%|████▋     | 235/500 [02:33<01:22,  3.20it/s]"
     ]
    },
    {
     "name": "stdout",
     "output_type": "stream",
     "text": [
      "Source: In some cultures, people only say “thank you” for significant events.\n",
      "Target: V niektorých kultúrach, people only say “ďakujem” for significant events.\n",
      "Prediction: V niektorých kultúrach, ľudia vám povedia iba \"t.\" pre významné udalosti.\n"
     ]
    },
    {
     "name": "stderr",
     "output_type": "stream",
     "text": [
      "Evaluating:  47%|████▋     | 237/500 [02:36<02:29,  1.76it/s]"
     ]
    },
    {
     "name": "stdout",
     "output_type": "stream",
     "text": [
      "Source: Such a journey begins by listening to God's Word.\n",
      "Target: Láska k Bohu začína počúvaním Božieho slova.\n",
      "Prediction: Takáto cesta, ktorá počuje Božie slovo.\n",
      "Source: If good things happen, that is God's will.\n",
      "Target: Keď je niečo dobré, tak to bola vôľa božia.\n",
      "Prediction: Ak je to správne, tak je to Božia vôľa.\n"
     ]
    },
    {
     "name": "stderr",
     "output_type": "stream",
     "text": [
      "Evaluating:  48%|████▊     | 239/500 [02:36<01:42,  2.56it/s]"
     ]
    },
    {
     "name": "stdout",
     "output_type": "stream",
     "text": [
      "Source: And if anyone’s name was not found written on the book of life, he was thrown into the lake of fire.”\n",
      "Target: A ak niekto nebol zapísaný v knihe života, zvrhli ho do ohnivého jazera.“\n",
      "Prediction: A ak niekto nebol nájdený zapísaný v knihe života, bol hodený do ohňa.”\n",
      "Source: “Since May this year all such products must have disappeared from the EU market.\n",
      "Target: \"Od mája tohto roka musia všetky takéto výrobky zmiznúť z trhu EÚ.\n",
      "Prediction: \"Od mája v tomto roku má všetky takéto výrobky zmiznúť z trhu EÚ.\n"
     ]
    },
    {
     "name": "stderr",
     "output_type": "stream",
     "text": [
      "Evaluating:  48%|████▊     | 240/500 [02:36<01:21,  3.20it/s]"
     ]
    },
    {
     "name": "stdout",
     "output_type": "stream",
     "text": [
      "Source: What if I miss a call (or 10) from my mom?\n",
      "Target: Čo ak zmeškám hovor (alebo 10) od mamy?\n",
      "Prediction: Čo ak chýbam volanie (alebo 10) z mojej mamy?\n"
     ]
    },
    {
     "name": "stderr",
     "output_type": "stream",
     "text": [
      "Evaluating:  48%|████▊     | 241/500 [02:38<03:31,  1.22it/s]"
     ]
    },
    {
     "name": "stdout",
     "output_type": "stream",
     "text": [
      "Source: Margrete Auken (Verts/ALE). – (DA) Mr President, our group is naturally voting in favour of the amendment proposal to allocate even more money to Palestine.\n",
      "Target: Margrete Auken (Verts/ALE). - (DA) Vážený pán predsedajúci, naša skupina bude prirodzene hlasovať za pozmeňujúci a doplňujúci návrh, aby bolo pridelených ešte viac peňazí Palestíne.\n",
      "Prediction: Marigre Auz (ALE). – (DA) Vážený pán predsedajúci, naša skupina je prirodzene hlasovaná o a doplnenia, ktorá sleduje viac ako sekundárnej vlády.\n"
     ]
    },
    {
     "name": "stderr",
     "output_type": "stream",
     "text": [
      "Evaluating:  49%|████▉     | 244/500 [02:41<02:56,  1.45it/s]"
     ]
    },
    {
     "name": "stdout",
     "output_type": "stream",
     "text": [
      "Source: He would say, “Wherever you go, there you are.”\n",
      "Target: Hovorilo sa: “kamkoľvek idete, ste tam.”\n",
      "Prediction: Odpovedal by som, že „kde ješ, tam, čo si.\n",
      "Source: Enough blogger and his team, if there is one.\n",
      "Target: Dosť blogger a jeho tím, ak existuje.\n",
      "Prediction: Doce blogger a jeho tím, ak je jeden.\n",
      "Source: they shall be called God's children.\n",
      "Target: budú volať Božími synmi.\n",
      "Prediction: a budú volať Božích detí.\n"
     ]
    },
    {
     "name": "stderr",
     "output_type": "stream",
     "text": [
      "Evaluating:  49%|████▉     | 246/500 [02:41<01:54,  2.23it/s]"
     ]
    },
    {
     "name": "stdout",
     "output_type": "stream",
     "text": [
      "Source: So, yes, you're not crazy, the dogs smile.\n",
      "Target: Takže áno, nie ste blázon, psy sa usmievajú.\n",
      "Prediction: Takže áno, nie ste blázon, psy úsmev.\n",
      "Source: The higher is your being, the deeper is the love.”\n",
      "Target: \"Čím väčší muž, tým hlbšia je jeho láska.\"\n",
      "Prediction: Viac je to, čo je, hlbšia je láska.“\n"
     ]
    },
    {
     "name": "stderr",
     "output_type": "stream",
     "text": [
      "Evaluating:  50%|████▉     | 249/500 [02:43<02:15,  1.85it/s]"
     ]
    },
    {
     "name": "stdout",
     "output_type": "stream",
     "text": [
      "Source: It has to do with the condition of God’s people, the condition they must attain to by grace, if they are going to be able to stand without a Mediator after the close of probation.\n",
      "Target: Má to čo do činenia so stavom Božieho ľudu, so stavom, ktorý musia dosiahnuť skrze milosť, ak majú byť schopní obstáť bez Prostredníka, po ukončení skúšobnej doby.\n",
      "Prediction: Muselo to robiť s podmienkou Božím ľudom, stavia, že sa musí dosiahnuť milosť, ak budú môcť ísť bez toho, že budú môcť obvičiť z nocí.\n",
      "Source: (2) The ESA has its own industrial policy.\n",
      "Target: (2) ESA má vlastnú priemyselnú politiku.\n",
      "Prediction: (2) ESA má svoju vlastnú priemyselnú politiku.\n",
      "Source: The Africa you talk about every day is not yet our Africa.\n",
      "Target: Afrika, o ktorej hovoríte každý deň, ešte nie je našou Afrikou.\n",
      "Prediction: Európa, o ktorej hovoríš každý deň, ešte nie je naša Afrika.\n"
     ]
    },
    {
     "name": "stderr",
     "output_type": "stream",
     "text": [
      "Evaluating:  50%|█████     | 250/500 [02:45<03:41,  1.13it/s]"
     ]
    },
    {
     "name": "stdout",
     "output_type": "stream",
     "text": [
      "Source: And were these saints Abraham, Moses, David, and the other righteous saints of Old Testament times?\n",
      "Target: Ako moc sa ludia modlili k (uz nezijucim) Abrahamovi, Mojzisovi, Eliasovi a chceli po nich aby za niekoho orodovali?\n",
      "Prediction: Abrahám Abraháma, Mojžiš, Mojžiš, Allahovi, Mojžiša,\n"
     ]
    },
    {
     "name": "stderr",
     "output_type": "stream",
     "text": [
      "Evaluating:  50%|█████     | 252/500 [02:48<03:51,  1.07it/s]"
     ]
    },
    {
     "name": "stdout",
     "output_type": "stream",
     "text": [
      "Source: If it is God’s word, it could not have error.\n",
      "Target: Ak by Božie slovo malo nejakú chybu, už by to nebolo slovo od Boha.\n",
      "Prediction: Ak je to Božia vôľa, nemôže to urobiť.\n",
      "Source: No matter what I looked like, Billy on the Street would have worked.\n",
      "Target: Bez ohľadu na to, ako som vyzerala, Billy na ulici by pracoval.\n",
      "Prediction: Bez ohľadu na to, čo som vyzeral, Billy na Street by pracoval.\n"
     ]
    },
    {
     "name": "stderr",
     "output_type": "stream",
     "text": [
      "Evaluating:  51%|█████     | 253/500 [02:49<04:10,  1.01s/it]"
     ]
    },
    {
     "name": "stdout",
     "output_type": "stream",
     "text": [
      "Source: `Thy reign come: Thy will come to pass, as in heaven also on the earth. '\n",
      "Target: Téma stretnutia: „…Buď vôľa Tvoja ako v nebi, tak i na zemi!…“\n",
      "Prediction: „To, čo povedal, na zemi, sa poslúchne:\n"
     ]
    },
    {
     "name": "stderr",
     "output_type": "stream",
     "text": [
      "Evaluating:  51%|█████     | 255/500 [02:51<04:03,  1.01it/s]"
     ]
    },
    {
     "name": "stdout",
     "output_type": "stream",
     "text": [
      "Source: Mark 15:28 – The Scripture was fulfilled, which says, “He was numbered with transgressors.”\n",
      "Target: Mk 15:28 - (A splnilo sa Písmo, ktoré hovorí: Započítali ho medzi zločincov.)\n",
      "Prediction: 28:28a sa splnilo Písmo, ktoré hovorí: „Toto sa spočinil s prechodnými.\"\n",
      "Source: But Greer says these are four very important little words to say each day.\n",
      "Target: Greer však tvrdí, že toto sú štyri veľmi dôležité malé slová, ktoré sa majú každý deň povedať.\n",
      "Prediction: Ale Pereer hovorí, že sú štyri veľmi dôležité slová, aby každý deň povedali.\n"
     ]
    },
    {
     "name": "stderr",
     "output_type": "stream",
     "text": [
      "Evaluating:  51%|█████▏    | 257/500 [02:51<02:16,  1.78it/s]"
     ]
    },
    {
     "name": "stdout",
     "output_type": "stream",
     "text": [
      "Source: And all Israel knew that Samuel had been established as a prophet of the Lord.”\n",
      "Target: Celý Izrael poznal, že Samuel bol ustanovený za proroka Hospodinovho.\n",
      "Prediction: A všetci povedali, že Mojžiš bol stvorený ako prorok Pána.\"\n",
      "Source: His efforts were certainly accompanied by God’s power.\n",
      "Target: Ich snahu sprevádzala Božia moc.\n",
      "Prediction: Nie je to tak, že sa Božia vôľa bráni.\n"
     ]
    },
    {
     "name": "stderr",
     "output_type": "stream",
     "text": [
      "Evaluating:  52%|█████▏    | 258/500 [02:51<01:46,  2.26it/s]"
     ]
    },
    {
     "name": "stdout",
     "output_type": "stream",
     "text": [
      "Source: Luke 15:16 says, \"You are those who justify yourselves in the sight of men.\"\n",
      "Target: 16:15 A povedal im:: \"To sú tí, ktorí ospravedlňujú sami seba v očiach mužov.\n",
      "Prediction: Lk 15:16: „To sú tí, ktorí si len vymenili v očiach mužov.”\n"
     ]
    },
    {
     "name": "stderr",
     "output_type": "stream",
     "text": [
      "Evaluating:  52%|█████▏    | 259/500 [02:54<03:45,  1.07it/s]"
     ]
    },
    {
     "name": "stdout",
     "output_type": "stream",
     "text": [
      "Source: And if today you hear God’s voice, harden not your heart.\n",
      "Target: Preto teraz, keď počujete Boží hlas, nezatvrdzujte svoje srdcia.\n",
      "Prediction: A ak dnes počujete Božie slovo, nie vaše srdce.\n",
      "Source: That is not the way of God’s children.\n",
      "Target: Takto nemôžu konať synovia Boží.\n",
      "Prediction: To nie je cesta Božích detí.\n"
     ]
    },
    {
     "name": "stderr",
     "output_type": "stream",
     "text": [
      "Evaluating:  52%|█████▏    | 261/500 [02:54<02:13,  1.79it/s]"
     ]
    },
    {
     "name": "stdout",
     "output_type": "stream",
     "text": [
      "Source: Col 1:17: \"And he is before all things, and in him all things consist.\"\n",
      "Target: Ko 1:17: “On je pred všetkým, a všetko spolu má v Ňom svoje bytie.“\n",
      "Prediction: 1.17: „A on je pred všetkými vecami a v ňom všetko všetko.\"\n"
     ]
    },
    {
     "name": "stderr",
     "output_type": "stream",
     "text": [
      "Evaluating:  52%|█████▏    | 262/500 [02:56<03:44,  1.06it/s]"
     ]
    },
    {
     "name": "stdout",
     "output_type": "stream",
     "text": [
      "Source: So I said to the Mother of God: „Mary, lead me, guide me.”\n",
      "Target: Povedala som Matke Božej: „Mária, sprevádzaj ma, veď\n",
      "Prediction: Odpovedal som Božiu Matku a povedal som mi: „Môj, ktorý ma vedie!\n",
      "Source: \"How great in your midst is the Holy One of Israel.\"\n",
      "Target: lebo veľkým uprostred teba je Svätý Izraela!“\n",
      "Prediction: „Ako veľký vo vašom ohľade je Svätý Izraela.“\n"
     ]
    },
    {
     "name": "stderr",
     "output_type": "stream",
     "text": [
      "Evaluating:  53%|█████▎    | 264/500 [02:58<03:58,  1.01s/it]"
     ]
    },
    {
     "name": "stdout",
     "output_type": "stream",
     "text": [
      "Source: God’s prophets have always stirred up hatred amongst His children, because Satan inflicts his most terrible scourging against those who speak the Word of God.\n",
      "Target: Boží proroci vždy roznietia nenávisť medzi jeho deťmi, pretože Satan spôsobuje najstrašnejšie bičovanie tým, ktorí hovoria Slovo Božie.\n",
      "Prediction: Božie proroci majú vždy odpúšťajú nenávisť medzi jeho Božím deťom, pretože satanká obviňa svojich ľudí, ktorí hovoria o Bohu.\n"
     ]
    },
    {
     "name": "stderr",
     "output_type": "stream",
     "text": [
      "Evaluating:  53%|█████▎    | 265/500 [03:00<05:02,  1.29s/it]"
     ]
    },
    {
     "name": "stdout",
     "output_type": "stream",
     "text": [
      "Source: \"God made out of one man every nation of men,”.\n",
      "Target: Po tretie, Boh „vytvoril z jedného človeka každý ľudský národ“.\n",
      "Prediction: „Bože, ktorý je z jedného človeka, má jeden z Boha.“\n"
     ]
    },
    {
     "name": "stderr",
     "output_type": "stream",
     "text": [
      "Evaluating:  53%|█████▎    | 266/500 [03:03<05:54,  1.52s/it]"
     ]
    },
    {
     "name": "stdout",
     "output_type": "stream",
     "text": [
      "Source: 15 When Pharaoh’s princes saw her, they praised her to Pharaoh; and the woman was taken into Pharaoh’s household.\n",
      "Target: A uvidiac ju kniežatá faraonove chválili ju faraonovi, a žena bola vzatá do domu faraonovho.\"\n",
      "Prediction: A keď ju videli faraonovi faraónovi, chválili ju od faraónovi; a žena bola vzatá do faraóna.\n",
      "Source: Knowing that there is nothing other than Allah.\n",
      "Target: Vedia, že niet Boha než Allaha.\n",
      "Prediction: A viete, že nie je nič iné ako Allah.\n"
     ]
    },
    {
     "name": "stderr",
     "output_type": "stream",
     "text": [
      "Evaluating:  54%|█████▎    | 268/500 [03:03<03:38,  1.06it/s]"
     ]
    },
    {
     "name": "stdout",
     "output_type": "stream",
     "text": [
      "Source: (Here are the 5 worst things you do every morning before you even leave your house.)\n",
      "Target: (Tu je päť najhorších vecí, ktoré robíte každé ráno predtým, než dokonca opustíte svoj dom.)\n",
      "Prediction: (Tu sú 5 najhoršie veci, ktoré robíte každé ráno, než dokonca opustíte svoj dom.)\n"
     ]
    },
    {
     "name": "stderr",
     "output_type": "stream",
     "text": [
      "Evaluating:  54%|█████▍    | 269/500 [03:05<04:39,  1.21s/it]"
     ]
    },
    {
     "name": "stdout",
     "output_type": "stream",
     "text": [
      "Source: What Is God's Purpose for Mankind?\n",
      "Target: Aký je Boží plán pre ľudstvo?\n",
      "Prediction: Čo je Božia milosť?\n"
     ]
    },
    {
     "name": "stderr",
     "output_type": "stream",
     "text": [
      "Evaluating:  54%|█████▍    | 270/500 [03:07<05:30,  1.44s/it]"
     ]
    },
    {
     "name": "stdout",
     "output_type": "stream",
     "text": [
      "Source: Y: They will not believe in it until they see the grievous Penalty;\n",
      "Target: {avšak oni v to neuveria, kým trest bolestný nezazrú}\n",
      "Prediction: Y: Nebudejú veriť v to, kým nevidiajú grivo (a)\n"
     ]
    },
    {
     "name": "stderr",
     "output_type": "stream",
     "text": [
      "Evaluating:  55%|█████▍    | 273/500 [03:09<03:37,  1.04it/s]"
     ]
    },
    {
     "name": "stdout",
     "output_type": "stream",
     "text": [
      "Source: Yet, His will in the heavens has always been enforced: immediate obedience.\n",
      "Target: [:duša mu je v nebi, tam jej slnok svieti,\n",
      "Prediction: a jeho vôľu bolo vždy na nebesiach, bez ohľadu na zpustenie.\n",
      "Source: ”We are now five days away from a very dangerous moment.\n",
      "Target: \"Nachádzame sa teraz päť dní od veľmi nebezpečného okamihu.\n",
      "Prediction: \"Sme teraz päť dní od veľmi nebezpečného okamihu.\n",
      "Source: but whoever does God's will lives forever.\n",
      "Target: Kto plní Božiu vôľu, ostáva naveky\n",
      "Prediction: Kto však plní Božiu vôľu,\n"
     ]
    },
    {
     "name": "stderr",
     "output_type": "stream",
     "text": [
      "Evaluating:  55%|█████▍    | 274/500 [03:11<04:37,  1.23s/it]"
     ]
    },
    {
     "name": "stdout",
     "output_type": "stream",
     "text": [
      "Source: Only in this way, you can witness and carry God’s peace to this peaceless world.\n",
      "Target: Len tým spôsobom môžete dosvedčovať a prinášať Boží pokoj tomuto nepokojnému svetu.\n",
      "Prediction: Iba v tomto prípade môžete svedectvo a napraviť Božiu vôľu k tomuto pokoju.\n",
      "Source: These 10 magicians work hard for their millions.\n",
      "Target: Títo 10 kúzelníci tvrdo pracujú pre svoje milióny.\n",
      "Prediction: Týchto 10 maxi hral pre ich milióny.\n"
     ]
    },
    {
     "name": "stderr",
     "output_type": "stream",
     "text": [
      "Evaluating:  55%|█████▌    | 277/500 [03:12<02:22,  1.57it/s]"
     ]
    },
    {
     "name": "stdout",
     "output_type": "stream",
     "text": [
      "Source: Why is He called God's “only begotten Son,” since we also are the children of God?\n",
      "Target: Prečo je Kristus nazvaný „jednorodeným Synom\" Božím, keď aj my sme deťmi Božími?\n",
      "Prediction: Prečo sa hovorí, že Boží Syn nazývame.\n",
      "Source: Ask them about their journey and ask them for help.\n",
      "Target: ask them for (help) → žiadať ich o (pomoc)žiadať ich o (pomoc)\n",
      "Prediction: Opýtaj sa ich na ich cestu a pýtajte ich za pomoc.\n",
      "Source: His friend, Mr. B, is not.\n",
      "Target: Jeho priateľ, pán B, nie je.\n",
      "Prediction: Jeho priateľ, pán B, nie.\n"
     ]
    },
    {
     "name": "stderr",
     "output_type": "stream",
     "text": [
      "Evaluating:  56%|█████▌    | 281/500 [03:12<01:06,  3.30it/s]"
     ]
    },
    {
     "name": "stdout",
     "output_type": "stream",
     "text": [
      "Source: So the book is Atonement: A Guide for the Perplexed.\n",
      "Target: Poslanie knihy je: odnaučiť sa žiarliť. - (Plzák Miroslav) Predané.\n",
      "Prediction: Takže kniha je v skutočnosti: Hill pre exxed.\n",
      "Source: God's blessings to your family. ”\n",
      "Target: Nech Boh žehná vašej rodine.”\n",
      "Prediction: Božie požehnanie pre svoju rodinu.\n",
      "Source: They can have campaigns of hatred; our friendly dictators will keep them under control.\n",
      "Target: Môžu mať kampane nenávisti; naši priateľskí diktátori ich udržia pod kontrolou.\n",
      "Prediction: Môžu mať vozidiel nenávisti; naše priateľské diktátori ich budú naďalej pod kontrolou.\n"
     ]
    },
    {
     "name": "stderr",
     "output_type": "stream",
     "text": [
      "Evaluating:  57%|█████▋    | 283/500 [03:12<00:50,  4.33it/s]"
     ]
    },
    {
     "name": "stdout",
     "output_type": "stream",
     "text": [
      "Source: But what is God’s pleasure?\n",
      "Target: A aká je radosť Boha?\n",
      "Prediction: Čo je Božia láska?\n",
      "Source: 'In each of us there is another, whom we do not know.\n",
      "Target: V každom z nás je ešte niekto druhý, koho nepoznáme.\n",
      "Prediction: „V každom z nás je ďalší, ktorého nevieme.\n"
     ]
    },
    {
     "name": "stderr",
     "output_type": "stream",
     "text": [
      "Evaluating:  57%|█████▋    | 285/500 [03:13<00:44,  4.87it/s]"
     ]
    },
    {
     "name": "stdout",
     "output_type": "stream",
     "text": [
      "Source: He Who created the heavens and stretched them out,\n",
      "Target: ktorý stvoril nebesá a rozostrel ich,\n",
      "Prediction: A ten, kto stvoril nebesia a vyraňuje ich,\n",
      "Source: “Sorry aunt Jodie these magazines lack integrity.”\n",
      "Target: \"Je mi to ľúto teta Jodie, tieto časopisy postrádajú integritu.\"\n",
      "Prediction: \"Dajte si nádevu Jodie, že tieto maskie chýbajú integritu.\"\n"
     ]
    },
    {
     "name": "stderr",
     "output_type": "stream",
     "text": [
      "Evaluating:  57%|█████▋    | 287/500 [03:13<00:31,  6.69it/s]"
     ]
    },
    {
     "name": "stdout",
     "output_type": "stream",
     "text": [
      "Source: Not from God’s words.\n",
      "Target: Nie Božím Slovám.\n",
      "Prediction: Nie od Božieho slova.\n",
      "Source: 17 July 2004 New languages added.\n",
      "Target: 17. júl 2004 Pridané nové jazyky.\n",
      "Prediction: 17. júla 2004 rozpočty dodal.\n",
      "Source: Do not leave on the earth a single unbeliever.'\n",
      "Target: Neponechaj na zemi ani jedinkého obyvateľa spomedzi neveriacich!“\n",
      "Prediction: A nedovoľte, že niet veriaci na zemi.\n"
     ]
    },
    {
     "name": "stderr",
     "output_type": "stream",
     "text": [
      "Evaluating:  58%|█████▊    | 289/500 [03:15<01:45,  2.00it/s]"
     ]
    },
    {
     "name": "stdout",
     "output_type": "stream",
     "text": [
      "Source: Sirpa Pietikäinen (PPE). - (FI) Mr President, it is significant that Parliament for the first time had a chance to approve the budget.\n",
      "Target: Sirpa Pietikäinen (PPE). – (FI) Vážený pán predsedajúci, je významné, že Parlament mal prvýkrát možnosť schvaľovať rozpočet.\n",
      "Prediction: Sirpha Paterenenen (PPE). – (FI) Vážený pán predsedajúca, je jasné, že Parlament v prvom rade požaduje.\n",
      "Source: A day in God’s sight is a thousand years.\n",
      "Target: Viera v boha je nemenna a stala tisice rokov.\n",
      "Prediction: V deň Božích rokov je tisíc rokov.\n"
     ]
    },
    {
     "name": "stderr",
     "output_type": "stream",
     "text": [
      "Evaluating:  58%|█████▊    | 291/500 [03:15<01:18,  2.68it/s]"
     ]
    },
    {
     "name": "stdout",
     "output_type": "stream",
     "text": [
      "Source: It shows how easily we could solve the planet’s problems if we had competent leadership.\n",
      "Target: Ukazuje, ako ľahko by sme mohli vyriešiť problémy planéty keby sme mali kompetentné vedenie.\n",
      "Prediction: Ukazuje to, ako ľahko by sme mohli vyriešiť problémy planéta, ak by sme mali príslušné vedenie.\n"
     ]
    },
    {
     "name": "stderr",
     "output_type": "stream",
     "text": [
      "Evaluating:  58%|█████▊    | 292/500 [03:18<02:30,  1.38it/s]"
     ]
    },
    {
     "name": "stdout",
     "output_type": "stream",
     "text": [
      "Source: “Blessed be God Most High, who delivered your enemies into your hand.”\n",
      "Target: a požehnaný nech je Najvyšší Boh, ktorý ti vydal do rúk tvojich nepriateľov.\"\n",
      "Prediction: Blahoslavený Boh Najvyššieho, ktorý poslal tvojich nepriateľov.\"\n"
     ]
    },
    {
     "name": "stderr",
     "output_type": "stream",
     "text": [
      "Evaluating:  59%|█████▊    | 293/500 [03:18<02:28,  1.39it/s]"
     ]
    },
    {
     "name": "stdout",
     "output_type": "stream",
     "text": [
      "Source: He said,“Write this: ‘These words are trustworthy and true.’”\n",
      "Target: Potom doložil: Napíš: Tieto slová sú pravdivé a spoľahlivé.\"\n",
      "Prediction: Odpovedal: „Tieto slová sú správne a pravdivé.\n",
      "Source: Moreover, a modern “house” for fish can look like anything!\n",
      "Target: Okrem toho, moderný \"dom\" pre ryby môže vyzerať ako čokoľvek!\n",
      "Prediction: Okrem toho moderné „visk“ pre ryby môžu vyzerať nič iné!\n"
     ]
    },
    {
     "name": "stderr",
     "output_type": "stream",
     "text": [
      "Evaluating:  59%|█████▉    | 295/500 [03:20<02:57,  1.15it/s]"
     ]
    },
    {
     "name": "stdout",
     "output_type": "stream",
     "text": [
      "Source: And Pharaoh's daughter said to her, 'Go.'\n",
      "Target: Faraónova dcéra jej odpovedala: Choď!\n",
      "Prediction: A hľa, ako jej povedal faraónova dcéru: „Pane.\n"
     ]
    },
    {
     "name": "stderr",
     "output_type": "stream",
     "text": [
      "Evaluating:  59%|█████▉    | 296/500 [03:23<03:55,  1.16s/it]"
     ]
    },
    {
     "name": "stdout",
     "output_type": "stream",
     "text": [
      "Source: Then save yourself, if you’re God’s son, and come down from the cross.’\n",
      "Target: Zachráň sám seba, ak si Syn Boží, a zostúp z kríža!\n",
      "Prediction: A potom sa, že si Boží Syn, a odpúšťaš,\n"
     ]
    },
    {
     "name": "stderr",
     "output_type": "stream",
     "text": [
      "Evaluating:  59%|█████▉    | 297/500 [03:25<04:51,  1.44s/it]"
     ]
    },
    {
     "name": "stdout",
     "output_type": "stream",
     "text": [
      "Source: 41:25 Joseph said to Pharaoh, 'Pharaoh's dream has a single meaning.\n",
      "Target: 41:25 Joseph reagoval: \"Sen kráľa je jedna.\n",
      "Prediction: 25.\n"
     ]
    },
    {
     "name": "stderr",
     "output_type": "stream",
     "text": [
      "Evaluating:  60%|█████▉    | 299/500 [03:27<04:06,  1.23s/it]"
     ]
    },
    {
     "name": "stdout",
     "output_type": "stream",
     "text": [
      "Source: Those who “abide in Him” are objects of God’s affection and love.\n",
      "Target: Tí, ktorí „zostávajú v Ňom“, sú predmetmi Božej náklonnosti a lásky.\n",
      "Prediction: Tí, ktorí v ňom sú prisľúbeniami Božieho slova, sú večné a s Božou milosťou.\n",
      "Source: and its inhabitants will die in the same way:\n",
      "Target: Jej obyvatelia pomrú podobne,\n",
      "Prediction: a jeho obyvatelia zomierajú rovnakým spôsobom:\n"
     ]
    },
    {
     "name": "stderr",
     "output_type": "stream",
     "text": [
      "Evaluating:  60%|██████    | 301/500 [03:28<02:22,  1.40it/s]"
     ]
    },
    {
     "name": "stdout",
     "output_type": "stream",
     "text": [
      "Source: Satan would try to remove God’s name from the earth.\n",
      "Target: ,,Diabol sa zaryto snaží vymazať Božie meno z existencie.\n",
      "Prediction: Satan sa snažila odstrániť Božie meno zo zeme.\n",
      "Source: 12), which codified it and contains, in essence, the same provisions.\n",
      "Target: 12), ktorá ju kodifikovala a v podstate obsahuje rovnaké ustanovenia.\n",
      "Prediction: 12), ktoré ho kodrovali a obsahuje, v dôsledku toho isté ustanovenia.\n"
     ]
    },
    {
     "name": "stderr",
     "output_type": "stream",
     "text": [
      "Evaluating:  60%|██████    | 302/500 [03:30<03:42,  1.12s/it]"
     ]
    },
    {
     "name": "stdout",
     "output_type": "stream",
     "text": [
      "Source: When some of those standing there heard this, they said, \"He's calling Elijah.”\n",
      "Target: Keď to počuli niektorí z tých, čo tam stáli, vraveli: „Volá Eliáša.”\n",
      "Prediction: Keď to počuli niektorí z tých, čo tam stáli, vraveli, povedal: \"Prijal Eliáša!\"\n"
     ]
    },
    {
     "name": "stderr",
     "output_type": "stream",
     "text": [
      "Evaluating:  61%|██████    | 304/500 [03:32<03:25,  1.05s/it]"
     ]
    },
    {
     "name": "stdout",
     "output_type": "stream",
     "text": [
      "Source: {4} And no man in heaven, nor in earth, neither under the earth, was able to open the book, neither to look thereon.\n",
      "Target: A nikto nemohol na nebi ani na zemi ani pod zemou otvoriť knihu ani nazrieť do nej.\n",
      "Prediction: A ten, kto je v nebi, ani v nebi, ani v nebi, nebol schopný otvoriť knihu, ani sa nerozumieňať na seba.\n",
      "Source: They found Him and said, \"Everybody's looking for you.\"\n",
      "Target: “Keď ho našli, povedali mu: \"Všetci ťa hľadajú”.\n",
      "Prediction: Našli si ho a povedali: „Všetci ťa hľadajú.“\n"
     ]
    },
    {
     "name": "stderr",
     "output_type": "stream",
     "text": [
      "Evaluating:  61%|██████    | 305/500 [03:34<04:31,  1.39s/it]"
     ]
    },
    {
     "name": "stdout",
     "output_type": "stream",
     "text": [
      "Source: \"He that believeth not God hath made God a liar.\"\n",
      "Target: Kto Bohu neverí, činí z Neho luhára!\n",
      "Prediction: A ten, kto verí, niet Allahovi, ktorý učinil Boha.\n"
     ]
    },
    {
     "name": "stderr",
     "output_type": "stream",
     "text": [
      "Evaluating:  61%|██████    | 306/500 [03:37<05:18,  1.64s/it]"
     ]
    },
    {
     "name": "stdout",
     "output_type": "stream",
     "text": [
      "Source: They do not recognize Jesus, the Son of Mary, as God’s son.\n",
      "Target: Nepoznáš Ježiša, Božieho syna.\n",
      "Prediction: Nehovoria o tom, že je synom Másky, ako Boží Syn.\n"
     ]
    },
    {
     "name": "stderr",
     "output_type": "stream",
     "text": [
      "Evaluating:  62%|██████▏   | 308/500 [03:39<04:11,  1.31s/it]"
     ]
    },
    {
     "name": "stdout",
     "output_type": "stream",
     "text": [
      "Source: Everyone who does not listen to that prophet will be cut off from the people.”\n",
      "Target: A každý, kto nepočúvne toho proroka, bude odstránený z ľudu.'\n",
      "Prediction: A každý, kto nepočúva o tom, že prorok bude odpustený z ľudí.\"\n",
      "Source: To them I say: stop the killings and the destruction, and create space for lasting peace.\"\n",
      "Target: Odkazujem im: Zastavte zabíjanie a ničenie a vytvorte priestor na trvalý mier.\n",
      "Prediction: Ak poviem im: zastavte zabížanie a zničenie a vytvoriť priestor pre trvalý mier.“\n"
     ]
    },
    {
     "name": "stderr",
     "output_type": "stream",
     "text": [
      "Evaluating:  62%|██████▏   | 310/500 [03:39<02:18,  1.37it/s]"
     ]
    },
    {
     "name": "stdout",
     "output_type": "stream",
     "text": [
      "Source: His mother said to the servant “Do whatever he tells you.”\n",
      "Target: Jeho matka povedala obsluhujúcim: \"Urobte všetko, čo Vám povie\".\n",
      "Prediction: Jeho ma\n",
      "Source: The 34th government will deserve Israel; Israel will deserve the 34th government.\n",
      "Target: V poradí 34. vláda bude zaslúži Izraelu; a Izrael bude zaslúžiť 34. vláde.\n",
      "Prediction: 15. vláda si zaslúži Izrael; Izrael si zaslúži 34.\n"
     ]
    },
    {
     "name": "stderr",
     "output_type": "stream",
     "text": [
      "Evaluating:  62%|██████▏   | 311/500 [03:41<03:39,  1.16s/it]"
     ]
    },
    {
     "name": "stdout",
     "output_type": "stream",
     "text": [
      "Source: Shakir: And your Allah is one Allah! there is no god but He; He is the Beneficent, the Merciful.\n",
      "Target: {Váš Boh je Boh jediný a niet božstva okrem Neho, Milosrdného, Zľutovného.\n",
      "Prediction: Všemohúci, Allah je Allaha, niet boha ako Allah, ale Milosrdný, ale Milosrdný je Allah!}\n",
      "Source: After the Lord's ascension, the disciples realized the fulfillment of His promise.\n",
      "Target: Po Pánovom nanebovstúpení si učeníci uvedomili, že jeho zasľúbenie sa splnilo.\n",
      "Prediction: Potom, čo príde, v Božom smere, učeníci si pozývali naplnenie jeho sľubov.\n"
     ]
    },
    {
     "name": "stderr",
     "output_type": "stream",
     "text": [
      "Evaluating:  63%|██████▎   | 315/500 [03:44<02:12,  1.40it/s]"
     ]
    },
    {
     "name": "stdout",
     "output_type": "stream",
     "text": [
      "Source: And if anyone's name was not found written in the book of life, he was thrown into the lake of fire.\"\n",
      "Target: A ak niekto nebol zapísaný v knihe života, zvrhli ho do ohnivého jazera.“\n",
      "Prediction: A ak niekto nebol zapísaný v knihe života, bol uvrhnutý do ohnivého jazera.\"\n",
      "Source: You will need iron for the rest of your life; everyone needs iron.\n",
      "Target: Budete potrebovať železo po zvyšok svojho života; každý potrebuje železo.\n",
      "Prediction: Budete potrebovať pomaly za zvyšok vášho života; každý potrebuje želez.\n",
      "Source: “I presented my Peace Plan in the European Parliament, here in Brussels.\n",
      "Target: „Predstavil som svoj mierový plán v Európskom parlamente, tu v Bruseli.\n",
      "Prediction: „Predstavil som svoj mier v parlamente Európskeho parlamentu, tu v Bruseli.\n"
     ]
    },
    {
     "name": "stderr",
     "output_type": "stream",
     "text": [
      "Evaluating:  63%|██████▎   | 317/500 [03:44<01:26,  2.11it/s]"
     ]
    },
    {
     "name": "stdout",
     "output_type": "stream",
     "text": [
      "Source: That has nothing to do with God's grace.\n",
      "Target: Nemá to nič spoločné s dokonalosťou Boha.\n",
      "Prediction: Nie je to nič s Božou milosťou.\n",
      "Source: 'Pli.--And do you think that the words of your book are certainly true?\n",
      "Target: Povoľný: „A či myslíš, že slová tvojej knihy sú skutočne pravda?“\n",
      "Prediction: „Pili. – a myslíte si, že slová vašej knihy sú určite pravdivé?\n"
     ]
    },
    {
     "name": "stderr",
     "output_type": "stream",
     "text": [
      "Evaluating:  64%|██████▍   | 319/500 [03:44<01:01,  2.97it/s]"
     ]
    },
    {
     "name": "stdout",
     "output_type": "stream",
     "text": [
      "Source: Seek and find in the Pyramid I built.\n",
      "Target: Hľadaj a nájdi v pyramíde, ktorú som postavil.\n",
      "Prediction: Pozrite sa a nájsť v Peymíde, ktorú som postavil.\n",
      "Source: He sees the future and knew I needed my Hayden.\n",
      "Target: Vidí budúcnosť, a vedel, že som potreboval môj Hayden.\n",
      "Prediction: Vidí budúcnosť a vedel som, že potreboval môj Hayál.\n"
     ]
    },
    {
     "name": "stderr",
     "output_type": "stream",
     "text": [
      "Evaluating:  64%|██████▍   | 321/500 [03:45<00:45,  3.92it/s]"
     ]
    },
    {
     "name": "stdout",
     "output_type": "stream",
     "text": [
      "Source: 'And God saw everything that he had made, and behold, it was very good.\n",
      "Target: „A Boh videl všetko, čo urobil, a hľa, bolo to veľmi dobré.\n",
      "Prediction: A Boh videl všetko, čo urobil, a hľa, bolo to veľmi dobré.\n",
      "Source: \"We already have the closest possible relationship: it's called the European Union.\n",
      "Target: \"Už máme najbližší možný vzťah: volá sa Európska únia.\n",
      "Prediction: \"Už máme najjednoduchší možný vzťah: nazýva sa Európskej únie.\n"
     ]
    },
    {
     "name": "stderr",
     "output_type": "stream",
     "text": [
      "Evaluating:  65%|██████▍   | 323/500 [03:45<00:38,  4.64it/s]"
     ]
    },
    {
     "name": "stdout",
     "output_type": "stream",
     "text": [
      "Source: “Turn your face to the sun and all of the shadows fall behind you.”\n",
      "Target: „Obráť tvár k slnku a všetky tiene padnú za teba.“\n",
      "Prediction: „Obráť sa tvár k slnku a všetky tiene padnú za teba.”\n",
      "Source: Let us not hesitate to help those who have died and offer our prayers for them.”\n",
      "Target: Neváhajme a poďme na pomoc tým, ktorí sú mŕtví a obetujme za nich svoje modlitby.“\n",
      "Prediction: Nech nie, aby sme pomohli tým, ktorí zomreli a ponúkajú nám naše modlitby.\"\n"
     ]
    },
    {
     "name": "stderr",
     "output_type": "stream",
     "text": [
      "Evaluating:  65%|██████▍   | 324/500 [03:45<00:33,  5.30it/s]"
     ]
    },
    {
     "name": "stdout",
     "output_type": "stream",
     "text": [
      "Source: God’s glory is seen in his creation.\n",
      "Target: Božia sláva je zjavená v jeho tvorstve.\n",
      "Prediction: Božie milosrdenstvo je v jeho stvorení.\n"
     ]
    },
    {
     "name": "stderr",
     "output_type": "stream",
     "text": [
      "Evaluating:  65%|██████▌   | 327/500 [03:46<00:36,  4.72it/s]"
     ]
    },
    {
     "name": "stdout",
     "output_type": "stream",
     "text": [
      "Source: Life is temporary; God’s lovingkindness is eternal.\n",
      "Target: Utrpenie je časné, Božia sláva je večná.\n",
      "Prediction: Božie milosrdenstvo je Božia láska.\n",
      "Source: Like a bat out of hell means very fast.\n",
      "Target: Like a bat out of hell znamená veľmi rýchlo.\n",
      "Prediction: Ako kúpené na pekle znamená veľmi rýchlo.\n",
      "Source: Because you need this lesson, Jonathan.\n",
      "Target: Lebo ty túto lekciu potrebuješ, Jonathan.\n",
      "Prediction: Pretože potrebujete túto lekciu, Jtonan.\n"
     ]
    },
    {
     "name": "stderr",
     "output_type": "stream",
     "text": [
      "Evaluating:  66%|██████▌   | 329/500 [03:46<00:27,  6.27it/s]"
     ]
    },
    {
     "name": "stdout",
     "output_type": "stream",
     "text": [
      "Source: Send your dead animal into space, it's now possible!\n",
      "Target: Pošlite svoje mŕtve zviera do vesmíru, je to teraz možné!\n",
      "Prediction: Sing svoje mŕtvy zviera na vesmír, je to teraz možné!\n",
      "Source: But nobody seems to know how—including Facebook.\n",
      "Target: Zdá sa však, že nikto nevie, ako – vrátane Facebooku.\n",
      "Prediction: Ale nikto nezdí vedieť ako – ako je Facebook.\n"
     ]
    },
    {
     "name": "stderr",
     "output_type": "stream",
     "text": [
      "Evaluating:  66%|██████▌   | 330/500 [03:46<00:30,  5.63it/s]"
     ]
    },
    {
     "name": "stdout",
     "output_type": "stream",
     "text": [
      "Source: 1 The king’s heart is a stream of water in the hand of the LORD; he turns it wherever he will.\n",
      "Target: 1 Sťa vodná struha je srdce kráľa v ruke Pánovej, vedie ho, kamkoľvek chce.\n",
      "Prediction: 1 Srdce kráľovo je v ruke Pánovej ruky; vedie ho, kamkoľvek chce.\n"
     ]
    },
    {
     "name": "stderr",
     "output_type": "stream",
     "text": [
      "Evaluating:  66%|██████▋   | 332/500 [03:47<00:40,  4.17it/s]"
     ]
    },
    {
     "name": "stdout",
     "output_type": "stream",
     "text": [
      "Source: He hath refused to reserve for Himself any share whatever of this world's dominion.\n",
      "Target: On si pre seba odmietol ponechať akýkoľvek podiel z tejto svetskej vlády.\n",
      "Prediction: Smrť odmietol na seba, žekoľvek podiel o celom svete je dokorajší.\n",
      "Source: It defines that Spanish and German groups will always start at the same time:\n",
      "Target: Je tam zadefinované, že skupiny Španielčiny a Nemčiny budú vždy začínať v rovnakom čase:\n",
      "Prediction: Znie to, že španielci a nemecké skupiny budú vždy ešte začať súčasne:\n",
      "Source: Although they may have great knowledge about their websit\n",
      "Target: Hoci oni môžu mať veľké znalosti o ich websit\n",
      "Prediction: Aj keď môžu mať veľké vedomosti o ich obrazovke\n"
     ]
    },
    {
     "name": "stderr",
     "output_type": "stream",
     "text": [
      "Evaluating:  67%|██████▋   | 334/500 [03:47<00:28,  5.86it/s]"
     ]
    },
    {
     "name": "stdout",
     "output_type": "stream",
     "text": [
      "Source: Scripture is God's word to us.\n",
      "Target: Božie slovo je napísané pre nás,\n",
      "Prediction: Božie slovo pre nás\n"
     ]
    },
    {
     "name": "stderr",
     "output_type": "stream",
     "text": [
      "Evaluating:  67%|██████▋   | 336/500 [03:49<01:21,  2.01it/s]"
     ]
    },
    {
     "name": "stdout",
     "output_type": "stream",
     "text": [
      "Source: Isaiah 56:3-7 - Let no foreigner who has bound himself to the LORD say, \"The LORD will surely exclude me from his people.\"\n",
      "Target: Evanjelický preklad: Iz 56:3-7 Nech nehovorí cudzinec, ktorý sa pripojil k Hospodinovi: Hospodin ma celkom oddelí od svojho ľudu!\n",
      "Prediction: Izaiáš 56:2-7: Povedaj sa na Pánovi, ktorý sa nešťastá na Pána, hovorí: „Pán od toho, že mu odpustí.\"\n",
      "Source: That he has all power in heaven and in earth.\n",
      "Target: Jeho je moc v nebesiach i na zemi!\n",
      "Prediction: On má celú moc v nebi a na zemi.\n"
     ]
    },
    {
     "name": "stderr",
     "output_type": "stream",
     "text": [
      "Evaluating:  67%|██████▋   | 337/500 [03:50<01:15,  2.15it/s]"
     ]
    },
    {
     "name": "stdout",
     "output_type": "stream",
     "text": [
      "Source: But when Jesus called them, “immediately they left the boat and their father and followed him.”\n",
      "Target: Ježiš ich volá, a “oni hneď zanechali loď i svojho otca a išli za ním”.\n",
      "Prediction: Ale keď ich Ježiš zavolal: „Dovoľne opustil loď a svojho otca a nasledovala ho.\n",
      "Source: Even biological growth is a crisis, no?\n",
      "Target: Dokonca aj biologický rast je kríza, či nie?\n",
      "Prediction: Aj biologický rast je kríza, nie?\n"
     ]
    },
    {
     "name": "stderr",
     "output_type": "stream",
     "text": [
      "Evaluating:  68%|██████▊   | 341/500 [03:50<00:37,  4.25it/s]"
     ]
    },
    {
     "name": "stdout",
     "output_type": "stream",
     "text": [
      "Source: The sun, the moon, and eleven stars bowed down to me.”\n",
      "Target: Slnko, mesiac a jedenásť hviezd sa mi klaňalo.\"\n",
      "Prediction: Teje, Mesiac, a jedli hviezda uniehli mi.\"\n",
      "Source: That is God’s truth.”\n",
      "Target: To je božia spravodlivosť.\"\n",
      "Prediction: To je Božia pravda.“\n",
      "Source: Despite this, Chinese doctors believe that these 2 exercises can add years to your life!\n",
      "Target: Napriek tomu, čínski lekári veria, že tieto 2 cvičenia môžu pridať roky do vášho života!\n",
      "Prediction: Napriek tomu, čínski lekári veria, že tieto 2 cvičenia môžu pridať roky!\n"
     ]
    },
    {
     "name": "stderr",
     "output_type": "stream",
     "text": [
      "Evaluating:  68%|██████▊   | 342/500 [03:50<00:34,  4.63it/s]"
     ]
    },
    {
     "name": "stdout",
     "output_type": "stream",
     "text": [
      "Source: I will harden Pharaoh's heart and he will pursue them.\n",
      "Target: 4A ja opäť zatvrdím faraónovo srdce, a bude sa hnať za vami.\n",
      "Prediction: Ja by som zatvrdil faraónovo srdce a mal by som ich nasledovať.\n"
     ]
    },
    {
     "name": "stderr",
     "output_type": "stream",
     "text": [
      "Evaluating:  69%|██████▊   | 343/500 [03:52<01:35,  1.64it/s]"
     ]
    },
    {
     "name": "stdout",
     "output_type": "stream",
     "text": [
      "Source: God’s mercy is great towards those who fear Him.\n",
      "Target: Veľké je jeho milosrdenstvo nad tými, čo sa ho boja.\n",
      "Prediction: Božie milosrdenstvo je veľmi veľký pre tých, ktorí sa ho boja.\n"
     ]
    },
    {
     "name": "stderr",
     "output_type": "stream",
     "text": [
      "Evaluating:  69%|██████▉   | 345/500 [03:54<01:58,  1.31it/s]"
     ]
    },
    {
     "name": "stdout",
     "output_type": "stream",
     "text": [
      "Source: Yes, we know they are good, but what about your virtual private server ?\n",
      "Target: Áno, vieme, že sú dobré, ale čo váš virtuálny súkromný server?\n",
      "Prediction: Áno, vieme, že sú dobré, ale čo sa týka vašej virtuálnej stoličky?\n",
      "Source: People who only received bGH after 1985 can also donate blood.\n",
      "Target: Ľudia, ktorí dostali iba bGH po roku 1985, môžu tiež darovať krv.\n",
      "Prediction: Ľudia, ktorí získavali bGH po roku 1985, môžu tiež darovať krv.\n"
     ]
    },
    {
     "name": "stderr",
     "output_type": "stream",
     "text": [
      "Evaluating:  69%|██████▉   | 347/500 [03:57<02:11,  1.17it/s]"
     ]
    },
    {
     "name": "stdout",
     "output_type": "stream",
     "text": [
      "Source: \"but lo! a Day with Allah is as a thousand years of what ye reckon.\" (22:47)\n",
      "Target: “Veď deň u tvojho Boha je ako tisíc rokov, ktoré počítate vy (na Zemi).”\n",
      "Prediction: „ale milovník!\n",
      "Source: This time, her choice fell on RATI-GITIS.\n",
      "Target: Tentokrát jej výber padol na RATI-GITIS.\n",
      "Prediction: Tentoraz, jej voľba sa v RATI-GE.\n"
     ]
    },
    {
     "name": "stderr",
     "output_type": "stream",
     "text": [
      "Evaluating:  70%|██████▉   | 349/500 [03:59<02:17,  1.09it/s]"
     ]
    },
    {
     "name": "stdout",
     "output_type": "stream",
     "text": [
      "Source: There is a God in the heavens whom we serve, and He is able to save us from the burning fiery furnace.\n",
      "Target: My hľadáme Boha na nebesiach a on k nám prichádza v malosti.\n",
      "Prediction: V nebesiach je Boh, ktorého slúžime, a on nás môže zachrániť od horiarskeho ne.\n",
      "Source: And know that Allah is with those who fear him.”\n",
      "Target: A vedzte, že Boh je s tými, ktorí sú bohabojní.\"\n",
      "Prediction: A vedzte, že Boh je s tými, ktorí sa mu bojia.“\n"
     ]
    },
    {
     "name": "stderr",
     "output_type": "stream",
     "text": [
      "Evaluating:  70%|███████   | 350/500 [03:59<01:45,  1.42it/s]"
     ]
    },
    {
     "name": "stdout",
     "output_type": "stream",
     "text": [
      "Source: The people of Israel commit themselves to be David's people.\n",
      "Target: Izraeliti sa zaviazali, že budú ľudom Hospodinovým.\n",
      "Prediction: Je ľudia Izraela, aby boli Božím ľudom.\n"
     ]
    },
    {
     "name": "stderr",
     "output_type": "stream",
     "text": [
      "Evaluating:  71%|███████   | 353/500 [04:02<01:35,  1.54it/s]"
     ]
    },
    {
     "name": "stdout",
     "output_type": "stream",
     "text": [
      "Source: Anna, ’44: “I work the director of a large network.\n",
      "Target: Anna, ’44: „Pracujem riaditeľ veľké siete.\n",
      "Prediction: Anna, “4: “Pracujem príbehy veľkej siete.\n",
      "Source: So what is life like after your husband’s death.\n",
      "Target: - Ako sa tvoj život zmenil po manželovej smrti?\n",
      "Prediction: Takže to, čo je život ako po smrti svojho manžela.\n",
      "Source: And God loves all of God’s children.\n",
      "Target: Spasiteľ miluje každé jedno z Božích detí.\n",
      "Prediction: A Boh miluje všetky Božie deti.\n"
     ]
    },
    {
     "name": "stderr",
     "output_type": "stream",
     "text": [
      "Evaluating:  71%|███████   | 356/500 [04:02<00:49,  2.92it/s]"
     ]
    },
    {
     "name": "stdout",
     "output_type": "stream",
     "text": [
      "Source: On the other hand, Europe still has many noble dreams; that is part of its heritage.\n",
      "Target: Na strane druhej, Európa má ešte stále veľa vznešených snov; to je súčasťou jej dedičstva.\n",
      "Prediction: Na druhej strane Európa stále má veľa nešťastných snov; to je súčasťou jej dedičstva.\n",
      "Source: That approach failed in 1940; will it work today?\n",
      "Target: Tento prístup zlyhal v roku 1940; bude fungovať dnes?\n",
      "Prediction: Tento prístup zlyhal v roku 1940; bude pokračovať?\n",
      "Source: We say that what you have gained is gong.\n",
      "Target: Hovoríme, že to čo ste získali je gong.\n",
      "Prediction: Hovoríme, že to, čo ste dostali, je gong.\n"
     ]
    },
    {
     "name": "stderr",
     "output_type": "stream",
     "text": [
      "Evaluating:  72%|███████▏  | 358/500 [04:02<00:38,  3.73it/s]"
     ]
    },
    {
     "name": "stdout",
     "output_type": "stream",
     "text": [
      "Source: How much would her movie roles be worth if she were alive and working in 2015?\n",
      "Target: Koľko by jej filmové roly stáli za to, keby bola v roku 2015 nažive a pracuje?\n",
      "Prediction: Koľko by bolo jej filmové úlohy stojí za to, či by bola nažive a pracovala v roku 2015?\n",
      "Source: (The number of women who’ve been elected to Parliament since 1867: 257.\n",
      "Target: (Počet žien, ktoré boli zvolené do parlamentu od roku 1867: 257.\n",
      "Prediction: ( počet žien, ktoré boli zvolené Parlament od roku 1877: 257.\n",
      "Source: If he got healed under such circumstances, it was from Satan.\n",
      "Target: Ak bol uzdravený za týchto podmienok, bolo to od Satana.\n",
      "Prediction: Ak on zabil za takýchto okolností, to bolo z Satana.\n"
     ]
    },
    {
     "name": "stderr",
     "output_type": "stream",
     "text": [
      "Evaluating:  72%|███████▏  | 360/500 [04:03<00:43,  3.20it/s]"
     ]
    },
    {
     "name": "stdout",
     "output_type": "stream",
     "text": [
      "Source: God's people do not only work for Him in a labour of love, but they suffer for Him with joy.\n",
      "Target: Ľud Boží pre Neho nepracuje len v namáhavej práci lásky, ale s radosťou pre Neho aj trpí.\n",
      "Prediction: Božie Slovo nepatrí len za jeho prácu lásky, ale žijú za neho s radosťou.\n"
     ]
    },
    {
     "name": "stderr",
     "output_type": "stream",
     "text": [
      "Evaluating:  72%|███████▏  | 361/500 [04:05<01:41,  1.37it/s]"
     ]
    },
    {
     "name": "stdout",
     "output_type": "stream",
     "text": [
      "Source: 18 Neither their silver nor their gold will be able to save them on the day of the Lord’s wrath.\n",
      "Target: 18 Ani ich striebro ani zlato ich nebude môcť zachrániť v deň Hospodinovho hnevu.\n",
      "Prediction: 18 Ani ich striebro, ani ich zlato ich nebude môcť zachrániť v deň Pánovom hnev.\n"
     ]
    },
    {
     "name": "stderr",
     "output_type": "stream",
     "text": [
      "Evaluating:  73%|███████▎  | 363/500 [04:07<01:37,  1.41it/s]"
     ]
    },
    {
     "name": "stdout",
     "output_type": "stream",
     "text": [
      "Source: “Whatever the LORD pleases he does, in heaven and on earth, in the seas and all deeps.”\n",
      "Target: 6 Hospodin koná, čo chce, na nebi i na zemi, v moriach i vo všetkých hlbinách.\n",
      "Prediction: Čokoľvek, čokoľvek, v nebi, robí na nebi i na zemi, v moroch a vo všetkých hlbokých.\n",
      "Source: Many are saying of me, there is no help for him in God.\n",
      "Target: Mnohí o mne hovoria: Pre neho niet pomoci u Boha!\n",
      "Prediction: Mnohí hovoria o mne, nie je pre neho nič iné.\n"
     ]
    },
    {
     "name": "stderr",
     "output_type": "stream",
     "text": [
      "Evaluating:  73%|███████▎  | 364/500 [04:07<01:14,  1.81it/s]"
     ]
    },
    {
     "name": "stdout",
     "output_type": "stream",
     "text": [
      "Source: If you lie, your nose will stretch up to the sky.”\n",
      "Target: Keď privoniaš, tvoj nos sa rozšíri.\"\n",
      "Prediction: A ak klame, vaše dary, sa obrátia na oblohu.“\n"
     ]
    },
    {
     "name": "stderr",
     "output_type": "stream",
     "text": [
      "Evaluating:  73%|███████▎  | 367/500 [04:09<01:19,  1.67it/s]"
     ]
    },
    {
     "name": "stdout",
     "output_type": "stream",
     "text": [
      "Source: Peace be upon you, God's mercy and His blessings.\n",
      "Target: A mier s tebou, Milosť Allaha a Jeho Požehnania.\n",
      "Prediction: Božie milosrdenstvo a Božie milosrdenstvo.\n",
      "Source: 37.39); not the others, but yourself.\n",
      "Target: 37.39); nie druhých, ale seba samého.\n",
      "Prediction: 37.39); nie ostatných, ale sami.\n",
      "Source: Let us take an example which surely is not problematic: France in 1940.\n",
      "Target: Pozrime sa na príklad, ktorý zaiste nie je problematický: Francúzsko v 1940.\n",
      "Prediction: Nechajme príklad, ktorý určite nie je problematický: Francúzsko v roku 1940.\n"
     ]
    },
    {
     "name": "stderr",
     "output_type": "stream",
     "text": [
      "Evaluating:  74%|███████▎  | 368/500 [04:11<01:51,  1.18it/s]"
     ]
    },
    {
     "name": "stdout",
     "output_type": "stream",
     "text": [
      "Source: If our thoughts are formed from God’s Word, the maintenance of the one will not lead to the denial of the other.\n",
      "Target: Ak naše myšlienky formuje Božie slovo, zachovanie jedného nepovedie k popretiu druhého.\n",
      "Prediction: Ak ide o naše myšlienky z Božieho Slova, Božím Slovom, bez ohľadu na to, že sa nečakáva k Bohu.\n",
      "Source: This is not GOD'S will!\n",
      "Target: Ale toto nie je Božia vôľa!\n",
      "Prediction: Toto nie je Božia vôľa!\n"
     ]
    },
    {
     "name": "stderr",
     "output_type": "stream",
     "text": [
      "Evaluating:  74%|███████▍  | 372/500 [04:11<00:48,  2.63it/s]"
     ]
    },
    {
     "name": "stdout",
     "output_type": "stream",
     "text": [
      "Source: Satan is at work in opposition to God’s purpose and plan.\n",
      "Target: Hlavným cieľom diabla je, že sa stavia proti Božím úmyslom a plánom.\n",
      "Prediction: Satan pracuje v súlade s Božím cieľom a plánom.\n",
      "Source: All I want for Christmas is to eradicate these 3 health issues\n",
      "Target: Všetko, čo chcem na Vianoce, je odstrániť tieto 3 zdravotné problémy\n",
      "Prediction: Všetko, čo chcem pre Vianoce, je povedať tieto 3 zdravotné otázky\n",
      "Source: \"Why do we need a good relationship with Everton?\"\n",
      "Target: “Prečo potrebujeme dobrý vzťah s Evertonom?”\n",
      "Prediction: \"Prečo potrebujeme dobrý vzťah s Evertonom?\"\n",
      "Source: Every seven years, the Union decides about its future finances.\n",
      "Target: Každých sedem rokov Únia rozhoduje o svojich budúcich financiách.\n",
      "Prediction: Každý sedem rokov sa Únia rozhodne o svojich budúcich financiách.\n"
     ]
    },
    {
     "name": "stderr",
     "output_type": "stream",
     "text": [
      "Evaluating:  75%|███████▍  | 374/500 [04:13<01:20,  1.57it/s]"
     ]
    },
    {
     "name": "stdout",
     "output_type": "stream",
     "text": [
      "Source: Every discerning observer will recognize that in the Dispensation of the Qur’an both the Book and the Cause of Jesus were confirmed.\n",
      "Target: Každý vnímavý pozorovateľ uzná, že v zriadení Koránu bola potvrdená aj Ježišova kniha, aj Jeho vec.\n",
      "Prediction: A každý, kto sa bude rozpoznať, že v Božom Božom prikázaní sa zjaví v Krehui, ako aj od toho, čo sa zjaví.\n",
      "Source: Even we who live in Italy: below zero.\n",
      "Target: Aj my, ktorí žijeme v Taliansku: pod nulou.\n",
      "Prediction: Aj my, ktorí žijeme v Taliansku: za nuly.\n"
     ]
    },
    {
     "name": "stderr",
     "output_type": "stream",
     "text": [
      "Evaluating:  75%|███████▌  | 376/500 [04:16<01:40,  1.23it/s]"
     ]
    },
    {
     "name": "stdout",
     "output_type": "stream",
     "text": [
      "Source: God’s mercy has no limits if you go to him with a sincere and contrite heart.\n",
      "Target: Božia milosrdnosť nemá hraníc, ak pred neho predstúpiš s úprimným srdcom.\n",
      "Prediction: Božie milosrdenstvo nemá žiadne hranice, ak sa s ním nevzdáva.\n"
     ]
    },
    {
     "name": "stderr",
     "output_type": "stream",
     "text": [
      "Evaluating:  76%|███████▌  | 378/500 [04:18<01:47,  1.14it/s]"
     ]
    },
    {
     "name": "stdout",
     "output_type": "stream",
     "text": [
      "Source: Getting rid of water weight - 18-03-2018, 02:06:53\n",
      "Target: Tvrdosť vody [dH]: 11,4 – 18,3\n",
      "Prediction: Získajte sa z choroby vody - 18-03-2012, 02:06:533\n",
      "Source: No one is excluded from the joy brought by the Lord.\"\n",
      "Target: nie je vylúčený z radosti, ktorú daruje Pán“.\n",
      "Prediction: Nikto nie je vylúčený z radosti, ktoré priviedol Pán Pán.“\n"
     ]
    },
    {
     "name": "stderr",
     "output_type": "stream",
     "text": [
      "Evaluating:  76%|███████▌  | 381/500 [04:18<00:53,  2.22it/s]"
     ]
    },
    {
     "name": "stdout",
     "output_type": "stream",
     "text": [
      "Source: The blessed life is a life full of God’s presence.\n",
      "Target: dokonalá ľudskosť je miestom Božej prítomnosti.\n",
      "Prediction: Božie požehnanie je Božou vôľou.\n",
      "Source: Remember that your opinion may be decisive for thousands of men!\n",
      "Target: Nezabudnite, že Váš názor môže byť rozhodujúce pre tisíce ľudí!\n",
      "Prediction: Pamätajte, že váš názor môže byť rozhodujúce pre tisíc mužov!\n",
      "Source: And no one can replace you in God's heart.\n",
      "Target: Nikto ťa v Božom srdci nemôže nahradiť.\n",
      "Prediction: A nikto nemôže nahradiť v Božom srdci.\n"
     ]
    },
    {
     "name": "stderr",
     "output_type": "stream",
     "text": [
      "Evaluating:  76%|███████▋  | 382/500 [04:19<00:45,  2.62it/s]"
     ]
    },
    {
     "name": "stdout",
     "output_type": "stream",
     "text": [
      "Source: Ask for God’s forgiveness and protection.\n",
      "Target: Prosím pána Boha o odpustenie a pomoc.\n",
      "Prediction: Popúšťajte Božiu milosť a ochranu.\n",
      "Source: Are you looking for the most suitable solution to improve the efficiency of your supply chain in Russia and the 1520* area?\n",
      "Target: Hľadáte najvhodnejšie riešenie na zlepšenie efektívnosti vášho dodávateľského reťazca v Rusku a oblasti 1520 *?\n",
      "Prediction: Pozeráte sa na najviac vhodné riešenie na zlepšenie efektívnosti vašej sadzby v Rusku a do 1520* Únie?\n"
     ]
    },
    {
     "name": "stderr",
     "output_type": "stream",
     "text": [
      "Evaluating:  77%|███████▋  | 384/500 [04:19<00:34,  3.32it/s]"
     ]
    },
    {
     "name": "stdout",
     "output_type": "stream",
     "text": [
      "Source: Okay, that’s four possible answers to the objection, “But we can’t go to war with a billion Muslims!”\n",
      "Target: Dobre, to sú štyri možné odpovede na námietku, „Ale nemôžeme ísť do vojny s miliardou moslimov!“.\n",
      "Prediction: Dobre, to nie je štyri možné odpovede na objektu, \"Ale nemôžeme ísť do vojny s miliami moslimov!\"\n"
     ]
    },
    {
     "name": "stderr",
     "output_type": "stream",
     "text": [
      "Evaluating:  77%|███████▋  | 385/500 [04:21<01:31,  1.26it/s]"
     ]
    },
    {
     "name": "stdout",
     "output_type": "stream",
     "text": [
      "Source: 1.6 And again, when he brings the firstborn into the world, he says, “Let all God’s angels worship him.”\n",
      "Target: 6A znova, keď uvádza prvorodeného na svet, hovorí: \"Nech sa mu klaňajú všetci Boží anjeli.\"\n",
      "Prediction: 6 A znova, keď uvádza Prvorodeného na svet, hovorí: „Nech sa mu klaňajú všetci anjeli.“\n"
     ]
    },
    {
     "name": "stderr",
     "output_type": "stream",
     "text": [
      "Evaluating:  78%|███████▊  | 388/500 [04:21<00:43,  2.59it/s]"
     ]
    },
    {
     "name": "stdout",
     "output_type": "stream",
     "text": [
      "Source: 'to give his people the knowledge of salvation through the forgiveness of their sins'\n",
      "Target: V deň spásy „…dať Jeho ľudu známosť spasenia, záležajúceho v odpustení ich hriechov…“\n",
      "Prediction: Odpúšťajú tých, ktorí odmietajú Božie poznanie, odpustenie svojich hriechov\n",
      "Source: “There are no tales finer than those created by life itself.”\n",
      "Target: \"Niet krajších rozprávok ako tie, ktoré píše sám život.\"\n",
      "Prediction: “Nie sú žiadne talenty ako tie, ktoré dali sám život.”\n",
      "Source: “In addition to the European plan ... we will take a national step.\n",
      "Target: \"Okrem európskeho plánu ... podnikneme vlastné národné kroky.\n",
      "Prediction: “Okrem európskeho plánu ... budeme mať národný krok.\n"
     ]
    },
    {
     "name": "stderr",
     "output_type": "stream",
     "text": [
      "Evaluating:  78%|███████▊  | 389/500 [04:22<00:36,  3.06it/s]"
     ]
    },
    {
     "name": "stdout",
     "output_type": "stream",
     "text": [
      "Source: Did his dad compliment him on any of his 4,493 victories?\n",
      "Target: Páčilo sa jeho otec ho pochváliť na niektorom zo svojich 4,493 víťazstvo?\n",
      "Prediction: Zmenil ho jeho otec kompliment v akomkoľvek z 4,493 víťazstiev?\n"
     ]
    },
    {
     "name": "stderr",
     "output_type": "stream",
     "text": [
      "Evaluating:  78%|███████▊  | 390/500 [04:24<01:28,  1.25it/s]"
     ]
    },
    {
     "name": "stdout",
     "output_type": "stream",
     "text": [
      "Source: Then he said to them, ‘How can they say that the Messiah is David’s son?\n",
      "Target: I povedal im (Ježiš): Ako môžu hovoriť o Mesiášovi, že je synom Dávidovým,\n",
      "Prediction: A on im povedal: Ako môžu povedať, že Mesiáš je Syn?\n",
      "Source: This is your choice, not God’s.\n",
      "Target: Je to ale len tvoja voľba, nie Božia vôľa.\n",
      "Prediction: Je to Božia vôľa, nie Božia.\n"
     ]
    },
    {
     "name": "stderr",
     "output_type": "stream",
     "text": [
      "Evaluating:  79%|███████▉  | 394/500 [04:24<00:37,  2.83it/s]"
     ]
    },
    {
     "name": "stdout",
     "output_type": "stream",
     "text": [
      "Source: \"God hath not called us for uncleanness, but for sanctifieation.\"\n",
      "Target: Veď Boh nás nepovolal pre nečistotu, ale pre posvätenie.\"\n",
      "Prediction: Božie slovo nás nepovažuje za nemenu, ale pre svätú.\n",
      "Source: Maybe you liked another name for cars?\n",
      "Target: Možno sa vám páčilo iné meno pre autá?\n",
      "Prediction: Možno ste radi ďalšie meno pre autá?\n",
      "Source: Those are some of Satan’s designs.\n",
      "Target: To sú niektoré zo satanových úmyslov.\n",
      "Prediction: To sú niektoré z ľudí satana.\n"
     ]
    },
    {
     "name": "stderr",
     "output_type": "stream",
     "text": [
      "Evaluating:  79%|███████▉  | 396/500 [04:24<00:27,  3.79it/s]"
     ]
    },
    {
     "name": "stdout",
     "output_type": "stream",
     "text": [
      "Source: If you lie, I will know.”\n",
      "Target: A keď klameš, viem to.\"\n",
      "Prediction: Ak vieš, budem vedieť.\"\n",
      "Source: “There is no doubt, My Lord.”\n",
      "Target: \"Neexistuje žiadna pochybnosť, výsosť.\"\n",
      "Prediction: „Nie je pochýb o tom, Môj Pán.“\n",
      "Source: She said, \"He's dead!\n",
      "Target: kričala: \"Je mŕtvy!\n",
      "Prediction: Odpovedal: „Je mŕtvy!\n"
     ]
    },
    {
     "name": "stderr",
     "output_type": "stream",
     "text": [
      "Evaluating:  80%|███████▉  | 398/500 [04:25<00:21,  4.78it/s]"
     ]
    },
    {
     "name": "stdout",
     "output_type": "stream",
     "text": [
      "Source: We are part of that soul, so we rarely recognize that it is working for us.\"\n",
      "Target: “Sme súčasťou tejto Duša a málokedy si uvedomujeme, že ona vždy pracuje v náš prospech.”\n",
      "Prediction: Sme súčasťou našej duše, takže nám zriedkame, že pre nás pracuje.“\n",
      "Source: If you lie, it becomes a part of your future.”\n",
      "Target: Ak klameš, stáva sa to súčasťou tvojej budúcnosti.\"\n",
      "Prediction: Ak klame, tak sa stáva súčasťou vašej budúcnosti.\"\n"
     ]
    },
    {
     "name": "stderr",
     "output_type": "stream",
     "text": [
      "Evaluating:  80%|████████  | 400/500 [04:25<00:18,  5.38it/s]"
     ]
    },
    {
     "name": "stdout",
     "output_type": "stream",
     "text": [
      "Source: A person may, for instance, be determined to seek financial prosperity, whereas God’s first priority for him is righteousness.\n",
      "Target: Niekto je napríklad rozhodnutý usilovať o finančnú prosperitu, zatiaľ čo Boh pre neho má na prvom mieste spravodlivosť.\n",
      "Prediction: Ktokoľvek môže byť napríklad rozhodovaný hľadať finančnú prosperitu, zatiaľ čo je pre neho prvá priorita Boha.\n"
     ]
    },
    {
     "name": "stderr",
     "output_type": "stream",
     "text": [
      "Evaluating:  80%|████████  | 402/500 [04:27<00:46,  2.11it/s]"
     ]
    },
    {
     "name": "stdout",
     "output_type": "stream",
     "text": [
      "Source: “When God’s people come together for one purpose, God can do mighty things.\n",
      "Target: \"Ak má Kristus v človeku získať priestor, Boh musí urobiť jedno.\n",
      "Prediction: „Keď sa Božie deti spoznajú, že Boh môže urobiť.\n",
      "Source: Moreover, and probably most importantly, we have our own individual Divine Mother.\n",
      "Target: Navyše a pravdepodobne najdôležitejšie je to, že máme vlastnú individuálnu Božskú Matku.\n",
      "Prediction: Okrem toho a pravdepodobne je najdôležitejšie, máme vlastnú individuálnu Matku.\n"
     ]
    },
    {
     "name": "stderr",
     "output_type": "stream",
     "text": [
      "Evaluating:  81%|████████  | 404/500 [04:28<00:32,  2.96it/s]"
     ]
    },
    {
     "name": "stdout",
     "output_type": "stream",
     "text": [
      "Source: In the New Era of Peace, they will have so much more, so much perfection.\n",
      "Target: V Novej ére mieru, budú mať oveľa viac, tak veľa dokonalosti.\n",
      "Prediction: V novom Ira pokoja budú mať oveľa viac, tak veľa dokonalosti.\n",
      "Source: That way, you have two fully guaranteed policies instead of one partially guaranteed policy.\n",
      "Target: Týmto spôsobom, máte dve plne zaručená politiky namiesto jedného čiastočne zaručené politiky.\n",
      "Prediction: Týmto spôsobom máte dve plne zaručené politiky namiesto jednej časti zaručenej politiky.\n",
      "Source: I represent bigger women,\" because I did.\n",
      "Target: Zastupujem väčšie ženy, \" pretože som to urobil.\n",
      "Prediction: Som predstavujú väčšie ženy,\" pretože som urobil.\n"
     ]
    },
    {
     "name": "stderr",
     "output_type": "stream",
     "text": [
      "Evaluating:  81%|████████  | 406/500 [04:29<00:46,  2.02it/s]"
     ]
    },
    {
     "name": "stdout",
     "output_type": "stream",
     "text": [
      "Source: 10 Then you will bring the Levites into the LORD's presence, and the Israelites will lay their hands on the Levites.\n",
      "Target: 10Tu levitov predvedieš pred Pána a Izraeliti vložia na nich svoje ruky.\n",
      "Prediction: 10.\n"
     ]
    },
    {
     "name": "stderr",
     "output_type": "stream",
     "text": [
      "Evaluating:  82%|████████▏ | 409/500 [04:31<00:51,  1.75it/s]"
     ]
    },
    {
     "name": "stdout",
     "output_type": "stream",
     "text": [
      "Source: The Earth is full of the KNOWLEDGE of the Lord’s Glory as water covers the Sea.\n",
      "Target: Lebo zem bude plná poznania Pánovej slávy ako vody, ktoré pokrývajú more.\n",
      "Prediction: Božie slovo je zjavné, aby sa Božia sláva zjavuje na svet.\n",
      "Source: God's Kingdom is among you.\n",
      "Target: Božie kráľovstvo je medzi vami\n",
      "Prediction: Božie kráľovstvo je medzi vami.\n",
      "Source: What if political activity includes all the parasitical and destructive things the government does?\n",
      "Target: Čo ak politická aktivita zahŕňa všetky parazitické a deštruktívne veci, ktoré robí vláda?\n",
      "Prediction: Čo ak politická aktivita zahŕňa všetky parazigické a deštruktívne veci, ktoré vláda robí?\n"
     ]
    },
    {
     "name": "stderr",
     "output_type": "stream",
     "text": [
      "Evaluating:  82%|████████▏ | 411/500 [04:33<01:01,  1.44it/s]"
     ]
    },
    {
     "name": "stdout",
     "output_type": "stream",
     "text": [
      "Source: They were not told to look at Moses.\n",
      "Target: Nebolo im povedané, aby sa pozreli na Mojžiša.\n",
      "Prediction: Nepovedali sa, že sa pozri Mojžiš.\n",
      "Source: Then Moses inquired of the name of God.\n",
      "Target: Mojžiš (mier s ním) sa spýtal Allaha (Oslavovaný a Vyvýšený):\n",
      "Prediction: Mojžiš sa učinil z Boha,\n",
      "Source: Those allegations are untrue.”\n",
      "Target: Tieto obvinenia sú nepravdivé.“\n",
      "Prediction: Tí, ktorí sú spojenci, nie sú nešťastní.\"\n"
     ]
    },
    {
     "name": "stderr",
     "output_type": "stream",
     "text": [
      "Evaluating:  83%|████████▎ | 414/500 [04:36<01:00,  1.43it/s]"
     ]
    },
    {
     "name": "stdout",
     "output_type": "stream",
     "text": [
      "Source: There is no God except Him, creator of everything, so serve Him.\n",
      "Target: Niet boha okrem Neho, stvoriteľ všetkého, tak Ho (a len jeho) uctievajte.\n",
      "Prediction: Niet Boha okrem Neho, stvorenia všetkého, tak Allah.\n",
      "Source: \"Cancel Justin's concert in the UK, please!\n",
      "Target: \"Zrušte Justinov koncert v Spojenom kráľovstve, prosím!\n",
      "Prediction: \"Cýtala sa práve v Spojenom kráľovstve, prosím!\n"
     ]
    },
    {
     "name": "stderr",
     "output_type": "stream",
     "text": [
      "Evaluating:  83%|████████▎ | 417/500 [04:36<00:32,  2.54it/s]"
     ]
    },
    {
     "name": "stdout",
     "output_type": "stream",
     "text": [
      "Source: 5 The will receive the Lord’s blessings and have a right relationship with God their Savior.\n",
      "Target: 5 Dostane požehnanie od Hospodina a spravodlivú odmenu od Boha svojej spásy.\n",
      "Prediction: 5 Vtedy získava požehnanie Pánove a spravodlivý vzťah s Bohom\n",
      "Source: “Simon Mol always accused everybody of racism.\n",
      "Target: „Simon Mol vždy všetkých obviňoval z rasizmu.\n",
      "Prediction: „Jednoduton Mol vždy obvinil každého rasizmu.\n",
      "Source: How can my lord's servant talk with my lord?\n",
      "Target: Ako by teda mohol sluha môjho pána hovoriť tu s mojím pánom?\n",
      "Prediction: Ako by mohol sluha môjho pána hovoriť sám s mojím pánom?\n"
     ]
    },
    {
     "name": "stderr",
     "output_type": "stream",
     "text": [
      "Evaluating:  84%|████████▎ | 418/500 [04:36<00:27,  2.97it/s]"
     ]
    },
    {
     "name": "stdout",
     "output_type": "stream",
     "text": [
      "Source: This, my followers, is the time for the third seal to be revealed.\n",
      "Target: Toto, moji nasledovníci, je čas, aby bola odhalená tretia pečať.\n",
      "Prediction: To, moji nasledovníci, je čas, aby sa objavilo tretia moria.\n"
     ]
    },
    {
     "name": "stderr",
     "output_type": "stream",
     "text": [
      "Evaluating:  84%|████████▍ | 419/500 [04:39<01:04,  1.26it/s]"
     ]
    },
    {
     "name": "stdout",
     "output_type": "stream",
     "text": [
      "Source: \"Through His name everyone who believes in Him receives forgiveness of sins.\"\n",
      "Target: \"Pre jeho meno dosiahne odpustenie hriechov každý, kto v neho verí.\"\n",
      "Prediction: „Božie meno, ktoré verí v odpustenie hriechov.“\n"
     ]
    },
    {
     "name": "stderr",
     "output_type": "stream",
     "text": [
      "Evaluating:  84%|████████▍ | 420/500 [04:41<01:30,  1.14s/it]"
     ]
    },
    {
     "name": "stdout",
     "output_type": "stream",
     "text": [
      "Source: 1The king's heart is a stream of water in the hand of the LORD; he turns it wherever he will.\n",
      "Target: 1Sťa vodná struha je srdce kráľa v ruke Pánovej, vedie ho, kamkoľvek chce.\n",
      "Prediction: Kristus je v ruke Pánovu a v ruke Hospodinovej, on sa splní, kamkoľvek chce.\n"
     ]
    },
    {
     "name": "stderr",
     "output_type": "stream",
     "text": [
      "Evaluating:  84%|████████▍ | 422/500 [04:43<01:21,  1.04s/it]"
     ]
    },
    {
     "name": "stdout",
     "output_type": "stream",
     "text": [
      "Source: God has the last word, and God’s word is Life.\n",
      "Target: Boh je len jeden a uveriť Božiemu Slovu je život.\n",
      "Prediction: Božie Slovo a Božie slovo je Božie.\n",
      "Source: The new constitution was also withdrawn, along with the guarantees to the Christians.\n",
      "Target: Nová ústava bola takisto stiahnutá, spolu so zárukami pre kresťanov.\n",
      "Prediction: Nová ústava bola tiež potrebné, spolu s zárukami pre kresťanov.\n"
     ]
    },
    {
     "name": "stderr",
     "output_type": "stream",
     "text": [
      "Evaluating:  85%|████████▍ | 424/500 [04:43<00:44,  1.69it/s]"
     ]
    },
    {
     "name": "stdout",
     "output_type": "stream",
     "text": [
      "Source: 31 But they said, “Should he treat our sister as a whore?”\n",
      "Target: 31 (KAT) Oni však odpovedali: „Vari mohol s našou sestrou zaobchádzať ako s pobehlicou?!“\n",
      "Prediction: 31 Ale oni odpovedali: „Malo by sa zaobchádzať s našou sestravou ako hore?”\n",
      "Source: (2) 1day-For our existing samples for reference.\n",
      "Target: (2) 1-dňový-Pre naše existujúce vzorky pre referencie.\n",
      "Prediction: (2) 1d) pre naše existujúce vzorky pre referendu.\n",
      "Source: That is God’s mercy to YOU.\n",
      "Target: Nech vám v tom pomáha Božia milosť\n",
      "Prediction: To je Božia milosť pre nás.\n"
     ]
    },
    {
     "name": "stderr",
     "output_type": "stream",
     "text": [
      "Evaluating:  85%|████████▌ | 426/500 [04:43<00:28,  2.59it/s]"
     ]
    },
    {
     "name": "stdout",
     "output_type": "stream",
     "text": [
      "Source: It's better for you to enter life lame than to be thrown into hell with two feet.\n",
      "Target: Je pre teba lepšie, aby si vošiel do života chromý, než aby si bol s dvoma nohami uvrhnutý do gehenny.\n",
      "Prediction: Je pre vás lepšie, aby ste žili v živote, než by si bol hodený do pekla s dvoma nohami.\n"
     ]
    },
    {
     "name": "stderr",
     "output_type": "stream",
     "text": [
      "Evaluating:  85%|████████▌ | 427/500 [04:45<00:52,  1.39it/s]"
     ]
    },
    {
     "name": "stdout",
     "output_type": "stream",
     "text": [
      "Source: You were only sold off for your sins, and your mother dismissed for your crimes.”\n",
      "Target: Hľa, pre svoje hriechy ste boli predaní, pre vaše zločiny bola prepustená vaša matka. ”\n",
      "Prediction: Alebo ste predali z hriechov za svoje hriechy, a vaše mastby boli prepustenie.\"\n",
      "Source: Yes, and increase surveillance on all new immigrants\n",
      "Target: Áno, a zvýšiť dohľad na všetkých nových prisťahovalcov\n",
      "Prediction: Áno, a zvýšiť dohľad na všetkých nových prisťahovalcov\n"
     ]
    },
    {
     "name": "stderr",
     "output_type": "stream",
     "text": [
      "Evaluating:  86%|████████▌ | 430/500 [04:47<00:45,  1.54it/s]"
     ]
    },
    {
     "name": "stdout",
     "output_type": "stream",
     "text": [
      "Source: – having regard to the proposal for a recommendation to the Council by Graham Watson on behalf of the ALDE Group, on a consistent policy towards authoritarian regimes, against whom the EU applies restrictive measures, when they exercise their personal and commercial interests within EU borders (B7-0235/2011),\n",
      "Target: so zreteľom na návrh odporúčania Rade, ktorý v mene skupiny ALDE predložil Graham Watson, o jednotnej politike voči autoritárskym režimom, proti ktorým EÚ uplatňuje reštriktívne opatrenia, keď sledujú svoje osobné a obchodné záujmy v rámci EÚ (B7-0235/2011),\n",
      "Prediction: – so zreteľom na návrh odporúčania pre odporúčanie Gána, že v mene skupiny Argentína, v súlade s správaním politiky, o ktoré sa riadia voči spôsobom a s tým, ako sa určujú so svojím úniou.\n",
      "Source: [8] See my article, 'The New Age Worldview: Is It Believable?'.\n",
      "Target: [8] Pozri môj článok 'The New Age Worldview: Is It Believable?'.\n",
      "Prediction: [8] Pozri môj článok, „Prívodný prácu: Je neuveriteľný?\n"
     ]
    },
    {
     "name": "stderr",
     "output_type": "stream",
     "text": [
      "Evaluating:  87%|████████▋ | 433/500 [04:47<00:22,  2.94it/s]"
     ]
    },
    {
     "name": "stdout",
     "output_type": "stream",
     "text": [
      "Source: \"So you don't accept God's moral code to do with what is righteous?\"\n",
      "Target: „Takže vy neakceptujete Boží morálny zákonník, ktorý nám prikazuje robiť to, čo je spravodlivé?“\n",
      "Prediction: „A tak nie ste prijať morálny kód, s ktorým je spravodlivý?“\n",
      "Source: That was not God's will.\n",
      "Target: To nebola Božia vôľa.\n",
      "Prediction: To nie je Božia vôľa.\n",
      "Source: I use it for a month, for which the ugly stars are much smaller. ”\n",
      "Target: Používam ho po dobu jedného mesiaca, pre ktorý sú škaredé hviezdy omnoho menšie. ”\n",
      "Prediction: Použil som ho za mesiac, za ktorý sú škaredé hviezdy oveľa menší. “\n"
     ]
    },
    {
     "name": "stderr",
     "output_type": "stream",
     "text": [
      "Evaluating:  87%|████████▋ | 435/500 [04:48<00:16,  3.84it/s]"
     ]
    },
    {
     "name": "stdout",
     "output_type": "stream",
     "text": [
      "Source: What if I was in Jack's place?\n",
      "Target: Čo ak by som bola na Jackovom mieste?\n",
      "Prediction: Čo keby som bol na mieste Jack.\n",
      "Source: So if a mistake is made in the team, it is you that has made it, not the dog.”\n",
      "Target: Takže ak bola urobená chyba v tíme, ste to Vy, kto ju urobil, nie Váš pes..\n",
      "Prediction: Takže ak je chyba vyrobená v tíme, je to, že si to urobil, nie psa.\"\n"
     ]
    },
    {
     "name": "stderr",
     "output_type": "stream",
     "text": [
      "Evaluating:  87%|████████▋ | 436/500 [04:48<00:14,  4.28it/s]"
     ]
    },
    {
     "name": "stdout",
     "output_type": "stream",
     "text": [
      "Source: He warneth you that haply ye may be mindful\" (16:92).\n",
      "Target: mali sa orientovať na tvoje schopnosti a nie na to, do čoho ich nič nie je ]-( ]-( ]-( ]-(\n",
      "Prediction: On vás varuje, že dary môžu byť pochopený\" (162).\n"
     ]
    },
    {
     "name": "stderr",
     "output_type": "stream",
     "text": [
      "Evaluating:  87%|████████▋ | 437/500 [04:50<00:41,  1.50it/s]"
     ]
    },
    {
     "name": "stdout",
     "output_type": "stream",
     "text": [
      "Source: But praise to Allah, they released him.\n",
      "Target: chváliť Boha; pospiechali za Ním.\n",
      "Prediction: Mojžiš sa poslúchal Allahovi,\n"
     ]
    },
    {
     "name": "stderr",
     "output_type": "stream",
     "text": [
      "Evaluating:  88%|████████▊ | 438/500 [04:52<01:03,  1.02s/it]"
     ]
    },
    {
     "name": "stdout",
     "output_type": "stream",
     "text": [
      "Source: Then your Father in heaven will forgive your sins also.”\n",
      "Target: Keď pánboh zdravia dá, aj hriechy budú »\n",
      "Prediction: A potom odpustíš, odpúšťajte aj svoje hriechy.“\n"
     ]
    },
    {
     "name": "stderr",
     "output_type": "stream",
     "text": [
      "Evaluating:  88%|████████▊ | 440/500 [04:53<00:44,  1.35it/s]"
     ]
    },
    {
     "name": "stdout",
     "output_type": "stream",
     "text": [
      "Source: Even in the hardest and most disturbing moments, the Lord's mercy and goodness are greater than every thing.\n",
      "Target: ◊ Aj v najťažších a v najskľučujúcejších momentoch milosrdenstvo a dobrota Pána prevýšia všetko.\n",
      "Prediction: Aj v najťažších a najšťastnejších momentov je Pánova milosť a dobrá milosť, väčšiu vec.\n",
      "Source: And human beings are made in God’s image (Gn 1:26).\n",
      "Target: Trojakosť vystupuje i v duši, ktorá je stvorená na Boží obraz (porov. Gn 1,26).\n",
      "Prediction: Božie Slovo sa uskutočňujú v Božom obrazi (Gn 1:26).\n"
     ]
    },
    {
     "name": "stderr",
     "output_type": "stream",
     "text": [
      "Evaluating:  88%|████████▊ | 442/500 [04:53<00:26,  2.16it/s]"
     ]
    },
    {
     "name": "stdout",
     "output_type": "stream",
     "text": [
      "Source: King and Sands (2015) also offers practical tips.\n",
      "Target: King and Sands (2015) tiež ponúkajú praktické tipy.\n",
      "Prediction: King a Sats (2015) tiež ponúka praktické tipy.\n",
      "Source: And some even said, this would be Stasi 2.0.\n",
      "Target: Niektorí dokonca povedali, že by to bola Stasi 2.0.\n",
      "Prediction: A niektorí dokonca dokonca povedali, že to bude Sasis 2.0.\n",
      "Source: How many customers led the farmer to the Internet\n",
      "Target: Koľko zákazníkov viedlo farmára k internetu\n",
      "Prediction: Koľko zákazníkov viedli ďaleko na internete\n"
     ]
    },
    {
     "name": "stderr",
     "output_type": "stream",
     "text": [
      "Evaluating:  89%|████████▉ | 446/500 [04:54<00:13,  3.89it/s]"
     ]
    },
    {
     "name": "stdout",
     "output_type": "stream",
     "text": [
      "Source: 15 Pharaoh’s officials saw her and praised her to Pharaoh; and the woman was taken into Pharaoh’s house.\n",
      "Target: 15A keď ju videli faraónovi dvorania, chválili ju pred faraónom a ženu odviedli do faraónovho domu.\n",
      "Prediction: A keď ju videli faraonovi faraón a chválili ju od faraónovi; a ženu odviedli do faraónovej domu.\n",
      "Source: #EAPM – Member states must act together.\n",
      "Target: #EAPM - Členské štáty musia konať spoločne.\n",
      "Prediction: #PMPM – členské štáty musia konať.\n",
      "Source: His mother said to the servant “Do whatever he tells you.”\n",
      "Target: Jeho matka povedala obsluhujúcim: \"Urobte všetko, čo vám povie!\"\"\n",
      "Prediction: Jeho matka povedal služobníkom: \"Urobte všetko, čo vám povie!\"\n"
     ]
    },
    {
     "name": "stderr",
     "output_type": "stream",
     "text": [
      "Evaluating:  89%|████████▉ | 447/500 [04:54<00:16,  3.25it/s]"
     ]
    },
    {
     "name": "stdout",
     "output_type": "stream",
     "text": [
      "Source: 34 Now when Jesus saw that he answered wisely, He said to him, \"You are not far from the kingdom of God.\"\n",
      "Target: 34 Keď Ježiš počul, ako správne to pochopil, povedal mu: Ty nie si ďaleko od Božieho kráľovstva.\"\n",
      "Prediction: 34 A Ježiš videl, že rozumne odpovedal múdre, povedal mu: „Nie si ďaleko od Božieho kráľovstva.\n"
     ]
    },
    {
     "name": "stderr",
     "output_type": "stream",
     "text": [
      "Evaluating:  90%|████████▉ | 448/500 [04:56<00:37,  1.40it/s]"
     ]
    },
    {
     "name": "stdout",
     "output_type": "stream",
     "text": [
      "Source: I declare it both to heaven and to earth, that the Word of God is increasing in people’s hearts and lives, the number of disciples is being multiplied greatly, and a large number of people are obedient to the faith.\n",
      "Target: Vyznávam smerom k nebesiam i k zemi, že Slovo Božie rastie a šíri sa v srdciach ľudí a počet učeníkov rastie, mnohí nasledujú vieru.\n",
      "Prediction: Povedal som, že obaja do neba i zeme, že Slovo Boha zvyšuje srdcia a životy ľudí, nejaké množstvo učeníkov, spolieha len niekoľko, myslím, že ľudia je poslantili!\n",
      "Source: Am I not better to you than ten sons?’\n",
      "Target: Vari som ti ja nie lepší ako desať synov?“\n",
      "Prediction: Nie som ti lepší ako desať synov?\"\n"
     ]
    },
    {
     "name": "stderr",
     "output_type": "stream",
     "text": [
      "Evaluating:  90%|█████████ | 450/500 [04:57<00:24,  2.08it/s]"
     ]
    },
    {
     "name": "stdout",
     "output_type": "stream",
     "text": [
      "Source: To reject God’s Savior is to reject God’s salvation.\n",
      "Target: Odmietnuť plniť Božiu vôľu znamená odmietnuť ponúknutú spásu.\n",
      "Prediction: Je potrebné, aby sme odmietli Božiu slávu,\n",
      "Source: If Michael Bay was a Religion\n",
      "Target: Ak bol Michael Bay náboženstvom\n",
      "Prediction: Ak bola Michael Bay\n"
     ]
    },
    {
     "name": "stderr",
     "output_type": "stream",
     "text": [
      "Evaluating:  90%|█████████ | 452/500 [04:57<00:16,  2.90it/s]"
     ]
    },
    {
     "name": "stdout",
     "output_type": "stream",
     "text": [
      "Source: “MJ will be my new name No more Michael Jackson.\n",
      "Target: \"MJ bude moje nové meno, už žiadny Michael Jackson.\n",
      "Prediction: „MJn bude mojím novou názvou č. Jalla Jackson.\n",
      "Source: How Much Do The Richest Authors Today Make – Per Word?\n",
      "Target: Koľko robia dnes najbohatší autori - podľa slova?\n",
      "Prediction: Koľko má najsladšie odpovede dnes dnes - Slovo?\n"
     ]
    },
    {
     "name": "stderr",
     "output_type": "stream",
     "text": [
      "Evaluating:  91%|█████████ | 455/500 [04:57<00:10,  4.30it/s]"
     ]
    },
    {
     "name": "stdout",
     "output_type": "stream",
     "text": [
      "Source: As regards the system and its various functions, Andreas cannot be more specific.\n",
      "Target: Pokiaľ ide o systém a jeho jednotlivé funkcie, Andreas nemôže byť konkrétnejší.\n",
      "Prediction: Pokiaľ ide o systém a svoje rôzne funkcie, areas nemôžu byť špecifitívnejšie.\n",
      "Source: They will not listen to me or to Russia’s Foreign Minister.\n",
      "Target: Nebudú počúvať mňa alebo ruského ministra zahraničia.\n",
      "Prediction: Nevedia, že ma budú počúvať, alebo na zahraničný minister.\n",
      "Source: We don't want to see Erdoğan in our country again.\"\n",
      "Target: Nechceme znovu vidieť Erdoğana v našej krajine.\"\n",
      "Prediction: Nechceme vidieť Elordan v našej krajine znova.\"\n"
     ]
    },
    {
     "name": "stderr",
     "output_type": "stream",
     "text": [
      "Evaluating:  91%|█████████▏| 457/500 [04:57<00:07,  5.61it/s]"
     ]
    },
    {
     "name": "stdout",
     "output_type": "stream",
     "text": [
      "Source: That’s right – the name is as ugly as the car.\n",
      "Target: To je pravda – meno je také škaredé ako auto.\n",
      "Prediction: To je správne - názov je rovnako škaredé ako auto.\n",
      "Source: Are these not God’s children?\n",
      "Target: Nie sú aj tí homosexuáli božie deti?\n",
      "Prediction: Nie sú to Božie deti?\n"
     ]
    },
    {
     "name": "stderr",
     "output_type": "stream",
     "text": [
      "Evaluating:  92%|█████████▏| 460/500 [05:00<00:16,  2.42it/s]"
     ]
    },
    {
     "name": "stdout",
     "output_type": "stream",
     "text": [
      "Source: 'Behind the steps of Mary and Joseph are many steps hidden.\n",
      "Target: V krokoch Jozefa a Márie sa ukrývajú mnohé kroky.\n",
      "Prediction: „Buďte tým, že sa pýtajú, že je to, že si Járier a Jozef,\n",
      "Source: Just as the rich man in Luke 16, you'll remember it all!\n",
      "Target: Rovnako ako bohatý muž v Luke 16, budete pamätať všetko!\n",
      "Prediction: Rovnako ako bohatý muž v Luke 16, pamätáte si to všetko!\n"
     ]
    },
    {
     "name": "stderr",
     "output_type": "stream",
     "text": [
      "Evaluating:  92%|█████████▏| 462/500 [05:00<00:12,  2.97it/s]"
     ]
    },
    {
     "name": "stdout",
     "output_type": "stream",
     "text": [
      "Source: He came down from the heavens, and He is joining Himself to the living soul that died.\n",
      "Target: Z neba mal stúpiť, - smrťou vykúpiť - celý svet - [:predpovedaný, - zrodený z Panny - ako kvet.:]\n",
      "Prediction: Prišiel z neba, a on sa priblíži k tomu, že zomrel život, ktorá zomrel.\n",
      "Source: First, God’s will of command is revealed with final, decisive authority only in the Bible.\n",
      "Target: Po prvé, vôľa Božích prikázaní je zjavená v absolútne rozhodnej autorite — v Biblii.\n",
      "Prediction: Po prvé, Božia vôľa je zjavená s konečným, rozhodovateľom Boha len v Biblii.\n"
     ]
    },
    {
     "name": "stderr",
     "output_type": "stream",
     "text": [
      "Evaluating:  93%|█████████▎| 463/500 [05:01<00:15,  2.43it/s]"
     ]
    },
    {
     "name": "stdout",
     "output_type": "stream",
     "text": [
      "Source: Ask them for their consent, ask them if they want to be helped.\n",
      "Target: ask them for (help) → žiadať ich o (pomoc)žiadať ich o (pomoc)\n",
      "Prediction: Opýtajte sa ich, či sa ich pýtajú, či ich chcú pomôcť.\n"
     ]
    },
    {
     "name": "stderr",
     "output_type": "stream",
     "text": [
      "Evaluating:  93%|█████████▎| 465/500 [05:03<00:22,  1.53it/s]"
     ]
    },
    {
     "name": "stdout",
     "output_type": "stream",
     "text": [
      "Source: 34 For God sent Him, and He speaks God’s words, since He gives the Spirit without measure.\n",
      "Target: 34 Koho poslal Boh, ten hovorí slová Boha, lebo on dáva Ducha neobmedzene.\n",
      "Prediction: 34 Lebo ten, ktorý poslal, hovorí Božie slová, pretože z Božieho slova dáva Duchu.\n",
      "Source: Come to Jesus and receive God’s forgiveness.\n",
      "Target: Prijmi Ježišovo odpustenie aj odpustenie dieťaťa.\n",
      "Prediction: Odpúšťajte Božie odpustenie.\n",
      "Source: Of course, Bush was re-elected, so… good job fellas.\n",
      "Target: Samozrejme, Bush bol opätovne zvolený, takže ... dobrí zamestnanci.\n",
      "Prediction: Samozrejme, Bush bol obnovený, takže ... dobrá práca sa napadala.\n"
     ]
    },
    {
     "name": "stderr",
     "output_type": "stream",
     "text": [
      "Evaluating:  93%|█████████▎| 467/500 [05:04<00:17,  1.83it/s]"
     ]
    },
    {
     "name": "stdout",
     "output_type": "stream",
     "text": [
      "Source: I am praying with you and for you, little children, that from day to day you may become still more open to God's will.\n",
      "Target: Modlím sa s vami a za vás, dietky, aby ste sa zo dňa na deň stávali stále otvorenejšími Božej vôli.\n",
      "Prediction: Modlím sa s vami a za vás, malé deti, z dňa dňa sa môžete ešte viac otvoriť Bohu.\n",
      "Source: And then the answer appeared - her horse Toffee.\n",
      "Target: A potom sa objavila odpoveď - jej kôň Toffee.\n",
      "Prediction: A potom sa odpoveď objavil - jej kôň.\n"
     ]
    },
    {
     "name": "stderr",
     "output_type": "stream",
     "text": [
      "Evaluating:  94%|█████████▍| 469/500 [05:04<00:11,  2.60it/s]"
     ]
    },
    {
     "name": "stdout",
     "output_type": "stream",
     "text": [
      "Source: In this context, the new Regulation 1408/71 might contribute to creating new and problematic situations.\n",
      "Target: V tomto kontexte by mohlo nové nariadenie 1408/71 prispieť k vytvoreniu nových a problematických situácií.\n",
      "Prediction: V tomto kontexte by nová nariadenie 1408/71 mohla prispieť k vytváranie nových a technických situácií.\n"
     ]
    },
    {
     "name": "stderr",
     "output_type": "stream",
     "text": [
      "Evaluating:  94%|█████████▍| 470/500 [05:05<00:13,  2.30it/s]"
     ]
    },
    {
     "name": "stdout",
     "output_type": "stream",
     "text": [
      "Source: He replied, “Yes, until it becomes like mountains.\n",
      "Target: A nato on: „Než objavia sa schody,\n",
      "Prediction: A povedal: „Áno, kým sa to nepáči.\n"
     ]
    },
    {
     "name": "stderr",
     "output_type": "stream",
     "text": [
      "Evaluating:  94%|█████████▍| 471/500 [05:07<00:24,  1.20it/s]"
     ]
    },
    {
     "name": "stdout",
     "output_type": "stream",
     "text": [
      "Source: You know how to discern the face of the sky, but you cannot discern the signs of the times.” ‭‭\n",
      "Target: oblohy dokážete rozoznať ale znak času nedokážete.”\n",
      "Prediction: Vieš, ako poslušnosť obloha, ale nemôžete nepodeliť tie, v tom, že by ste poslúchali.\"\n"
     ]
    },
    {
     "name": "stderr",
     "output_type": "stream",
     "text": [
      "Evaluating:  94%|█████████▍| 472/500 [05:07<00:19,  1.47it/s]"
     ]
    },
    {
     "name": "stdout",
     "output_type": "stream",
     "text": [
      "Source: \"None of you will have faith until he wishes for his brother what he wishes for himself.\"\n",
      "Target: „Nikto z vás nebude veriacim, kým si nebude želať pre svojho brata to, čo si želá pre seba.\"\n",
      "Prediction: „Nikto z vás nebude mať vieru, kým si želá pre svojho bratu, čo chce pre seba.”\n",
      "Source: God's chastisements are acts of love.\n",
      "Target: Tie božské činy sú činy lásky.\n",
      "Prediction: Božie prikázania sú skutok lásky.\n"
     ]
    },
    {
     "name": "stderr",
     "output_type": "stream",
     "text": [
      "Evaluating:  95%|█████████▍| 474/500 [05:07<00:12,  2.15it/s]"
     ]
    },
    {
     "name": "stdout",
     "output_type": "stream",
     "text": [
      "Source: And even beyond that, as he neared death Jesus said, \"Father, forgive them, for they do not know what they are doing.\"\n",
      "Target: A dokonca okrem toho, ako sa blížila smrť, Ježiš povedal, \"Otče, odpusť im, lebo nevedia, čo robia!\"\n",
      "Prediction: A dokonca aj za to, ako predpovedal Ježiš Ježiš, povedal: „Otče, odpusť im, lebo nevedia, čo robia.“\n"
     ]
    },
    {
     "name": "stderr",
     "output_type": "stream",
     "text": [
      "Evaluating:  95%|█████████▌| 475/500 [05:09<00:21,  1.18it/s]"
     ]
    },
    {
     "name": "stdout",
     "output_type": "stream",
     "text": [
      "Source: Joseph gave them wagons according to Pharaoh's instructions, and he also provided them with food for the journey.\n",
      "Target: A Jozef im dal vozy podľa rozkazu faraonovho a dal im aj potravy na cestu.\n",
      "Prediction: Jozef im poslúchal podľa faraónových prikázaní a dal im aj jedlo pre cestu.\n"
     ]
    },
    {
     "name": "stderr",
     "output_type": "stream",
     "text": [
      "Evaluating:  95%|█████████▌| 477/500 [05:10<00:12,  1.79it/s]"
     ]
    },
    {
     "name": "stdout",
     "output_type": "stream",
     "text": [
      "Source: This is the third time you came to Western Canada, is there still interest in Consular Days?\n",
      "Target: Toto je už tretí krát, keď ste prišli do západnej Kanady, je ešte stále záujem o Konzulárne dni?\n",
      "Prediction: Je to tretia čas, kedy ste prišli do západnej Kanady, stále existuje záujem o operácie?\n",
      "Source: The sovereignty belongs to the people again — and now we will really start to apply our constitution.”\n",
      "Target: Suverenita patrí opäť ľudu – a teraz naozaj začneme uplatňovať našu ústavu.“\n",
      "Prediction: Zvrchovanosť patrí k ľuďom znova – a teraz budeme naozaj začať uplatňovať našu ústavu.“\n"
     ]
    },
    {
     "name": "stderr",
     "output_type": "stream",
     "text": [
      "Evaluating:  96%|█████████▌| 479/500 [05:10<00:07,  2.68it/s]"
     ]
    },
    {
     "name": "stdout",
     "output_type": "stream",
     "text": [
      "Source: They found him and said, \"Everybody's looking for you.\"\n",
      "Target: Keď ho našli, povedali mu: „Všetci ťa hľadajú.\"\n",
      "Prediction: A oni ho našli a povedali: „Všetci ťa hľadajú.”\n",
      "Source: Saying no also means refining your creative ideas....eventually.\n",
      "Target: Povedať nie znamená aj rafinácia svoje kreatívne nápady... nakoniec.\n",
      "Prediction: Povedzme, že nie je tiež to, aby odmietli vaše tvorivé nápady....te nakoniec.\n"
     ]
    },
    {
     "name": "stderr",
     "output_type": "stream",
     "text": [
      "Evaluating:  96%|█████████▌| 480/500 [05:10<00:06,  3.15it/s]"
     ]
    },
    {
     "name": "stdout",
     "output_type": "stream",
     "text": [
      "Source: It was really hard to choose which countries to visit — my list was originally about 36 countries long!\n",
      "Target: Bolo to naozaj ťažké vybrať, ktoré krajiny navštíviť - môj zoznam bol pôvodne asi 36 krajín dlho!\n",
      "Prediction: Bolo naozaj ťažké vybrať si, že krajiny navštíviť – môj zoznam bol pôvodne o 36 krajinách dlho!\n"
     ]
    },
    {
     "name": "stderr",
     "output_type": "stream",
     "text": [
      "Evaluating:  96%|█████████▌| 481/500 [05:12<00:14,  1.30it/s]"
     ]
    },
    {
     "name": "stdout",
     "output_type": "stream",
     "text": [
      "Source: Then, in Saqqara (Egypt), the remains of the ancestors of these animals were also found.\n",
      "Target: Potom v Saqqara (Egypt) boli nájdené a zvyšky predkov týchto zvierat.\n",
      "Prediction: Potom, v SaWurhha (Egyptsku) sa objavila zostáva zo predkovia týchto zvierat.\n"
     ]
    },
    {
     "name": "stderr",
     "output_type": "stream",
     "text": [
      "Evaluating:  96%|█████████▋| 482/500 [05:13<00:15,  1.18it/s]"
     ]
    },
    {
     "name": "stdout",
     "output_type": "stream",
     "text": [
      "Source: It gives meaning to the Scripture: many are called (to the 1st resurrection), but few are chosen.\n",
      "Target: Pamätná veta z písma znie: Je veľa povolaných ale málo vyvolených.\n",
      "Prediction: Je potrebné, aby sa zjavil Písmo: Nebesľúbil som sa?\n"
     ]
    },
    {
     "name": "stderr",
     "output_type": "stream",
     "text": [
      "Evaluating:  97%|█████████▋| 484/500 [05:14<00:08,  1.83it/s]"
     ]
    },
    {
     "name": "stdout",
     "output_type": "stream",
     "text": [
      "Source: They have strayed from the truth 1 by saying that the resurrection has already occurred, and they are undermining some people’s faith.\n",
      "Target: Oni zablúdili ďaleko od pravdy, keď tvrdia, že zmŕtvychvstanie už bolo, a nivočia vieru niektorých.\n",
      "Prediction: Majú cudzinče z pravdy 1, ktorý povedal, že vzraka sa už už obrátil, a sú podvími niektorých ľudí viery.\n",
      "Source: I hope that many of us will meet again in the future – perhaps at another GS Trophy!”\n",
      "Target: Dúfam, že sa mnohí z nás v budúcnosti znova stretnú – možno na inej GS Trophy!“\n",
      "Prediction: Dúfam, že mnohí z nás sa opäť stretne v budúcnosti – možno v inej GS Tephye!\"\n"
     ]
    },
    {
     "name": "stderr",
     "output_type": "stream",
     "text": [
      "Evaluating:  97%|█████████▋| 486/500 [05:14<00:04,  2.96it/s]"
     ]
    },
    {
     "name": "stdout",
     "output_type": "stream",
     "text": [
      "Source: Why am I having them all now—in this lifetime?\n",
      "Target: Prečo ich mám všetky teraz - v tomto živote?\n",
      "Prediction: Prečo som ich práve teraz mal – v tomto živote?\n",
      "Source: Glory to God in the highest, and peace to God’s people on earth!\n",
      "Target: Sláva Bohu navýsostiach, pokoj ľuďom na zemi!\n",
      "Prediction: Sláva na výsostiach Bohu a na zemi pokoj!\n"
     ]
    },
    {
     "name": "stderr",
     "output_type": "stream",
     "text": [
      "Evaluating:  97%|█████████▋| 487/500 [05:16<00:10,  1.29it/s]"
     ]
    },
    {
     "name": "stdout",
     "output_type": "stream",
     "text": [
      "Source: First, Satan is not God’s counterpart.\n",
      "Target: Satan nie je súperom Boha.\n",
      "Prediction: Písmo nie je zjavnosť Boha.\n"
     ]
    },
    {
     "name": "stderr",
     "output_type": "stream",
     "text": [
      "Evaluating:  98%|█████████▊| 489/500 [05:16<00:05,  1.99it/s]"
     ]
    },
    {
     "name": "stdout",
     "output_type": "stream",
     "text": [
      "Source: When it comes to reducing emissions, however, we rely almost entirely on political governance structures.\n",
      "Target: Pokiaľ však ide o znižovanie emisií, takmer úplne sa spoliehame na politické štruktúry riadenia.\n",
      "Prediction: Pokiaľ ide o zníženie auditov, sa však spoliehame takmer úplne na štruktúrnej štruktúru.\n",
      "Source: We want to be sure that the trees we will sell to you in December will be really beautiful and healthy.\n",
      "Target: Chceme mať istotu, že stromčeky, ktoré Vám budeme v decembri predávať,budú naozaj krásne a zdravé.\n",
      "Prediction: Chceme byť istí, že stromy, ktoré predieme v decembri, bude skutočne krásne a zdravé.\n"
     ]
    },
    {
     "name": "stderr",
     "output_type": "stream",
     "text": [
      "Evaluating:  98%|█████████▊| 491/500 [05:17<00:02,  3.15it/s]"
     ]
    },
    {
     "name": "stdout",
     "output_type": "stream",
     "text": [
      "Source: The manufacturer took this requirement into account in the year 2107.\n",
      "Target: Výrobca vzal túto požiadavku do úvahy v roku 2107.\n",
      "Prediction: Vedci dosiahli túto požiadavku do úvahy v roku 2107.\n",
      "Source: All is happening in accordance with God’s will.\n",
      "Target: Všetko sa deje podľa vôli Božej.\n",
      "Prediction: To všetko sa deje v súlade s Božou vôľou.\n"
     ]
    },
    {
     "name": "stderr",
     "output_type": "stream",
     "text": [
      "Evaluating:  99%|█████████▊| 493/500 [05:17<00:01,  4.03it/s]"
     ]
    },
    {
     "name": "stdout",
     "output_type": "stream",
     "text": [
      "Source: And if he swears by heaven, he's swearing by the throne of God, and by Him Who sits on it.\n",
      "Target: A kto prisahá na nebo, prisahá na Boží trón i na Toho, ktorý na ňom sedí.\n",
      "Prediction: A ak prisahá na nebesiach, prisahá na trón Boha a na toho, kto sa na neho vykonáva.\n",
      "Source: (*) Liechtenstein will contribute through proportional financial support.\n",
      "Target: (*) Lichtenštajnsko poskytne príspevok prostredníctvom proporcionálnej finančnej podpory.\n",
      "Prediction: (*) Lecharson prispieva cez proporčnú finančnú finančnú podporu.\n"
     ]
    },
    {
     "name": "stderr",
     "output_type": "stream",
     "text": [
      "Evaluating:  99%|█████████▉| 496/500 [05:17<00:00,  5.90it/s]"
     ]
    },
    {
     "name": "stdout",
     "output_type": "stream",
     "text": [
      "Source: The Comprehensive Economic and Trade Agreement with Canada should not be ratified, as it also contains this kind of investor protection.”\n",
      "Target: Komplexná hospodárska a obchodná dohoda s Kanadou by nemala byť podpísaná, keďže tiež obsahuje takýto druh ochrany investora.“\n",
      "Prediction: Náboženská a obchodná dohoda s Kanady by nemala byť ratifikované, pretože tiež obsahuje rovnakú ochranu susedstva.“\n",
      "Source: “Greece demands and gets a lot of solidarity from the EU.\n",
      "Target: \"Grécko žiada a dostáva veľkú solidaritu z EÚ.\n",
      "Prediction: \"Grécko vyžaduje a dostane veľa solidarity z EÚ.\n",
      "Source: I believe in God even when He's silent.\"\n",
      "Target: Verím v Boha, aj keď mlčí.\"\n",
      "Prediction: \"Ja verím v Boha, aj keď je ticho.\"\n"
     ]
    },
    {
     "name": "stderr",
     "output_type": "stream",
     "text": [
      "Evaluating:  99%|█████████▉| 497/500 [05:18<00:00,  4.45it/s]"
     ]
    },
    {
     "name": "stdout",
     "output_type": "stream",
     "text": [
      "Source: “When you pray, do not be like the hypocrites.”\n",
      "Target: “ Keď sa modlíte, nebuďte ako pokrytci.\n",
      "Prediction: \"Keď sa modlíte, nebyte byť ako vinníkov.\"\n"
     ]
    },
    {
     "name": "stderr",
     "output_type": "stream",
     "text": [
      "Evaluating: 100%|██████████| 500/500 [05:20<00:00,  1.56it/s]"
     ]
    },
    {
     "name": "stdout",
     "output_type": "stream",
     "text": [
      "Source: Abraham believed God’s promise and God counted it to him as righteousness.\n",
      "Target: Uveril tomu, čo mu Boh zasľúbil o veľkom národe a Boh mu jeho vieru počítal za spravodlivosť.\n",
      "Prediction: Všemohúci prisľúbil, že Boh je zasľúbený, že sa mu Božia Božia vôľa.\n",
      "Source: Thus, human work corresponds with God’s will.\n",
      "Target: Vtedy sa vôľa človeka zjednocuje s vôľou Božou.\n",
      "Prediction: Toto je Božia vôľa s Božou vôľou.\n",
      "Source: bet-at-home also believes in fair game.\n",
      "Target: bet-at-home tiež verí vo fér hru.\n",
      "Prediction: bet-at-h-im verí aj v spravodlivej hry.\n",
      "BLEU: 0.2288, CHRF2: 0.3548\n"
     ]
    },
    {
     "name": "stderr",
     "output_type": "stream",
     "text": [
      "\n"
     ]
    },
    {
     "data": {
      "text/plain": [
       "(tensor(0.2288), 0.35477034661649387)"
      ]
     },
     "execution_count": 18,
     "metadata": {},
     "output_type": "execute_result"
    }
   ],
   "execution_count": 18
  },
  {
   "metadata": {
    "ExecuteTime": {
     "end_time": "2024-12-08T11:18:30.842032Z",
     "start_time": "2024-12-08T11:18:29.024499Z"
    }
   },
   "cell_type": "code",
   "source": "!pip install easynmt",
   "id": "ff78dc57f2754c01",
   "outputs": [
    {
     "name": "stderr",
     "output_type": "stream",
     "text": [
      "huggingface/tokenizers: The current process just got forked, after parallelism has already been used. Disabling parallelism to avoid deadlocks...\n",
      "To disable this warning, you can either:\n",
      "\t- Avoid using `tokenizers` before the fork if possible\n",
      "\t- Explicitly set the environment variable TOKENIZERS_PARALLELISM=(true | false)\n"
     ]
    },
    {
     "name": "stdout",
     "output_type": "stream",
     "text": [
      "Requirement already satisfied: easynmt in /home/mharag/fit/zpja/.venv/lib/python3.12/site-packages (2.0.2)\r\n",
      "Requirement already satisfied: tqdm in /home/mharag/fit/zpja/.venv/lib/python3.12/site-packages (from easynmt) (4.66.6)\r\n",
      "Requirement already satisfied: transformers<5,>=4.4 in /home/mharag/fit/zpja/.venv/lib/python3.12/site-packages (from easynmt) (4.46.1)\r\n",
      "Requirement already satisfied: torch>=1.6.0 in /home/mharag/fit/zpja/.venv/lib/python3.12/site-packages (from easynmt) (2.5.1)\r\n",
      "Requirement already satisfied: numpy in /home/mharag/fit/zpja/.venv/lib/python3.12/site-packages (from easynmt) (1.26.0)\r\n",
      "Requirement already satisfied: nltk in /home/mharag/fit/zpja/.venv/lib/python3.12/site-packages (from easynmt) (3.9.1)\r\n",
      "Requirement already satisfied: sentencepiece in /home/mharag/fit/zpja/.venv/lib/python3.12/site-packages (from easynmt) (0.2.0)\r\n",
      "Requirement already satisfied: fasttext in /home/mharag/fit/zpja/.venv/lib/python3.12/site-packages (from easynmt) (0.9.3)\r\n",
      "Requirement already satisfied: protobuf in /home/mharag/fit/zpja/.venv/lib/python3.12/site-packages (from easynmt) (5.28.3)\r\n",
      "Requirement already satisfied: filelock in /home/mharag/fit/zpja/.venv/lib/python3.12/site-packages (from torch>=1.6.0->easynmt) (3.16.1)\r\n",
      "Requirement already satisfied: typing-extensions>=4.8.0 in /home/mharag/fit/zpja/.venv/lib/python3.12/site-packages (from torch>=1.6.0->easynmt) (4.12.2)\r\n",
      "Requirement already satisfied: networkx in /home/mharag/fit/zpja/.venv/lib/python3.12/site-packages (from torch>=1.6.0->easynmt) (3.4.2)\r\n",
      "Requirement already satisfied: jinja2 in /home/mharag/fit/zpja/.venv/lib/python3.12/site-packages (from torch>=1.6.0->easynmt) (3.1.4)\r\n",
      "Requirement already satisfied: fsspec in /home/mharag/fit/zpja/.venv/lib/python3.12/site-packages (from torch>=1.6.0->easynmt) (2024.9.0)\r\n",
      "Requirement already satisfied: nvidia-cuda-nvrtc-cu12==12.4.127 in /home/mharag/fit/zpja/.venv/lib/python3.12/site-packages (from torch>=1.6.0->easynmt) (12.4.127)\r\n",
      "Requirement already satisfied: nvidia-cuda-runtime-cu12==12.4.127 in /home/mharag/fit/zpja/.venv/lib/python3.12/site-packages (from torch>=1.6.0->easynmt) (12.4.127)\r\n",
      "Requirement already satisfied: nvidia-cuda-cupti-cu12==12.4.127 in /home/mharag/fit/zpja/.venv/lib/python3.12/site-packages (from torch>=1.6.0->easynmt) (12.4.127)\r\n",
      "Requirement already satisfied: nvidia-cudnn-cu12==9.1.0.70 in /home/mharag/fit/zpja/.venv/lib/python3.12/site-packages (from torch>=1.6.0->easynmt) (9.1.0.70)\r\n",
      "Requirement already satisfied: nvidia-cublas-cu12==12.4.5.8 in /home/mharag/fit/zpja/.venv/lib/python3.12/site-packages (from torch>=1.6.0->easynmt) (12.4.5.8)\r\n",
      "Requirement already satisfied: nvidia-cufft-cu12==11.2.1.3 in /home/mharag/fit/zpja/.venv/lib/python3.12/site-packages (from torch>=1.6.0->easynmt) (11.2.1.3)\r\n",
      "Requirement already satisfied: nvidia-curand-cu12==10.3.5.147 in /home/mharag/fit/zpja/.venv/lib/python3.12/site-packages (from torch>=1.6.0->easynmt) (10.3.5.147)\r\n",
      "Requirement already satisfied: nvidia-cusolver-cu12==11.6.1.9 in /home/mharag/fit/zpja/.venv/lib/python3.12/site-packages (from torch>=1.6.0->easynmt) (11.6.1.9)\r\n",
      "Requirement already satisfied: nvidia-cusparse-cu12==12.3.1.170 in /home/mharag/fit/zpja/.venv/lib/python3.12/site-packages (from torch>=1.6.0->easynmt) (12.3.1.170)\r\n",
      "Requirement already satisfied: nvidia-nccl-cu12==2.21.5 in /home/mharag/fit/zpja/.venv/lib/python3.12/site-packages (from torch>=1.6.0->easynmt) (2.21.5)\r\n",
      "Requirement already satisfied: nvidia-nvtx-cu12==12.4.127 in /home/mharag/fit/zpja/.venv/lib/python3.12/site-packages (from torch>=1.6.0->easynmt) (12.4.127)\r\n",
      "Requirement already satisfied: nvidia-nvjitlink-cu12==12.4.127 in /home/mharag/fit/zpja/.venv/lib/python3.12/site-packages (from torch>=1.6.0->easynmt) (12.4.127)\r\n",
      "Requirement already satisfied: triton==3.1.0 in /home/mharag/fit/zpja/.venv/lib/python3.12/site-packages (from torch>=1.6.0->easynmt) (3.1.0)\r\n",
      "Requirement already satisfied: setuptools in /home/mharag/fit/zpja/.venv/lib/python3.12/site-packages (from torch>=1.6.0->easynmt) (75.3.0)\r\n",
      "Requirement already satisfied: sympy==1.13.1 in /home/mharag/fit/zpja/.venv/lib/python3.12/site-packages (from torch>=1.6.0->easynmt) (1.13.1)\r\n",
      "Requirement already satisfied: mpmath<1.4,>=1.1.0 in /home/mharag/fit/zpja/.venv/lib/python3.12/site-packages (from sympy==1.13.1->torch>=1.6.0->easynmt) (1.3.0)\r\n",
      "Requirement already satisfied: huggingface-hub<1.0,>=0.23.2 in /home/mharag/fit/zpja/.venv/lib/python3.12/site-packages (from transformers<5,>=4.4->easynmt) (0.26.2)\r\n",
      "Requirement already satisfied: packaging>=20.0 in /home/mharag/fit/zpja/.venv/lib/python3.12/site-packages (from transformers<5,>=4.4->easynmt) (24.1)\r\n",
      "Requirement already satisfied: pyyaml>=5.1 in /home/mharag/fit/zpja/.venv/lib/python3.12/site-packages (from transformers<5,>=4.4->easynmt) (6.0.2)\r\n",
      "Requirement already satisfied: regex!=2019.12.17 in /home/mharag/fit/zpja/.venv/lib/python3.12/site-packages (from transformers<5,>=4.4->easynmt) (2024.9.11)\r\n",
      "Requirement already satisfied: requests in /home/mharag/fit/zpja/.venv/lib/python3.12/site-packages (from transformers<5,>=4.4->easynmt) (2.32.3)\r\n",
      "Requirement already satisfied: safetensors>=0.4.1 in /home/mharag/fit/zpja/.venv/lib/python3.12/site-packages (from transformers<5,>=4.4->easynmt) (0.4.5)\r\n",
      "Requirement already satisfied: tokenizers<0.21,>=0.20 in /home/mharag/fit/zpja/.venv/lib/python3.12/site-packages (from transformers<5,>=4.4->easynmt) (0.20.1)\r\n",
      "Requirement already satisfied: pybind11>=2.2 in /home/mharag/fit/zpja/.venv/lib/python3.12/site-packages (from fasttext->easynmt) (2.13.6)\r\n",
      "Requirement already satisfied: click in /home/mharag/fit/zpja/.venv/lib/python3.12/site-packages (from nltk->easynmt) (8.1.7)\r\n",
      "Requirement already satisfied: joblib in /home/mharag/fit/zpja/.venv/lib/python3.12/site-packages (from nltk->easynmt) (1.4.2)\r\n",
      "Requirement already satisfied: MarkupSafe>=2.0 in /home/mharag/fit/zpja/.venv/lib/python3.12/site-packages (from jinja2->torch>=1.6.0->easynmt) (3.0.2)\r\n",
      "Requirement already satisfied: charset-normalizer<4,>=2 in /home/mharag/fit/zpja/.venv/lib/python3.12/site-packages (from requests->transformers<5,>=4.4->easynmt) (3.4.0)\r\n",
      "Requirement already satisfied: idna<4,>=2.5 in /home/mharag/fit/zpja/.venv/lib/python3.12/site-packages (from requests->transformers<5,>=4.4->easynmt) (3.10)\r\n",
      "Requirement already satisfied: urllib3<3,>=1.21.1 in /home/mharag/fit/zpja/.venv/lib/python3.12/site-packages (from requests->transformers<5,>=4.4->easynmt) (2.2.3)\r\n",
      "Requirement already satisfied: certifi>=2017.4.17 in /home/mharag/fit/zpja/.venv/lib/python3.12/site-packages (from requests->transformers<5,>=4.4->easynmt) (2024.8.30)\r\n",
      "\r\n",
      "\u001B[1m[\u001B[0m\u001B[34;49mnotice\u001B[0m\u001B[1;39;49m]\u001B[0m\u001B[39;49m A new release of pip is available: \u001B[0m\u001B[31;49m23.2.1\u001B[0m\u001B[39;49m -> \u001B[0m\u001B[32;49m24.3.1\u001B[0m\r\n",
      "\u001B[1m[\u001B[0m\u001B[34;49mnotice\u001B[0m\u001B[1;39;49m]\u001B[0m\u001B[39;49m To update, run: \u001B[0m\u001B[32;49mpip install --upgrade pip\u001B[0m\r\n"
     ]
    }
   ],
   "execution_count": 7
  },
  {
   "metadata": {
    "ExecuteTime": {
     "end_time": "2024-12-09T11:42:05.949894Z",
     "start_time": "2024-12-09T11:41:32.481972Z"
    }
   },
   "cell_type": "code",
   "source": [
    "from easynmt import EasyNMT\n",
    "model = EasyNMT('opus-mt')\n",
    "\n",
    "evaluate(\n",
    "    lambda x: model.translate(x, source_lang='en', target_lang='sk'),\n",
    "    max_length=128,\n",
    ")"
   ],
   "id": "a5bd913b042bcc6a",
   "outputs": [
    {
     "name": "stderr",
     "output_type": "stream",
     "text": [
      "Evaluating:   1%|          | 3/500 [00:01<03:59,  2.07it/s]"
     ]
    },
    {
     "name": "stdout",
     "output_type": "stream",
     "text": [
      "Source: I invite you to pray for them and for those who have lost their lives.”\n",
      "Target: Pozývam vás k modlitbe za nich, ako aj za tých, čo stratili život.“\n",
      "Prediction: Pozývam vás, aby ste sa modlili za nich a za tých, ktorí prišli o život.\n",
      "Source: Thus God's Son came down from heaven.\n",
      "Target: A vtedy Boh Syn sám zostúpil z výšky nebeskej.\n",
      "Prediction: Teda Boží Syn zostúpil z neba.\n",
      "Source: When the apostle heard what she had said he said, \"Who will rid me of Marwan's daughter?\"\n",
      "Target: Keď apoštol počul, čo povedala, povedal, \"Kto ma zbaví Marwanovej dcéry?\"\n",
      "Prediction: A keď počul apoštol, čo povedala, povedal: Kto ma zbaví dcéry Marwanovej?\n"
     ]
    },
    {
     "name": "stderr",
     "output_type": "stream",
     "text": [
      "Evaluating:   1%|▏         | 7/500 [00:02<01:28,  5.58it/s]"
     ]
    },
    {
     "name": "stdout",
     "output_type": "stream",
     "text": [
      "Source: It is the fruit of the Word delivered to God’s people through His chosen shepherds.\n",
      "Target: Je to ovocím Slova, ktoré je dané Božiemu ľudu prostredníctvom Jeho vyvolených pastierov.\n",
      "Prediction: Je to ovocie Slova dodané Bohu prostredníctvom Jeho vyvolených pastierov.\n",
      "Source: The atmosphere is filled with God’s presence.\n",
      "Target: Atmosféra sa začala napĺňať Božou prítomnosťou.\n",
      "Prediction: Atmosféra je plná prítomnosti Boha.\n",
      "Source: 'Is God willing to prevent evil, but not able?\n",
      "Target: Chce boh zabrániť zlu, ale nedokáže?\n",
      "Prediction: Je Boh ochotný zabrániť zlu, ale nie je schopný?\n",
      "Source: With God's help, you can control the tongue.\n",
      "Target: S Božou pomocou dokážeš skrotiť jazyk!\n",
      "Prediction: S Božou pomocou môžeš ovládať jazyk.\n"
     ]
    },
    {
     "name": "stderr",
     "output_type": "stream",
     "text": [
      "Evaluating:   2%|▏         | 10/500 [00:02<00:56,  8.61it/s]"
     ]
    },
    {
     "name": "stdout",
     "output_type": "stream",
     "text": [
      "Source: Ask them,\" he added.\n",
      "Target: Pýtajte sa ďalej,“ dodal.\n",
      "Prediction: Spýtaj sa ich,\" dodal.\n",
      "Source: He says, “every careless word.”\n",
      "Target: On hovorí, \"Každý neopatrný slovo.\"\n",
      "Prediction: Hovorí: \"Každé neopatrné slovo.\"\n",
      "Source: Therefore, there is no need to suppose God's existence.\"\n",
      "Target: Preto niet dôvodu predpokladať existenciu Boha.“\n",
      "Prediction: Preto nie je potrebné predpokladať, že Boh existuje.\"\n",
      "Source: And let us ask him: ‘Lord, let me rediscover the joy of giving’”.\n",
      "Target: A prosme ho: „Pane, daj mi znovuobjaviť radosť z darovania“.\n",
      "Prediction: A opýtajme sa ho: Pane, dovoľte mi znovu objaviť radosť z dávania.\n"
     ]
    },
    {
     "name": "stderr",
     "output_type": "stream",
     "text": [
      "Evaluating:   3%|▎         | 14/500 [00:02<00:48, 10.08it/s]"
     ]
    },
    {
     "name": "stdout",
     "output_type": "stream",
     "text": [
      "Source: 9The LORD will be king over the whole earth;f on that day the LORD will be the only one, and the LORD’s name the only one.\n",
      "Target: 9 A Hospodin bude kráľom nad celou zemou; toho dňa bude Hospodin jeden a jeho meno jedno.\n",
      "Prediction: 9 Hospodin bude kráľom nad celou zemou, ak toho dňa bude Hospodin jediný, a Hospodin pomenuje jediného.\n",
      "Source: 23.This is why his parents said, “He’s of age; ask him.”)\n",
      "Target: Preto povedali jeho rodičia: Má svoje roky; jeho sa spýtajte!\n",
      "Prediction: 23.To je dôvod, prečo jeho rodičia povedali,\n",
      "Source: We should have deep repugnance to their acts and we must remind and warn them.”\n",
      "Target: Mali by sme mať hlboký odpor k ich činom a musíme im to pripomínať a varovať ich.“\n",
      "Prediction: Mali by sme mať hlbokú reputáciu na ich činy a musíme im pripomenúť a varovať ich.\n"
     ]
    },
    {
     "name": "stderr",
     "output_type": "stream",
     "text": [
      "Evaluating:   3%|▎         | 16/500 [00:02<00:44, 10.96it/s]"
     ]
    },
    {
     "name": "stdout",
     "output_type": "stream",
     "text": [
      "Source: but whoever does God's will lives forever.\n",
      "Target: Kto však koná Božiu vôľu, zostáva naveky.\n",
      "Prediction: ale ktokoľvek robí Božiu vôľu, bude žiť navždy.\n",
      "Source: It is a religion of Adam, Abraham, Musa, Jesus and Muhammad (SAW).\n",
      "Target: Počnúc Adamom, cez Abraháma, Mojžiša (Tóra) a Ježiša (Evanjelium) až po Muhammada (Korán).\n",
      "Prediction: Je to náboženstvo Adama, Abraháma, Musu, Ježiša a Mohameda (SAW).\n",
      "Source: 'Almighty and merciful God,\n",
      "Target: Náš všemohúci Bože,\n",
      "Prediction: 'Všemohúci a milosrdný Boh,\n",
      "Source: They are God’s sons and daughters.\n",
      "Target: A sú to synovia a dcéry Boha.\n",
      "Prediction: Sú to Boží synovia a dcéry.\n"
     ]
    },
    {
     "name": "stderr",
     "output_type": "stream",
     "text": [
      "Evaluating:   4%|▍         | 21/500 [00:02<00:33, 14.39it/s]"
     ]
    },
    {
     "name": "stdout",
     "output_type": "stream",
     "text": [
      "Source: Such a thing cannot come from God's Spirit.\n",
      "Target: Takáto vec nemôže pochádzať od Božieho Ducha.\n",
      "Prediction: Také niečo nemôže prísť z Božieho Ducha.\n",
      "Source: The self-realized souls can impart knowledge unto you because he has seen the truth.”\n",
      "Target: Sebarealizované duše ti môžu odovzdať poznanie, pretože oni uvideli pravdu.\"\n",
      "Prediction: Sebarealizované duše vám môžu odovzdať poznanie, pretože videl pravdu.\n",
      "Source: The Heavens on Earth are blessed for this time.\n",
      "Target: a na nebi sa objavili bohovia, objatí radosťou,\n",
      "Prediction: Nebesá na Zemi sú požehnané za tento čas.\n",
      "Source: Who Are God's Sons?\n",
      "Target: Kto sú synovia boží?\n",
      "Prediction: Kto sú Boží synovia?\n"
     ]
    },
    {
     "name": "stderr",
     "output_type": "stream",
     "text": [
      "Evaluating:   5%|▌         | 26/500 [00:03<00:28, 16.67it/s]"
     ]
    },
    {
     "name": "stdout",
     "output_type": "stream",
     "text": [
      "Source: Like your heart, the tree offers its fruit to all, no matter into whose hands they fall.\"\n",
      "Target: Podobne ako tvoje srdce, tak aj strom ponúka svoje plody každému bez ohľadu na to, do koho rúk padnú.“ Svámidží\n",
      "Prediction: Ako vaše srdce, strom ponúka svoje ovocie všetkým, bez ohľadu na to, do ktorých rúk padajú. \"\n",
      "Source: Then Moses reported the people's words to the Lord.\n",
      "Target: Potom Mojžiš tlmočil slová ľudu Pánovi.\n",
      "Prediction: Potom Mojžiš oznámil Pánovi slová ľudu.\n",
      "Source: Many are saying of me, There is no help for him in God.\n",
      "Target: Mnohí o mne hovoria: Pre neho niet pomoci u Boha!\n",
      "Prediction: Mnohí o mne hovoria: V Bohu mu niet pomoci.\n",
      "Source: They fight in God’s way, and they kill and get killed.\n",
      "Target: A oni bojujú na ceste božej - zabíjajú a sú zabíjaní...\n",
      "Prediction: Bojujú Božím spôsobom, zabíjajú a zabíjajú.\n"
     ]
    },
    {
     "name": "stderr",
     "output_type": "stream",
     "text": [
      "Evaluating:   6%|▌         | 28/500 [00:03<00:32, 14.56it/s]"
     ]
    },
    {
     "name": "stdout",
     "output_type": "stream",
     "text": [
      "Source: And because of that, every knee in heaven and on earth and under the earth will call him Lord.\n",
      "Target: Každé stvorenie v nebi, na zemi a pod zemou pokľakne pred Pánom - všetci, bez výnimky.\n",
      "Prediction: A preto ho bude každé koleno v nebi i na zemi i pod zemou nazývať Pánom.\n",
      "Source: I fully endorse the motion for a resolution (B7-0029/2010) on preventing trafficking in human beings, which was submitted by a broad coalition of the European Parliament’s political groups.\n",
      "Target: Plne podporujem návrh uznesenia (B7-0029/2010) o predchádzaní obchodovaniu s ľuďmi, ktorý predložila široká koalícia politických strán Európskeho parlamentu.\n",
      "Prediction: Plne podporujem návrh uznesenia (B7-0029/2010) o predchádzaní obchodovaniu s ľuďmi, ktorý predložila široká koalícia Európskeho parlamentu a politických skupín.\n",
      "Source: That's how Pharaoh came to own the land.\n",
      "Target: Takto sa krajina dostala do faraónovho vlastníctva.\n",
      "Prediction: Tak prišiel faraón k vlastníctvu krajiny.\n"
     ]
    },
    {
     "name": "stderr",
     "output_type": "stream",
     "text": [
      "Evaluating:   6%|▋         | 32/500 [00:03<00:29, 15.95it/s]"
     ]
    },
    {
     "name": "stdout",
     "output_type": "stream",
     "text": [
      "Source: I will harden Pharaoh's heart and he will pursue them.\n",
      "Target: \"A ja opäť zatvrdím faraónovo srdce a bude sa hnať za vami.\n",
      "Prediction: Zatvrdím faraónovo srdce a on ich bude prenasledovať.\n",
      "Source: To meet the demands of the Law it had to be slain—“And Moses slew it.”\n",
      "Target: Aby sa vyhovelo požiadavkám Zákonu, vôl musel byť usmrtený — \"a Mojžíš ho zabil.\"\n",
      "Prediction: Aby Mojžiš splnil požiadavky Zákona, musel byť zabitý a porazil ho.\n",
      "Source: He played a leading role on that day”.\n",
      "Target: \"V ten deň hral hlavnú úlohu.\n",
      "Prediction: V ten deň zohral vedúcu úlohu.\n",
      "Source: the Snow Queen will retain her power over him.\"\n",
      "Target: Snehová kráľovná bude ho mať naďalej v moci!\"\n",
      "Prediction: Snehová kráľovná si udrží nad ním svoju moc.\"\n"
     ]
    },
    {
     "name": "stderr",
     "output_type": "stream",
     "text": [
      "Evaluating:   7%|▋         | 37/500 [00:03<00:26, 17.44it/s]"
     ]
    },
    {
     "name": "stdout",
     "output_type": "stream",
     "text": [
      "Source: As we listen to God’s son,\n",
      "Target: ak počúvali Božieho Syna\n",
      "Prediction: Keď počúvame Boha, synu,\n",
      "Source: And the lowest in heaven’s kingdom is yet greater than he.”\n",
      "Target: Ale kto je v nebeskom kráľovstve najmenší, je väčší ako on. \"\n",
      "Prediction: A najnižší v nebeskom kráľovstve je ešte väčší ako on.\n",
      "Source: Truly, I am very grateful this morning.\"\n",
      "Target: Úprimne, dnes ráno som veľmi vďačná.”\n",
      "Prediction: Naozaj, dnes ráno som veľmi vďačný.\"\n",
      "Source: That will happen, if it is God’s will.\n",
      "Target: Stane sa tak, ak to bude Božia vôľa.\n",
      "Prediction: To sa stane, ak je to Boh a vôľa.\n"
     ]
    },
    {
     "name": "stderr",
     "output_type": "stream",
     "text": [
      "Evaluating:   8%|▊         | 41/500 [00:04<00:26, 17.63it/s]"
     ]
    },
    {
     "name": "stdout",
     "output_type": "stream",
     "text": [
      "Source: Have you asked for God’s forgiveness?\n",
      "Target: Prosíš ty Boha o odpustenie?\n",
      "Prediction: Žiadali ste Boha o odpustenie?\n",
      "Source: “If the wife of any of you seeks permission to go to the masjid, he may not prevent her.”\n",
      "Target: \"Ak žena kohokoľvek z vás požiada o dovolenie ísť do mešity, nemali by ste jej to zakazovať.\"\n",
      "Prediction: Ak manželka niektorého z vás hľadá povolenie ísť do masjid, nemusí jej zabrániť.\n",
      "Source: God uses them for God’s plan of life for the world.\n",
      "Target: Pretože ich Boh používa na uskutočnenie svojho plánu pokoja pre svet\n",
      "Prediction: Boh ich používa pre Boží plán života pre svet.\n",
      "Source: That’s how they persecuted the prophets who came before you.”\n",
      "Target: Takto totiž prenasledovali prorokov, ktorí boli pred vami. \"\n",
      "Prediction: To je to, ako prenasledovali prorokov, ktorí prišli pred vami.\n"
     ]
    },
    {
     "name": "stderr",
     "output_type": "stream",
     "text": [
      "Evaluating:   9%|▉         | 45/500 [00:04<00:28, 16.13it/s]"
     ]
    },
    {
     "name": "stdout",
     "output_type": "stream",
     "text": [
      "Source: The introduction spoke of God's creating the heavens and the earth.\n",
      "Target: Aj v tomto prípade vystupuje ako podávateľ božieho slova a premostenie Zeme a neba.\n",
      "Prediction: Tento úvod hovoril o Božom stvorení nebies a zeme.\n",
      "Source: You and I are part of God’s plan.\n",
      "Target: Ja a ty sme súčasťou Božieho plánu.\n",
      "Prediction: Ty a ja sme súčasťou Božieho plánu.\n",
      "Source: If you do not like it, ignore it or offer your own version in return.\"\n",
      "Target: Ak sa Ti nepáči, ignoruj ju, alebo na oplátku ponúkni svoju verziu.\"\n",
      "Prediction: Ak sa vám to nepáči, ignorovať alebo ponúknuť svoju vlastnú verziu na oplátku.\"\n",
      "Source: Satan's plan was to take the heaven and the earth.\n",
      "Target: Tento démon sa pokúšal bojovať s nebesami a so zemou.\n",
      "Prediction: Satanovým plánom bolo vziať nebo i zem.\n"
     ]
    },
    {
     "name": "stderr",
     "output_type": "stream",
     "text": [
      "Evaluating:   9%|▉         | 47/500 [00:04<00:29, 15.40it/s]"
     ]
    },
    {
     "name": "stdout",
     "output_type": "stream",
     "text": [
      "Source: Fear no person, for judgment is God’s.\n",
      "Target: Ani sa nebojte nijakej osoby, lebo súd patrí Bohu. “\n",
      "Prediction: Nebojte sa nikoho, lebo súd je Boh.\n",
      "Source: They are unbelievers who say God is Messiah, Mary’s son.”\n",
      "Target: neveriaci*, tí čo tvrdili že Allah je Kristus, syn Márie…“ * – niektoré\n",
      "Prediction: Sú to neveriaci, ktorí hovoria, že Boh je Mesiáš, Mária a syn.\n",
      "Source: The heavens are God’s throne, the earth is His footstool.\n",
      "Target: Nebo je trónom boha-panovníka; Zem je jeho podnožou.\n",
      "Prediction: Nebesia sú trónom Boha, zem je podnožou jeho nôh.\n"
     ]
    },
    {
     "name": "stderr",
     "output_type": "stream",
     "text": [
      "Evaluating:  10%|█         | 51/500 [00:04<00:34, 13.07it/s]"
     ]
    },
    {
     "name": "stdout",
     "output_type": "stream",
     "text": [
      "Source: When they came out, they blessed the people, and the Lord’s glorious presence appeared to all the people.\n",
      "Target: Keď vyšli, požehnali ľud a sláva Hospodinova sa zjavila všetkému ľudu.\n",
      "Prediction: Keď vyšli von, požehnali ľud, a Pán sa zjavila slávna prítomnosť všetkému ľudu.\n",
      "Source: “Peace alone, therefore, is holy and no act of violence can be perpetrated in the name of God, for it would profane his name.”\n",
      "Target: „Jedine mier je svätý, a nijaké násilie nemôže byť páchané v mene Boha, pretože by to znesväcovalo jeho Meno.“ Zdieľať\n",
      "Prediction: Mier sám, preto, je svätý a žiadny akt násilia nemôže byť spáchaný v mene Božom, pretože by poškvrniť jeho meno.\n",
      "Source: Their lawyers have been relentless, so we will deal with it in court”.\n",
      "Target: Ich právnici sú neúprosní, takže sa celou vecou budeme zaoberať na súde.\"\n",
      "Prediction: Ich právnici boli neúprosní, takže sa o to postaráme na súde.\n"
     ]
    },
    {
     "name": "stderr",
     "output_type": "stream",
     "text": [
      "Evaluating:  11%|█         | 55/500 [00:05<00:29, 15.08it/s]"
     ]
    },
    {
     "name": "stdout",
     "output_type": "stream",
     "text": [
      "Source: They know how to live life according to God's will.\n",
      "Target: Teraz sa učia, ako žiť podľa božej vôle.\n",
      "Prediction: Vedia, ako žiť podľa Božej vôle.\n",
      "Source: Tell Pharaoh king of Egypt all that I am telling you.”\n",
      "Target: Povedz faraónovi, egyptskému kráľovi, všetko, čo ti hovorím.\n",
      "Prediction: Povedz faraónovi egyptskému kráľovi všetko, čo ti hovorím.\n",
      "Source: From heaven, or of men?”\n",
      "Target: Z neba; či od ľudí?\"\n",
      "Prediction: Z neba, alebo z ľudí?\n",
      "Source: The LORD has accomplished all that he foretold through his servant Elijah.\"\n",
      "Target: Pán splnil všetko, čo povedal prostredníctvom svojho sluhu Eliáša.“\n",
      "Prediction: Hospodin učinil všetko, čo predpovedal skrze svojho služobníka Eliáša.\n"
     ]
    },
    {
     "name": "stderr",
     "output_type": "stream",
     "text": [
      "Evaluating:  11%|█▏        | 57/500 [00:05<00:29, 14.92it/s]"
     ]
    },
    {
     "name": "stdout",
     "output_type": "stream",
     "text": [
      "Source: 27 But the Lord hardened Pharaoh’s heart, and he would not let them go.\n",
      "Target: 27 Ale Hospodin zatvrdil srdce faraonovo, a nechcel ich prepustiť.\n",
      "Prediction: 27 Ale Pán zatvrdil faraonovo srdce, a nechcel ich prepustiť.\n",
      "Source: 2 Though they say, “As the Lord lives”, yet they swear falsely.\n",
      "Target: 2 A keď aj hovoria: Ako že žije Hospodin, i tak prisahajú falošne.\n",
      "Prediction: 2 Aj keď hovoria: \"Ako Pán žije, napriek tomu prisahajú falošne.\n",
      "Source: I have to believe that’s a sign.”\n",
      "Target: Musím veriť, že je to znamenie.\"\n",
      "Prediction: Musím veriť, že je to znamenie.\n",
      "Source: [Am] I not better to you than ten sons?\"\n",
      "Target: Či som ti ja nie lepší než desať synov?\" -\n",
      "Prediction: Nie som pre teba lepší ako desať synov?\"\n"
     ]
    },
    {
     "name": "stderr",
     "output_type": "stream",
     "text": [
      "Evaluating:  12%|█▏        | 62/500 [00:05<00:26, 16.80it/s]"
     ]
    },
    {
     "name": "stdout",
     "output_type": "stream",
     "text": [
      "Source: This is the dignity of God’s forgiveness.\n",
      "Target: To je dôstojnosť Božieho odpustenia!\n",
      "Prediction: Toto je dôstojnosť Božieho odpustenia.\n",
      "Source: 41:25 Joseph said to Pharaoh, 'Pharaoh's dream has a single meaning.\n",
      "Target: 25 1Moj 41, 25 Jozef odpovedal faraónovi: Faraónove sny znamenajú jedno a to isté.\n",
      "Prediction: 41:25 Joseph povedal faraónovi, \"Pharaoh sen má jediný význam.\n",
      "Source: \"And the Lord said to him, \"Who has made man’s mouth?\n",
      "Target: Citujem.......\"Jahve mu povedal: \"Ktože dal človeku ústa?\n",
      "Prediction: \"A Pán mu povedal: \"Kto urobil človek ústa?\n",
      "Source: but whoever does God's will lives forever.\n",
      "Target: Kto však plní Božiu vôľu, zostáva naveky.\n",
      "Prediction: ale ktokoľvek robí Božiu vôľu, bude žiť navždy.\n"
     ]
    },
    {
     "name": "stderr",
     "output_type": "stream",
     "text": [
      "Evaluating:  13%|█▎        | 67/500 [00:05<00:25, 17.24it/s]"
     ]
    },
    {
     "name": "stdout",
     "output_type": "stream",
     "text": [
      "Source: I am not afraid of a separation that will unite me for ever with God.”\n",
      "Target: A ja nemám strach z odlúčenia, ktoré ma navždy spojí s dobrým Bohom.\n",
      "Prediction: Nebojím sa odlúčenia, ktoré ma navždy zjednotí s Bohom.\n",
      "Source: God’s anger remains on them.”\n",
      "Target: ale hnev Boží zostáva na ňom.“\n",
      "Prediction: Boh je hnev zostáva na nich.\n",
      "Source: God's bread is that which comes down from heaven and gives life to the world.\n",
      "Target: Lebo Boží chlieb je ten, ktorý zostúpi z neba a dáva svetu život.\n",
      "Prediction: Boží chlieb je ten, ktorý zostupuje z neba a dáva svetu život.\n",
      "Source: Prayer is a search for God, but it’s also a revelation of God.\n",
      "Target: Modlitba je hľadaním Boha, ale je aj zjavením Boha.\n",
      "Prediction: Modlitba je hľadanie Boha, ale je tiež zjavenie Boha.\n"
     ]
    },
    {
     "name": "stderr",
     "output_type": "stream",
     "text": [
      "Evaluating:  14%|█▍        | 71/500 [00:06<00:28, 15.26it/s]"
     ]
    },
    {
     "name": "stdout",
     "output_type": "stream",
     "text": [
      "Source: Wherever respect for life and human dignity are lacking, there is need of God’s merciful love, in whose light we see the inexpressible value of every human being.\n",
      "Target: Tam, kde chýba úcta k životu a ľudskej dôstojnosti, tam je potrebná milosrdná Božia láska, lebo v jej svetle vidíme neobyčajnú hodnotu každej ľudskej bytosti.\n",
      "Prediction: Kdekoľvek chýba úcta k životu a ľudskej dôstojnosti, tam je potreba Boha milosrdnú lásku, v ktorej svetle vidíme neúprosnú hodnotu každej ľudskej bytosti.\n",
      "Source: Anyone who believes in him will not die but will have eternal life.\"\n",
      "Target: Kto v neho verí, nezahynie, ale bude mať večný život.“\n",
      "Prediction: Každý, kto v neho verí, nezomrie, ale bude mať večný život.\"\n",
      "Source: If we fail, Earth and ten billion inhabitants will perish.\"\n",
      "Target: \"Ak sa zle integrujeme, desaťtisíce podnikateľov a poľnohospodárov stratí existenciu\".\n",
      "Prediction: Ak zlyháme, Zem a desať miliárd obyvateľov zahynie.\"\n",
      "Source: Even we who live in Italy: under zero.\n",
      "Target: Aj my, ktorí žijeme v Taliansku: pod nulou.\n",
      "Prediction: Dokonca aj my, ktorí žijeme v Taliansku: pod nulou.\n"
     ]
    },
    {
     "name": "stderr",
     "output_type": "stream",
     "text": [
      "Evaluating:  15%|█▌        | 75/500 [00:06<00:26, 15.88it/s]"
     ]
    },
    {
     "name": "stdout",
     "output_type": "stream",
     "text": [
      "Source: “He who taught it was crucified.”\n",
      "Target: „Ten, kto to učil, bol ukrižovaný.“\n",
      "Prediction: Ten, kto ju učil, bol ukrižovaný.\n",
      "Source: Heaven and hell shall pass away, but God’s word stands forever!\n",
      "Target: Nebesia a zem pominú, ale Božie Slovo zostáva na veky!\n",
      "Prediction: Nebo a peklo pominú, ale Božie slovo stojí naveky!\n",
      "Source: Zephaniah 3:17 says,”The Lord your God is in your midst.\n",
      "Target: 15 Sofoniáš 3:17 hovorí: „Jehova, tvoj Boh, je v tvojom strede.\n",
      "Prediction: Sofoniáš 3:17 hovorí: \"Pán, tvoj Boh, je medzi tebou.\n",
      "Source: Then WHO WILL enter God's Kingdom?\n",
      "Target: Takže, kto môže vojsť do Božieho kráľovstva?\n",
      "Prediction: KTO teda vstúpi do Božieho Kráľovstva?\n"
     ]
    },
    {
     "name": "stderr",
     "output_type": "stream",
     "text": [
      "Evaluating:  15%|█▌        | 77/500 [00:06<00:26, 15.88it/s]"
     ]
    },
    {
     "name": "stdout",
     "output_type": "stream",
     "text": [
      "Source: It is in the brain, and the brain only, that the great sins of the world take place also.”\n",
      "Target: Takisto v hlave - a jedine v hlave - sa odohrávajú aj veľké hriechy sveta.\"\n",
      "Prediction: Je to v mozgu, a len mozog, že veľké hriechy sveta sa odohráva tiež.\n",
      "Source: he was taken up between the heaven and the earth;\n",
      "Target: A niečo medzi nebom a zemou rozhodlo,\n",
      "Prediction: bol vzatý hore medzi nebom a medzi zemou,\n",
      "Source: Therefore God lacks either goodness, or power, or both.”3\n",
      "Target: Preto Boh buď nie je dobrý, alebo všemohúci, alebo oboje.“8\n",
      "Prediction: Preto Bohu chýba buď dobrota, alebo moc, alebo oboje.\n",
      "Source: God is touching the people’s hearts.\n",
      "Target: Boh sa prihovára srdciam ľudí.\n",
      "Prediction: Boh sa dotýka sŕdc ľudí.\n"
     ]
    },
    {
     "name": "stderr",
     "output_type": "stream",
     "text": [
      "Evaluating:  16%|█▋        | 82/500 [00:06<00:26, 15.69it/s]"
     ]
    },
    {
     "name": "stdout",
     "output_type": "stream",
     "text": [
      "Source: When Leo wakes up the three of them mess around for most of the day before they settle down to some food.’\n",
      "Target: 'Keď sa Leo prebudia tri z nich neporiadok okolo väčšinu dňa pred pustí do nejakej jedlo.'\n",
      "Prediction: Keď sa Leo prebudí tri z nich chaos po väčšinu dňa, než sa usadia na nejaké jedlo.\n",
      "Source: He sees them instead as a completely isolated group.16\n",
      "Target: Namiesto toho ich považuje za úplne izolovanú skupinu.16\n",
      "Prediction: Namiesto toho ich vidí ako úplne izolovanú skupinu.16\n",
      "Source: He will always behold Me like a brother his brother and as I beheld him from eternity, before he was.\"\n",
      "Target: Bude Ma vždy vidieť ako brat svojho brata a ako som ho Ja videl už od večnosti, ešte skôr než bol.”\n",
      "Prediction: Vždy ma uvidí ako brata, svojho brata, a jako som ho videl od večnosti, pred ním.\n",
      "Source: Then Joseph said to them, “Do not the meanings of dreams belong to God?\n",
      "Target: Jozef im povedal: \"A nepatrí Bohu vykladanie snov?!\n",
      "Prediction: Potom im Jozef povedal: \"Či význam snov nepatrí Bohu?\n"
     ]
    },
    {
     "name": "stderr",
     "output_type": "stream",
     "text": [
      "Evaluating:  17%|█▋        | 86/500 [00:07<00:25, 16.01it/s]"
     ]
    },
    {
     "name": "stdout",
     "output_type": "stream",
     "text": [
      "Source: “Whatever the Lord pleases, He does, in Heaven and on Earth, in the seas and all deeps.”\n",
      "Target: Všetko, čo sa páči Hospodinovi, činí na nebi aj na zemi, v moriach a všetkých hlbinách.\n",
      "Prediction: Čokoľvek sa Pán páči, On robí, v nebi a na Zemi, v moriach a všetkých hlbinách.\n",
      "Source: “Until we meet again, may God hold you in the palm of His hand.”\n",
      "Target: A kým sa stretneme znova, nech ťa Boh drží vo svojich dlaniach.“\n",
      "Prediction: Kým sa znovu nestretneme, nech ťa Boh drží v dlani svojej ruky.\n",
      "Source: He said, “The sick need a physician.”\n",
      "Target: Povedal totiž, že ‚chorí potrebujú lekára‘.\n",
      "Prediction: Povedal, že chorí potrebujú lekára.\n",
      "Source: And tomorrow, he is tried and put to jail.\"\n",
      "Target: Zajtra bude zatknutý a uvrhnutý do väzenia!”\n",
      "Prediction: A zajtra, je súdený a uväznený.\"\n",
      "Source: God’s Presence is near.\n",
      "Target: Božia prítomnosť je bližšie.\n",
      "Prediction: Božia prítomnosť je blízko.\n"
     ]
    },
    {
     "name": "stderr",
     "output_type": "stream",
     "text": [
      "Evaluating:  18%|█▊        | 91/500 [00:07<00:25, 16.04it/s]"
     ]
    },
    {
     "name": "stdout",
     "output_type": "stream",
     "text": [
      "Source: These are those who know how to have compassion, who know how to have mercy on others, because they experience it for themselves.”\n",
      "Target: Toto sú tí, ktorí dokážu mať súcit, ktorí vedia mať milosrdenstvo s druhými, pretože ho zakusujú sami na sebe.“\n",
      "Prediction: To sú tí, ktorí vedia, ako mať súcit, ktorí vedia, ako sa zmilovať nad druhými, pretože to zažívajú sami pre seba.\n",
      "Source: Have confidence in God’s forgiveness.\n",
      "Target: Majte dôveru v Božie odpustenie.\n",
      "Prediction: Dôverujte v odpustenie od Boha.\n",
      "Source: So, \"… he said, Lord GOD, whereby shall I know that I shall inherit it?\n",
      "Target: On sa opýtal: „Pane, Bože, podľa čoho spoznám, že ju budem vlastniť?“\n",
      "Prediction: Takže, \"... povedal, Pane Bože, kde mám vedieť, že ho zdedím?\n",
      "Source: But they did not hearken to Moses, and some of them left part of it until the next morning.\n",
      "Target: Oni však nepočúvali Mojžiša a niektorí si z toho nechali (časť) až do druhého rána.\n",
      "Prediction: Ale Mojžišovi neposlúchli a niektorí z nich nechali jeho časť až do nasledujúceho rána.\n"
     ]
    },
    {
     "name": "stderr",
     "output_type": "stream",
     "text": [
      "Evaluating:  19%|█▉        | 95/500 [00:07<00:25, 16.05it/s]"
     ]
    },
    {
     "name": "stdout",
     "output_type": "stream",
     "text": [
      "Source: The most merciful and ever merciful\n",
      "Target: Milostivého a Milosrdného.\n",
      "Prediction: Najmilosrdnejší a najmilosrdnejší\n",
      "Source: As for the traitor in Room 14, we will eventually find him.\n",
      "Target: Pokiaľ ide o zradcu v izbe 14, nakoniec ho nájdeme.\n",
      "Prediction: Pokiaľ ide o zradcu v izbe 14, nakoniec ho nájdeme.\n",
      "Source: Even today, or perhaps today more than ever, Don Bosco asks questions.\n",
      "Target: Aj dnes, a možno častejšie ako kedysi, don Bosco kladie otázky.\n",
      "Prediction: Dokonca aj dnes, alebo dnes možno viac ako kedykoľvek predtým, Don Bosco kladie otázky.\n",
      "Source: The men in the boat fell down before him and exclaimed, “You really are God’s son.\n",
      "Target: Tí, čo boli na loďke, klaňali sa mu a vraveli: „Naozaj si Boží Syn!“\n",
      "Prediction: Muži na lodi spadol pred ním a zvolal,\n"
     ]
    },
    {
     "name": "stderr",
     "output_type": "stream",
     "text": [
      "Evaluating:  20%|█▉        | 99/500 [00:07<00:23, 17.16it/s]"
     ]
    },
    {
     "name": "stdout",
     "output_type": "stream",
     "text": [
      "Source: You can become God’s friend.\n",
      "Target: Môžeš sa stať Božím priateľom!\n",
      "Prediction: Môžeš sa stať priateľom Boha.\n",
      "Source: Do you know how to listen to God’s voice?\n",
      "Target: Vieš počúvať Boží hlas?\n",
      "Prediction: Vieš, ako počúvať hlas Boha?\n",
      "Source: God’s bread is the One who comes down from heaven and gives life to the world.”\n",
      "Target: Božím chlebom je Ten, kto zostupuje z neba a dáva život svetu.\n",
      "Prediction: Chlieb Boh je ten, ktorý zostupuje z neba a dáva svetu život.\n",
      "Source: Give thanks to God because everything is God's gift to you.\n",
      "Target: Ďakujte Bohu, lebo všetko je pre vás Boží dar.\n",
      "Prediction: Vzdávajte Bohu vďaku, pretože všetko je Božím darom pre vás.\n"
     ]
    },
    {
     "name": "stderr",
     "output_type": "stream",
     "text": [
      "Evaluating:  21%|██        | 103/500 [00:08<00:24, 16.38it/s]"
     ]
    },
    {
     "name": "stdout",
     "output_type": "stream",
     "text": [
      "Source: How does Satan REMOVE the Word of God from people's hearts?\n",
      "Target: Ako dokáže diabol zobrať Božie slovo zo srdca?\n",
      "Prediction: Ako Satan VYJADRUJE Božie Slovo zo srdca ľudí?\n",
      "Source: The heavens declare God’s righteousness to judge.\n",
      "Target: Mesiáš prichádza s Božou mocou, aby súdil.\n",
      "Prediction: Nebesia oznamujú, že Boh je spravodlivý, aby súdil.\n",
      "Source: Blessed is the one who comes in God’s name – the King of Israel.\n",
      "Target: Požehnaný, ktorý prichádza v_mene Pánovom, Kráľ Izraela\n",
      "Prediction: Požehnaný je ten, kto prichádza v mene Boha a meno izraelského kráľa.\n",
      "Source: “But our God is in the heavens; He does whatever He pleases.”20\n",
      "Target: „Náš Boh je na nebesiach, všetko robí podľa svojej vôle.“16\n",
      "Prediction: Ale náš Boh je v nebesiach; On robí, čo sa mu páči.\n"
     ]
    },
    {
     "name": "stderr",
     "output_type": "stream",
     "text": [
      "Evaluating:  21%|██▏       | 107/500 [00:08<00:26, 14.86it/s]"
     ]
    },
    {
     "name": "stdout",
     "output_type": "stream",
     "text": [
      "Source: Human beings are God’s sons and daughters.\n",
      "Target: cítiaci ľudia sú Božími synmi a dcérami.\n",
      "Prediction: Ľudské bytosti sú Boží synovia a dcéry.\n",
      "Source: Mohammed said, “He who has passed that remark has told a lie; for Amir there is a double reward.”\n",
      "Target: Povedal: Ten, kto vyriekol tú poznámku, povedal lož, pre Amira je dvojnásobná odmena.\"\n",
      "Prediction: Mohammed povedal: \"Ten, kto prešiel túto poznámku povedal lož; pre Amir tam je dvojitá odmena.\n",
      "Source: If then you are God’s handiwork, await the hand of the Artist who does all things in due season.\n",
      "Target: Ak ste teda vy dielom Boha, čakajte na ruku umelca, ktorý robí každú vec v pravom čase.~SV.\n",
      "Prediction: Ak ste potom Boh sa práce, čakajte na ruku umelca, ktorý robí všetko v patričnom čase.\n"
     ]
    },
    {
     "name": "stderr",
     "output_type": "stream",
     "text": [
      "Evaluating:  22%|██▏       | 111/500 [00:08<00:25, 15.04it/s]"
     ]
    },
    {
     "name": "stdout",
     "output_type": "stream",
     "text": [
      "Source: And he said, \"We should raise a fund and do some investing.\"\n",
      "Target: A on mi povedal: mali by sme založiť fond a investovať.\n",
      "Prediction: A on povedal: \"Mali by sme získať fond a investovať.\"\n",
      "Source: God’s bread is the One who comes down from heaven and gives life to the world.”\n",
      "Target: Lebo Boží chlieb je ten, ktorý zostúpil z neba a dáva svetu život.”\n",
      "Prediction: Chlieb Boh je ten, ktorý zostupuje z neba a dáva svetu život.\n",
      "Source: God’s bread is the One who comes down from heaven and gives life to the world.”\n",
      "Target: Lebo Boží chlieb je ten, ktorý zostúpil z neba a dáva svetu život.“\n",
      "Prediction: Chlieb Boh je ten, ktorý zostupuje z neba a dáva svetu život.\n",
      "Source: God’s bread is the One who comes down from heaven and gives life to the world.”\n",
      "Target: Lebo Boží chlieb je ten, ktorý zostúpil z neba a dáva svetu život.\"\n",
      "Prediction: Chlieb Boh je ten, ktorý zostupuje z neba a dáva svetu život.\n"
     ]
    },
    {
     "name": "stderr",
     "output_type": "stream",
     "text": [
      "Evaluating:  23%|██▎       | 114/500 [00:08<00:21, 17.55it/s]"
     ]
    },
    {
     "name": "stdout",
     "output_type": "stream",
     "text": [
      "Source: They want to live in God’s presence.\n",
      "Target: a chcú žiť v Božej prítomnosti\n",
      "Prediction: Chcú žiť v prítomnosti Boha.\n",
      "Source: The one who does God’s will remains forever.\n",
      "Target: Kto však koná Božiu vôľu, zostáva naveky.\n",
      "Prediction: Ten, kto koná Boha, zostane naveky.\n",
      "Source: God’s had a chosen people the Israelites.\n",
      "Target: Boh si však predsa vyvolil Izraelcov.\n",
      "Prediction: Boh mal vyvolený ľud Izraelitov.\n",
      "Source: All of God's wonderful promises fulfilled.\n",
      "Target: Všetky nádherné zasľúbenia Božie sú vyplnené.\n",
      "Prediction: Všetky Božie úžasné sľuby sa splnili.\n"
     ]
    },
    {
     "name": "stderr",
     "output_type": "stream",
     "text": [
      "Evaluating:  24%|██▎       | 118/500 [00:08<00:23, 15.94it/s]"
     ]
    },
    {
     "name": "stdout",
     "output_type": "stream",
     "text": [
      "Source: “Whatever the Lord pleases, He does, in Heaven and on Earth, in the seas and all deeps.”\n",
      "Target: - Všetko, čo sa páči Hospodinovi, činí na nebi aj na zemi, v moriach a všetkých hlbinách.\n",
      "Prediction: Čokoľvek sa Pán páči, On robí, v nebi a na Zemi, v moriach a všetkých hlbinách.\n",
      "Source: “They have found each other; they are plugged into each other, and they have each other’s backs.\n",
      "Target: Tým, že sa (tam) stretávali s ním, súčasne sa (tam) stretávali navzájom !\n",
      "Prediction: Našli sa navzájom; sú navzájom zapojení, a majú jeden druhého späť.\n",
      "Source: Our (wrong) answer: Beef is always dead.\n",
      "Target: Naša (nesprávna) odpoveď: Hovädzie je vždy mŕtve.\n",
      "Prediction: Naša odpoveď: Hovädzie mäso je vždy mŕtve.\n"
     ]
    },
    {
     "name": "stderr",
     "output_type": "stream",
     "text": [
      "Evaluating:  24%|██▍       | 120/500 [00:09<00:24, 15.56it/s]"
     ]
    },
    {
     "name": "stdout",
     "output_type": "stream",
     "text": [
      "Source: ​​Pilate said to them ,\"Which of the two do you want me to release to you?\n",
      "Target: Pilát sa opýtal ľudí: “Ktorého z tých dvoch chcete, aby som vám prepustil?”\n",
      "Prediction: Pilát im povedal: \"Ktorého z tých dvoch chcete, aby som vám prepustil?\n",
      "Source: And Jesus said to him, \"Go, your faith has healed you.\"\n",
      "Target: A Ježiš mu povedal: „Choď, tvoja viera ťa uzdravila!\"\n",
      "Prediction: A Ježiš mu povedal: Iď, tvoja viera ťa uzdravila.\n",
      "Source: Instead of speaking about yourself, speak about Allah and the Holy Prophet ( ).\n",
      "Target: Namiesto toho, aby si hovoril o sebe, hovor o Bohu a o Božom Prorokovi (mier s ním).\n",
      "Prediction: Namiesto toho, aby hovoril o sebe, hovoriť o Alahovi a svätého proroka ().\n"
     ]
    },
    {
     "name": "stderr",
     "output_type": "stream",
     "text": [
      "Evaluating:  25%|██▍       | 124/500 [00:09<00:27, 13.80it/s]"
     ]
    },
    {
     "name": "stdout",
     "output_type": "stream",
     "text": [
      "Source: He comes as the True Parent to conclude God's providence in the Completed Testament Age.\n",
      "Target: Prichádza ako Pravý rodič, aby zavŕšil Božiu prozreteľnosť vo veku Splneného zákona.\n",
      "Prediction: Prichádza ako pravý rodič, aby uzavrel Božiu prozreteľnosť v dokončenej dobe Zákona.\n",
      "Source: Even today men will choose to follow man-made traditions rather than God's Word.\n",
      "Target: Dnes, rovnako ako kedysi, sú ľudia naklonení prijímať ľudské názory a tradície namiesto Božieho slova.\n",
      "Prediction: Dokonca aj dnes sa ľudia rozhodnú viac sa riadiť ľudskými tradíciami než Božím Slovom.\n",
      "Source: However,Christ says,” When He the spirit of truth comes, He shall lead you into ALL truth.\n",
      "Target: Ježiš, ktorý povedal: „Keď príde Duch pravdy, uvedie vás do plnej pravdy.\"\n",
      "Prediction: Avšak,Kristus hovorí, a keď príde Duch pravdy, On vás povedie do všetkej pravdy.\n"
     ]
    },
    {
     "name": "stderr",
     "output_type": "stream",
     "text": [
      "Evaluating:  25%|██▌       | 126/500 [00:09<00:27, 13.56it/s]"
     ]
    },
    {
     "name": "stdout",
     "output_type": "stream",
     "text": [
      "Source: Let us look above all at Jesus: how much patience He had to have during the three years of His public life!\n",
      "Target: Hľaďme predovšetkým na Ježiša: koľkú trpezlivosť musel mať počas troch rokov svojho verejného života!\n",
      "Prediction: Pozrime sa predovšetkým na Ježiša: akú trpezlivosť musel mať počas troch rokov svojho verejného života!\n",
      "Source: Here I sit and there you are lying; we have so much to say, and we shall never say it.”\n",
      "Target: Ešte tu sedím, a ty ležíš, musíme si toho toľko povedať, nikdy však nebudeme môcť.\n",
      "Prediction: Tu sedím a tam ležíte, máme toľko čo povedať, a nikdy to nepovieme.\n",
      "Source: “Yet when the Spirit of Truth comes, he’ll guide you into all truth.\n",
      "Target: A znova: Keď príde on, uvedie vás do plnej pravdy.\n",
      "Prediction: Aj keď príde Duch pravdy, povedie vás do každej pravdy.\n"
     ]
    },
    {
     "name": "stderr",
     "output_type": "stream",
     "text": [
      "Evaluating:  26%|██▌       | 128/500 [00:09<00:27, 13.47it/s]"
     ]
    },
    {
     "name": "stdout",
     "output_type": "stream",
     "text": [
      "Source: 46 David found favor in God’s sight, and asked that he might find a dwelling place for the God of Jacob.\n",
      "Target: 46 Dávid našiel milosť u Boha a žiadal, aby našiel Jákobov­mu Bohu príbytok.\n",
      "Prediction: 46 Dávid našiel priazeň v očiach Boha a prosil ho, aby našiel miesto bývania pre Boha Jakobovho.\n",
      "Source: Wherever respect for life and human dignity are lacking, there is need of God’s merciful love, in whose light we see the inexpressible value of every human being.\n",
      "Target: Kde je nedostatok úcty k životu a ľudskej dôstojnosti, potrebná je milosrdná láska Boha, v svetle ktorej sa odhaľuje neopísateľná hodnota každej ľudskej bytosti.\n",
      "Prediction: Kdekoľvek chýba úcta k životu a ľudskej dôstojnosti, tam je potreba Boha milosrdnú lásku, v ktorej svetle vidíme neúprosnú hodnotu každej ľudskej bytosti.\n"
     ]
    },
    {
     "name": "stderr",
     "output_type": "stream",
     "text": [
      "Evaluating:  26%|██▋       | 132/500 [00:10<00:28, 12.96it/s]"
     ]
    },
    {
     "name": "stdout",
     "output_type": "stream",
     "text": [
      "Source: 8:18I am he who testifies about myself, and the Father who sent me testifies about me.\"\n",
      "Target: Jn 8:18 - Ja sám vydávam svedectvo o sebe a vydáva o mne svedectvo aj Otec, ktorý ma poslal.“\n",
      "Prediction: 8:18 Ja som ten, kto svedčí o sebe, a Otec, ktorý ma poslal svedčí o mne. \"\n",
      "Source: “The other things on Earth are created to for man’s use, to help him reach the end for which he was created.\n",
      "Target: Ostatné veci na povrchu zeme sú stvorené pre človeka, aby mu pomáhali dosiahnuť cieľ, pre ktorý je stvorený.\n",
      "Prediction: Ostatné veci na Zemi sú vytvorené pre použitie človeka, aby mu pomohol dosiahnuť koniec, pre ktorý bol vytvorený.\n",
      "Source: The dream is certain, and the interpretation thereof sure.\"\n",
      "Target: Sen je pravdivý a jeho výklad spoľahlivý.“\n",
      "Prediction: Sen je istý, a jeho výklad je istý. \"\n",
      "Source: This is indeed a birder’s paradise.\n",
      "Target: Je to skutočne raj vtákov.\n",
      "Prediction: Toto je naozaj raj vtákov.\n"
     ]
    },
    {
     "name": "stderr",
     "output_type": "stream",
     "text": [
      "Evaluating:  27%|██▋       | 136/500 [00:10<00:24, 14.67it/s]"
     ]
    },
    {
     "name": "stdout",
     "output_type": "stream",
     "text": [
      "Source: “Books are mirrors: you only see in them what you already have inside of you.”\n",
      "Target: “Knihy sú ako zrkadlo, vidíš v nich len to, čo už v sebe máš.”\n",
      "Prediction: Knihy sú zrkadlá: vidíte v nich len to, čo už máte vo vnútri vás.\n",
      "Source: “Books are mirrors: you only see in them what you already have inside of you.”\n",
      "Target: \"Knihy sú ako zrkadlo, vidíš v nich len to, čo už v sebe máš.\"\n",
      "Prediction: Knihy sú zrkadlá: vidíte v nich len to, čo už máte vo vnútri vás.\n",
      "Source: The self-realized souls can impart knowledge unto you because he has seen the truth.”\n",
      "Target: Sebarealizované duše ti môžu dať poznanie, lebo ony uzreli pravdu.“\n",
      "Prediction: Sebarealizované duše vám môžu odovzdať poznanie, pretože videl pravdu.\n",
      "Source: Where there is darkness, God's light shines forth.\n",
      "Target: Žijúcim v temnom kraji, svetlo Božie žiariť má.\n",
      "Prediction: Tam, kde je tma, svieti Božie svetlo.\n"
     ]
    },
    {
     "name": "stderr",
     "output_type": "stream",
     "text": [
      "Evaluating:  28%|██▊       | 140/500 [00:10<00:23, 15.46it/s]"
     ]
    },
    {
     "name": "stdout",
     "output_type": "stream",
     "text": [
      "Source: “If you believe, you will see God’s glory!”\n",
      "Target: \"Ak budeš veriť, uzrieš slávu Božiu!\"\n",
      "Prediction: Ak veríte, uvidíte slávu Boha!\n",
      "Source: 'Because of what you have done the heavens have become a part of man's world.\n",
      "Target: Vďaka tomu, čo ste urobili, sa nebesá stali časťou ľudského sveta.\"\n",
      "Prediction: Pre to, čo si urobil, sa nebesia stali súčasťou ľudského sveta.\n",
      "Source: Whatever is in the heavens and on earth, doth declare His Praises and Glory:\n",
      "Target: na nebi i na zemi: na zemi tým, že ťa rozmnoží v milosti a vo svojich čnostiach\n",
      "Prediction: Čokoľvek je v nebesiach a na zemi, čiňte Jeho chválu a slávu.\n",
      "Source: She heard God’s voice and sought God’s presence.\n",
      "Target: Počúvala Boží hlas a hľadala Božiu vôľu.\n",
      "Prediction: Počula hlas Boha a hľadala prítomnosť Boha.\n"
     ]
    },
    {
     "name": "stderr",
     "output_type": "stream",
     "text": [
      "Evaluating:  29%|██▉       | 145/500 [00:10<00:20, 17.27it/s]"
     ]
    },
    {
     "name": "stdout",
     "output_type": "stream",
     "text": [
      "Source: But what about in God's eyes?\n",
      "Target: Ale čo v očiach Božích?\n",
      "Prediction: Ale ako je to v Božích očiach?\n",
      "Source: (1) 17.64% for the European Research Council;\n",
      "Target: (1) 17,64 % na Európsku radu pre výskum;\n",
      "Prediction: (1) 17,64% pre Európsku radu pre výskum;\n",
      "Source: It is the state of God’s will being done on Earth as it is in Heaven.\n",
      "Target: Spôsobí, že sa na zemi bude diať Božia vôľa, tak ako sa deje v nebi.\n",
      "Prediction: Je to Boží stav, ktorý sa bude diať na Zemi tak ako v nebi.\n",
      "Source: the earth's surface and the life which peoples it.\n",
      "Target: Pozemský život a žitie, ktoré ju vystihuje.\n",
      "Prediction: zemský povrch a život, ktorý je národom.\n"
     ]
    },
    {
     "name": "stderr",
     "output_type": "stream",
     "text": [
      "Evaluating:  30%|██▉       | 148/500 [00:10<00:18, 19.22it/s]"
     ]
    },
    {
     "name": "stdout",
     "output_type": "stream",
     "text": [
      "Source: God’s judgment was swift upon him.\n",
      "Target: Preto bol Boží súd nad nimi veľmi rýchly.\n",
      "Prediction: Boh ho rýchlo odsúdil.\n",
      "Source: There is no greater obstacle to God than time.”\n",
      "Target: Na ceste k Bohu niet väčšej prekážky, ako je čas.“\n",
      "Prediction: Neexistuje väčšia prekážka pre Boha ako čas.\n",
      "Source: Indeed, Jesus “has his priesthood without any successors.”\n",
      "Target: Áno, Ježiš „má svoje kňazstvo bez akýchkoľvek nástupcov“.\n",
      "Prediction: Skutočne, Ježiš má svoje kňazstvo bez akýchkoľvek nástupcov.\n",
      "Source: Who could escape from God’s hands?\n",
      "Target: Ale kto môže utiecť pred Božou rukou?\n",
      "Prediction: Kto by mohol uniknúť z rúk Boha?\n",
      "Source: for all endurance and patience with joy.\"\n",
      "Target: ku všetkej trpezlivosti a zhovievavosti s radosťou“,\n",
      "Prediction: pre všetku vytrvalosť a trpezlivosť s radosťou.\"\n"
     ]
    },
    {
     "name": "stderr",
     "output_type": "stream",
     "text": [
      "Evaluating:  31%|███       | 153/500 [00:11<00:23, 14.60it/s]"
     ]
    },
    {
     "name": "stdout",
     "output_type": "stream",
     "text": [
      "Source: 2592 The prayer of Abraham and Jacob is presented as a battle of faith marked by trust in God's faithfulness and by certitude in the victory promised to perseverance.\n",
      "Target: 2592 Abrahámova a Jakubova modlitba sa javí ako zápas viery, ktorá dôveruje v Božiu vernosť a je si istá víťazstvom, ktoré je prisľúbené za vytrvalosť.\n",
      "Prediction: 2592 Modlitba Abraháma a Jakoba sa predkladá ako bitka viery vyznamenaná dôverou v Božiu vernosť a dôverou vo víťazstvo sľúbené vytrvalosti.\n",
      "Source: How many believers, even in our own day, are tested by God’s silence when they would rather hear his consoling voice!\n",
      "Target: Koľkí veriaci sú aj v našej dobe skúšaní Božím mlčaním, zatiaľ čo by chceli počuť jeho utešujúci hlas!\n",
      "Prediction: Koľko veriacich, dokonca aj v našich dňoch, je skúšaných Bohom tichom, keď by radšej počuli jeho utešujúci hlas!\n",
      "Source: Be compassionate, understanding, forgiving and merciful.\n",
      "Target: Ohlasujte Boha dobrotivého, milosrdného, odpúšťajúceho, milujúceho.\n",
      "Prediction: Buďte súcitní, chápaví, odpúšťajúci a milosrdný.\n"
     ]
    },
    {
     "name": "stderr",
     "output_type": "stream",
     "text": [
      "Evaluating:  31%|███▏      | 157/500 [00:11<00:21, 16.16it/s]"
     ]
    },
    {
     "name": "stdout",
     "output_type": "stream",
     "text": [
      "Source: “Then we could help 120,000 people in southern Lebanon.\n",
      "Target: \"Potom by sme mohli pomôcť 120 000 ľuďom v južnom Libanone.\n",
      "Prediction: Potom by sme mohli pomôcť 120 000 ľuďom v južnom Libanone.\n",
      "Source: The earth was corrupt in God’s sight and filled with violence.\n",
      "Target: Zem sa pred Bohom skazila a naplnila sa násilím.\n",
      "Prediction: Zem bola skazená v očiach Boha a naplnená násilím.\n",
      "Source: At God’s will the Son is what and whatsoever He is.\n",
      "Target: Boh je Pán všetkého, čo je a bude.\n",
      "Prediction: V Božej vôli je Syn tým, čím a čím je.\n",
      "Source: The glory of the martyrs shines upon you.”\n",
      "Target: Sláva mučeníkov žiari nad tebou.»\n",
      "Prediction: Sláva mučeníkov žiari na vás.\n"
     ]
    },
    {
     "name": "stderr",
     "output_type": "stream",
     "text": [
      "Evaluating:  32%|███▏      | 159/500 [00:11<00:22, 15.04it/s]"
     ]
    },
    {
     "name": "stdout",
     "output_type": "stream",
     "text": [
      "Source: But there is only One Who can meet you there, and that's God.\n",
      "Target: Ale je len Jeden, ktorý vás tam môže stretnúť a to je Boh.\n",
      "Prediction: Ale je len jeden, kto sa tam s vami môže stretnúť, a to je Boh.\n",
      "Source: Therefore, make the Sign of the Cross with respect, as though it were the last you make in your life.”\n",
      "Target: Rob preto znamenie kríža s úctou, akoby malo byť posledné v tvojom živote.\"\n",
      "Prediction: Preto, aby znamenie kríža s rešpektom, ako by to bolo posledné, čo urobíte vo svojom živote.\n",
      "Source: 12:34When Jesus saw that he answered wisely, he said to him, \"You are not far from the kingdom of God.\"\n",
      "Target: 12.34 Keď Ježiš videl, že odpovedal rozumne, povedal mu: “Nie si ďaleko od Božieho kráľovstva.”\n",
      "Prediction: 12:34Keď Ježiš videl, že odpovedal múdro, povedal mu:, \"Nie ste ďaleko od kráľovstva Božieho.\"\n"
     ]
    },
    {
     "name": "stderr",
     "output_type": "stream",
     "text": [
      "Evaluating:  33%|███▎      | 163/500 [00:12<00:23, 14.44it/s]"
     ]
    },
    {
     "name": "stdout",
     "output_type": "stream",
     "text": [
      "Source: He who has conquered doubt and fear has conquered failure.”\n",
      "Target: Ten, kto premohol pochybnosti a strach, premohol neúspech.\n",
      "Prediction: Ten, kto zvíťazil nad pochybnosťami a strachom, zvíťazil nad neúspechom.\n",
      "Source: Pharaoh had Joseph brought before him to interpret his dream.\n",
      "Target: A Pharaoh Joseph, jeho sen s ním hovoril a bol schopný zabrániť hladovanie).\n",
      "Prediction: Faraón predviedol Jozefa, aby mu vysvetlil svoj sen.\n",
      "Source: (c) The \"One Rejected\" is the Sun of our system.\n",
      "Target: (c) Ten “Jeden Odmietnutý” je Slnkom nášho systému.\n",
      "Prediction: c) \"Jeden odmietnutý\" je Slnko nášho systému.\n",
      "Source: \"So you don't accept God's moral code to do what is righteous?\"\n",
      "Target: „Takže vy neakceptujete Boží morálny zákonník, ktorý nám prikazuje robiť to, čo je spravodlivé?“\n",
      "Prediction: \"Takže neprijímate Boží morálny kódex, aby ste robili to, čo je spravodlivé?\"\n"
     ]
    },
    {
     "name": "stderr",
     "output_type": "stream",
     "text": [
      "Evaluating:  33%|███▎      | 167/500 [00:12<00:23, 14.39it/s]"
     ]
    },
    {
     "name": "stdout",
     "output_type": "stream",
     "text": [
      "Source: Now, if God makes a promise, God's got to keep His promise.\n",
      "Target: Ak Boh niečo sľubuje, určite dané slovo dodrží.\n",
      "Prediction: Teraz, ak Boh dá sľub, Boh musí dodržať svoj sľub.\n",
      "Source: When some of those standing there heard this, they said, ‘He’s calling for Elijah.’\n",
      "Target: Keď to počuli niektorí z tých, čo tam stáli, vraveli: \"Volá Eliáša.\"\n",
      "Prediction: Keď to počuli niektorí z tých, ktorí tam stáli, povedali: \"On volá po Eliášovi.\"\n",
      "Source: Was it by God’s rhema that the heavens existed or the earth was formed?\n",
      "Target: Či bol tam prorok, keď Boh stvoril nebo a zem?\n",
      "Prediction: Bolo to z Božej rémy, že nebo existovalo alebo že zem bola vytvorená?\n"
     ]
    },
    {
     "name": "stderr",
     "output_type": "stream",
     "text": [
      "Evaluating:  34%|███▍      | 171/500 [00:12<00:22, 14.92it/s]"
     ]
    },
    {
     "name": "stdout",
     "output_type": "stream",
     "text": [
      "Source: The Lord of Heaven’s armies says so, and he means what he says.\n",
      "Target: Toto hovorí Kráľ Božieho kráľovstva – teda musí vedieť, čo hovorí.\n",
      "Prediction: Pán nebies armády to hovorí, a on myslí to, čo hovorí.\n",
      "Source: Heaven and earth will pass away, but God’s word will stand.\n",
      "Target: Zaujali ste postoj na Božom Slove a nebesia a zem pominú, ale Božie Slovo ostáva na veky!\n",
      "Prediction: Nebo a zem pominú, ale Božie slovo bude stáť.\n",
      "Source: “I hope that next time the TMO will really do his job.\n",
      "Target: „Dúfam, že nabudúce TMO bude skutočne robiť svoju prácu.\n",
      "Prediction: Dúfam, že nabudúce bude TMO naozaj robiť svoju prácu.\n",
      "Source: what will i have done if not for Mr tom jerry who i will always see as\n",
      "Target: čo budem musieť urobiť, ak nie je pre pána Tom Jerry, ktorý budem vždy vidieť, ako\n",
      "Prediction: Čo budem robiť, ak nie pre pána Toma Jerryho, ktorého vždy uvidím ako\n"
     ]
    },
    {
     "name": "stderr",
     "output_type": "stream",
     "text": [
      "Evaluating:  35%|███▌      | 175/500 [00:12<00:19, 16.68it/s]"
     ]
    },
    {
     "name": "stdout",
     "output_type": "stream",
     "text": [
      "Source: 'In him was life, and the life was the light of men.\"\n",
      "Target: „V ňom bol život a život bol svetlom ľudí“.\n",
      "Prediction: \"V ňom bol život, a život bol svetlom ľudí.\"\n",
      "Source: To take up your cross is to put God’s will above your own.\n",
      "Target: Vziať svoj kríž znamená povýšiť Božiu vôľu nad svoju.\n",
      "Prediction: Ak chcete vziať svoj kríž je dať Boha nad svoje vlastné.\n",
      "Source: What operation, I am only 38?\n",
      "Target: Aká operácia, som len 38?\n",
      "Prediction: Aká operácia, mám len 38?\n",
      "Source: Moses told them “that’s the bread the Lord has given you to eat.”\n",
      "Target: “Vtedy im Mojžiš povedal: „To je chlieb, ktorý vám dáva Pán jesť.\n",
      "Prediction: Mojžiš im povedal, že chlieb vám dal Pán jesť.\n"
     ]
    },
    {
     "name": "stderr",
     "output_type": "stream",
     "text": [
      "Evaluating:  35%|███▌      | 177/500 [00:12<00:21, 15.30it/s]"
     ]
    },
    {
     "name": "stdout",
     "output_type": "stream",
     "text": [
      "Source: And when Ibrahim built the foundations of the House with Isma'il: 'Our Lord, accept this from us!\n",
      "Target: V súrat al-Bakara sa Abrahám modlil: \"Pane náš, učiň nás Tebe oddanými.\"\n",
      "Prediction: A keď Ibrahim postavil základy Parlamentu s Isma'ilom: \"Náš Pane, prijmi to od nás!\n",
      "Source: Another 25 people, but only for you!” ... it is no longer used.\n",
      "Target: Ďalších 25 ľudí, ale len pre vás!“ ... už sa nepoužíva.\n",
      "Prediction: Ďalších 25 ľudí, ale len pre vás!\n",
      "Source: The Corinthian believers were better able to communicate the Gospel and God’s Word as a result of the gift of tongues.\n",
      "Target: Korintskí veriaci boli schopní lepšie komunikovať evanjelium a Božie slovo vďaka daru jazykov.\n",
      "Prediction: Korintskí veriaci lepšie komunikovali evanjelium a Božie Slovo v dôsledku daru jazykov.\n"
     ]
    },
    {
     "name": "stderr",
     "output_type": "stream",
     "text": [
      "Evaluating:  36%|███▌      | 181/500 [00:13<00:20, 15.63it/s]"
     ]
    },
    {
     "name": "stdout",
     "output_type": "stream",
     "text": [
      "Source: And why not; we know that good jobs always bring new clients.\n",
      "Target: A prečo nie; vieme, že dobré pracovné miesta vždy priviesť nových klientov.\n",
      "Prediction: A prečo nie, vieme, že dobré pracovné miesta vždy prinesú nových klientov.\n",
      "Source: [19:46] He said, \"Have you forsaken my gods, O Abraham?\n",
      "Target: Preto povedal, ‘Ó, Ibrahím, je v tvojej hrudi pomiešané niečo iné než to?’\n",
      "Prediction: [19:46] Povedal: \"Opustil si mojich bohov, Abrahám?\n",
      "Source: We should follow their example.\"\n",
      "Target: Myslím, že by sme mali nasledovať ich príklad.“\n",
      "Prediction: Mali by sme nasledovať ich príklad.\"\n",
      "Source: What do you have to endure in Moscow all these meetings, speeches.\n",
      "Target: Čo musíte vydržať v Moskve všetky tieto stretnutia, prejavy.\n",
      "Prediction: Čo musíte vydržať v Moskve, všetky tieto stretnutia, prejavy.\n"
     ]
    },
    {
     "name": "stderr",
     "output_type": "stream",
     "text": [
      "Evaluating:  37%|███▋      | 184/500 [00:13<00:18, 16.96it/s]"
     ]
    },
    {
     "name": "stdout",
     "output_type": "stream",
     "text": [
      "Source: lead him wherever it wants.”\n",
      "Target: vedie ho, kamkoľvek chce.”\n",
      "Prediction: Veď ho kam len chce.\n",
      "Source: It’s time to check whether room 237 still scares you.\n",
      "Target: Najvyšší čas presvedčiť sa, či vás izba 237 stále desí.\n",
      "Prediction: Je načase skontrolovať, či vás izba 237 stále desí.\n",
      "Source: Keep all the roses, I'm not dead\n",
      "Target: Ponechaj si všetky ruže, ja nie som mŕtva\n",
      "Prediction: Nechaj si všetky ruže, nie som mŕtvy.\n",
      "Source: But God’s Word is sufficient.\n",
      "Target: Božie slovo je dostačujúca.\n",
      "Prediction: Ale Božie Slovo je dostatočné.\n"
     ]
    },
    {
     "name": "stderr",
     "output_type": "stream",
     "text": [
      "Evaluating:  38%|███▊      | 190/500 [00:13<00:16, 18.25it/s]"
     ]
    },
    {
     "name": "stdout",
     "output_type": "stream",
     "text": [
      "Source: “And your Allah is one Allah! there is no god but He; He is the Beneficent, the Merciful.”\n",
      "Target: {Váš Boh je Boh jediný a niet božstva okrem Neho, Milosrdného, Zľutovného.\n",
      "Prediction: A tvoj Boh je jeden Alah! niet Boha okrem On; On je Beneficent, Milosrdný.\n",
      "Source: can be witnesses to God’s faithful love.\n",
      "Target: vernosťou môžu byť svedkami vernej Božej lásky.\n",
      "Prediction: môžu byť svedkami Božej vernej lásky.\n",
      "Source: Sometimes, it even seems that only the United States need NATO.\n",
      "Target: Niekedy sa dokonca zdá, že iba Spojené štáty potrebujú NATO.\n",
      "Prediction: Niekedy sa dokonca zdá, že NATO potrebujú len Spojené štáty.\n",
      "Source: Whoever’s sins you forgive they are forgiven.\n",
      "Target: Ktorýmkoľvek odpustíte hriechy, odpúšťajú sa im.\n",
      "Prediction: Ktokoľvek zhreší, odpustí ti, je mu odpustené.\n",
      "Source: 400 vehicles - always professionally maintained\n",
      "Target: 400 vozidiel – vždy profesionálne udržiavané\n",
      "Prediction: 400 vozidiel - vždy profesionálne udržiavaných\n"
     ]
    },
    {
     "name": "stderr",
     "output_type": "stream",
     "text": [
      "Evaluating:  39%|███▊      | 193/500 [00:13<00:16, 18.16it/s]"
     ]
    },
    {
     "name": "stdout",
     "output_type": "stream",
     "text": [
      "Source: They are hoping for God’s return.\n",
      "Target: Čakajú na návrat boha\n",
      "Prediction: Dúfajú, že Boh sa vráti.\n",
      "Source: Jesus tells them, “whoever wishes to be great among you must be your servant.”\n",
      "Target: Ježiš nám v evanjeliu dáva návod: \"Kto sa bude chcieť stať medzi vami veľkým, bude vaším služobníkom.\n",
      "Prediction: Ježiš im hovorí: \"Každý, kto chce byť veľký medzi vami, musí byť vaším služobníkom.\n",
      "Source: Those to whom We gave the Scripture before it believe in it.\n",
      "Target: sme dali Knihu (predtým), v ňu (Knihu - Korán) veria.\n",
      "Prediction: Tí, ktorým sme dali Písmo predtým, ako sme vň verili.\n"
     ]
    },
    {
     "name": "stderr",
     "output_type": "stream",
     "text": [
      "Evaluating:  39%|███▉      | 197/500 [00:14<00:19, 15.57it/s]"
     ]
    },
    {
     "name": "stdout",
     "output_type": "stream",
     "text": [
      "Source: For, “he who loves the danger, shall perish in it.”\n",
      "Target: lebo kto miluje nebezpečenstvo, zahynie v ňom.\n",
      "Prediction: Lebo ten, kto miluje nebezpečenstvo, v ňom zahynie.\n",
      "Source: * He said, ‘Oh no, father Abraham, but if someone from the dead goes to them, they will repent.’\n",
      "Target: A on povedal: 'Nie, otče Abraháme; ale keby k nim išiel niekto z mŕtvych, budú robiť pokánie. '\n",
      "Prediction: * Povedal: \"Oh nie, otec Abrahám, ale ak niekto z mŕtvych ide k nim, budú sa kajať.\n",
      "Source: 20Seeing their faith, he said to him, “Man, your sins are forgiven you.”\n",
      "Target: 20Keď videl ich vieru, povedal: \"Človeče, odpúšťajú sa ti hriechy.\"\n",
      "Prediction: 20Vidieť ich vieru, povedal mu:, Muž, vaše hriechy sú vám odpustené.\n"
     ]
    },
    {
     "name": "stderr",
     "output_type": "stream",
     "text": [
      "Evaluating:  40%|███▉      | 199/500 [00:14<00:19, 15.12it/s]"
     ]
    },
    {
     "name": "stdout",
     "output_type": "stream",
     "text": [
      "Source: This is God’s way, the way of humility.\n",
      "Target: Toto je Božia cesta, cesta pokory.\n",
      "Prediction: Toto je Božia cesta, cesta pokory.\n",
      "Source: And whoso disobeys me, - still You are indeed Oft-Forgiving, Most Merciful.\n",
      "Target: Ten, kto ma nasledoval, ten patrí ku mne a voči tomu, kto ma neposlúchol, Ty si Ten odpúšťajúci a milostivý“}\n",
      "Prediction: A kto ma tak neposlúchol, - stále si naozaj veľmi milosrdný.\n",
      "Source: 2 “Do you think this is right, that you said, ‘My righteousness is more than El’s?\n",
      "Target: 2 Vari to považuješ za správne, keď hovoríš: Moja spravodlivosť je väčšia ako Božia?\n",
      "Prediction: 2 A myslíte si, že je to správne, že ste povedali: \"Moja spravodlivosť je viac ako El?\"\n"
     ]
    },
    {
     "name": "stderr",
     "output_type": "stream",
     "text": [
      "Evaluating:  41%|████      | 203/500 [00:14<00:21, 13.74it/s]"
     ]
    },
    {
     "name": "stdout",
     "output_type": "stream",
     "text": [
      "Source: She said, “No, they always played backgammon together.”\n",
      "Target: Povedala: “Nie, vždy hrávali spoločne backgammon.”\n",
      "Prediction: Povedala: \"Nie, vždy hrali backgammon spolu.\n",
      "Source: The heavens are God’s throne, the earth is His footstool.\n",
      "Target: Celé nebesá sú len trónom pre Boha, celá zem podnožou jeho nôh.\n",
      "Prediction: Nebesia sú trónom Boha, zem je podnožou jeho nôh.\n",
      "Source: Lastly, Fowler would ask: what can't fail in the next six months?\n",
      "Target: Nakoniec by sa Fowler opýtal: čo nemôže v nasledujúcich šiestich mesiacoch zlyhať?\n",
      "Prediction: A nakoniec, Fowler by sa spýtal: čo nemôže zlyhať v nasledujúcich šiestich mesiacoch?\n"
     ]
    },
    {
     "name": "stderr",
     "output_type": "stream",
     "text": [
      "Evaluating:  41%|████▏     | 207/500 [00:14<00:20, 14.14it/s]"
     ]
    },
    {
     "name": "stdout",
     "output_type": "stream",
     "text": [
      "Source: You shall wait seven days until I come to you and show you that you should do.’\n",
      "Target: Sedem dní budeš čakať, kým prídem k tebe a oznámim ti, čo máš robiť.“\n",
      "Prediction: Budete čakať sedem dní, kým prídem k vám a ukážem vám, že by ste mali robiť.\n",
      "Source: Is this God's punishment for something we have done?\n",
      "Target: Je toto snáď boží trest za niečo čo som vykonala?\n",
      "Prediction: Je to Boží trest za niečo, čo sme urobili?\n",
      "Source: Show that you are a real leader and not a false prophet.”\n",
      "Target: Ukážte im, že ste skutočný vodca a nie falošný prorok.\n",
      "Prediction: Show that you are a real leader and not a false prorok.\n",
      "Source: And what a difference between man's sin and God's forgiveness!\n",
      "Target: A aký rozdiel je medzi ľudským hriechom a Božím odpustením!\n",
      "Prediction: A aký je rozdiel medzi ľudským hriechom a Božím odpúšťaním!\n"
     ]
    },
    {
     "name": "stderr",
     "output_type": "stream",
     "text": [
      "Evaluating:  42%|████▏     | 209/500 [00:14<00:19, 14.64it/s]"
     ]
    },
    {
     "name": "stdout",
     "output_type": "stream",
     "text": [
      "Source: They thus wish to alter GOD's words.\n",
      "Target: Chcú zmeniť slová Božie.\n",
      "Prediction: Preto chcú zmeniť Božie slová.\n",
      "Source: “Glory to God in the Highest, And on earth peace, God’s good will toward men!”\n",
      "Target: \"Sláva na výsostiach Bohu a na zemi pokoj ľuďom dobrej vôle!\"\n",
      "Prediction: Sláva Bohu v najvyššej, a na zemi pokoj, Boh je dobrou vôľou voči ľuďom!\n",
      "Source: Please consult a doctor under such circumstances (31).\n",
      "Target: Prosím, poraďte sa s lekárom za týchto okolností (31).\n",
      "Prediction: Za takýchto okolností (31) sa poraďte s lekárom.\n"
     ]
    },
    {
     "name": "stderr",
     "output_type": "stream",
     "text": [
      "Evaluating:  43%|████▎     | 213/500 [00:15<00:18, 15.49it/s]"
     ]
    },
    {
     "name": "stdout",
     "output_type": "stream",
     "text": [
      "Source: How can we know what God’s will is?\n",
      "Target: Ako môžeme zistiť, že čo je Božia vôľa?\n",
      "Prediction: Ako môžeme vedieť, aká je Božia vôľa?\n",
      "Source: Worship is a response to who God is and what he’s done.\n",
      "Target: Uctievanie môže byť jedine našou odozvou na to, kto Boh je a čo On urobil.\n",
      "Prediction: Uctievanie je odpoveďou na to, kto je Boh a čo robí.\n",
      "Source: Moses had been God’s spokesman before Pharaoh.\n",
      "Target: Mojžiš bol Boží reprezentant pred faraonom.\n",
      "Prediction: Mojžiš bol hovorcom Boha pred faraónom.\n"
     ]
    },
    {
     "name": "stderr",
     "output_type": "stream",
     "text": [
      "Evaluating:  43%|████▎     | 217/500 [00:15<00:18, 15.63it/s]"
     ]
    },
    {
     "name": "stdout",
     "output_type": "stream",
     "text": [
      "Source: And he said to me, “Arise, go out into the valley, and there I will speak with you.” ...\n",
      "Target: I riekol mi: Vstaň, vyjdi do údolia, a tam budem hovoriť s tebou.\n",
      "Prediction: A on mi povedal: \"Vstaň, vyjdi do údolia, a tam budem hovoriť s tebou.\n",
      "Source: But they said, “No!\n",
      "Target: Oni však odpovedali: \"Nie!\n",
      "Prediction: Ale oni povedali, nie!\n",
      "Source: The accomplishment of God’s Will means the realization of the kingdom of heaven on earth.\n",
      "Target: Boží účel stvorenia sa mal naplniť vytvorením Nebeského kráľovstva na zemi.\n",
      "Prediction: Dosiahnutie Božej vôle znamená uskutočnenie nebeského kráľovstva na zemi.\n",
      "Source: She told them it was God’s punishment upon her but God was not to blame.\n",
      "Target: Oni hovorili, že trpí pre svoje hriechy, z Božieho trestu, ale Boh im nedal za pravdu.\n",
      "Prediction: Povedala im, že je to Boh trest na ňu, ale Boh nebol na vine.\n"
     ]
    },
    {
     "name": "stderr",
     "output_type": "stream",
     "text": [
      "Evaluating:  44%|████▍     | 219/500 [00:15<00:18, 15.03it/s]"
     ]
    },
    {
     "name": "stdout",
     "output_type": "stream",
     "text": [
      "Source: Receive God’s salvation with thanks.\n",
      "Target: Prijmite túto Božiu lásku s vďačnosťou.\n",
      "Prediction: Prijmite Boha spásu s vďakou.\n",
      "Source: Paul said, \"Oh, He's the God who made the Heaven and the earth and everything in them.\"\n",
      "Target: 10 A Áron mu povedal: Áno, on je oným Veľkým Duchom a on stvoril všetky veci ako na nebi, tak na zemi.\n",
      "Prediction: Pavol povedal: \"Oh, on je Boh, ktorý stvoril nebo a zem a všetko v nich.\"\n",
      "Source: When the terrible judge will judge his people’.\n",
      "Target: STRAŠNÝ Sudca bude súdiť ľud.“\n",
      "Prediction: Keď hrozný sudca bude súdiť svoj ľud.\n"
     ]
    },
    {
     "name": "stderr",
     "output_type": "stream",
     "text": [
      "Evaluating:  45%|████▍     | 223/500 [00:15<00:17, 16.19it/s]"
     ]
    },
    {
     "name": "stdout",
     "output_type": "stream",
     "text": [
      "Source: Moses tells them \"It is the bread which the Lord has given you to eat.\"\n",
      "Target: Vtedy im Mojžiš povedal: „To je chlieb, ktorý vám dáva Pán jesť.\n",
      "Prediction: Mojžiš im hovorí: Je to chlieb, ktorý ti dal Pán, aby si jedol.\n",
      "Source: 8 Better is a little with righteousness,\n",
      "Target: 8 Lepšie (mať) málo spravodlivým (spôsobom),\n",
      "Prediction: 8 Lepší je trochu v spravedlivosti,\n",
      "Source: It will be God's own son, and his kingdom will never end.\n",
      "Target: Syn, meno Ježiš, jeho kráľovstvu nebude konca.\n",
      "Prediction: Bude to Boží vlastný syn a jeho kráľovstvo sa nikdy neskončí.\n",
      "Source: M. QUEEN - 14% believe that such films are not needed.\n",
      "Target: M. QUEEN - 14% verí, že takéto filmy nie sú potrebné.\n",
      "Prediction: M. QUEEN - 14% verí, že takéto filmy nie sú potrebné.\n"
     ]
    },
    {
     "name": "stderr",
     "output_type": "stream",
     "text": [
      "Evaluating:  45%|████▌     | 227/500 [00:16<00:18, 14.81it/s]"
     ]
    },
    {
     "name": "stdout",
     "output_type": "stream",
     "text": [
      "Source: Have fun – In western culture we all seem to take dating very seriously.\n",
      "Target: Bavte sa - V západnej kultúre sme všetci Zdá sa, že datovania veľmi vážne.\n",
      "Prediction: Bavte sa a v západnej kultúre sa zdá, že všetci berieme randenie veľmi vážne.\n",
      "Source: Uruguay is already well known for all the things that are legal there.\n",
      "Target: Uruguaj je už dobre známy pre všetky veci, ktoré sú tam legálne.\n",
      "Prediction: Uruguaj je už dobre známy pre všetky veci, ktoré sú legálne tam.\n",
      "Source: He said to me, “Go in and see the evil abominations they are practicing here.”\n",
      "Target: Povedal mi: „Vojdi a pozri sa na strašné ohavnosti, ktoré tu páchajú.“\n",
      "Prediction: Povedal mi: \"Choďte a uvidíte zlé ohavnosti, ktoré praktizujú tu.\n",
      "Source: God is great-be thankful.\n",
      "Target: Boha vždy náramne vďačného,\n",
      "Prediction: Boh je veľmi vďačný.\n"
     ]
    },
    {
     "name": "stderr",
     "output_type": "stream",
     "text": [
      "Evaluating:  46%|████▌     | 230/500 [00:16<00:15, 16.88it/s]"
     ]
    },
    {
     "name": "stdout",
     "output_type": "stream",
     "text": [
      "Source: How to become Allah’s Friend?\n",
      "Target: Ako sa teda stanem Božím priateľom?\n",
      "Prediction: Ako sa stať Alahom priateľom?\n",
      "Source: God’s purpose was that His name should be made known in all the earth.\n",
      "Target: Naším cieľom by malo byť, aby Božie meno bolo známe celému svetu.\n",
      "Prediction: Boh predsavzal, aby bolo jeho meno oznámené na celej zemi.\n",
      "Source: “He has been raised: he is not here, Behold the place where they laid him,” (Mk 16:6).\n",
      "Target: Vstal, niet Ho tu; ajhľa, miesto, kam Ho boli položili“ (Mk 16, 6).\n",
      "Prediction: On bol vzkriesený: nie je tu: Hľa, miesto, kde ho položili, a to (Mk 16:6).\n"
     ]
    },
    {
     "name": "stderr",
     "output_type": "stream",
     "text": [
      "Evaluating:  47%|████▋     | 235/500 [00:16<00:14, 17.71it/s]"
     ]
    },
    {
     "name": "stdout",
     "output_type": "stream",
     "text": [
      "Source: recompense of falsehood is always falsehood.\n",
      "Target: lež v príjmoch bezbožného je zmätok (nad zmätok).\n",
      "Prediction: odplata za lož je vždy lož.\n",
      "Source: You will need God’s help.\n",
      "Target: Budete však potrebovať Božiu pomoc.\n",
      "Prediction: Budete potrebovať pomoc od Boha.\n",
      "Source: God is in people’s hearts.\n",
      "Target: Boh sa prihovára srdciam ľudí.\n",
      "Prediction: Boh je v srdci ľudí.\n",
      "Source: In some cultures, people only say “thank you” for significant events.\n",
      "Target: V niektorých kultúrach, people only say “ďakujem” for significant events.\n",
      "Prediction: V niektorých kultúrach ľudia hovoria len ďakujem za významné udalosti.\n",
      "Source: Such a journey begins by listening to God's Word.\n",
      "Target: Láska k Bohu začína počúvaním Božieho slova.\n",
      "Prediction: Takáto cesta sa začína počúvaním Božieho Slova.\n"
     ]
    },
    {
     "name": "stderr",
     "output_type": "stream",
     "text": [
      "Evaluating:  48%|████▊     | 239/500 [00:16<00:15, 16.89it/s]"
     ]
    },
    {
     "name": "stdout",
     "output_type": "stream",
     "text": [
      "Source: If good things happen, that is God's will.\n",
      "Target: Keď je niečo dobré, tak to bola vôľa božia.\n",
      "Prediction: Ak sa stávajú dobré veci, je to Božia vôľa.\n",
      "Source: And if anyone’s name was not found written on the book of life, he was thrown into the lake of fire.”\n",
      "Target: A ak niekto nebol zapísaný v knihe života, zvrhli ho do ohnivého jazera.“\n",
      "Prediction: A ak sa niekto nenašiel meno napísané v knihe života, bol hodený do ohnivého jazera.\n",
      "Source: “Since May this year all such products must have disappeared from the EU market.\n",
      "Target: \"Od mája tohto roka musia všetky takéto výrobky zmiznúť z trhu EÚ.\n",
      "Prediction: Od mája tohto roku museli všetky takéto výrobky z trhu EÚ zmiznúť.\n"
     ]
    },
    {
     "name": "stderr",
     "output_type": "stream",
     "text": [
      "Evaluating:  48%|████▊     | 241/500 [00:16<00:16, 15.40it/s]"
     ]
    },
    {
     "name": "stdout",
     "output_type": "stream",
     "text": [
      "Source: What if I miss a call (or 10) from my mom?\n",
      "Target: Čo ak zmeškám hovor (alebo 10) od mamy?\n",
      "Prediction: Čo keby som zmeškal hovor (alebo 10) od mojej mamy?\n",
      "Source: Margrete Auken (Verts/ALE). – (DA) Mr President, our group is naturally voting in favour of the amendment proposal to allocate even more money to Palestine.\n",
      "Target: Margrete Auken (Verts/ALE). - (DA) Vážený pán predsedajúci, naša skupina bude prirodzene hlasovať za pozmeňujúci a doplňujúci návrh, aby bolo pridelených ešte viac peňazí Palestíne.\n",
      "Prediction: Margrete Auken (Verts/ALE). Vážený pán predsedajúci, naša skupina prirodzene hlasuje za pozmeňujúci a doplňujúci návrh s cieľom prideliť Palestíne ešte viac peňazí.\n",
      "Source: He would say, “Wherever you go, there you are.”\n",
      "Target: Hovorilo sa: “kamkoľvek idete, ste tam.”\n",
      "Prediction: Povedal by, kamkoľvek pôjdeš, tam si.\n",
      "Source: Enough blogger and his team, if there is one.\n",
      "Target: Dosť blogger a jeho tím, ak existuje.\n",
      "Prediction: Stačilo bloggera a jeho tímu, ak nejaký existuje.\n"
     ]
    },
    {
     "name": "stderr",
     "output_type": "stream",
     "text": [
      "Evaluating:  49%|████▉     | 246/500 [00:17<00:14, 17.59it/s]"
     ]
    },
    {
     "name": "stdout",
     "output_type": "stream",
     "text": [
      "Source: they shall be called God's children.\n",
      "Target: budú volať Božími synmi.\n",
      "Prediction: budú sa nazývať Božími deťmi.\n",
      "Source: So, yes, you're not crazy, the dogs smile.\n",
      "Target: Takže áno, nie ste blázon, psy sa usmievajú.\n",
      "Prediction: Takže, áno, nie si blázon, psi sa usmievajú.\n",
      "Source: The higher is your being, the deeper is the love.”\n",
      "Target: \"Čím väčší muž, tým hlbšia je jeho láska.\"\n",
      "Prediction: Čím vyššia je vaša bytosť, tým hlbšia je láska.\n"
     ]
    },
    {
     "name": "stderr",
     "output_type": "stream",
     "text": [
      "Evaluating:  50%|█████     | 250/500 [00:17<00:16, 15.36it/s]"
     ]
    },
    {
     "name": "stdout",
     "output_type": "stream",
     "text": [
      "Source: It has to do with the condition of God’s people, the condition they must attain to by grace, if they are going to be able to stand without a Mediator after the close of probation.\n",
      "Target: Má to čo do činenia so stavom Božieho ľudu, so stavom, ktorý musia dosiahnuť skrze milosť, ak majú byť schopní obstáť bez Prostredníka, po ukončení skúšobnej doby.\n",
      "Prediction: To má čo do činenia s stavom Boha ľudí, podmienka, ktorú musia dosiahnuť milosťou, ak sa budú môcť postaviť bez sprostredkovateľa po ukončení skúšobnej.\n",
      "Source: (2) The ESA has its own industrial policy.\n",
      "Target: (2) ESA má vlastnú priemyselnú politiku.\n",
      "Prediction: (2) ESA má svoju vlastnú priemyselnú politiku.\n",
      "Source: The Africa you talk about every day is not yet our Africa.\n",
      "Target: Afrika, o ktorej hovoríte každý deň, ešte nie je našou Afrikou.\n",
      "Prediction: Afrika, o ktorej hovoríte každý deň, ešte nie je našou Afrikou.\n",
      "Source: And were these saints Abraham, Moses, David, and the other righteous saints of Old Testament times?\n",
      "Target: Ako moc sa ludia modlili k (uz nezijucim) Abrahamovi, Mojzisovi, Eliasovi a chceli po nich aby za niekoho orodovali?\n",
      "Prediction: A boli títo svätí Abrahám, Mojžiš, Dávid a ostatní spravodliví svätí zo Starej zmluvy?\n"
     ]
    },
    {
     "name": "stderr",
     "output_type": "stream",
     "text": [
      "Evaluating:  50%|█████     | 252/500 [00:17<00:15, 16.03it/s]"
     ]
    },
    {
     "name": "stdout",
     "output_type": "stream",
     "text": [
      "Source: If it is God’s word, it could not have error.\n",
      "Target: Ak by Božie slovo malo nejakú chybu, už by to nebolo slovo od Boha.\n",
      "Prediction: Ak je to slovo Boha, nemohlo to mať chybu.\n",
      "Source: No matter what I looked like, Billy on the Street would have worked.\n",
      "Target: Bez ohľadu na to, ako som vyzerala, Billy na ulici by pracoval.\n",
      "Prediction: Bez ohľadu na to, ako vyzerám, Billy na ulici by fungoval.\n",
      "Source: `Thy reign come: Thy will come to pass, as in heaven also on the earth. '\n",
      "Target: Téma stretnutia: „…Buď vôľa Tvoja ako v nebi, tak i na zemi!…“\n",
      "Prediction: Kráľovstvo príde: Tvoja vôľa sa stane, ako aj v nebi na zemi. \"\n"
     ]
    },
    {
     "name": "stderr",
     "output_type": "stream",
     "text": [
      "Evaluating:  51%|█████     | 256/500 [00:17<00:16, 14.54it/s]"
     ]
    },
    {
     "name": "stdout",
     "output_type": "stream",
     "text": [
      "Source: Mark 15:28 – The Scripture was fulfilled, which says, “He was numbered with transgressors.”\n",
      "Target: Mk 15:28 - (A splnilo sa Písmo, ktoré hovorí: Započítali ho medzi zločincov.)\n",
      "Prediction: Marek 15:28 🙂 Písmo sa naplnilo, čo hovorí, že bol počítaný s priestupníkmi.\n",
      "Source: But Greer says these are four very important little words to say each day.\n",
      "Target: Greer však tvrdí, že toto sú štyri veľmi dôležité malé slová, ktoré sa majú každý deň povedať.\n",
      "Prediction: Ale Greer hovorí, že sú to štyri veľmi dôležité slová, ktoré treba povedať každý deň.\n",
      "Source: And all Israel knew that Samuel had been established as a prophet of the Lord.”\n",
      "Target: Celý Izrael poznal, že Samuel bol ustanovený za proroka Hospodinovho.\n",
      "Prediction: A celý Izrael vedel, že Samuel bol založený ako prorok Pánov.\n",
      "Source: His efforts were certainly accompanied by God’s power.\n",
      "Target: Ich snahu sprevádzala Božia moc.\n",
      "Prediction: Jeho úsilie bolo určite sprevádzané mocou Boha.\n"
     ]
    },
    {
     "name": "stderr",
     "output_type": "stream",
     "text": [
      "Evaluating:  52%|█████▏    | 260/500 [00:18<00:15, 15.97it/s]"
     ]
    },
    {
     "name": "stdout",
     "output_type": "stream",
     "text": [
      "Source: Luke 15:16 says, \"You are those who justify yourselves in the sight of men.\"\n",
      "Target: 16:15 A povedal im:: \"To sú tí, ktorí ospravedlňujú sami seba v očiach mužov.\n",
      "Prediction: Lukáš 15:16 hovorí: \"Vy ste tí, ktorí sa ospravedlňujú pred očami ľudí.\"\n",
      "Source: And if today you hear God’s voice, harden not your heart.\n",
      "Target: Preto teraz, keď počujete Boží hlas, nezatvrdzujte svoje srdcia.\n",
      "Prediction: A ak dnes počujete hlas Boha, nezatvrdzujte svoje srdce.\n",
      "Source: That is not the way of God’s children.\n",
      "Target: Takto nemôžu konať synovia Boží.\n",
      "Prediction: To nie je cesta boha detí.\n",
      "Source: Col 1:17: \"And he is before all things, and in him all things consist.\"\n",
      "Target: Ko 1:17: “On je pred všetkým, a všetko spolu má v Ňom svoje bytie.“\n",
      "Prediction: Kol. 1:17: \"A on je pred všetkým, a v ňom všetko tvorí.\"\n"
     ]
    },
    {
     "name": "stderr",
     "output_type": "stream",
     "text": [
      "Evaluating:  53%|█████▎    | 264/500 [00:18<00:16, 14.21it/s]"
     ]
    },
    {
     "name": "stdout",
     "output_type": "stream",
     "text": [
      "Source: So I said to the Mother of God: „Mary, lead me, guide me.”\n",
      "Target: Povedala som Matke Božej: „Mária, sprevádzaj ma, veď\n",
      "Prediction: A tak som povedal Matke Božej: Mary, veď ma, veď ma.\n",
      "Source: \"How great in your midst is the Holy One of Israel.\"\n",
      "Target: lebo veľkým uprostred teba je Svätý Izraela!“\n",
      "Prediction: \"Aký veľký je medzi vami Svätý Izraela.\"\n",
      "Source: God’s prophets have always stirred up hatred amongst His children, because Satan inflicts his most terrible scourging against those who speak the Word of God.\n",
      "Target: Boží proroci vždy roznietia nenávisť medzi jeho deťmi, pretože Satan spôsobuje najstrašnejšie bičovanie tým, ktorí hovoria Slovo Božie.\n",
      "Prediction: Boží proroci vždy roznecovali nenávisť medzi jeho deťmi, pretože Satan spôsobuje jeho hrozné bičovanie proti tým, ktorí hovoria Božie Slovo.\n"
     ]
    },
    {
     "name": "stderr",
     "output_type": "stream",
     "text": [
      "Evaluating:  53%|█████▎    | 266/500 [00:18<00:17, 13.43it/s]"
     ]
    },
    {
     "name": "stdout",
     "output_type": "stream",
     "text": [
      "Source: \"God made out of one man every nation of men,”.\n",
      "Target: Po tretie, Boh „vytvoril z jedného človeka každý ľudský národ“.\n",
      "Prediction: \"Boh vytvoril z jedného človeka každý ľudský národ.\n",
      "Source: 15 When Pharaoh’s princes saw her, they praised her to Pharaoh; and the woman was taken into Pharaoh’s household.\n",
      "Target: A uvidiac ju kniežatá faraonove chválili ju faraonovi, a žena bola vzatá do domu faraonovho.\"\n",
      "Prediction: 15 Keď ju videl faraon a kniežatá, chválili ju faraonovi, a žena bola vzatá do faraonovho domu.\n",
      "Source: Knowing that there is nothing other than Allah.\n",
      "Target: Vedia, že niet Boha než Allaha.\n",
      "Prediction: Vedieť, že nie je nič iné ako Alah.\n"
     ]
    },
    {
     "name": "stderr",
     "output_type": "stream",
     "text": [
      "Evaluating:  54%|█████▍    | 270/500 [00:18<00:15, 14.48it/s]"
     ]
    },
    {
     "name": "stdout",
     "output_type": "stream",
     "text": [
      "Source: (Here are the 5 worst things you do every morning before you even leave your house.)\n",
      "Target: (Tu je päť najhorších vecí, ktoré robíte každé ráno predtým, než dokonca opustíte svoj dom.)\n",
      "Prediction: (Tu je 5 najhorších vecí, ktoré robíš každé ráno, než odídeš z domu.)\n",
      "Source: What Is God's Purpose for Mankind?\n",
      "Target: Aký je Boží plán pre ľudstvo?\n",
      "Prediction: Aké je Božie predsavzatie s ľudstvom?\n",
      "Source: Y: They will not believe in it until they see the grievous Penalty;\n",
      "Target: {avšak oni v to neuveria, kým trest bolestný nezazrú}\n",
      "Prediction: Y: Neuveria v to, kým neuvidia žalostný trest;\n",
      "Source: Yet, His will in the heavens has always been enforced: immediate obedience.\n",
      "Target: [:duša mu je v nebi, tam jej slnok svieti,\n",
      "Prediction: Jeho vôľa v nebesiach však bola vždy presadzovaná: okamžitá poslušnosť.\n"
     ]
    },
    {
     "name": "stderr",
     "output_type": "stream",
     "text": [
      "Evaluating:  55%|█████▍    | 274/500 [00:19<00:15, 15.06it/s]"
     ]
    },
    {
     "name": "stdout",
     "output_type": "stream",
     "text": [
      "Source: ”We are now five days away from a very dangerous moment.\n",
      "Target: \"Nachádzame sa teraz päť dní od veľmi nebezpečného okamihu.\n",
      "Prediction: Teraz sme päť dní od veľmi nebezpečného momentu.\n",
      "Source: but whoever does God's will lives forever.\n",
      "Target: Kto plní Božiu vôľu, ostáva naveky\n",
      "Prediction: ale ktokoľvek robí Božiu vôľu, bude žiť navždy.\n",
      "Source: Only in this way, you can witness and carry God’s peace to this peaceless world.\n",
      "Target: Len tým spôsobom môžete dosvedčovať a prinášať Boží pokoj tomuto nepokojnému svetu.\n",
      "Prediction: Iba tak môžete svedčiť a prinášať Bohu pokoj do tohto mierumilovného sveta.\n",
      "Source: These 10 magicians work hard for their millions.\n",
      "Target: Títo 10 kúzelníci tvrdo pracujú pre svoje milióny.\n",
      "Prediction: Títo 10 kúzelníci tvrdo pracujú za svoje milióny.\n"
     ]
    },
    {
     "name": "stderr",
     "output_type": "stream",
     "text": [
      "Evaluating:  56%|█████▌    | 279/500 [00:19<00:13, 16.65it/s]"
     ]
    },
    {
     "name": "stdout",
     "output_type": "stream",
     "text": [
      "Source: Why is He called God's “only begotten Son,” since we also are the children of God?\n",
      "Target: Prečo je Kristus nazvaný „jednorodeným Synom\" Božím, keď aj my sme deťmi Božími?\n",
      "Prediction: Prečo je nazvaný Božím splodeným Synom, lebo aj my sme Božími deťmi?\n",
      "Source: Ask them about their journey and ask them for help.\n",
      "Target: ask them for (help) → žiadať ich o (pomoc)žiadať ich o (pomoc)\n",
      "Prediction: Opýtajte sa ich na ich cestu a požiadajte ich o pomoc.\n",
      "Source: His friend, Mr. B, is not.\n",
      "Target: Jeho priateľ, pán B, nie je.\n",
      "Prediction: Jeho priateľ, pán B, nie je.\n",
      "Source: So the book is Atonement: A Guide for the Perplexed.\n",
      "Target: Poslanie knihy je: odnaučiť sa žiarliť. - (Plzák Miroslav) Predané.\n",
      "Prediction: Kniha je teda zmierenie: Sprievodca pre zmätených.\n"
     ]
    },
    {
     "name": "stderr",
     "output_type": "stream",
     "text": [
      "Evaluating:  57%|█████▋    | 284/500 [00:19<00:11, 18.43it/s]"
     ]
    },
    {
     "name": "stdout",
     "output_type": "stream",
     "text": [
      "Source: God's blessings to your family. ”\n",
      "Target: Nech Boh žehná vašej rodine.”\n",
      "Prediction: Božie požehnania pre tvoju rodinu. oooooo. kgm\n",
      "Source: They can have campaigns of hatred; our friendly dictators will keep them under control.\n",
      "Target: Môžu mať kampane nenávisti; naši priateľskí diktátori ich udržia pod kontrolou.\n",
      "Prediction: Môžu mať kampane nenávisti; naši priateľskí diktátori ich budú držať pod kontrolou.\n",
      "Source: But what is God’s pleasure?\n",
      "Target: A aká je radosť Boha?\n",
      "Prediction: Ale čo je to potešenie od Boha?\n",
      "Source: 'In each of us there is another, whom we do not know.\n",
      "Target: V každom z nás je ešte niekto druhý, koho nepoznáme.\n",
      "Prediction: \"V každom z nás je iný, ktorého nepoznáme.\n",
      "Source: He Who created the heavens and stretched them out,\n",
      "Target: ktorý stvoril nebesá a rozostrel ich,\n",
      "Prediction: Ten, kto stvoril nebesia a roztiahol ich,\n"
     ]
    },
    {
     "name": "stderr",
     "output_type": "stream",
     "text": [
      "Evaluating:  57%|█████▋    | 286/500 [00:19<00:11, 18.31it/s]"
     ]
    },
    {
     "name": "stdout",
     "output_type": "stream",
     "text": [
      "Source: “Sorry aunt Jodie these magazines lack integrity.”\n",
      "Target: \"Je mi to ľúto teta Jodie, tieto časopisy postrádajú integritu.\"\n",
      "Prediction: Je mi ľúto, teta Jodie, že tieto časopisy nemajú bezúhonnosť.\n",
      "Source: Not from God’s words.\n",
      "Target: Nie Božím Slovám.\n",
      "Prediction: Nie z Božích slov.\n",
      "Source: 17 July 2004 New languages added.\n",
      "Target: 17. júl 2004 Pridané nové jazyky.\n",
      "Prediction: 17. júl 2004 Pridané nové jazyky.\n",
      "Source: Do not leave on the earth a single unbeliever.'\n",
      "Target: Neponechaj na zemi ani jedinkého obyvateľa spomedzi neveriacich!“\n",
      "Prediction: Nenechávajte na zemi jediného neveriaceho.\"\n"
     ]
    },
    {
     "name": "stderr",
     "output_type": "stream",
     "text": [
      "Evaluating:  58%|█████▊    | 291/500 [00:20<00:11, 17.60it/s]"
     ]
    },
    {
     "name": "stdout",
     "output_type": "stream",
     "text": [
      "Source: Sirpa Pietikäinen (PPE). - (FI) Mr President, it is significant that Parliament for the first time had a chance to approve the budget.\n",
      "Target: Sirpa Pietikäinen (PPE). – (FI) Vážený pán predsedajúci, je významné, že Parlament mal prvýkrát možnosť schvaľovať rozpočet.\n",
      "Prediction: Sirpa Pietikäinen (PPE). - (FI) Vážený pán predsedajúci, je dôležité, že Parlament mal po prvýkrát šancu schváliť rozpočet.\n",
      "Source: A day in God’s sight is a thousand years.\n",
      "Target: Viera v boha je nemenna a stala tisice rokov.\n",
      "Prediction: Deň v Božích očiach je tisíc rokov.\n",
      "Source: It shows how easily we could solve the planet’s problems if we had competent leadership.\n",
      "Target: Ukazuje, ako ľahko by sme mohli vyriešiť problémy planéty keby sme mali kompetentné vedenie.\n",
      "Prediction: Ukazuje, ako ľahko by sme mohli vyriešiť problémy planéty, ak by sme mali kompetentné vedenie.\n",
      "Source: “Blessed be God Most High, who delivered your enemies into your hand.”\n",
      "Target: a požehnaný nech je Najvyšší Boh, ktorý ti vydal do rúk tvojich nepriateľov.\"\n",
      "Prediction: Požehnaný Boh Najvyšší, ktorý vydal tvojich nepriateľov do tvojej ruky.\n"
     ]
    },
    {
     "name": "stderr",
     "output_type": "stream",
     "text": [
      "Evaluating:  59%|█████▉    | 295/500 [00:20<00:11, 17.10it/s]"
     ]
    },
    {
     "name": "stdout",
     "output_type": "stream",
     "text": [
      "Source: He said,“Write this: ‘These words are trustworthy and true.’”\n",
      "Target: Potom doložil: Napíš: Tieto slová sú pravdivé a spoľahlivé.\"\n",
      "Prediction: Povedal: \"Napíšte toto: \"Tieto slová sú dôveryhodné a pravdivé.\n",
      "Source: Moreover, a modern “house” for fish can look like anything!\n",
      "Target: Okrem toho, moderný \"dom\" pre ryby môže vyzerať ako čokoľvek!\n",
      "Prediction: Okrem toho, moderný Dom pre ryby môže vyzerať ako čokoľvek!\n",
      "Source: And Pharaoh's daughter said to her, 'Go.'\n",
      "Target: Faraónova dcéra jej odpovedala: Choď!\n",
      "Prediction: A dcéra faraónova jej povedala: Choď!\n",
      "Source: Then save yourself, if you’re God’s son, and come down from the cross.’\n",
      "Target: Zachráň sám seba, ak si Syn Boží, a zostúp z kríža!\n",
      "Prediction: Tak sa zachráň, ak si Bohom synom a zostúpiš z kríža.\n"
     ]
    },
    {
     "name": "stderr",
     "output_type": "stream",
     "text": [
      "Evaluating:  60%|█████▉    | 299/500 [00:20<00:12, 16.26it/s]"
     ]
    },
    {
     "name": "stdout",
     "output_type": "stream",
     "text": [
      "Source: 41:25 Joseph said to Pharaoh, 'Pharaoh's dream has a single meaning.\n",
      "Target: 41:25 Joseph reagoval: \"Sen kráľa je jedna.\n",
      "Prediction: 41:25 Joseph povedal faraónovi, \"Pharaoh sen má jediný význam.\n",
      "Source: Those who “abide in Him” are objects of God’s affection and love.\n",
      "Target: Tí, ktorí „zostávajú v Ňom“, sú predmetmi Božej náklonnosti a lásky.\n",
      "Prediction: Tí, ktorí sa v ňom zdržiavajú, sú objektmi Božej náklonnosti a lásky.\n",
      "Source: and its inhabitants will die in the same way:\n",
      "Target: Jej obyvatelia pomrú podobne,\n",
      "Prediction: a jeho obyvatelia zomrú rovnako.\n",
      "Source: Satan would try to remove God’s name from the earth.\n",
      "Target: ,,Diabol sa zaryto snaží vymazať Božie meno z existencie.\n",
      "Prediction: Satan sa mal snažiť odstrániť Božie meno zo zeme.\n"
     ]
    },
    {
     "name": "stderr",
     "output_type": "stream",
     "text": [
      "Evaluating:  61%|██████    | 303/500 [00:20<00:12, 15.22it/s]"
     ]
    },
    {
     "name": "stdout",
     "output_type": "stream",
     "text": [
      "Source: 12), which codified it and contains, in essence, the same provisions.\n",
      "Target: 12), ktorá ju kodifikovala a v podstate obsahuje rovnaké ustanovenia.\n",
      "Prediction: 12), ktorá ho kodifikovala a v podstate obsahuje rovnaké ustanovenia.\n",
      "Source: When some of those standing there heard this, they said, \"He's calling Elijah.”\n",
      "Target: Keď to počuli niektorí z tých, čo tam stáli, vraveli: „Volá Eliáša.”\n",
      "Prediction: Keď to počuli niektorí z tých, ktorí tam stáli, povedali: \"Volá Eliáša.\n",
      "Source: {4} And no man in heaven, nor in earth, neither under the earth, was able to open the book, neither to look thereon.\n",
      "Target: A nikto nemohol na nebi ani na zemi ani pod zemou otvoriť knihu ani nazrieť do nej.\n",
      "Prediction: A nikto v nebi ani na zemi, ani pod zemou, nemohol otvoriť knihu ani sa na ňu nepozerať.\n"
     ]
    },
    {
     "name": "stderr",
     "output_type": "stream",
     "text": [
      "Evaluating:  61%|██████▏   | 307/500 [00:21<00:12, 15.86it/s]"
     ]
    },
    {
     "name": "stdout",
     "output_type": "stream",
     "text": [
      "Source: They found Him and said, \"Everybody's looking for you.\"\n",
      "Target: “Keď ho našli, povedali mu: \"Všetci ťa hľadajú”.\n",
      "Prediction: Našli ho a povedali: \"Každý ťa hľadá.\"\n",
      "Source: \"He that believeth not God hath made God a liar.\"\n",
      "Target: Kto Bohu neverí, činí z Neho luhára!\n",
      "Prediction: \"Ten, kto neverí, že Boh urobil Boha luhárom.\"\n",
      "Source: They do not recognize Jesus, the Son of Mary, as God’s son.\n",
      "Target: Nepoznáš Ježiša, Božieho syna.\n",
      "Prediction: Nepoznajú Ježiša, Syna Márie, ako syna Boha.\n",
      "Source: Everyone who does not listen to that prophet will be cut off from the people.”\n",
      "Target: A každý, kto nepočúvne toho proroka, bude odstránený z ľudu.'\n",
      "Prediction: Každý, kto nepočúva tohto proroka, bude odrezaný od ľudu.\n"
     ]
    },
    {
     "name": "stderr",
     "output_type": "stream",
     "text": [
      "Evaluating:  62%|██████▏   | 311/500 [00:21<00:12, 15.38it/s]"
     ]
    },
    {
     "name": "stdout",
     "output_type": "stream",
     "text": [
      "Source: To them I say: stop the killings and the destruction, and create space for lasting peace.\"\n",
      "Target: Odkazujem im: Zastavte zabíjanie a ničenie a vytvorte priestor na trvalý mier.\n",
      "Prediction: Hovorím im: zastaviť vraždy a zničenie, a vytvoriť priestor pre trvalý mier. \"\n",
      "Source: His mother said to the servant “Do whatever he tells you.”\n",
      "Target: Jeho matka povedala obsluhujúcim: \"Urobte všetko, čo Vám povie\".\n",
      "Prediction: Jeho matka povedala sluhovi, nech ti povie čokoľvek.\n",
      "Source: The 34th government will deserve Israel; Israel will deserve the 34th government.\n",
      "Target: V poradí 34. vláda bude zaslúži Izraelu; a Izrael bude zaslúžiť 34. vláde.\n",
      "Prediction: 34. vláda si zaslúži Izrael; Izrael si zaslúži 34. vládu.\n",
      "Source: Shakir: And your Allah is one Allah! there is no god but He; He is the Beneficent, the Merciful.\n",
      "Target: {Váš Boh je Boh jediný a niet božstva okrem Neho, Milosrdného, Zľutovného.\n",
      "Prediction: A tvoj Boh je jeden Alah! niet Boha, iba On; On je Beneficent, Milosrdný.\n"
     ]
    },
    {
     "name": "stderr",
     "output_type": "stream",
     "text": [
      "Evaluating:  63%|██████▎   | 315/500 [00:21<00:11, 15.52it/s]"
     ]
    },
    {
     "name": "stdout",
     "output_type": "stream",
     "text": [
      "Source: After the Lord's ascension, the disciples realized the fulfillment of His promise.\n",
      "Target: Po Pánovom nanebovstúpení si učeníci uvedomili, že jeho zasľúbenie sa splnilo.\n",
      "Prediction: Po Pánovom vzostupe si učeníci uvedomili splnenie Jeho sľubu.\n",
      "Source: And if anyone's name was not found written in the book of life, he was thrown into the lake of fire.\"\n",
      "Target: A ak niekto nebol zapísaný v knihe života, zvrhli ho do ohnivého jazera.“\n",
      "Prediction: A ak sa meno niekoho nenašlo napísané v knihe života, bol hodený do ohnivého jazera. \"\n",
      "Source: You will need iron for the rest of your life; everyone needs iron.\n",
      "Target: Budete potrebovať železo po zvyšok svojho života; každý potrebuje železo.\n",
      "Prediction: Budete potrebovať železo do konca svojho života; každý potrebuje železo.\n",
      "Source: “I presented my Peace Plan in the European Parliament, here in Brussels.\n",
      "Target: „Predstavil som svoj mierový plán v Európskom parlamente, tu v Bruseli.\n",
      "Prediction: Predstavil som svoj mierový plán v Európskom parlamente, tu v Bruseli.\n"
     ]
    },
    {
     "name": "stderr",
     "output_type": "stream",
     "text": [
      "Evaluating:  64%|██████▍   | 319/500 [00:21<00:11, 16.12it/s]"
     ]
    },
    {
     "name": "stdout",
     "output_type": "stream",
     "text": [
      "Source: That has nothing to do with God's grace.\n",
      "Target: Nemá to nič spoločné s dokonalosťou Boha.\n",
      "Prediction: To nemá nič spoločné s Božou milosťou.\n",
      "Source: 'Pli.--And do you think that the words of your book are certainly true?\n",
      "Target: Povoľný: „A či myslíš, že slová tvojej knihy sú skutočne pravda?“\n",
      "Prediction: A myslíš si, že slová tvojej knihy sú určite pravdivé?\n",
      "Source: Seek and find in the Pyramid I built.\n",
      "Target: Hľadaj a nájdi v pyramíde, ktorú som postavil.\n",
      "Prediction: Hľadajte a nájdite v pyramíde, ktorú som postavil.\n",
      "Source: He sees the future and knew I needed my Hayden.\n",
      "Target: Vidí budúcnosť, a vedel, že som potreboval môj Hayden.\n",
      "Prediction: Vidí budúcnosť a vedel, že potrebujem svoju Hayden.\n"
     ]
    },
    {
     "name": "stderr",
     "output_type": "stream",
     "text": [
      "Evaluating:  64%|██████▍   | 321/500 [00:22<00:11, 16.12it/s]"
     ]
    },
    {
     "name": "stdout",
     "output_type": "stream",
     "text": [
      "Source: 'And God saw everything that he had made, and behold, it was very good.\n",
      "Target: „A Boh videl všetko, čo urobil, a hľa, bolo to veľmi dobré.\n",
      "Prediction: A Boh videl všetko, čo urobil, a hľa, bolo to veľmi dobré.\n",
      "Source: \"We already have the closest possible relationship: it's called the European Union.\n",
      "Target: \"Už máme najbližší možný vzťah: volá sa Európska únia.\n",
      "Prediction: \"Už teraz máme najbližší možný vzťah: nazýva sa to Európska únia.\n",
      "Source: “Turn your face to the sun and all of the shadows fall behind you.”\n",
      "Target: „Obráť tvár k slnku a všetky tiene padnú za teba.“\n",
      "Prediction: Otočiť svoju tvár k slnku a všetky tiene padajú za vami.\n"
     ]
    },
    {
     "name": "stderr",
     "output_type": "stream",
     "text": [
      "Evaluating:  65%|██████▌   | 325/500 [00:22<00:10, 16.06it/s]"
     ]
    },
    {
     "name": "stdout",
     "output_type": "stream",
     "text": [
      "Source: Let us not hesitate to help those who have died and offer our prayers for them.”\n",
      "Target: Neváhajme a poďme na pomoc tým, ktorí sú mŕtví a obetujme za nich svoje modlitby.“\n",
      "Prediction: Neváhajme pomáhať tým, ktorí zomreli, a modlime sa za nich.\n",
      "Source: God’s glory is seen in his creation.\n",
      "Target: Božia sláva je zjavená v jeho tvorstve.\n",
      "Prediction: Božia sláva je vidieť vo svojom stvorení.\n",
      "Source: Life is temporary; God’s lovingkindness is eternal.\n",
      "Target: Utrpenie je časné, Božia sláva je večná.\n",
      "Prediction: Život je dočasný; Boh je milujúci je večný.\n",
      "Source: Like a bat out of hell means very fast.\n",
      "Target: Like a bat out of hell znamená veľmi rýchlo.\n",
      "Prediction: Ako netopier z pekla znamená veľmi rýchlo.\n"
     ]
    },
    {
     "name": "stderr",
     "output_type": "stream",
     "text": [
      "Evaluating:  66%|██████▌   | 329/500 [00:22<00:09, 17.10it/s]"
     ]
    },
    {
     "name": "stdout",
     "output_type": "stream",
     "text": [
      "Source: Because you need this lesson, Jonathan.\n",
      "Target: Lebo ty túto lekciu potrebuješ, Jonathan.\n",
      "Prediction: Pretože potrebuješ túto lekciu, Jonathan.\n",
      "Source: Send your dead animal into space, it's now possible!\n",
      "Target: Pošlite svoje mŕtve zviera do vesmíru, je to teraz možné!\n",
      "Prediction: Pošlite svoje mŕtve zviera do vesmíru, je to teraz možné!\n",
      "Source: But nobody seems to know how—including Facebook.\n",
      "Target: Zdá sa však, že nikto nevie, ako – vrátane Facebooku.\n",
      "Prediction: Ale zdá sa, že nikto nevie ako vrátane Facebooku.\n",
      "Source: 1 The king’s heart is a stream of water in the hand of the LORD; he turns it wherever he will.\n",
      "Target: 1 Sťa vodná struha je srdce kráľa v ruke Pánovej, vedie ho, kamkoľvek chce.\n",
      "Prediction: 1 Srdce kráľa je prúdom vody v ruke Hospodinovej; obráti sa všade, kam chce.\n"
     ]
    },
    {
     "name": "stderr",
     "output_type": "stream",
     "text": [
      "Evaluating:  67%|██████▋   | 333/500 [00:22<00:10, 16.15it/s]"
     ]
    },
    {
     "name": "stdout",
     "output_type": "stream",
     "text": [
      "Source: He hath refused to reserve for Himself any share whatever of this world's dominion.\n",
      "Target: On si pre seba odmietol ponechať akýkoľvek podiel z tejto svetskej vlády.\n",
      "Prediction: Odmietol si rezervovať akúkoľvek časť nadvlády tohto sveta.\n",
      "Source: It defines that Spanish and German groups will always start at the same time:\n",
      "Target: Je tam zadefinované, že skupiny Španielčiny a Nemčiny budú vždy začínať v rovnakom čase:\n",
      "Prediction: Definuje, že španielske a nemecké skupiny budú vždy začínať v rovnakom čase:\n",
      "Source: Although they may have great knowledge about their websit\n",
      "Target: Hoci oni môžu mať veľké znalosti o ich websit\n",
      "Prediction: Aj keď môžu mať veľké znalosti o ich websit\n",
      "Source: Scripture is God's word to us.\n",
      "Target: Božie slovo je napísané pre nás,\n",
      "Prediction: Písmo je Božie slovo pre nás.\n"
     ]
    },
    {
     "name": "stderr",
     "output_type": "stream",
     "text": [
      "Evaluating:  67%|██████▋   | 337/500 [00:23<00:10, 15.07it/s]"
     ]
    },
    {
     "name": "stdout",
     "output_type": "stream",
     "text": [
      "Source: Isaiah 56:3-7 - Let no foreigner who has bound himself to the LORD say, \"The LORD will surely exclude me from his people.\"\n",
      "Target: Evanjelický preklad: Iz 56:3-7 Nech nehovorí cudzinec, ktorý sa pripojil k Hospodinovi: Hospodin ma celkom oddelí od svojho ľudu!\n",
      "Prediction: Izaiáš 56:3-7 - Nech nepovie žiaden cudzinec, ktorý sa priviazal k Hospodinovi: Hospodin ma istotne vylúči zo svojho ľudu.\n",
      "Source: That he has all power in heaven and in earth.\n",
      "Target: Jeho je moc v nebesiach i na zemi!\n",
      "Prediction: Že má všetku moc v nebi i na zemi.\n",
      "Source: But when Jesus called them, “immediately they left the boat and their father and followed him.”\n",
      "Target: Ježiš ich volá, a “oni hneď zanechali loď i svojho otca a išli za ním”.\n",
      "Prediction: Ale keď ich Ježiš zavolal, okamžite opustili loď a svojho otca a nasledovali ho.\n",
      "Source: Even biological growth is a crisis, no?\n",
      "Target: Dokonca aj biologický rast je kríza, či nie?\n",
      "Prediction: Dokonca aj biologický rast je kríza, nie?\n"
     ]
    },
    {
     "name": "stderr",
     "output_type": "stream",
     "text": [
      "Evaluating:  68%|██████▊   | 341/500 [00:23<00:09, 15.98it/s]"
     ]
    },
    {
     "name": "stdout",
     "output_type": "stream",
     "text": [
      "Source: The sun, the moon, and eleven stars bowed down to me.”\n",
      "Target: Slnko, mesiac a jedenásť hviezd sa mi klaňalo.\"\n",
      "Prediction: Slnko, mesiac a jedenásť hviezd sa mi klaňali.\n",
      "Source: That is God’s truth.”\n",
      "Target: To je božia spravodlivosť.\"\n",
      "Prediction: To je pravda od Boha.\n",
      "Source: Despite this, Chinese doctors believe that these 2 exercises can add years to your life!\n",
      "Target: Napriek tomu, čínski lekári veria, že tieto 2 cvičenia môžu pridať roky do vášho života!\n",
      "Prediction: Napriek tomu, čínski lekári veria, že tieto 2 cvičenia môžu pridať roky do vášho života!\n",
      "Source: I will harden Pharaoh's heart and he will pursue them.\n",
      "Target: 4A ja opäť zatvrdím faraónovo srdce, a bude sa hnať za vami.\n",
      "Prediction: Zatvrdím faraónovo srdce a on ich bude prenasledovať.\n"
     ]
    },
    {
     "name": "stderr",
     "output_type": "stream",
     "text": [
      "Evaluating:  69%|██████▉   | 345/500 [00:23<00:10, 15.21it/s]"
     ]
    },
    {
     "name": "stdout",
     "output_type": "stream",
     "text": [
      "Source: God’s mercy is great towards those who fear Him.\n",
      "Target: Veľké je jeho milosrdenstvo nad tými, čo sa ho boja.\n",
      "Prediction: Boh je milosrdný k tým, ktorí sa ho boja.\n",
      "Source: Yes, we know they are good, but what about your virtual private server ?\n",
      "Target: Áno, vieme, že sú dobré, ale čo váš virtuálny súkromný server?\n",
      "Prediction: Áno, vieme, že sú dobré, ale čo váš virtuálny súkromný server?\n",
      "Source: People who only received bGH after 1985 can also donate blood.\n",
      "Target: Ľudia, ktorí dostali iba bGH po roku 1985, môžu tiež darovať krv.\n",
      "Prediction: Ľudia, ktorí dostali BGH až po roku 1985 môže tiež darovať krv.\n"
     ]
    },
    {
     "name": "stderr",
     "output_type": "stream",
     "text": [
      "Evaluating:  69%|██████▉   | 347/500 [00:23<00:10, 15.11it/s]"
     ]
    },
    {
     "name": "stdout",
     "output_type": "stream",
     "text": [
      "Source: \"but lo! a Day with Allah is as a thousand years of what ye reckon.\" (22:47)\n",
      "Target: “Veď deň u tvojho Boha je ako tisíc rokov, ktoré počítate vy (na Zemi).”\n",
      "Prediction: \"ale lo! Deň s Bohom je ako tisíc rokov z toho, čo si myslíte. \" (22: 47)\n",
      "Source: This time, her choice fell on RATI-GITIS.\n",
      "Target: Tentokrát jej výber padol na RATI-GITIS.\n",
      "Prediction: Tentoraz jej voľba spadla na RATI-GITIS.\n",
      "Source: There is a God in the heavens whom we serve, and He is able to save us from the burning fiery furnace.\n",
      "Target: My hľadáme Boha na nebesiach a on k nám prichádza v malosti.\n",
      "Prediction: V nebesiach je Boh, ktorému slúžime, a on nás môže zachrániť z horiacej ohnivej pece.\n"
     ]
    },
    {
     "name": "stderr",
     "output_type": "stream",
     "text": [
      "Evaluating:  70%|███████   | 351/500 [00:23<00:10, 14.82it/s]"
     ]
    },
    {
     "name": "stdout",
     "output_type": "stream",
     "text": [
      "Source: And know that Allah is with those who fear him.”\n",
      "Target: A vedzte, že Boh je s tými, ktorí sú bohabojní.\"\n",
      "Prediction: A vedzte, že Boh je s tými, ktorí sa ho boja.\n",
      "Source: The people of Israel commit themselves to be David's people.\n",
      "Target: Izraeliti sa zaviazali, že budú ľudom Hospodinovým.\n",
      "Prediction: Izraelský ľud sa zaväzuje byť Dávidovým ľudom.\n",
      "Source: Anna, ’44: “I work the director of a large network.\n",
      "Target: Anna, ’44: „Pracujem riaditeľ veľké siete.\n",
      "Prediction: Anna, ch44: chápem riaditeľa veľkej siete.\n",
      "Source: So what is life like after your husband’s death.\n",
      "Target: - Ako sa tvoj život zmenil po manželovej smrti?\n",
      "Prediction: Tak aký je život po smrti vášho manžela.\n",
      "Source: And God loves all of God’s children.\n",
      "Target: Spasiteľ miluje každé jedno z Božích detí.\n",
      "Prediction: A Boh miluje všetky deti Boha.\n"
     ]
    },
    {
     "name": "stderr",
     "output_type": "stream",
     "text": [
      "Evaluating:  71%|███████   | 356/500 [00:24<00:08, 17.16it/s]"
     ]
    },
    {
     "name": "stdout",
     "output_type": "stream",
     "text": [
      "Source: On the other hand, Europe still has many noble dreams; that is part of its heritage.\n",
      "Target: Na strane druhej, Európa má ešte stále veľa vznešených snov; to je súčasťou jej dedičstva.\n",
      "Prediction: Na druhej strane, Európa má stále mnoho ušľachtilých snov, čo je súčasťou jej dedičstva.\n",
      "Source: That approach failed in 1940; will it work today?\n",
      "Target: Tento prístup zlyhal v roku 1940; bude fungovať dnes?\n",
      "Prediction: Tento prístup v roku 1940 zlyhal; bude fungovať aj dnes?\n",
      "Source: We say that what you have gained is gong.\n",
      "Target: Hovoríme, že to čo ste získali je gong.\n",
      "Prediction: Hovoríme, že to, čo ste získali, je Gong.\n",
      "Source: How much would her movie roles be worth if she were alive and working in 2015?\n",
      "Target: Koľko by jej filmové roly stáli za to, keby bola v roku 2015 nažive a pracuje?\n",
      "Prediction: Koľko by stálo jej filmové role, keby bola nažive a pracovala v roku 2015?\n"
     ]
    },
    {
     "name": "stderr",
     "output_type": "stream",
     "text": [
      "Evaluating:  72%|███████▏  | 360/500 [00:24<00:08, 16.11it/s]"
     ]
    },
    {
     "name": "stdout",
     "output_type": "stream",
     "text": [
      "Source: (The number of women who’ve been elected to Parliament since 1867: 257.\n",
      "Target: (Počet žien, ktoré boli zvolené do parlamentu od roku 1867: 257.\n",
      "Prediction: (Počet žien, ktoré boli zvolené do Parlamentu od roku 1867: 257.\n",
      "Source: If he got healed under such circumstances, it was from Satan.\n",
      "Target: Ak bol uzdravený za týchto podmienok, bolo to od Satana.\n",
      "Prediction: Ak bol za takých okolností uzdravený, bolo to od Satana.\n",
      "Source: God's people do not only work for Him in a labour of love, but they suffer for Him with joy.\n",
      "Target: Ľud Boží pre Neho nepracuje len v namáhavej práci lásky, ale s radosťou pre Neho aj trpí.\n",
      "Prediction: Boží ľud nepracuje len pre Neho v práci lásky, ale pre Neho trpia s radosťou.\n",
      "Source: 18 Neither their silver nor their gold will be able to save them on the day of the Lord’s wrath.\n",
      "Target: 18 Ani ich striebro ani zlato ich nebude môcť zachrániť v deň Hospodinovho hnevu.\n",
      "Prediction: 18 Ani ich striebro ani ich zlato ich nebude môcť zachrániť v deň Pánovho hnevu.\n"
     ]
    },
    {
     "name": "stderr",
     "output_type": "stream",
     "text": [
      "Evaluating:  73%|███████▎  | 364/500 [00:24<00:08, 15.56it/s]"
     ]
    },
    {
     "name": "stdout",
     "output_type": "stream",
     "text": [
      "Source: “Whatever the LORD pleases he does, in heaven and on earth, in the seas and all deeps.”\n",
      "Target: 6 Hospodin koná, čo chce, na nebi i na zemi, v moriach i vo všetkých hlbinách.\n",
      "Prediction: Všetko, čo sa páči Hospodinovi, robí v nebi i na zemi, v moriach a všetkých hlbinách.\n",
      "Source: Many are saying of me, there is no help for him in God.\n",
      "Target: Mnohí o mne hovoria: Pre neho niet pomoci u Boha!\n",
      "Prediction: Mnohí o mne hovoria, že v Bohu mu niet pomoci.\n",
      "Source: If you lie, your nose will stretch up to the sky.”\n",
      "Target: Keď privoniaš, tvoj nos sa rozšíri.\"\n",
      "Prediction: Ak klameš, tvoj nos sa natiahne na oblohu.\n",
      "Source: Peace be upon you, God's mercy and His blessings.\n",
      "Target: A mier s tebou, Milosť Allaha a Jeho Požehnania.\n",
      "Prediction: Pokoj vám, Božie milosrdenstvo a Jeho požehnania.\n"
     ]
    },
    {
     "name": "stderr",
     "output_type": "stream",
     "text": [
      "Evaluating:  74%|███████▎  | 368/500 [00:25<00:08, 15.05it/s]"
     ]
    },
    {
     "name": "stdout",
     "output_type": "stream",
     "text": [
      "Source: 37.39); not the others, but yourself.\n",
      "Target: 37.39); nie druhých, ale seba samého.\n",
      "Prediction: 37.39), nie ostatní, ale vy.\n",
      "Source: Let us take an example which surely is not problematic: France in 1940.\n",
      "Target: Pozrime sa na príklad, ktorý zaiste nie je problematický: Francúzsko v 1940.\n",
      "Prediction: Vezmime si príklad, ktorý určite nie je problematický: Francúzsko v roku 1940.\n",
      "Source: If our thoughts are formed from God’s Word, the maintenance of the one will not lead to the denial of the other.\n",
      "Target: Ak naše myšlienky formuje Božie slovo, zachovanie jedného nepovedie k popretiu druhého.\n",
      "Prediction: Ak sú naše myšlienky vytvorené z Božieho Slova, údržba jedného nepovedie k popieraniu toho druhého.\n",
      "Source: This is not GOD'S will!\n",
      "Target: Ale toto nie je Božia vôľa!\n",
      "Prediction: Toto nie je Božia vôľa!\n"
     ]
    },
    {
     "name": "stderr",
     "output_type": "stream",
     "text": [
      "Evaluating:  75%|███████▍  | 373/500 [00:25<00:07, 17.11it/s]"
     ]
    },
    {
     "name": "stdout",
     "output_type": "stream",
     "text": [
      "Source: Satan is at work in opposition to God’s purpose and plan.\n",
      "Target: Hlavným cieľom diabla je, že sa stavia proti Božím úmyslom a plánom.\n",
      "Prediction: Satan pracuje v rozpore s Božím predsavzatím a plánom.\n",
      "Source: All I want for Christmas is to eradicate these 3 health issues\n",
      "Target: Všetko, čo chcem na Vianoce, je odstrániť tieto 3 zdravotné problémy\n",
      "Prediction: Všetko, čo chcem na Vianoce, je odstrániť tieto 3 zdravotné problémy.\n",
      "Source: \"Why do we need a good relationship with Everton?\"\n",
      "Target: “Prečo potrebujeme dobrý vzťah s Evertonom?”\n",
      "Prediction: \"Prečo potrebujeme dobrý vzťah s Evertonom?\"\n",
      "Source: Every seven years, the Union decides about its future finances.\n",
      "Target: Každých sedem rokov Únia rozhoduje o svojich budúcich financiách.\n",
      "Prediction: Každých sedem rokov rozhoduje Únia o svojich budúcich financiách.\n"
     ]
    },
    {
     "name": "stderr",
     "output_type": "stream",
     "text": [
      "Evaluating:  75%|███████▌  | 375/500 [00:25<00:07, 15.64it/s]"
     ]
    },
    {
     "name": "stdout",
     "output_type": "stream",
     "text": [
      "Source: Every discerning observer will recognize that in the Dispensation of the Qur’an both the Book and the Cause of Jesus were confirmed.\n",
      "Target: Každý vnímavý pozorovateľ uzná, že v zriadení Koránu bola potvrdená aj Ježišova kniha, aj Jeho vec.\n",
      "Prediction: Každý náročný pozorovateľ si uvedomí, že v dispenzácii Koránu ako kniha a príčina Ježiša boli potvrdené.\n",
      "Source: Even we who live in Italy: below zero.\n",
      "Target: Aj my, ktorí žijeme v Taliansku: pod nulou.\n",
      "Prediction: Dokonca aj my, ktorí žijeme v Taliansku: pod nulou.\n",
      "Source: God’s mercy has no limits if you go to him with a sincere and contrite heart.\n",
      "Target: Božia milosrdnosť nemá hraníc, ak pred neho predstúpiš s úprimným srdcom.\n",
      "Prediction: Boh má milosrdenstvo nemá žiadne hranice, ak idete k nemu s úprimným a pokriveným srdcom.\n"
     ]
    },
    {
     "name": "stderr",
     "output_type": "stream",
     "text": [
      "Evaluating:  76%|███████▌  | 379/500 [00:25<00:07, 15.86it/s]"
     ]
    },
    {
     "name": "stdout",
     "output_type": "stream",
     "text": [
      "Source: Getting rid of water weight - 18-03-2018, 02:06:53\n",
      "Target: Tvrdosť vody [dH]: 11,4 – 18,3\n",
      "Prediction: Odstránenie hmotnosti vody - 18-03-2018, 02:06:53\n",
      "Source: No one is excluded from the joy brought by the Lord.\"\n",
      "Target: nie je vylúčený z radosti, ktorú daruje Pán“.\n",
      "Prediction: Nikto nie je vylúčený z radosti, ktorú prináša Pán.\"\n",
      "Source: The blessed life is a life full of God’s presence.\n",
      "Target: dokonalá ľudskosť je miestom Božej prítomnosti.\n",
      "Prediction: Požehnaný život je život plný prítomnosti Boha.\n",
      "Source: Remember that your opinion may be decisive for thousands of men!\n",
      "Target: Nezabudnite, že Váš názor môže byť rozhodujúce pre tisíce ľudí!\n",
      "Prediction: Pamätajte, že váš názor môže byť rozhodujúci pre tisíce mužov!\n"
     ]
    },
    {
     "name": "stderr",
     "output_type": "stream",
     "text": [
      "Evaluating:  77%|███████▋  | 383/500 [00:25<00:06, 16.88it/s]"
     ]
    },
    {
     "name": "stdout",
     "output_type": "stream",
     "text": [
      "Source: And no one can replace you in God's heart.\n",
      "Target: Nikto ťa v Božom srdci nemôže nahradiť.\n",
      "Prediction: A nikto ťa nemôže nahradiť v Božom srdci.\n",
      "Source: Ask for God’s forgiveness and protection.\n",
      "Target: Prosím pána Boha o odpustenie a pomoc.\n",
      "Prediction: Pros Boha o odpustenie a ochranu.\n",
      "Source: Are you looking for the most suitable solution to improve the efficiency of your supply chain in Russia and the 1520* area?\n",
      "Target: Hľadáte najvhodnejšie riešenie na zlepšenie efektívnosti vášho dodávateľského reťazca v Rusku a oblasti 1520 *?\n",
      "Prediction: Hľadáte najvhodnejšie riešenie na zlepšenie efektívnosti vášho dodávateľského reťazca v Rusku a oblasti 1520*?\n"
     ]
    },
    {
     "name": "stderr",
     "output_type": "stream",
     "text": [
      "Evaluating:  77%|███████▋  | 385/500 [00:26<00:08, 13.84it/s]"
     ]
    },
    {
     "name": "stdout",
     "output_type": "stream",
     "text": [
      "Source: Okay, that’s four possible answers to the objection, “But we can’t go to war with a billion Muslims!”\n",
      "Target: Dobre, to sú štyri možné odpovede na námietku, „Ale nemôžeme ísť do vojny s miliardou moslimov!“.\n",
      "Prediction: Okej, to je štyri možné odpovede na námietku, ale nemôžeme ísť do vojny s miliardou moslimov!\n",
      "Source: 1.6 And again, when he brings the firstborn into the world, he says, “Let all God’s angels worship him.”\n",
      "Target: 6A znova, keď uvádza prvorodeného na svet, hovorí: \"Nech sa mu klaňajú všetci Boží anjeli.\"\n",
      "Prediction: 1.6 A opäť, keď privedie prvorodeného na svet, hovorí: \"Nech ho uctievajú všetci Bohovia anjeli.\n",
      "Source: 'to give his people the knowledge of salvation through the forgiveness of their sins'\n",
      "Target: V deň spásy „…dať Jeho ľudu známosť spasenia, záležajúceho v odpustení ich hriechov…“\n",
      "Prediction: \"aby dal svojmu ľudu poznanie spásy skrze odpustenie ich hriechov\"\n"
     ]
    },
    {
     "name": "stderr",
     "output_type": "stream",
     "text": [
      "Evaluating:  78%|███████▊  | 389/500 [00:26<00:07, 15.15it/s]"
     ]
    },
    {
     "name": "stdout",
     "output_type": "stream",
     "text": [
      "Source: “There are no tales finer than those created by life itself.”\n",
      "Target: \"Niet krajších rozprávok ako tie, ktoré píše sám život.\"\n",
      "Prediction: Nie sú žiadne príbehy jemnejšie ako tie, ktoré vytvoril život sám.\n",
      "Source: “In addition to the European plan ... we will take a national step.\n",
      "Target: \"Okrem európskeho plánu ... podnikneme vlastné národné kroky.\n",
      "Prediction: Okrem európskeho plánu podnikneme aj kroky na vnútroštátnej úrovni.\n",
      "Source: Did his dad compliment him on any of his 4,493 victories?\n",
      "Target: Páčilo sa jeho otec ho pochváliť na niektorom zo svojich 4,493 víťazstvo?\n",
      "Prediction: Pochválil ho jeho otec z jeho 4 493 víťazstiev?\n",
      "Source: Then he said to them, ‘How can they say that the Messiah is David’s son?\n",
      "Target: I povedal im (Ježiš): Ako môžu hovoriť o Mesiášovi, že je synom Dávidovým,\n",
      "Prediction: Potom im povedal: \"Ako môžu povedať, že Mesiáš je syn Dávida?\n"
     ]
    },
    {
     "name": "stderr",
     "output_type": "stream",
     "text": [
      "Evaluating:  79%|███████▊  | 393/500 [00:26<00:06, 16.72it/s]"
     ]
    },
    {
     "name": "stdout",
     "output_type": "stream",
     "text": [
      "Source: This is your choice, not God’s.\n",
      "Target: Je to ale len tvoja voľba, nie Božia vôľa.\n",
      "Prediction: Toto je tvoja voľba, nie Boh.\n",
      "Source: \"God hath not called us for uncleanness, but for sanctifieation.\"\n",
      "Target: Veď Boh nás nepovolal pre nečistotu, ale pre posvätenie.\"\n",
      "Prediction: \"Boh nás nepovolal pre nečistotu, ale pre posvätenie.\"\n",
      "Source: Maybe you liked another name for cars?\n",
      "Target: Možno sa vám páčilo iné meno pre autá?\n",
      "Prediction: Možno sa ti páčilo ďalšie meno pre autá?\n",
      "Source: Those are some of Satan’s designs.\n",
      "Target: To sú niektoré zo satanových úmyslov.\n",
      "Prediction: To sú niektoré zo Satanových plánov.\n",
      "Source: If you lie, I will know.”\n",
      "Target: A keď klameš, viem to.\"\n",
      "Prediction: Ak klameš, budem to vedieť.\n"
     ]
    },
    {
     "name": "stderr",
     "output_type": "stream",
     "text": [
      "Evaluating:  80%|███████▉  | 399/500 [00:26<00:05, 19.60it/s]"
     ]
    },
    {
     "name": "stdout",
     "output_type": "stream",
     "text": [
      "Source: “There is no doubt, My Lord.”\n",
      "Target: \"Neexistuje žiadna pochybnosť, výsosť.\"\n",
      "Prediction: O tom niet pochýb, môj pane.\n",
      "Source: She said, \"He's dead!\n",
      "Target: kričala: \"Je mŕtvy!\n",
      "Prediction: Povedala, \"Je mŕtvy!\n",
      "Source: We are part of that soul, so we rarely recognize that it is working for us.\"\n",
      "Target: “Sme súčasťou tejto Duša a málokedy si uvedomujeme, že ona vždy pracuje v náš prospech.”\n",
      "Prediction: Sme súčasťou tejto duše, takže len zriedka si uvedomujeme, že pracuje pre nás.\"\n",
      "Source: If you lie, it becomes a part of your future.”\n",
      "Target: Ak klameš, stáva sa to súčasťou tvojej budúcnosti.\"\n",
      "Prediction: Ak klamete, stane sa súčasťou vašej budúcnosti.\n"
     ]
    },
    {
     "name": "stderr",
     "output_type": "stream",
     "text": [
      "Evaluating:  80%|████████  | 401/500 [00:27<00:05, 17.22it/s]"
     ]
    },
    {
     "name": "stdout",
     "output_type": "stream",
     "text": [
      "Source: A person may, for instance, be determined to seek financial prosperity, whereas God’s first priority for him is righteousness.\n",
      "Target: Niekto je napríklad rozhodnutý usilovať o finančnú prosperitu, zatiaľ čo Boh pre neho má na prvom mieste spravodlivosť.\n",
      "Prediction: Napríklad človek môže byť rozhodnutý usilovať sa o finančnú prosperitu, zatiaľ čo prvoradou prioritou Boha je spravodlivosť.\n",
      "Source: “When God’s people come together for one purpose, God can do mighty things.\n",
      "Target: \"Ak má Kristus v človeku získať priestor, Boh musí urobiť jedno.\n",
      "Prediction: Keď sa Boh spojí s jedným cieľom, Boh môže robiť mocné veci.\n",
      "Source: Moreover, and probably most importantly, we have our own individual Divine Mother.\n",
      "Target: Navyše a pravdepodobne najdôležitejšie je to, že máme vlastnú individuálnu Božskú Matku.\n",
      "Prediction: Navyše, a čo je asi najdôležitejšie, máme vlastnú Božskú matku.\n",
      "Source: In the New Era of Peace, they will have so much more, so much perfection.\n",
      "Target: V Novej ére mieru, budú mať oveľa viac, tak veľa dokonalosti.\n",
      "Prediction: V Novej Ére pokoja budú mať oveľa viac, oveľa viac dokonalosti.\n"
     ]
    },
    {
     "name": "stderr",
     "output_type": "stream",
     "text": [
      "Evaluating:  81%|████████▏ | 407/500 [00:27<00:05, 15.76it/s]"
     ]
    },
    {
     "name": "stdout",
     "output_type": "stream",
     "text": [
      "Source: That way, you have two fully guaranteed policies instead of one partially guaranteed policy.\n",
      "Target: Týmto spôsobom, máte dve plne zaručená politiky namiesto jedného čiastočne zaručené politiky.\n",
      "Prediction: Týmto spôsobom máte dve plne garantované politiky namiesto jednej čiastočne garantovanej politiky.\n",
      "Source: I represent bigger women,\" because I did.\n",
      "Target: Zastupujem väčšie ženy, \" pretože som to urobil.\n",
      "Prediction: Zastupujem väčšie ženy,\" pretože som to urobil.\n",
      "Source: 10 Then you will bring the Levites into the LORD's presence, and the Israelites will lay their hands on the Levites.\n",
      "Target: 10Tu levitov predvedieš pred Pána a Izraeliti vložia na nich svoje ruky.\n",
      "Prediction: 10 vtedy vovedieš Levitov do tvári Hospodinovej, a Izraeliti vzložia svoje ruky na Levitov.\n",
      "Source: The Earth is full of the KNOWLEDGE of the Lord’s Glory as water covers the Sea.\n",
      "Target: Lebo zem bude plná poznania Pánovej slávy ako vody, ktoré pokrývajú more.\n",
      "Prediction: Zem je plná ZNALOSTÍ Pána Slávy ako voda pokrýva more.\n"
     ]
    },
    {
     "name": "stderr",
     "output_type": "stream",
     "text": [
      "Evaluating:  82%|████████▏ | 412/500 [00:27<00:04, 18.60it/s]"
     ]
    },
    {
     "name": "stdout",
     "output_type": "stream",
     "text": [
      "Source: God's Kingdom is among you.\n",
      "Target: Božie kráľovstvo je medzi vami\n",
      "Prediction: Božie Kráľovstvo je medzi vami.\n",
      "Source: What if political activity includes all the parasitical and destructive things the government does?\n",
      "Target: Čo ak politická aktivita zahŕňa všetky parazitické a deštruktívne veci, ktoré robí vláda?\n",
      "Prediction: Čo ak politická činnosť zahŕňa všetky parazitické a ničivé veci, ktoré vláda robí?\n",
      "Source: They were not told to look at Moses.\n",
      "Target: Nebolo im povedané, aby sa pozreli na Mojžiša.\n",
      "Prediction: Nebolo im povedané, aby sa pozerali na Mojžiša.\n",
      "Source: Then Moses inquired of the name of God.\n",
      "Target: Mojžiš (mier s ním) sa spýtal Allaha (Oslavovaný a Vyvýšený):\n",
      "Prediction: Potom sa Mojžiš pýtal Božieho mena.\n",
      "Source: Those allegations are untrue.”\n",
      "Target: Tieto obvinenia sú nepravdivé.“\n",
      "Prediction: Tieto obvinenia nie sú pravdivé.\n"
     ]
    },
    {
     "name": "stderr",
     "output_type": "stream",
     "text": [
      "Evaluating:  83%|████████▎ | 416/500 [00:27<00:04, 17.02it/s]"
     ]
    },
    {
     "name": "stdout",
     "output_type": "stream",
     "text": [
      "Source: There is no God except Him, creator of everything, so serve Him.\n",
      "Target: Niet boha okrem Neho, stvoriteľ všetkého, tak Ho (a len jeho) uctievajte.\n",
      "Prediction: Neexistuje žiadny Boh okrem Neho, stvoriteľa všetkého, tak mu slúžiť.\n",
      "Source: \"Cancel Justin's concert in the UK, please!\n",
      "Target: \"Zrušte Justinov koncert v Spojenom kráľovstve, prosím!\n",
      "Prediction: \"Zrušiť Justinov koncert vo Veľkej Británii, prosím!\n",
      "Source: 5 The will receive the Lord’s blessings and have a right relationship with God their Savior.\n",
      "Target: 5 Dostane požehnanie od Hospodina a spravodlivú odmenu od Boha svojej spásy.\n",
      "Prediction: 5 Vôľa dostane Pána požehnania a majú správny vzťah s Bohom, ich Spasiteľom.\n",
      "Source: “Simon Mol always accused everybody of racism.\n",
      "Target: „Simon Mol vždy všetkých obviňoval z rasizmu.\n",
      "Prediction: Simon Mol vždy obviňoval každého z rasizmu.\n"
     ]
    },
    {
     "name": "stderr",
     "output_type": "stream",
     "text": [
      "Evaluating:  84%|████████▎ | 418/500 [00:28<00:04, 16.78it/s]"
     ]
    },
    {
     "name": "stdout",
     "output_type": "stream",
     "text": [
      "Source: How can my lord's servant talk with my lord?\n",
      "Target: Ako by teda mohol sluha môjho pána hovoriť tu s mojím pánom?\n",
      "Prediction: Ako môže sluha môjho pána hovoriť s mojím lordom?\n",
      "Source: This, my followers, is the time for the third seal to be revealed.\n",
      "Target: Toto, moji nasledovníci, je čas, aby bola odhalená tretia pečať.\n",
      "Prediction: Toto, moji nasledovníci, je čas odhaliť tretiu pečať.\n",
      "Source: \"Through His name everyone who believes in Him receives forgiveness of sins.\"\n",
      "Target: \"Pre jeho meno dosiahne odpustenie hriechov každý, kto v neho verí.\"\n",
      "Prediction: \"Prostredníctvom svojho mena každý, kto verí v Neho, dostane odpustenie hriechov.\"\n"
     ]
    },
    {
     "name": "stderr",
     "output_type": "stream",
     "text": [
      "Evaluating:  84%|████████▍ | 422/500 [00:28<00:04, 15.94it/s]"
     ]
    },
    {
     "name": "stdout",
     "output_type": "stream",
     "text": [
      "Source: 1The king's heart is a stream of water in the hand of the LORD; he turns it wherever he will.\n",
      "Target: 1Sťa vodná struha je srdce kráľa v ruke Pánovej, vedie ho, kamkoľvek chce.\n",
      "Prediction: 1 Srdce kráľovo je prúdom vody v ruke Hospodinovej; odvráti ho všade, kam chce.\n",
      "Source: God has the last word, and God’s word is Life.\n",
      "Target: Boh je len jeden a uveriť Božiemu Slovu je život.\n",
      "Prediction: Boh má posledné slovo, a Boh slovo je život.\n",
      "Source: The new constitution was also withdrawn, along with the guarantees to the Christians.\n",
      "Target: Nová ústava bola takisto stiahnutá, spolu so zárukami pre kresťanov.\n",
      "Prediction: Nová ústava bola tiež stiahnutá, spolu so zárukami pre kresťanov.\n",
      "Source: 31 But they said, “Should he treat our sister as a whore?”\n",
      "Target: 31 (KAT) Oni však odpovedali: „Vari mohol s našou sestrou zaobchádzať ako s pobehlicou?!“\n",
      "Prediction: 31 Ale oni povedali: Či by sa mal správať k našej sestre ako ku kurve?\n"
     ]
    },
    {
     "name": "stderr",
     "output_type": "stream",
     "text": [
      "Evaluating:  85%|████████▌ | 426/500 [00:28<00:04, 15.27it/s]"
     ]
    },
    {
     "name": "stdout",
     "output_type": "stream",
     "text": [
      "Source: (2) 1day-For our existing samples for reference.\n",
      "Target: (2) 1-dňový-Pre naše existujúce vzorky pre referencie.\n",
      "Prediction: (2) 1 deň-Pre naše existujúce vzorky pre referencie.\n",
      "Source: That is God’s mercy to YOU.\n",
      "Target: Nech vám v tom pomáha Božia milosť\n",
      "Prediction: To je Božie milosrdenstvo k VÁS.\n",
      "Source: It's better for you to enter life lame than to be thrown into hell with two feet.\n",
      "Target: Je pre teba lepšie, aby si vošiel do života chromý, než aby si bol s dvoma nohami uvrhnutý do gehenny.\n",
      "Prediction: Je pre teba lepšie vstúpiť do života chromý ako byť hodený do pekla s dvoma nohami.\n"
     ]
    },
    {
     "name": "stderr",
     "output_type": "stream",
     "text": [
      "Evaluating:  86%|████████▌ | 428/500 [00:28<00:04, 15.58it/s]"
     ]
    },
    {
     "name": "stdout",
     "output_type": "stream",
     "text": [
      "Source: You were only sold off for your sins, and your mother dismissed for your crimes.”\n",
      "Target: Hľa, pre svoje hriechy ste boli predaní, pre vaše zločiny bola prepustená vaša matka. ”\n",
      "Prediction: Bol si vypredaný len za svoje hriechy, a tvoja matka odmietla za tvoje zločiny.\n",
      "Source: Yes, and increase surveillance on all new immigrants\n",
      "Target: Áno, a zvýšiť dohľad na všetkých nových prisťahovalcov\n",
      "Prediction: Áno, a zvýšiť dohľad nad všetkými novými prisťahovalcami\n"
     ]
    },
    {
     "name": "stderr",
     "output_type": "stream",
     "text": [
      "Evaluating:  86%|████████▋ | 432/500 [00:29<00:05, 13.56it/s]"
     ]
    },
    {
     "name": "stdout",
     "output_type": "stream",
     "text": [
      "Source: – having regard to the proposal for a recommendation to the Council by Graham Watson on behalf of the ALDE Group, on a consistent policy towards authoritarian regimes, against whom the EU applies restrictive measures, when they exercise their personal and commercial interests within EU borders (B7-0235/2011),\n",
      "Target: so zreteľom na návrh odporúčania Rade, ktorý v mene skupiny ALDE predložil Graham Watson, o jednotnej politike voči autoritárskym režimom, proti ktorým EÚ uplatňuje reštriktívne opatrenia, keď sledujú svoje osobné a obchodné záujmy v rámci EÚ (B7-0235/2011),\n",
      "Prediction: so zreteľom na návrh odporúčania Grahama Watsona Rade v mene skupiny ALDE o konzistentnej politike voči autoritárskym režimom, proti ktorým EÚ uplatňuje reštriktívne opatrenia, keď vykonávajú svoje osobné a obchodné záujmy v rámci hraníc EÚ (B7-0235/2011),\n",
      "Source: [8] See my article, 'The New Age Worldview: Is It Believable?'.\n",
      "Target: [8] Pozri môj článok 'The New Age Worldview: Is It Believable?'.\n",
      "Prediction: [8] Pozri článok \"Svetový pohľad na nový vek: Je verný?'.\n",
      "Source: \"So you don't accept God's moral code to do with what is righteous?\"\n",
      "Target: „Takže vy neakceptujete Boží morálny zákonník, ktorý nám prikazuje robiť to, čo je spravodlivé?“\n",
      "Prediction: \"Takže neprijímate Boží morálny kódex, aby ste urobili to, čo je spravodlivé?\"\n",
      "Source: That was not God's will.\n",
      "Target: To nebola Božia vôľa.\n",
      "Prediction: To nebola Božia vôľa.\n"
     ]
    },
    {
     "name": "stderr",
     "output_type": "stream",
     "text": [
      "Evaluating:  87%|████████▋ | 436/500 [00:29<00:04, 14.82it/s]"
     ]
    },
    {
     "name": "stdout",
     "output_type": "stream",
     "text": [
      "Source: I use it for a month, for which the ugly stars are much smaller. ”\n",
      "Target: Používam ho po dobu jedného mesiaca, pre ktorý sú škaredé hviezdy omnoho menšie. ”\n",
      "Prediction: Používam ho mesiac, za ktorý sú škaredé hviezdy oveľa menšie. oooooo. kgm\n",
      "Source: What if I was in Jack's place?\n",
      "Target: Čo ak by som bola na Jackovom mieste?\n",
      "Prediction: Čo keby som bol na Jackovom mieste?\n",
      "Source: So if a mistake is made in the team, it is you that has made it, not the dog.”\n",
      "Target: Takže ak bola urobená chyba v tíme, ste to Vy, kto ju urobil, nie Váš pes..\n",
      "Prediction: Takže ak sa v tíme robí chyba, ste to vy, kto to urobil, nie pes.\n",
      "Source: He warneth you that haply ye may be mindful\" (16:92).\n",
      "Target: mali sa orientovať na tvoje schopnosti a nie na to, do čoho ich nič nie je ]-( ]-( ]-( ]-(\n",
      "Prediction: Varuje vás, aby ste boli rozumní\" (16:92).\n"
     ]
    },
    {
     "name": "stderr",
     "output_type": "stream",
     "text": [
      "Evaluating:  88%|████████▊ | 438/500 [00:29<00:03, 15.88it/s]"
     ]
    },
    {
     "name": "stdout",
     "output_type": "stream",
     "text": [
      "Source: But praise to Allah, they released him.\n",
      "Target: chváliť Boha; pospiechali za Ním.\n",
      "Prediction: Ale chvála Alahovi, oni ho prepustili.\n",
      "Source: Then your Father in heaven will forgive your sins also.”\n",
      "Target: Keď pánboh zdravia dá, aj hriechy budú »\n",
      "Prediction: Potom aj váš Otec v nebi odpustí vaše hriechy.\n",
      "Source: Even in the hardest and most disturbing moments, the Lord's mercy and goodness are greater than every thing.\n",
      "Target: ◊ Aj v najťažších a v najskľučujúcejších momentoch milosrdenstvo a dobrota Pána prevýšia všetko.\n",
      "Prediction: Aj v najťažších a najrušnejších chvíľach je Pánovo milosrdenstvo a dobrota väčšia ako každá vec.\n"
     ]
    },
    {
     "name": "stderr",
     "output_type": "stream",
     "text": [
      "Evaluating:  89%|████████▊ | 443/500 [00:29<00:03, 16.95it/s]"
     ]
    },
    {
     "name": "stdout",
     "output_type": "stream",
     "text": [
      "Source: And human beings are made in God’s image (Gn 1:26).\n",
      "Target: Trojakosť vystupuje i v duši, ktorá je stvorená na Boží obraz (porov. Gn 1,26).\n",
      "Prediction: A ľudské bytosti sú stvorené na obraze Boha (Gn 1:26).\n",
      "Source: King and Sands (2015) also offers practical tips.\n",
      "Target: King and Sands (2015) tiež ponúkajú praktické tipy.\n",
      "Prediction: King and Sands (2015) ponúka aj praktické tipy.\n",
      "Source: And some even said, this would be Stasi 2.0.\n",
      "Target: Niektorí dokonca povedali, že by to bola Stasi 2.0.\n",
      "Prediction: A niektorí dokonca povedali, že to bude Stasi 2.0.\n",
      "Source: How many customers led the farmer to the Internet\n",
      "Target: Koľko zákazníkov viedlo farmára k internetu\n",
      "Prediction: Koľko zákazníkov viedlo farmára k internetu\n"
     ]
    },
    {
     "name": "stderr",
     "output_type": "stream",
     "text": [
      "Evaluating:  89%|████████▉ | 447/500 [00:29<00:03, 16.18it/s]"
     ]
    },
    {
     "name": "stdout",
     "output_type": "stream",
     "text": [
      "Source: 15 Pharaoh’s officials saw her and praised her to Pharaoh; and the woman was taken into Pharaoh’s house.\n",
      "Target: 15A keď ju videli faraónovi dvorania, chválili ju pred faraónom a ženu odviedli do faraónovho domu.\n",
      "Prediction: 15 Videli ju faraóni a chválili ju faraonovi, a žena bola vzatá do domu faraona.\n",
      "Source: #EAPM – Member states must act together.\n",
      "Target: #EAPM - Členské štáty musia konať spoločne.\n",
      "Prediction: Členské štáty musia konať spoločne.\n",
      "Source: His mother said to the servant “Do whatever he tells you.”\n",
      "Target: Jeho matka povedala obsluhujúcim: \"Urobte všetko, čo vám povie!\"\"\n",
      "Prediction: Jeho matka povedala sluhovi, nech ti povie čokoľvek.\n",
      "Source: 34 Now when Jesus saw that he answered wisely, He said to him, \"You are not far from the kingdom of God.\"\n",
      "Target: 34 Keď Ježiš počul, ako správne to pochopil, povedal mu: Ty nie si ďaleko od Božieho kráľovstva.\"\n",
      "Prediction: 34 A keď videl Ježiš, že múdro odpovedal, povedal mu: Nie si ďaleko od kráľovstva Božieho.\n"
     ]
    },
    {
     "name": "stderr",
     "output_type": "stream",
     "text": [
      "Evaluating:  90%|█████████ | 452/500 [00:30<00:02, 16.48it/s]"
     ]
    },
    {
     "name": "stdout",
     "output_type": "stream",
     "text": [
      "Source: I declare it both to heaven and to earth, that the Word of God is increasing in people’s hearts and lives, the number of disciples is being multiplied greatly, and a large number of people are obedient to the faith.\n",
      "Target: Vyznávam smerom k nebesiam i k zemi, že Slovo Božie rastie a šíri sa v srdciach ľudí a počet učeníkov rastie, mnohí nasledujú vieru.\n",
      "Prediction: Oznámim to nebu i zemi, že Božie Slovo rastie v srdciach a životoch ľudí, počet učeníkov sa veľmi znásobuje a veľký počet ľudí je poslušný viere.\n",
      "Source: Am I not better to you than ten sons?’\n",
      "Target: Vari som ti ja nie lepší ako desať synov?“\n",
      "Prediction: Nie som ti lepší ako desať synov?\n",
      "Source: To reject God’s Savior is to reject God’s salvation.\n",
      "Target: Odmietnuť plniť Božiu vôľu znamená odmietnuť ponúknutú spásu.\n",
      "Prediction: Odmietnuť Spasiteľa Boha znamená odmietnuť spásu Boha.\n",
      "Source: If Michael Bay was a Religion\n",
      "Target: Ak bol Michael Bay náboženstvom\n",
      "Prediction: Ak bol Michael Bay náboženstvom\n",
      "Source: “MJ will be my new name No more Michael Jackson.\n",
      "Target: \"MJ bude moje nové meno, už žiadny Michael Jackson.\n",
      "Prediction: Moje nové meno už nebude Michael Jackson.\n"
     ]
    },
    {
     "name": "stderr",
     "output_type": "stream",
     "text": [
      "Evaluating:  91%|█████████ | 454/500 [00:30<00:02, 16.86it/s]"
     ]
    },
    {
     "name": "stdout",
     "output_type": "stream",
     "text": [
      "Source: How Much Do The Richest Authors Today Make – Per Word?\n",
      "Target: Koľko robia dnes najbohatší autori - podľa slova?\n",
      "Prediction: Koľko robia dnes najbohatší autori na každé slovo?\n",
      "Source: As regards the system and its various functions, Andreas cannot be more specific.\n",
      "Target: Pokiaľ ide o systém a jeho jednotlivé funkcie, Andreas nemôže byť konkrétnejší.\n",
      "Prediction: Pokiaľ ide o systém a jeho rôzne funkcie, Andreas nemôže byť konkrétnejší.\n",
      "Source: They will not listen to me or to Russia’s Foreign Minister.\n",
      "Target: Nebudú počúvať mňa alebo ruského ministra zahraničia.\n",
      "Prediction: Nebudú počúvať mňa ani Rusko ministra zahraničných vecí.\n",
      "Source: We don't want to see Erdoğan in our country again.\"\n",
      "Target: Nechceme znovu vidieť Erdoğana v našej krajine.\"\n",
      "Prediction: Nechceme znovu vidieť Erdoğana v našej krajine.\"\n"
     ]
    },
    {
     "name": "stderr",
     "output_type": "stream",
     "text": [
      "Evaluating:  92%|█████████▏| 460/500 [00:30<00:02, 17.92it/s]"
     ]
    },
    {
     "name": "stdout",
     "output_type": "stream",
     "text": [
      "Source: That’s right – the name is as ugly as the car.\n",
      "Target: To je pravda – meno je také škaredé ako auto.\n",
      "Prediction: To je pravda, meno je rovnako škaredé ako auto.\n",
      "Source: Are these not God’s children?\n",
      "Target: Nie sú aj tí homosexuáli božie deti?\n",
      "Prediction: Nie sú to deti od Boha?\n",
      "Source: 'Behind the steps of Mary and Joseph are many steps hidden.\n",
      "Target: V krokoch Jozefa a Márie sa ukrývajú mnohé kroky.\n",
      "Prediction: Za krokmi Márie a Jozefa je mnoho skrytých krokov.\n",
      "Source: Just as the rich man in Luke 16, you'll remember it all!\n",
      "Target: Rovnako ako bohatý muž v Luke 16, budete pamätať všetko!\n",
      "Prediction: Tak ako bohatý muž v Lukášovi 16, aj ty si na to všetko spomenieš!\n"
     ]
    },
    {
     "name": "stderr",
     "output_type": "stream",
     "text": [
      "Evaluating:  92%|█████████▏| 462/500 [00:30<00:02, 15.92it/s]"
     ]
    },
    {
     "name": "stdout",
     "output_type": "stream",
     "text": [
      "Source: He came down from the heavens, and He is joining Himself to the living soul that died.\n",
      "Target: Z neba mal stúpiť, - smrťou vykúpiť - celý svet - [:predpovedaný, - zrodený z Panny - ako kvet.:]\n",
      "Prediction: Prišiel z nebies, a On sa pripojí k živej duši, ktorá zomrela.\n",
      "Source: First, God’s will of command is revealed with final, decisive authority only in the Bible.\n",
      "Target: Po prvé, vôľa Božích prikázaní je zjavená v absolútne rozhodnej autorite — v Biblii.\n",
      "Prediction: Po prvé, Božia vôľa prikázania je zjavená s konečnou, rozhodujúcou autoritou iba v Biblii.\n",
      "Source: Ask them for their consent, ask them if they want to be helped.\n",
      "Target: ask them for (help) → žiadať ich o (pomoc)žiadať ich o (pomoc)\n",
      "Prediction: Požiadajte ich o ich súhlas, opýtajte sa ich, či chcú, aby im niekto pomohol.\n"
     ]
    },
    {
     "name": "stderr",
     "output_type": "stream",
     "text": [
      "Evaluating:  93%|█████████▎| 466/500 [00:31<00:02, 15.95it/s]"
     ]
    },
    {
     "name": "stdout",
     "output_type": "stream",
     "text": [
      "Source: 34 For God sent Him, and He speaks God’s words, since He gives the Spirit without measure.\n",
      "Target: 34 Koho poslal Boh, ten hovorí slová Boha, lebo on dáva Ducha neobmedzene.\n",
      "Prediction: 34 Lebo ho poslal Bôh, a hovorí slová Boha, pretože dáva Ducha bez miery.\n",
      "Source: Come to Jesus and receive God’s forgiveness.\n",
      "Target: Prijmi Ježišovo odpustenie aj odpustenie dieťaťa.\n",
      "Prediction: Príď k Ježišovi a prijmi odpustenie od Boha.\n",
      "Source: Of course, Bush was re-elected, so… good job fellas.\n",
      "Target: Samozrejme, Bush bol opätovne zvolený, takže ... dobrí zamestnanci.\n",
      "Prediction: Samozrejme, Bush bol znovu zvolený, takže... dobrá práca chlapi.\n"
     ]
    },
    {
     "name": "stderr",
     "output_type": "stream",
     "text": [
      "Evaluating:  94%|█████████▍| 470/500 [00:31<00:01, 15.17it/s]"
     ]
    },
    {
     "name": "stdout",
     "output_type": "stream",
     "text": [
      "Source: I am praying with you and for you, little children, that from day to day you may become still more open to God's will.\n",
      "Target: Modlím sa s vami a za vás, dietky, aby ste sa zo dňa na deň stávali stále otvorenejšími Božej vôli.\n",
      "Prediction: Modlím sa s vami a za vás, milé deti, aby ste sa zo dňa na deň stali ešte otvorenejší Božej vôli.\n",
      "Source: And then the answer appeared - her horse Toffee.\n",
      "Target: A potom sa objavila odpoveď - jej kôň Toffee.\n",
      "Prediction: A potom sa objavila odpoveď - jej kôň Toffee.\n",
      "Source: In this context, the new Regulation 1408/71 might contribute to creating new and problematic situations.\n",
      "Target: V tomto kontexte by mohlo nové nariadenie 1408/71 prispieť k vytvoreniu nových a problematických situácií.\n",
      "Prediction: V tejto súvislosti by nové nariadenie 1408/71 mohlo prispieť k vytvoreniu nových a problematických situácií.\n",
      "Source: He replied, “Yes, until it becomes like mountains.\n",
      "Target: A nato on: „Než objavia sa schody,\n",
      "Prediction: Odpovedal, áno, až sa stane ako hory.\n"
     ]
    },
    {
     "name": "stderr",
     "output_type": "stream",
     "text": [
      "Evaluating:  94%|█████████▍| 472/500 [00:31<00:02, 13.95it/s]"
     ]
    },
    {
     "name": "stdout",
     "output_type": "stream",
     "text": [
      "Source: You know how to discern the face of the sky, but you cannot discern the signs of the times.” ‭‭\n",
      "Target: oblohy dokážete rozoznať ale znak času nedokážete.”\n",
      "Prediction: Viete, ako rozpoznať tvár oblohy, ale nemôžete rozoznať znamenia časov.\n",
      "Source: \"None of you will have faith until he wishes for his brother what he wishes for himself.\"\n",
      "Target: „Nikto z vás nebude veriacim, kým si nebude želať pre svojho brata to, čo si želá pre seba.\"\n",
      "Prediction: \"Nikto z vás nebude veriť, kým si nepraje pre svojho brata to, čo si praje pre seba.\"\n",
      "Source: God's chastisements are acts of love.\n",
      "Target: Tie božské činy sú činy lásky.\n",
      "Prediction: Božie pokarhania sú skutkami lásky.\n"
     ]
    },
    {
     "name": "stderr",
     "output_type": "stream",
     "text": [
      "Evaluating:  95%|█████████▌| 476/500 [00:31<00:01, 13.28it/s]"
     ]
    },
    {
     "name": "stdout",
     "output_type": "stream",
     "text": [
      "Source: And even beyond that, as he neared death Jesus said, \"Father, forgive them, for they do not know what they are doing.\"\n",
      "Target: A dokonca okrem toho, ako sa blížila smrť, Ježiš povedal, \"Otče, odpusť im, lebo nevedia, čo robia!\"\n",
      "Prediction: A ešte viac, ako sa priblížil smrti Ježiš povedal: \"Otče, odpusť im, lebo nevedia, čo robia.\"\n",
      "Source: Joseph gave them wagons according to Pharaoh's instructions, and he also provided them with food for the journey.\n",
      "Target: A Jozef im dal vozy podľa rozkazu faraonovho a dal im aj potravy na cestu.\n",
      "Prediction: Jozef im dal vozy podľa faraónových pokynov a tiež im zaobstaral pokrm na cestu.\n",
      "Source: This is the third time you came to Western Canada, is there still interest in Consular Days?\n",
      "Target: Toto je už tretí krát, keď ste prišli do západnej Kanady, je ešte stále záujem o Konzulárne dni?\n",
      "Prediction: Toto je už tretí krát, čo ste prišli do západnej Kanady, je stále záujem o Konzulárne dni?\n"
     ]
    },
    {
     "name": "stderr",
     "output_type": "stream",
     "text": [
      "Evaluating:  96%|█████████▌| 480/500 [00:32<00:01, 14.09it/s]"
     ]
    },
    {
     "name": "stdout",
     "output_type": "stream",
     "text": [
      "Source: The sovereignty belongs to the people again — and now we will really start to apply our constitution.”\n",
      "Target: Suverenita patrí opäť ľudu – a teraz naozaj začneme uplatňovať našu ústavu.“\n",
      "Prediction: Zvrchovanosť patrí opäť ľuďom a teraz naozaj začneme uplatňovať našu ústavu.\n",
      "Source: They found him and said, \"Everybody's looking for you.\"\n",
      "Target: Keď ho našli, povedali mu: „Všetci ťa hľadajú.\"\n",
      "Prediction: Našli ho a povedali: \"Všetci ťa hľadajú.\"\n",
      "Source: Saying no also means refining your creative ideas....eventually.\n",
      "Target: Povedať nie znamená aj rafinácia svoje kreatívne nápady... nakoniec.\n",
      "Prediction: Povedať nie tiež znamená rafinovať svoje kreatívne nápady... nakoniec.\n",
      "Source: It was really hard to choose which countries to visit — my list was originally about 36 countries long!\n",
      "Target: Bolo to naozaj ťažké vybrať, ktoré krajiny navštíviť - môj zoznam bol pôvodne asi 36 krajín dlho!\n",
      "Prediction: Bolo naozaj ťažké vybrať si, ktoré krajiny navštíviť môj zoznam bol pôvodne asi 36 krajín dlhá!\n"
     ]
    },
    {
     "name": "stderr",
     "output_type": "stream",
     "text": [
      "Evaluating:  96%|█████████▋| 482/500 [00:32<00:01, 13.40it/s]"
     ]
    },
    {
     "name": "stdout",
     "output_type": "stream",
     "text": [
      "Source: Then, in Saqqara (Egypt), the remains of the ancestors of these animals were also found.\n",
      "Target: Potom v Saqqara (Egypt) boli nájdené a zvyšky predkov týchto zvierat.\n",
      "Prediction: Potom sa v Saqqare (Egypt) našli aj pozostatky predkov týchto zvierat.\n",
      "Source: It gives meaning to the Scripture: many are called (to the 1st resurrection), but few are chosen.\n",
      "Target: Pamätná veta z písma znie: Je veľa povolaných ale málo vyvolených.\n",
      "Prediction: Dáva zmysel Písmu: mnohí sú povolaní (k 1. vzkrieseniu), ale málo je vybraných.\n",
      "Source: They have strayed from the truth 1 by saying that the resurrection has already occurred, and they are undermining some people’s faith.\n",
      "Target: Oni zablúdili ďaleko od pravdy, keď tvrdia, že zmŕtvychvstanie už bolo, a nivočia vieru niektorých.\n",
      "Prediction: Zablúdili od pravdy 1 tým, že hovorili, že k vzkrieseniu už došlo a podkopávajú niektorých ľudí vierou.\n"
     ]
    },
    {
     "name": "stderr",
     "output_type": "stream",
     "text": [
      "Evaluating:  97%|█████████▋| 486/500 [00:32<00:01, 13.87it/s]"
     ]
    },
    {
     "name": "stdout",
     "output_type": "stream",
     "text": [
      "Source: I hope that many of us will meet again in the future – perhaps at another GS Trophy!”\n",
      "Target: Dúfam, že sa mnohí z nás v budúcnosti znova stretnú – možno na inej GS Trophy!“\n",
      "Prediction: Dúfam, že mnohí z nás sa opäť stretne v budúcnosti, možno v inom GS Trophy!\n",
      "Source: Why am I having them all now—in this lifetime?\n",
      "Target: Prečo ich mám všetky teraz - v tomto živote?\n",
      "Prediction: Prečo ich mám všetky teraz v tomto živote?\n",
      "Source: Glory to God in the highest, and peace to God’s people on earth!\n",
      "Target: Sláva Bohu navýsostiach, pokoj ľuďom na zemi!\n",
      "Prediction: Sláva Bohu na najvyššej úrovni a pokoj Bohu je ľudom na zemi!\n",
      "Source: First, Satan is not God’s counterpart.\n",
      "Target: Satan nie je súperom Boha.\n",
      "Prediction: Po prvé, Satan nie je náprotivok Boha.\n"
     ]
    },
    {
     "name": "stderr",
     "output_type": "stream",
     "text": [
      "Evaluating:  98%|█████████▊| 490/500 [00:32<00:00, 14.89it/s]"
     ]
    },
    {
     "name": "stdout",
     "output_type": "stream",
     "text": [
      "Source: When it comes to reducing emissions, however, we rely almost entirely on political governance structures.\n",
      "Target: Pokiaľ však ide o znižovanie emisií, takmer úplne sa spoliehame na politické štruktúry riadenia.\n",
      "Prediction: Pokiaľ však ide o znižovanie emisií, takmer úplne sa spoliehame na politické riadiace štruktúry.\n",
      "Source: We want to be sure that the trees we will sell to you in December will be really beautiful and healthy.\n",
      "Target: Chceme mať istotu, že stromčeky, ktoré Vám budeme v decembri predávať,budú naozaj krásne a zdravé.\n",
      "Prediction: Chceme si byť istí, že stromy, ktoré vám predáme v decembri, budú naozaj krásne a zdravé.\n",
      "Source: The manufacturer took this requirement into account in the year 2107.\n",
      "Target: Výrobca vzal túto požiadavku do úvahy v roku 2107.\n",
      "Prediction: Výrobca vzal túto požiadavku do úvahy v roku 2107.\n",
      "Source: All is happening in accordance with God’s will.\n",
      "Target: Všetko sa deje podľa vôli Božej.\n",
      "Prediction: Všetko sa deje v súlade s Božou vôľou.\n"
     ]
    },
    {
     "name": "stderr",
     "output_type": "stream",
     "text": [
      "Evaluating:  99%|█████████▉| 494/500 [00:33<00:00, 14.64it/s]"
     ]
    },
    {
     "name": "stdout",
     "output_type": "stream",
     "text": [
      "Source: And if he swears by heaven, he's swearing by the throne of God, and by Him Who sits on it.\n",
      "Target: A kto prisahá na nebo, prisahá na Boží trón i na Toho, ktorý na ňom sedí.\n",
      "Prediction: A ak prisahá na nebo, prisahá na Boží trón a na Neho, ktorý na ňom sedí.\n",
      "Source: (*) Liechtenstein will contribute through proportional financial support.\n",
      "Target: (*) Lichtenštajnsko poskytne príspevok prostredníctvom proporcionálnej finančnej podpory.\n",
      "Prediction: (*) Lichtenštajnsko prispeje prostredníctvom primeranej finančnej podpory.\n",
      "Source: The Comprehensive Economic and Trade Agreement with Canada should not be ratified, as it also contains this kind of investor protection.”\n",
      "Target: Komplexná hospodárska a obchodná dohoda s Kanadou by nemala byť podpísaná, keďže tiež obsahuje takýto druh ochrany investora.“\n",
      "Prediction: Komplexná hospodárska a obchodná dohoda s Kanadou by sa nemala ratifikovať, pretože obsahuje aj tento druh ochrany investorov.\n",
      "Source: “Greece demands and gets a lot of solidarity from the EU.\n",
      "Target: \"Grécko žiada a dostáva veľkú solidaritu z EÚ.\n",
      "Prediction: Grécke požiadavky a dostáva veľa solidarity od EÚ.\n"
     ]
    },
    {
     "name": "stderr",
     "output_type": "stream",
     "text": [
      "Evaluating: 100%|█████████▉| 498/500 [00:33<00:00, 16.21it/s]"
     ]
    },
    {
     "name": "stdout",
     "output_type": "stream",
     "text": [
      "Source: I believe in God even when He's silent.\"\n",
      "Target: Verím v Boha, aj keď mlčí.\"\n",
      "Prediction: Verím v Boha, aj keď je tichý.\"\n",
      "Source: “When you pray, do not be like the hypocrites.”\n",
      "Target: “ Keď sa modlíte, nebuďte ako pokrytci.\n",
      "Prediction: Keď sa modlíte, nebuďte ako pokrytci.\n",
      "Source: Abraham believed God’s promise and God counted it to him as righteousness.\n",
      "Target: Uveril tomu, čo mu Boh zasľúbil o veľkom národe a Boh mu jeho vieru počítal za spravodlivosť.\n",
      "Prediction: Abrahám veril sľubu Boha a Boh mu ho považoval za spravodlivosť.\n",
      "Source: Thus, human work corresponds with God’s will.\n",
      "Target: Vtedy sa vôľa človeka zjednocuje s vôľou Božou.\n",
      "Prediction: Teda ľudské dielo zodpovedá Božej vôli.\n"
     ]
    },
    {
     "name": "stderr",
     "output_type": "stream",
     "text": [
      "Evaluating: 100%|██████████| 500/500 [00:33<00:00, 14.95it/s]"
     ]
    },
    {
     "name": "stdout",
     "output_type": "stream",
     "text": [
      "Source: bet-at-home also believes in fair game.\n",
      "Target: bet-at-home tiež verí vo fér hru.\n",
      "Prediction: bet-at-home tiež verí vo fair game.\n",
      "BLEU: 0.3151, CHRF2: 0.4731\n"
     ]
    },
    {
     "name": "stderr",
     "output_type": "stream",
     "text": [
      "\n"
     ]
    },
    {
     "data": {
      "text/plain": [
       "(tensor(0.3151), 0.47314069245854923)"
      ]
     },
     "execution_count": 19,
     "metadata": {},
     "output_type": "execute_result"
    }
   ],
   "execution_count": 19
  },
  {
   "metadata": {},
   "cell_type": "code",
   "outputs": [],
   "execution_count": null,
   "source": "",
   "id": "d5bfeb5b58569056"
  }
 ],
 "metadata": {
  "kernelspec": {
   "display_name": "Python 3",
   "language": "python",
   "name": "python3"
  },
  "language_info": {
   "codemirror_mode": {
    "name": "ipython",
    "version": 2
   },
   "file_extension": ".py",
   "mimetype": "text/x-python",
   "name": "python",
   "nbconvert_exporter": "python",
   "pygments_lexer": "ipython2",
   "version": "2.7.6"
  }
 },
 "nbformat": 4,
 "nbformat_minor": 5
}
