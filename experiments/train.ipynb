{
 "cells": [
  {
   "metadata": {
    "collapsed": true,
    "ExecuteTime": {
     "end_time": "2024-11-20T17:09:08.394083Z",
     "start_time": "2024-11-20T17:09:07.961938Z"
    }
   },
   "cell_type": "code",
   "source": [
    "%load_ext autoreload\n",
    "%autoreload 2\n",
    "\n",
    "from mint.model import Transformer\n",
    "from mint.config import config, to_dict\n",
    "from mint.trainer import Trainer, trainer_config\n",
    "from datasets import load_from_disk\n",
    "from transformers import AutoTokenizer\n",
    "import os\n",
    "from mint.translator import Translator"
   ],
   "id": "initial_id",
   "outputs": [
    {
     "name": "stdout",
     "output_type": "stream",
     "text": [
      "The autoreload extension is already loaded. To reload it, use:\n",
      "  %reload_ext autoreload\n"
     ]
    }
   ],
   "execution_count": 9
  },
  {
   "metadata": {
    "ExecuteTime": {
     "end_time": "2024-11-20T17:06:36.870420Z",
     "start_time": "2024-11-20T17:06:36.840826Z"
    }
   },
   "cell_type": "code",
   "source": [
    "DATASET_PATH = \"../preprocessed_dataset\"\n",
    "\n",
    "dataset = load_from_disk(os.path.join(DATASET_PATH, \"paired_tokenized_dataset\"))\n",
    "source_tokenizer = AutoTokenizer.from_pretrained(os.path.join(DATASET_PATH, \"source_tokenizer\"))\n",
    "target_tokenizer = AutoTokenizer.from_pretrained(os.path.join(DATASET_PATH, \"target_tokenizer\"))\n",
    "source_tokenizer.pad_token = \"<pad>\"\n",
    "target_tokenizer.pad_token = \"<pad>\""
   ],
   "id": "52eb18fa707eec72",
   "outputs": [],
   "execution_count": 2
  },
  {
   "metadata": {
    "ExecuteTime": {
     "end_time": "2024-11-20T17:09:15.223058Z",
     "start_time": "2024-11-20T17:09:14.434191Z"
    }
   },
   "cell_type": "code",
   "source": [
    "config.model.d_model = 512\n",
    "config.model.n_heads = 1\n",
    "config.model.max_seq_len = 128\n",
    "config.model.d_feedforward = 2048\n",
    "config.model.p_dropout = 0.1\n",
    "config.model.context_window = None\n",
    "\n",
    "config.encoder.n_blocks = 10\n",
    "config.encoder.vocab_size = 10000\n",
    "config.decoder.n_blocks = 10\n",
    "config.decoder.vocab_size = 10000\n",
    "\n",
    "model = Transformer(**to_dict(config))\n",
    "\n",
    "print(f\"Number of parameters: {sum(p.numel() for p in model.parameters())}\")"
   ],
   "id": "2fa02582716f9b0d",
   "outputs": [
    {
     "name": "stdout",
     "output_type": "stream",
     "text": [
      "Number of parameters: 126471680\n"
     ]
    }
   ],
   "execution_count": 10
  },
  {
   "metadata": {
    "jupyter": {
     "is_executing": true
    },
    "ExecuteTime": {
     "start_time": "2024-11-20T17:09:22.173907Z"
    }
   },
   "cell_type": "code",
   "source": [
    "trainer_config.logger_config.experiment_name = \"exp2\"\n",
    "trainer_config.warmup_steps = 3000\n",
    "trainer_config.learning_rate = 1e-4\n",
    "trainer = Trainer(model, dataset, **to_dict(trainer_config))\n",
    "trainer.train(10)"
   ],
   "id": "8adf32a235f1cd47",
   "outputs": [
    {
     "name": "stdout",
     "output_type": "stream",
     "text": [
      "Logging to /home/mharag/fit/zpja/runs/exp2\n"
     ]
    },
    {
     "name": "stderr",
     "output_type": "stream",
     "text": [
      "avg loss: 9.2853:   0%|          | 15/28140 [00:04<2:22:17,  3.29it/s]"
     ]
    }
   ],
   "execution_count": null
  },
  {
   "metadata": {
    "ExecuteTime": {
     "end_time": "2024-11-20T16:56:44.289561103Z",
     "start_time": "2024-11-19T21:34:19.282722Z"
    }
   },
   "cell_type": "code",
   "source": [
    "translator = Translator(model, source_tokenizer, target_tokenizer)\n",
    "\n",
    "translator.translate(\"hello\", max_length=128)"
   ],
   "id": "4ac8876ad2b381ee",
   "outputs": [
    {
     "data": {
      "text/plain": [
       "['mmmmmmmmmmmmmmmmmmmmmmmmmmmmmmmmmmmmmmmmmmmmmmmmmmmmmmmmmmmmmmmmm<|endoftext|>']"
      ]
     },
     "execution_count": 96,
     "metadata": {},
     "output_type": "execute_result"
    }
   ],
   "execution_count": 96
  },
  {
   "metadata": {},
   "cell_type": "code",
   "outputs": [],
   "execution_count": null,
   "source": "",
   "id": "2e2432dd8aef37ae"
  }
 ],
 "metadata": {
  "kernelspec": {
   "display_name": "Python 3",
   "language": "python",
   "name": "python3"
  },
  "language_info": {
   "codemirror_mode": {
    "name": "ipython",
    "version": 2
   },
   "file_extension": ".py",
   "mimetype": "text/x-python",
   "name": "python",
   "nbconvert_exporter": "python",
   "pygments_lexer": "ipython2",
   "version": "2.7.6"
  }
 },
 "nbformat": 4,
 "nbformat_minor": 5
}
