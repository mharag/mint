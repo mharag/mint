{
 "cells": [
  {
   "metadata": {
    "collapsed": true,
    "ExecuteTime": {
     "end_time": "2024-11-20T20:38:37.074536Z",
     "start_time": "2024-11-20T20:38:36.974077Z"
    }
   },
   "cell_type": "code",
   "source": [
    "%load_ext autoreload\n",
    "%autoreload 2\n",
    "\n",
    "from mint.model.transformer import Transformer, TransformerConfig\n",
    "from mint.common import create_config, to_dict\n",
    "from mint.trainer import Trainer, TrainerConfig\n",
    "from datasets import load_from_disk\n",
    "from transformers import AutoTokenizer\n",
    "import os\n",
    "from mint.translator import Translator"
   ],
   "id": "initial_id",
   "outputs": [
    {
     "name": "stdout",
     "output_type": "stream",
     "text": [
      "The autoreload extension is already loaded. To reload it, use:\n",
      "  %reload_ext autoreload\n"
     ]
    }
   ],
   "execution_count": 34
  },
  {
   "metadata": {
    "ExecuteTime": {
     "end_time": "2024-11-20T20:38:37.756091Z",
     "start_time": "2024-11-20T20:38:37.727319Z"
    }
   },
   "cell_type": "code",
   "source": [
    "DATASET_PATH = \"../preprocessed_dataset\"\n",
    "\n",
    "dataset = load_from_disk(os.path.join(DATASET_PATH, \"paired_tokenized_dataset\"))\n",
    "source_tokenizer = AutoTokenizer.from_pretrained(os.path.join(DATASET_PATH, \"source_tokenizer\"))\n",
    "target_tokenizer = AutoTokenizer.from_pretrained(os.path.join(DATASET_PATH, \"target_tokenizer\"))\n",
    "source_tokenizer.pad_token = \"<pad>\"\n",
    "target_tokenizer.pad_token = \"<pad>\""
   ],
   "id": "52eb18fa707eec72",
   "outputs": [],
   "execution_count": 35
  },
  {
   "metadata": {
    "ExecuteTime": {
     "end_time": "2024-11-20T20:38:38.912725Z",
     "start_time": "2024-11-20T20:38:38.349897Z"
    }
   },
   "cell_type": "code",
   "source": [
    "config = create_config(TransformerConfig())\n",
    "config.glob.d_model = 512\n",
    "config.glob.n_heads = 8\n",
    "config.glob.max_seq_len = 128\n",
    "config.glob.d_feedforward = 2048\n",
    "config.glob.p_dropout = 0.1\n",
    "\n",
    "config.encoder_config.n_blocks = 10\n",
    "config.encoder_config.vocab_size = 10000\n",
    "config.decoder_config.n_blocks = 10\n",
    "config.decoder_config.vocab_size = 10000\n",
    "\n",
    "model = Transformer(**to_dict(config))\n",
    "\n",
    "print(f\"Number of parameters: {sum(p.numel() for p in model.parameters())}\")"
   ],
   "id": "2fa02582716f9b0d",
   "outputs": [
    {
     "name": "stdout",
     "output_type": "stream",
     "text": [
      "Number of parameters: 126471680\n"
     ]
    }
   ],
   "execution_count": 36
  },
  {
   "metadata": {
    "jupyter": {
     "is_executing": true
    },
    "ExecuteTime": {
     "start_time": "2024-11-20T20:38:39.154257Z"
    }
   },
   "cell_type": "code",
   "source": [
    "trainer_config = create_config(TrainerConfig())\n",
    "trainer_config.logger_config.experiment_name = \"exp2\"\n",
    "trainer_config.warmup_steps = 3000\n",
    "trainer_config.learning_rate = 1e-4\n",
    "trainer = Trainer(model, dataset, **to_dict(trainer_config))\n",
    "trainer.train(10)"
   ],
   "id": "8adf32a235f1cd47",
   "outputs": [
    {
     "name": "stderr",
     "output_type": "stream",
     "text": [
      "avg loss: 2.1740:  12%|█▏        | 3375/28140 [18:10<2:12:58,  3.10it/s]"
     ]
    }
   ],
   "execution_count": null
  },
  {
   "metadata": {
    "ExecuteTime": {
     "end_time": "2024-11-20T19:55:50.430416Z",
     "start_time": "2024-11-20T19:55:50.300773Z"
    }
   },
   "cell_type": "code",
   "source": [
    "translator = Translator(model, source_tokenizer, target_tokenizer)\n",
    "\n",
    "translator.translate(\"Good evening\", max_length=128)"
   ],
   "id": "4ac8876ad2b381ee",
   "outputs": [
    {
     "data": {
      "text/plain": [
       "['Dobré večera<|endoftext|>']"
      ]
     },
     "execution_count": 17,
     "metadata": {},
     "output_type": "execute_result"
    }
   ],
   "execution_count": 17
  },
  {
   "metadata": {},
   "cell_type": "code",
   "outputs": [],
   "execution_count": null,
   "source": "",
   "id": "2e2432dd8aef37ae"
  }
 ],
 "metadata": {
  "kernelspec": {
   "display_name": "Python 3",
   "language": "python",
   "name": "python3"
  },
  "language_info": {
   "codemirror_mode": {
    "name": "ipython",
    "version": 2
   },
   "file_extension": ".py",
   "mimetype": "text/x-python",
   "name": "python",
   "nbconvert_exporter": "python",
   "pygments_lexer": "ipython2",
   "version": "2.7.6"
  }
 },
 "nbformat": 4,
 "nbformat_minor": 5
}
