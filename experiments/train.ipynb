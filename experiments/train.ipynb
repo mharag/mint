{
 "cells": [
  {
   "metadata": {
    "ExecuteTime": {
     "end_time": "2024-12-03T23:14:09.439548Z",
     "start_time": "2024-12-03T23:14:07.759938Z"
    }
   },
   "cell_type": "code",
   "source": [
    "%load_ext autoreload\n",
    "%autoreload 2\n",
    "\n",
    "from mint.model.transformer import Transformer, TransformerConfig\n",
    "from mint.common import create_config, to_dict\n",
    "from mint.trainer import Trainer, TrainerConfig\n",
    "import os\n",
    "from mint.translator import Translator\n",
    "from mint.dataset import Dataset\n",
    "from mint.tokenizer import Tokenizer"
   ],
   "id": "fd86fb0263d8d8da",
   "outputs": [],
   "execution_count": 3
  },
  {
   "metadata": {
    "ExecuteTime": {
     "end_time": "2024-12-03T23:14:10.210770Z",
     "start_time": "2024-12-03T23:14:09.445252Z"
    }
   },
   "cell_type": "code",
   "source": [
    "DATASET_PATH = \"../datasets/en_sk/\"\n",
    "\n",
    "source_tokenizer = Tokenizer.load(\"../datasets/en_sk/source_tokenizer/\")\n",
    "target_tokenizer = Tokenizer.load(\"../datasets/en_sk/target_tokenizer/\")\n",
    "\n",
    "dataset = Dataset.load(DATASET_PATH)\n"
   ],
   "id": "52eb18fa707eec72",
   "outputs": [],
   "execution_count": 4
  },
  {
   "metadata": {
    "ExecuteTime": {
     "end_time": "2024-12-03T23:15:09.541526Z",
     "start_time": "2024-12-03T23:15:08.978281Z"
    }
   },
   "cell_type": "code",
   "source": [
    "config = create_config(TransformerConfig())\n",
    "config.glob.d_model = 512\n",
    "config.glob.n_heads = 8\n",
    "config.glob.max_seq_len = 128 + 1\n",
    "config.glob.d_feedforward = 2048\n",
    "config.glob.p_dropout = 0.1\n",
    "\n",
    "config.encoder_config.n_blocks = 10\n",
    "config.encoder_config.vocab_size = 10000 + 1\n",
    "config.decoder_config.n_blocks = 10\n",
    "config.decoder_config.vocab_size = 10000 + 1\n",
    "\n",
    "model = Transformer(config)\n",
    "\n",
    "print(f\"Number of parameters: {sum(p.numel() for p in model.parameters())}\")"
   ],
   "id": "fe589b745cb5fff9",
   "outputs": [
    {
     "name": "stdout",
     "output_type": "stream",
     "text": [
      "{'n_blocks': 10, 'vocab_size': 10001, 'transformer_block_config': {'d_model': 512, 'd_feedforward': 2048, 'p_dropout': 0.1, 'attention_config': {'n_heads': 8, 'd_model': 512, 'max_seq_len': 129, 'context_window': None}}, 'embedding_config': {'vocab_size': 10001, 'd_model': 512, 'max_seq_len': 129, 'learnable_positional_embeddings': True}}\n",
      "Number of parameters: 126475776\n"
     ]
    }
   ],
   "execution_count": 8
  },
  {
   "metadata": {
    "jupyter": {
     "is_executing": true
    },
    "ExecuteTime": {
     "start_time": "2024-12-03T23:15:09.626643Z"
    }
   },
   "cell_type": "code",
   "source": [
    "trainer_config = create_config(TrainerConfig())\n",
    "trainer_config.logger_config.experiment_name = \"exp2\"\n",
    "trainer_config.warmup_steps = 3000\n",
    "trainer_config.learning_rate = 1e-4\n",
    "trainer_config.use_cuda = True\n",
    "trainer_config.max_steps_per_epoch = 100000 // 32 # too big dataset to run locally\n",
    "trainer_config.max_steps_per_validation = 1000 // 32\n",
    "trainer = Trainer(model, dataset, **to_dict(trainer_config), source_tokenizer=source_tokenizer, target_tokenizer=target_tokenizer)\n",
    "trainer.train(10)"
   ],
   "id": "8adf32a235f1cd47",
   "outputs": [
    {
     "name": "stderr",
     "output_type": "stream",
     "text": [
      "Train 1/10 avg loss: 9.3770:   0%|          | 12/3125 [00:07<33:43,  1.54it/s]"
     ]
    }
   ],
   "execution_count": null
  },
  {
   "metadata": {
    "ExecuteTime": {
     "end_time": "2024-11-20T19:55:50.430416Z",
     "start_time": "2024-11-20T19:55:50.300773Z"
    }
   },
   "cell_type": "code",
   "source": [
    "translator = Translator(model, source_tokenizer, target_tokenizer)\n",
    "\n",
    "translator.translate(\"Good evening\", max_length=128)"
   ],
   "id": "4ac8876ad2b381ee",
   "outputs": [
    {
     "data": {
      "text/plain": [
       "['Dobré večera<|endoftext|>']"
      ]
     },
     "execution_count": 17,
     "metadata": {},
     "output_type": "execute_result"
    }
   ],
   "execution_count": 17
  },
  {
   "metadata": {},
   "cell_type": "code",
   "outputs": [],
   "execution_count": null,
   "source": "",
   "id": "2e2432dd8aef37ae"
  }
 ],
 "metadata": {
  "kernelspec": {
   "display_name": "Python 3",
   "language": "python",
   "name": "python3"
  },
  "language_info": {
   "codemirror_mode": {
    "name": "ipython",
    "version": 2
   },
   "file_extension": ".py",
   "mimetype": "text/x-python",
   "name": "python",
   "nbconvert_exporter": "python",
   "pygments_lexer": "ipython2",
   "version": "2.7.6"
  }
 },
 "nbformat": 4,
 "nbformat_minor": 5
}
