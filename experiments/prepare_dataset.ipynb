{
 "cells": [
  {
   "cell_type": "code",
   "id": "initial_id",
   "metadata": {
    "collapsed": true,
    "ExecuteTime": {
     "end_time": "2024-11-22T20:52:55.535663Z",
     "start_time": "2024-11-22T20:52:53.908398Z"
    }
   },
   "source": [
    "from mint.dataset import Dataset\n",
    "from mint.tokenizer import Tokenizer"
   ],
   "outputs": [],
   "execution_count": 1
  },
  {
   "metadata": {
    "jupyter": {
     "is_executing": true
    },
    "ExecuteTime": {
     "start_time": "2024-11-22T20:52:55.545708Z"
    }
   },
   "cell_type": "code",
   "source": [
    "if True:\n",
    "    source_tokenizer = Tokenizer.load(\"../datasets/en_sk/source_tokenizer/\")\n",
    "    print(\"Source tokenizer loaded\")\n",
    "    target_tokenizer = Tokenizer.load(\"../datasets/en_sk/target_tokenizer/\")\n",
    "    print(\"Target tokenizer loaded\")\n",
    "else:\n",
    "    source_tokenizer = Tokenizer(10000, \"gpt2\", \"<pad>\")\n",
    "    source_tokenizer.train(\"../dataset/CCMatrix.en-sk.en\")\n",
    "    source_tokenizer.save(\"../datasets/en_sk/source_tokenizer/\")\n",
    "    print(\"Source tokenizer trained\")\n",
    "    target_tokenizer = Tokenizer(10000, \"gpt2\", \"<pad>\")\n",
    "    target_tokenizer.train(\"../dataset/CCMatrix.en-sk.sk\")\n",
    "    print(\"Target tokenizer trained\")\n",
    "    target_tokenizer.save(\"../datasets/en_sk/target_tokenizer/\")\n",
    "\n",
    "Dataset.preprocess(\n",
    "    \"../dataset/CCMatrix.en-sk.en\",\n",
    "    \"../dataset/CCMatrix.en-sk.sk\",\n",
    "    source_tokenizer,\n",
    "    target_tokenizer,\n",
    "    output_dir=\"../datasets/en_sk/preprocessed_dataset\",\n",
    "    max_seq_len=128,\n",
    ")\n",
    "print(\"Dataset preprocessed\")\n",
    "\n"
   ],
   "id": "28a72913f97be04a",
   "outputs": [
    {
     "name": "stdout",
     "output_type": "stream",
     "text": [
      "Source tokenizer loaded\n",
      "Target tokenizer loaded\n"
     ]
    },
    {
     "name": "stderr",
     "output_type": "stream",
     "text": [
      "Tokenizing and writing data: 107055it [00:14, 6866.36it/s]"
     ]
    }
   ],
   "execution_count": null
  },
  {
   "metadata": {},
   "cell_type": "code",
   "outputs": [],
   "execution_count": null,
   "source": "",
   "id": "cc9f59fa1cc98281"
  }
 ],
 "metadata": {
  "kernelspec": {
   "display_name": "Python 3",
   "language": "python",
   "name": "python3"
  },
  "language_info": {
   "codemirror_mode": {
    "name": "ipython",
    "version": 2
   },
   "file_extension": ".py",
   "mimetype": "text/x-python",
   "name": "python",
   "nbconvert_exporter": "python",
   "pygments_lexer": "ipython2",
   "version": "2.7.6"
  }
 },
 "nbformat": 4,
 "nbformat_minor": 5
}
