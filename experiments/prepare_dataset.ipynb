{
 "cells": [
  {
   "cell_type": "code",
   "id": "initial_id",
   "metadata": {
    "collapsed": true,
    "ExecuteTime": {
     "end_time": "2024-12-03T22:29:17.344507Z",
     "start_time": "2024-12-03T22:29:17.335171Z"
    }
   },
   "source": [
    "import random\n",
    "import json\n",
    "from tqdm import tqdm\n",
    "import os\n"
   ],
   "outputs": [],
   "execution_count": 2
  },
  {
   "metadata": {
    "ExecuteTime": {
     "end_time": "2024-12-03T22:25:02.624588Z",
     "start_time": "2024-12-03T22:25:02.621843Z"
    }
   },
   "cell_type": "code",
   "source": "",
   "id": "933c58d33c1f8439",
   "outputs": [],
   "execution_count": null
  },
  {
   "metadata": {
    "ExecuteTime": {
     "end_time": "2024-12-03T22:31:02.313098Z",
     "start_time": "2024-12-03T22:29:18.472858Z"
    }
   },
   "cell_type": "code",
   "source": [
    "INPUT_SOURCE_FILE_PATH = \"../dataset/source.txt\"\n",
    "INPUT_TARGET_FILE_PATH = \"../dataset/target.txt\"\n",
    "TEST_SPLIT = 0.1\n",
    "\n",
    "OUTPUT_TRAIN_FILE_PATH = \"../datasets/en_sk/train.jsonl\"\n",
    "OUTPUT_TEST_FILE_PATH = \"../datasets/en_sk/test.jsonl\"\n",
    "\n",
    "source_file = open(INPUT_SOURCE_FILE_PATH, \"r\")\n",
    "target_file = open(INPUT_TARGET_FILE_PATH, \"r\")\n",
    "\n",
    "if not source_file or not target_file:\n",
    "    print(\"Files not found\")\n",
    "    exit()\n",
    "    \n",
    "if os.path.exists(OUTPUT_TRAIN_FILE_PATH):\n",
    "    print(\"Removing existing train file\")\n",
    "    os.remove(OUTPUT_TRAIN_FILE_PATH)\n",
    "    \n",
    "if os.path.exists(OUTPUT_TEST_FILE_PATH):\n",
    "    print(\"Removing existing test file\")\n",
    "    os.remove(OUTPUT_TEST_FILE_PATH)\n",
    "\n",
    "train_file = open(OUTPUT_TRAIN_FILE_PATH, \"w\")\n",
    "test_file = open(OUTPUT_TEST_FILE_PATH, \"w\")\n",
    "\n",
    "n_test, n_train = 0, 0\n",
    "\n",
    "for source_line, target_line in tqdm(zip(source_file, target_file), desc=\"Processing\"):\n",
    "    if random.random() > TEST_SPLIT:\n",
    "        n_train += 1\n",
    "        handle = train_file\n",
    "    else:\n",
    "        n_test += 1\n",
    "        handle = test_file\n",
    "    handle.write(json.dumps({\"source\": source_line.strip(), \"target\": target_line.strip()}) + \"\\n\")\n",
    "    \n",
    "source_file.close()\n",
    "target_file.close()\n",
    "train_file.close()\n",
    "test_file.close()\n",
    "\n",
    "\n",
    "print(f\"Train: {n_train} samples, Test: {n_test} samples\")"
   ],
   "id": "28a72913f97be04a",
   "outputs": [
    {
     "name": "stdout",
     "output_type": "stream",
     "text": [
      "Removing existing train file\n",
      "Removing existing test file\n"
     ]
    },
    {
     "name": "stderr",
     "output_type": "stream",
     "text": [
      "Processing: 38096241it [01:43, 367258.92it/s]"
     ]
    },
    {
     "name": "stdout",
     "output_type": "stream",
     "text": [
      "Train: 34284563 samples, Test: 3811678 samples\n"
     ]
    },
    {
     "name": "stderr",
     "output_type": "stream",
     "text": [
      "\n"
     ]
    }
   ],
   "execution_count": 3
  },
  {
   "metadata": {},
   "cell_type": "code",
   "outputs": [],
   "execution_count": null,
   "source": "",
   "id": "cc9f59fa1cc98281"
  }
 ],
 "metadata": {
  "kernelspec": {
   "display_name": "Python 3",
   "language": "python",
   "name": "python3"
  },
  "language_info": {
   "codemirror_mode": {
    "name": "ipython",
    "version": 2
   },
   "file_extension": ".py",
   "mimetype": "text/x-python",
   "name": "python",
   "nbconvert_exporter": "python",
   "pygments_lexer": "ipython2",
   "version": "2.7.6"
  }
 },
 "nbformat": 4,
 "nbformat_minor": 5
}
