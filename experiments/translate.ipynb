{
 "cells": [
  {
   "cell_type": "code",
   "id": "initial_id",
   "metadata": {
    "collapsed": true,
    "ExecuteTime": {
     "end_time": "2024-12-04T00:23:40.126187Z",
     "start_time": "2024-12-04T00:23:40.109523Z"
    }
   },
   "source": [
    "%load_ext autoreload\n",
    "%autoreload 2\n",
    "\n",
    "from mint.model.transformer import Transformer, TransformerConfig\n",
    "from mint.common import create_config, to_dict, load_yaml_config\n",
    "from mint.trainer import Trainer, TrainerConfig\n",
    "import os\n",
    "from mint.translator import Translator, BeamSearch, GreedySearch\n",
    "from mint.dataset import Dataset\n",
    "from mint.tokenizer import Tokenizer\n"
   ],
   "outputs": [
    {
     "name": "stdout",
     "output_type": "stream",
     "text": [
      "The autoreload extension is already loaded. To reload it, use:\n",
      "  %reload_ext autoreload\n"
     ]
    }
   ],
   "execution_count": 24
  },
  {
   "metadata": {
    "ExecuteTime": {
     "end_time": "2024-12-04T00:23:41.998441Z",
     "start_time": "2024-12-04T00:23:40.384919Z"
    }
   },
   "cell_type": "code",
   "source": [
    "model = Transformer.load(\"../pretrained/model\")\n",
    "source_tokenizer = Tokenizer.load(\"../datasets/en_sk/source_tokenizer\")\n",
    "target_tokenizer = Tokenizer.load(\"../datasets/en_sk/target_tokenizer\")\n"
   ],
   "id": "8e7ee613d06f94d2",
   "outputs": [
    {
     "name": "stdout",
     "output_type": "stream",
     "text": [
      "{'n_blocks': 10, 'vocab_size': 10001, 'transformer_block_config': {'d_model': 512, 'd_feedforward': 2048, 'p_dropout': 0.1, 'attention_config': {'n_heads': 8, 'd_model': 512, 'max_seq_len': 129, 'context_window': None}}, 'embedding_config': {'vocab_size': 10001, 'd_model': 512, 'max_seq_len': 129, 'learnable_positional_embeddings': True}}\n"
     ]
    }
   ],
   "execution_count": 25
  },
  {
   "metadata": {
    "ExecuteTime": {
     "end_time": "2024-12-04T00:23:42.127510Z",
     "start_time": "2024-12-04T00:23:42.003031Z"
    }
   },
   "cell_type": "code",
   "source": [
    "translator = Translator(model, source_tokenizer, target_tokenizer)\n",
    "\n",
    "translator.translate(\"Good\", max_length=5)\n"
   ],
   "id": "3b597969b5dcf851",
   "outputs": [
    {
     "data": {
      "text/plain": [
       "['To je to, aby']"
      ]
     },
     "execution_count": 26,
     "metadata": {},
     "output_type": "execute_result"
    }
   ],
   "execution_count": 26
  },
  {
   "metadata": {},
   "cell_type": "code",
   "outputs": [],
   "execution_count": null,
   "source": "",
   "id": "de53cdd444db35fa"
  }
 ],
 "metadata": {
  "kernelspec": {
   "display_name": "Python 3",
   "language": "python",
   "name": "python3"
  },
  "language_info": {
   "codemirror_mode": {
    "name": "ipython",
    "version": 2
   },
   "file_extension": ".py",
   "mimetype": "text/x-python",
   "name": "python",
   "nbconvert_exporter": "python",
   "pygments_lexer": "ipython2",
   "version": "2.7.6"
  }
 },
 "nbformat": 4,
 "nbformat_minor": 5
}
